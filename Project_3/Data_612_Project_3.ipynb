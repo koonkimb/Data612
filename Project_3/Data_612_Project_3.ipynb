{
 "cells": [
  {
   "cell_type": "markdown",
   "metadata": {
    "id": "0H9ypPoh8yfE"
   },
   "source": [
    "For Project 3, I will be looking into matrix factorization methods such as Single Value Decomposition to improve my collaborative-filtering model from Project 2.  In Project 2, I implemented a collaborative-filtering recommendation system to predict joke ratings for 158 jokes among over 7000 users.  This recommendation system resulted in a root mean squared error of 5.26.  In comparison, a global baseline recommender - which only took into account average rating across all jokes in the training set, and biases from users and jokes in the training set - had an RMSE of 4.92.  The test set RMSE for the global baseline was 4.92.  The goal of this project would be to improve upon the collaborative filtering RMSE solely through Single Value Decomposition (i.e. the same collaborative filtering concept - a KNN based model that uses weighted averages based on cosine similarity between users to predict joke ratings - will be used).  The general strategy would be as follows:\n",
    "\n",
    "1. Implement SVD matrix factorization to decrease dimensionality in the dataset, creating an approximated matrix\n",
    "2. Use the approximated matrix, which removed less important components, to find K-nearest neighbors for each user.\n",
    "3. Assess the resulting RMSE to determine if SVD improved KNN neighbor selection\n",
    "4. Use the approximated matrix to use as a global baseline\n",
    "5. Assess the resulting RMSE to determine if SVD improved the global baseline"
   ]
  },
  {
   "cell_type": "markdown",
   "metadata": {
    "id": "wK7TEq9oAJea"
   },
   "source": [
    "# Data Pre-Processing\n",
    "This section is the same as Project 2.  There is nothing additional added here."
   ]
  },
  {
   "cell_type": "code",
   "execution_count": 7,
   "metadata": {
    "id": "-4eBUovHMLup"
   },
   "outputs": [],
   "source": [
    "import pandas as pd\n",
    "import numpy as np\n",
    "from sklearn.feature_extraction.text import TfidfVectorizer\n",
    "from sklearn.metrics.pairwise import cosine_similarity\n",
    "from sklearn.neighbors import NearestNeighbors as KNN\n",
    "import matplotlib.pyplot as plt\n",
    "\n",
    "# import the user ratings\n",
    "user_ratings = pd.read_csv(\"https://raw.githubusercontent.com/koonkimb/Data612/refs/heads/main/Project_2/data/final.csv\", header = None)\n",
    "user_ratings_df = user_ratings.drop(user_ratings.columns[0],axis = 1) # drop the first column which is number of jokes rated\n",
    "user_ratings_df = user_ratings_df.transpose() # transposing the matrix switches columns and rows\n",
    "user_ratings_df = user_ratings_df.reset_index() # reset index so that columns start at 0 again\n",
    "user_ratings_df = user_ratings_df.drop('index',axis = 1) # drop the index column\n",
    "user_ratings_df = user_ratings_df.transpose() # revert back to original structure\n",
    "user_ratings_df = user_ratings_df.reset_index() # reset index so that we can melt df with index as the id_vars\n",
    "#print(user_ratings_df)\n",
    "\n",
    "user_ratings_long = user_ratings_df.melt(id_vars='index', var_name='joke', value_name='rating') # change df structure from wide to long\n",
    "#print(user_ratings_long)"
   ]
  },
  {
   "cell_type": "code",
   "execution_count": 8,
   "metadata": {
    "id": "vn187J2ZMf0a"
   },
   "outputs": [],
   "source": [
    "user_ratings_dropped = user_ratings_long\n",
    "user_ratings_dropped['rating'] = user_ratings_dropped['rating'].replace(99,np.nan) # replace 99 with np.nan as entries with 99 rating were not rated\n",
    "user_ratings_dropped = user_ratings_dropped.dropna() # drop the NA records\n",
    "df_random = user_ratings_dropped.sample(frac = 1, random_state = 63) # randomize the records\n",
    "split_size = int(0.8*len(df_random)) # designate split size (80%)\n",
    "train = df_random[:split_size] # split dataset into 80% train and 20% test\n",
    "test = df_random[split_size:]\n",
    "\n",
    "pivot_train = train.pivot(index='index', columns='joke', values='rating') # pivot the training data back into original format with jokes as columns\n",
    "pivot_test = test.pivot(index='index', columns='joke', values='rating') # pivot the testing data back into original format with jokes as columns\n",
    "\n",
    "reindex = list(range(7699)) # create an index from 0 to 7698, representing an index of users\n",
    "column_reindex = list(range(158)) # create an index from 0 to 157, representing an index of jokes\n",
    "pivot_train_reindex = pivot_train.reindex(reindex).fillna(np.nan) # reindex the df with all users and fill in nan\n",
    "pivot_train_reindex_transpose = pivot_train_reindex.transpose() # swap rows and columns\n",
    "pivot_train_reindex_transpose = pivot_train_reindex_transpose.reindex(column_reindex).fillna(np.nan) # reindex df with all columns and fill in nan\n",
    "pivot_train_reindex = pivot_train_reindex_transpose.transpose() # swap back rows and columns\n",
    "\n",
    "pivot_test_reindex = pivot_test.reindex(reindex).fillna(np.nan) # reindex the df with all users and fill in nan\n",
    "pivot_test_reindex_transpose = pivot_test_reindex.transpose() # swap rows and columns\n",
    "pivot_test_reindex_transpose = pivot_test_reindex_transpose.reindex(column_reindex).fillna(np.nan) # reindex df with all columns and fill in nan\n",
    "pivot_test_reindex = pivot_test_reindex_transpose.transpose() # swap back rows and columns\n",
    "\n",
    "train_means = np.nanmean(pivot_train_reindex.values) # get mean of all values in the df\n",
    "\n",
    "is_na = pivot_train_reindex.isna().astype(int) # create an is_na matrix\n",
    "\n",
    "# create matrix of ones, then multiply by the mean, then multiply by the is_na matrix so that NaN values are replaced by 0\n",
    "train_means_df = np.ones((7699,158)) * train_means * (1-is_na)\n",
    "\n",
    "is_na_test = pivot_test_reindex.isna().astype(int) # create an is_na matrix\n",
    "\n",
    "# create matrix of ones, then multiply by the mean, then multiply by the is_na matrix so that NaN values are replaced by 0\n",
    "test_means_df = np.ones((7699,158)) * train_means * (1-is_na_test)\n",
    "\n",
    "#convert to dataframe, then replace 0 with NaN\n",
    "train_means_df = pd.DataFrame(train_means_df)\n",
    "train_means_df = train_means_df.replace(0, np.nan)\n",
    "\n",
    "user_bias = pivot_train_reindex.mean(axis=1) - train_means # find user bias by taking mean rating for each user\n",
    "joke_bias = pivot_train_reindex.mean() - train_means # find joke bias by taking mean rating for each joke"
   ]
  },
  {
   "cell_type": "markdown",
   "metadata": {
    "id": "LEoMGeLc98bs"
   },
   "source": [
    "Global baseline has been inserted from Project 2 into this Data Preprocessing section.  However, this again is not new."
   ]
  },
  {
   "cell_type": "code",
   "execution_count": 9,
   "metadata": {
    "id": "T8MOileuMuG4"
   },
   "outputs": [],
   "source": [
    "global_baseline = pd.DataFrame(np.ones((7699,158)) * train_means)\n",
    "user_bias_0 = user_bias.fillna(0)\n",
    "joke_bias_0 = joke_bias.fillna(0)\n",
    "global_baseline = global_baseline.add(user_bias_0, axis = 0)\n",
    "global_baseline = global_baseline.add(joke_bias_0, axis = 1)\n",
    "global_baseline[global_baseline > 10] = 10\n",
    "global_baseline[global_baseline < -10] = -10"
   ]
  },
  {
   "cell_type": "code",
   "execution_count": 10,
   "metadata": {
    "id": "wHElqc1NNA-a"
   },
   "outputs": [],
   "source": [
    "train_with_global_baseline = pivot_train_reindex.combine_first(global_baseline)\n",
    "#train_with_global_baseline"
   ]
  },
  {
   "cell_type": "markdown",
   "metadata": {
    "id": "uXgDvtJbAPFL"
   },
   "source": [
    "# Matrix Factorization with Singular Value Decomposition"
   ]
  },
  {
   "cell_type": "markdown",
   "metadata": {
    "id": "ulASb4U1-tcC"
   },
   "source": [
    "The concept of SVD is to take the user-item matrix and decrease its dimensionality by removing less important features in the dataset.  This is performed through matrix factorization using numpy's linalg.svd() function.  \n",
    "\n",
    "Given the original user-item matrix M, SVD can be used to decompose M into three simpler matrices U, Σ (sigma), and Vt.\n",
    "\n",
    "U and Vt are users and items in the latent space (respectively), while Σ (sigma) is a diagonal matrix (i.e. there are only values along the diagonal of the matrix, while all other values are zero) of eigenvalues in descending order.  These eigenvalues represent the importance of the latent features, with higher value meaning higher importance.  "
   ]
  },
  {
   "cell_type": "code",
   "execution_count": null,
   "metadata": {
    "colab": {
     "base_uri": "https://localhost:8080/",
     "height": 777
    },
    "id": "lmOx3manNs_o",
    "outputId": "d1e2f93d-2d39-4151-e022-6654977d9b30"
   },
   "outputs": [
    {
     "name": "stdout",
     "output_type": "stream",
     "text": [
      "[3962.269 1303.518  334.03   278.816  246.933  229.998  218.915  200.137\n",
      "  183.396  175.504  165.365  159.502  155.553  154.25   153.844  150.297\n",
      "  147.097  145.084  140.485  138.663  136.288  135.398  132.982  131.092\n",
      "  130.181  128.708  126.564  125.274  123.609  122.162  120.057  118.369\n",
      "  115.98   113.798  112.213  110.684  109.532  108.578  107.255  106.812\n",
      "  105.944  104.475  103.932  101.35   100.057   99.644   98.523   97.671\n",
      "   97.05    96.379   94.771   93.753   93.284   91.996   90.552   89.82\n",
      "   89.346   88.729   87.107   85.944   85.567   84.346   83.609   82.574\n",
      "   81.596   80.96    80.87    79.69    78.747   77.705   77.353   76.581\n",
      "   75.181   74.842   74.667   73.161   72.761   71.896   71.228   70.813\n",
      "   69.873   69.7     68.328   67.742   66.915   66.672   66.061   65.897\n",
      "   65.729   64.771   63.741   63.388   62.554   61.914   61.309   60.733\n",
      "   60.236   59.915   59.113   58.497   58.288   57.208   56.578   55.707\n",
      "   54.864   54.356   53.893   53.131   52.351   51.56    51.369   50.332\n",
      "   49.716   49.172   48.998   47.59    47.08    46.883   46.192   45.794\n",
      "   45.174   44.819   44.395   43.287   42.588   41.652   41.121   40.246\n",
      "   39.954   39.515   38.866   37.695   36.33    34.815   33.738   33.491\n",
      "   25.005    0.       0.       0.       0.       0.       0.       0.\n",
      "    0.       0.       0.       0.       0.       0.       0.       0.\n",
      "    0.       0.       0.       0.       0.       0.   ]\n"
     ]
    },
    {
     "data": {
      "image/png": "[encoded data removed]",
      "text/plain": [
       "<Figure size 640x480 with 1 Axes>"
      ]
     },
     "metadata": {},
     "output_type": "display_data"
    }
   ],
   "source": [
    "U, sigma, Vt = np.linalg.svd(train_with_global_baseline, full_matrices=False)\n",
    "plt.plot(sigma)\n",
    "print(np.round(sigma, 3)) # diagonal eigenvalues in descending order"
   ]
  },
  {
   "cell_type": "markdown",
   "metadata": {
    "id": "3pZNne-nAkIz"
   },
   "source": [
    "From the above, we can see that the importance drops off quickly after two sigma values.  I can select and test varying numbers of values to drop, and see how it affects my collaborative filtering recommender RMSE.  To inform my decision, I will calculate relative approximation error and energy retained after each number of values is dropped.\n",
    "\n",
    "Relative approximation error can be calculated by taking the magnitude of the original matrix M minus the approximated matrix, and dividing by the magnitude of the orignal matrix.  \n",
    "\n",
    "Energy retained can be calculated by taking the energy of the approximated matrix (the sum of squared eigenvalues) and dividing it by the energy of the non-approximated matrix.  \n",
    "\n",
    "My selection of number of values to keep, k, was determined by examining the results of approximation error and energy retained for each number of selected values from 1 to 158.  "
   ]
  },
  {
   "cell_type": "code",
   "execution_count": null,
   "metadata": {
    "colab": {
     "base_uri": "https://localhost:8080/",
     "height": 424
    },
    "id": "Qu76KuknOaAP",
    "outputId": "b3c2f26c-1cff-48fb-d5e0-e30d4595551b"
   },
   "outputs": [
    {
     "data": {
      "application/vnd.google.colaboratory.intrinsic+json": {
       "summary": "{\n  \"name\": \"sigma_reduction_df\",\n  \"rows\": 158,\n  \"fields\": [\n    {\n      \"column\": \"approximation_error\",\n      \"properties\": {\n        \"dtype\": \"number\",\n        \"std\": 0.10544681923201724,\n        \"min\": 2.4589217564437143e-15,\n        \"max\": 1.0,\n        \"num_unique_values\": 158,\n        \"samples\": [\n          0.024711161768250736,\n          0.1481062350347425,\n          0.012373840372958893\n        ],\n        \"semantic_type\": \"\",\n        \"description\": \"\"\n      }\n    },\n    {\n      \"column\": \"energy_retained\",\n      \"properties\": {\n        \"dtype\": \"number\",\n        \"std\": 0.08110458078311543,\n        \"min\": 0.0,\n        \"max\": 1.0,\n        \"num_unique_values\": 138,\n        \"samples\": [\n          0.99356252024159,\n          0.996618746894069,\n          0.9503253669554852\n        ],\n        \"semantic_type\": \"\",\n        \"description\": \"\"\n      }\n    }\n  ]\n}",
       "type": "dataframe",
       "variable_name": "sigma_reduction_df"
      },
      "text/html": [
       "\n",
       "  <div id=\"df-6b71b513-d65b-4c3f-99c7-4bdf52ba97be\" class=\"colab-df-container\">\n",
       "    <div>\n",
       "<style scoped>\n",
       "    .dataframe tbody tr th:only-of-type {\n",
       "        vertical-align: middle;\n",
       "    }\n",
       "\n",
       "    .dataframe tbody tr th {\n",
       "        vertical-align: top;\n",
       "    }\n",
       "\n",
       "    .dataframe thead th {\n",
       "        text-align: right;\n",
       "    }\n",
       "</style>\n",
       "<table border=\"1\" class=\"dataframe\">\n",
       "  <thead>\n",
       "    <tr style=\"text-align: right;\">\n",
       "      <th></th>\n",
       "      <th>approximation_error</th>\n",
       "      <th>energy_retained</th>\n",
       "    </tr>\n",
       "  </thead>\n",
       "  <tbody>\n",
       "    <tr>\n",
       "      <th>0</th>\n",
       "      <td>1.000000e+00</td>\n",
       "      <td>0.000000</td>\n",
       "    </tr>\n",
       "    <tr>\n",
       "      <th>1</th>\n",
       "      <td>4.084465e-01</td>\n",
       "      <td>0.833171</td>\n",
       "    </tr>\n",
       "    <tr>\n",
       "      <th>2</th>\n",
       "      <td>2.768659e-01</td>\n",
       "      <td>0.923345</td>\n",
       "    </tr>\n",
       "    <tr>\n",
       "      <th>3</th>\n",
       "      <td>2.659575e-01</td>\n",
       "      <td>0.929267</td>\n",
       "    </tr>\n",
       "    <tr>\n",
       "      <th>4</th>\n",
       "      <td>2.580850e-01</td>\n",
       "      <td>0.933392</td>\n",
       "    </tr>\n",
       "    <tr>\n",
       "      <th>...</th>\n",
       "      <td>...</td>\n",
       "      <td>...</td>\n",
       "    </tr>\n",
       "    <tr>\n",
       "      <th>153</th>\n",
       "      <td>2.495917e-15</td>\n",
       "      <td>1.000000</td>\n",
       "    </tr>\n",
       "    <tr>\n",
       "      <th>154</th>\n",
       "      <td>2.497583e-15</td>\n",
       "      <td>1.000000</td>\n",
       "    </tr>\n",
       "    <tr>\n",
       "      <th>155</th>\n",
       "      <td>2.499270e-15</td>\n",
       "      <td>1.000000</td>\n",
       "    </tr>\n",
       "    <tr>\n",
       "      <th>156</th>\n",
       "      <td>2.500956e-15</td>\n",
       "      <td>1.000000</td>\n",
       "    </tr>\n",
       "    <tr>\n",
       "      <th>157</th>\n",
       "      <td>2.502652e-15</td>\n",
       "      <td>1.000000</td>\n",
       "    </tr>\n",
       "  </tbody>\n",
       "</table>\n",
       "<p>158 rows × 2 columns</p>\n",
       "</div>\n",
       "    <div class=\"colab-df-buttons\">\n",
       "\n",
       "  <div class=\"colab-df-container\">\n",
       "    <button class=\"colab-df-convert\" onclick=\"convertToInteractive('df-6b71b513-d65b-4c3f-99c7-4bdf52ba97be')\"\n",
       "            title=\"Convert this dataframe to an interactive table.\"\n",
       "            style=\"display:none;\">\n",
       "\n",
       "  <svg xmlns=\"http://www.w3.org/2000/svg\" height=\"24px\" viewBox=\"0 -960 960 960\">\n",
       "    <path d=\"M120-120v-720h720v720H120Zm60-500h600v-160H180v160Zm220 220h160v-160H400v160Zm0 220h160v-160H400v160ZM180-400h160v-160H180v160Zm440 0h160v-160H620v160ZM180-180h160v-160H180v160Zm440 0h160v-160H620v160Z\"/>\n",
       "  </svg>\n",
       "    </button>\n",
       "\n",
       "  <style>\n",
       "    .colab-df-container {\n",
       "      display:flex;\n",
       "      gap: 12px;\n",
       "    }\n",
       "\n",
       "    .colab-df-convert {\n",
       "      background-color: #E8F0FE;\n",
       "      border: none;\n",
       "      border-radius: 50%;\n",
       "      cursor: pointer;\n",
       "      display: none;\n",
       "      fill: #1967D2;\n",
       "      height: 32px;\n",
       "      padding: 0 0 0 0;\n",
       "      width: 32px;\n",
       "    }\n",
       "\n",
       "    .colab-df-convert:hover {\n",
       "      background-color: #E2EBFA;\n",
       "      box-shadow: 0px 1px 2px rgba(60, 64, 67, 0.3), 0px 1px 3px 1px rgba(60, 64, 67, 0.15);\n",
       "      fill: #174EA6;\n",
       "    }\n",
       "\n",
       "    .colab-df-buttons div {\n",
       "      margin-bottom: 4px;\n",
       "    }\n",
       "\n",
       "    [theme=dark] .colab-df-convert {\n",
       "      background-color: #3B4455;\n",
       "      fill: #D2E3FC;\n",
       "    }\n",
       "\n",
       "    [theme=dark] .colab-df-convert:hover {\n",
       "      background-color: #434B5C;\n",
       "      box-shadow: 0px 1px 3px 1px rgba(0, 0, 0, 0.15);\n",
       "      filter: drop-shadow(0px 1px 2px rgba(0, 0, 0, 0.3));\n",
       "      fill: #FFFFFF;\n",
       "    }\n",
       "  </style>\n",
       "\n",
       "    <script>\n",
       "      const buttonEl =\n",
       "        document.querySelector('#df-6b71b513-d65b-4c3f-99c7-4bdf52ba97be button.colab-df-convert');\n",
       "      buttonEl.style.display =\n",
       "        google.colab.kernel.accessAllowed ? 'block' : 'none';\n",
       "\n",
       "      async function convertToInteractive(key) {\n",
       "        const element = document.querySelector('#df-6b71b513-d65b-4c3f-99c7-4bdf52ba97be');\n",
       "        const dataTable =\n",
       "          await google.colab.kernel.invokeFunction('convertToInteractive',\n",
       "                                                    [key], {});\n",
       "        if (!dataTable) return;\n",
       "\n",
       "        const docLinkHtml = 'Like what you see? Visit the ' +\n",
       "          '<a target=\"_blank\" href=https://colab.research.google.com/notebooks/data_table.ipynb>data table notebook</a>'\n",
       "          + ' to learn more about interactive tables.';\n",
       "        element.innerHTML = '';\n",
       "        dataTable['output_type'] = 'display_data';\n",
       "        await google.colab.output.renderOutput(dataTable, element);\n",
       "        const docLink = document.createElement('div');\n",
       "        docLink.innerHTML = docLinkHtml;\n",
       "        element.appendChild(docLink);\n",
       "      }\n",
       "    </script>\n",
       "  </div>\n",
       "\n",
       "\n",
       "    <div id=\"df-f0f78d1b-4505-4bdb-84bb-3383c28504e7\">\n",
       "      <button class=\"colab-df-quickchart\" onclick=\"quickchart('df-f0f78d1b-4505-4bdb-84bb-3383c28504e7')\"\n",
       "                title=\"Suggest charts\"\n",
       "                style=\"display:none;\">\n",
       "\n",
       "<svg xmlns=\"http://www.w3.org/2000/svg\" height=\"24px\"viewBox=\"0 0 24 24\"\n",
       "     width=\"24px\">\n",
       "    <g>\n",
       "        <path d=\"M19 3H5c-1.1 0-2 .9-2 2v14c0 1.1.9 2 2 2h14c1.1 0 2-.9 2-2V5c0-1.1-.9-2-2-2zM9 17H7v-7h2v7zm4 0h-2V7h2v10zm4 0h-2v-4h2v4z\"/>\n",
       "    </g>\n",
       "</svg>\n",
       "      </button>\n",
       "\n",
       "<style>\n",
       "  .colab-df-quickchart {\n",
       "      --bg-color: #E8F0FE;\n",
       "      --fill-color: #1967D2;\n",
       "      --hover-bg-color: #E2EBFA;\n",
       "      --hover-fill-color: #174EA6;\n",
       "      --disabled-fill-color: #AAA;\n",
       "      --disabled-bg-color: #DDD;\n",
       "  }\n",
       "\n",
       "  [theme=dark] .colab-df-quickchart {\n",
       "      --bg-color: #3B4455;\n",
       "      --fill-color: #D2E3FC;\n",
       "      --hover-bg-color: #434B5C;\n",
       "      --hover-fill-color: #FFFFFF;\n",
       "      --disabled-bg-color: #3B4455;\n",
       "      --disabled-fill-color: #666;\n",
       "  }\n",
       "\n",
       "  .colab-df-quickchart {\n",
       "    background-color: var(--bg-color);\n",
       "    border: none;\n",
       "    border-radius: 50%;\n",
       "    cursor: pointer;\n",
       "    display: none;\n",
       "    fill: var(--fill-color);\n",
       "    height: 32px;\n",
       "    padding: 0;\n",
       "    width: 32px;\n",
       "  }\n",
       "\n",
       "  .colab-df-quickchart:hover {\n",
       "    background-color: var(--hover-bg-color);\n",
       "    box-shadow: 0 1px 2px rgba(60, 64, 67, 0.3), 0 1px 3px 1px rgba(60, 64, 67, 0.15);\n",
       "    fill: var(--button-hover-fill-color);\n",
       "  }\n",
       "\n",
       "  .colab-df-quickchart-complete:disabled,\n",
       "  .colab-df-quickchart-complete:disabled:hover {\n",
       "    background-color: var(--disabled-bg-color);\n",
       "    fill: var(--disabled-fill-color);\n",
       "    box-shadow: none;\n",
       "  }\n",
       "\n",
       "  .colab-df-spinner {\n",
       "    border: 2px solid var(--fill-color);\n",
       "    border-color: transparent;\n",
       "    border-bottom-color: var(--fill-color);\n",
       "    animation:\n",
       "      spin 1s steps(1) infinite;\n",
       "  }\n",
       "\n",
       "  @keyframes spin {\n",
       "    0% {\n",
       "      border-color: transparent;\n",
       "      border-bottom-color: var(--fill-color);\n",
       "      border-left-color: var(--fill-color);\n",
       "    }\n",
       "    20% {\n",
       "      border-color: transparent;\n",
       "      border-left-color: var(--fill-color);\n",
       "      border-top-color: var(--fill-color);\n",
       "    }\n",
       "    30% {\n",
       "      border-color: transparent;\n",
       "      border-left-color: var(--fill-color);\n",
       "      border-top-color: var(--fill-color);\n",
       "      border-right-color: var(--fill-color);\n",
       "    }\n",
       "    40% {\n",
       "      border-color: transparent;\n",
       "      border-right-color: var(--fill-color);\n",
       "      border-top-color: var(--fill-color);\n",
       "    }\n",
       "    60% {\n",
       "      border-color: transparent;\n",
       "      border-right-color: var(--fill-color);\n",
       "    }\n",
       "    80% {\n",
       "      border-color: transparent;\n",
       "      border-right-color: var(--fill-color);\n",
       "      border-bottom-color: var(--fill-color);\n",
       "    }\n",
       "    90% {\n",
       "      border-color: transparent;\n",
       "      border-bottom-color: var(--fill-color);\n",
       "    }\n",
       "  }\n",
       "</style>\n",
       "\n",
       "      <script>\n",
       "        async function quickchart(key) {\n",
       "          const quickchartButtonEl =\n",
       "            document.querySelector('#' + key + ' button');\n",
       "          quickchartButtonEl.disabled = true;  // To prevent multiple clicks.\n",
       "          quickchartButtonEl.classList.add('colab-df-spinner');\n",
       "          try {\n",
       "            const charts = await google.colab.kernel.invokeFunction(\n",
       "                'suggestCharts', [key], {});\n",
       "          } catch (error) {\n",
       "            console.error('Error during call to suggestCharts:', error);\n",
       "          }\n",
       "          quickchartButtonEl.classList.remove('colab-df-spinner');\n",
       "          quickchartButtonEl.classList.add('colab-df-quickchart-complete');\n",
       "        }\n",
       "        (() => {\n",
       "          let quickchartButtonEl =\n",
       "            document.querySelector('#df-f0f78d1b-4505-4bdb-84bb-3383c28504e7 button');\n",
       "          quickchartButtonEl.style.display =\n",
       "            google.colab.kernel.accessAllowed ? 'block' : 'none';\n",
       "        })();\n",
       "      </script>\n",
       "    </div>\n",
       "\n",
       "  <div id=\"id_eef7bca2-f3ac-4420-9e36-1ce4d2e26411\">\n",
       "    <style>\n",
       "      .colab-df-generate {\n",
       "        background-color: #E8F0FE;\n",
       "        border: none;\n",
       "        border-radius: 50%;\n",
       "        cursor: pointer;\n",
       "        display: none;\n",
       "        fill: #1967D2;\n",
       "        height: 32px;\n",
       "        padding: 0 0 0 0;\n",
       "        width: 32px;\n",
       "      }\n",
       "\n",
       "      .colab-df-generate:hover {\n",
       "        background-color: #E2EBFA;\n",
       "        box-shadow: 0px 1px 2px rgba(60, 64, 67, 0.3), 0px 1px 3px 1px rgba(60, 64, 67, 0.15);\n",
       "        fill: #174EA6;\n",
       "      }\n",
       "\n",
       "      [theme=dark] .colab-df-generate {\n",
       "        background-color: #3B4455;\n",
       "        fill: #D2E3FC;\n",
       "      }\n",
       "\n",
       "      [theme=dark] .colab-df-generate:hover {\n",
       "        background-color: #434B5C;\n",
       "        box-shadow: 0px 1px 3px 1px rgba(0, 0, 0, 0.15);\n",
       "        filter: drop-shadow(0px 1px 2px rgba(0, 0, 0, 0.3));\n",
       "        fill: #FFFFFF;\n",
       "      }\n",
       "    </style>\n",
       "    <button class=\"colab-df-generate\" onclick=\"generateWithVariable('sigma_reduction_df')\"\n",
       "            title=\"Generate code using this dataframe.\"\n",
       "            style=\"display:none;\">\n",
       "\n",
       "  <svg xmlns=\"http://www.w3.org/2000/svg\" height=\"24px\"viewBox=\"0 0 24 24\"\n",
       "       width=\"24px\">\n",
       "    <path d=\"M7,19H8.4L18.45,9,17,7.55,7,17.6ZM5,21V16.75L18.45,3.32a2,2,0,0,1,2.83,0l1.4,1.43a1.91,1.91,0,0,1,.58,1.4,1.91,1.91,0,0,1-.58,1.4L9.25,21ZM18.45,9,17,7.55Zm-12,3A5.31,5.31,0,0,0,4.9,8.1,5.31,5.31,0,0,0,1,6.5,5.31,5.31,0,0,0,4.9,4.9,5.31,5.31,0,0,0,6.5,1,5.31,5.31,0,0,0,8.1,4.9,5.31,5.31,0,0,0,12,6.5,5.46,5.46,0,0,0,6.5,12Z\"/>\n",
       "  </svg>\n",
       "    </button>\n",
       "    <script>\n",
       "      (() => {\n",
       "      const buttonEl =\n",
       "        document.querySelector('#id_eef7bca2-f3ac-4420-9e36-1ce4d2e26411 button.colab-df-generate');\n",
       "      buttonEl.style.display =\n",
       "        google.colab.kernel.accessAllowed ? 'block' : 'none';\n",
       "\n",
       "      buttonEl.onclick = () => {\n",
       "        google.colab.notebook.generateWithVariable('sigma_reduction_df');\n",
       "      }\n",
       "      })();\n",
       "    </script>\n",
       "  </div>\n",
       "\n",
       "    </div>\n",
       "  </div>\n"
      ],
      "text/plain": [
       "     approximation_error  energy_retained\n",
       "0           1.000000e+00         0.000000\n",
       "1           4.084465e-01         0.833171\n",
       "2           2.768659e-01         0.923345\n",
       "3           2.659575e-01         0.929267\n",
       "4           2.580850e-01         0.933392\n",
       "..                   ...              ...\n",
       "153         2.495917e-15         1.000000\n",
       "154         2.497583e-15         1.000000\n",
       "155         2.499270e-15         1.000000\n",
       "156         2.500956e-15         1.000000\n",
       "157         2.502652e-15         1.000000\n",
       "\n",
       "[158 rows x 2 columns]"
      ]
     },
     "execution_count": 6,
     "metadata": {},
     "output_type": "execute_result"
    }
   ],
   "source": [
    "errorList = []\n",
    "energyList = []\n",
    "for k in range(len(sigma)):\n",
    "  U_reduced = U[:, :k]\n",
    "  sigma_reduced = sigma[:k]\n",
    "  Vt_reduced = Vt[:k, :]\n",
    "\n",
    "  Sigma_reduced = np.diag(sigma_reduced)\n",
    "  approximated = U_reduced @ Sigma_reduced @ Vt_reduced\n",
    "  df_approx = pd.DataFrame(np.round(approximated, 2))\n",
    "  #print(df_approx)\n",
    "  approximation_error = np.linalg.norm(train_with_global_baseline - approximated)/np.linalg.norm(train_with_global_baseline)\n",
    "  energy_retained = np.sum(sigma_reduced**2) / np.sum(sigma**2)\n",
    "  errorList.append(approximation_error)\n",
    "  energyList.append(energy_retained)\n",
    "\n",
    "data = {'approximation_error': errorList, 'energy_retained': energyList}\n",
    "sigma_reduction_df = pd.DataFrame(data)\n",
    "sigma_reduction_df"
   ]
  },
  {
   "cell_type": "markdown",
   "metadata": {
    "id": "5ybJ3Dxfe2Le"
   },
   "source": [
    "From the below, I can see that there is a point at which energy retained steeply increases and then increases less pronouncely.  This is also the point at which the approximation error begins to decrease less pronouncely - at k = 2.  \n",
    "\n",
    "Based on the above table, I will also select k = 45, a point at which the eigenvalues drop off by an order of magnitude, k = 76, the point at which relative approximation error dips below 10%, and k = 112, the point at which relative approximation error dips below 5%.  "
   ]
  },
  {
   "cell_type": "code",
   "execution_count": null,
   "metadata": {
    "colab": {
     "base_uri": "https://localhost:8080/",
     "height": 449
    },
    "id": "WpIeaw0QEhE_",
    "outputId": "cc2d57d0-b407-4dba-b6aa-0f3bc828481c"
   },
   "outputs": [
    {
     "data": {
      "image/png": "[encoded data removed]",
      "text/plain": [
       "<Figure size 640x480 with 1 Axes>"
      ]
     },
     "metadata": {},
     "output_type": "display_data"
    }
   ],
   "source": [
    "sigma_reduction_df = sigma_reduction_df.reset_index()\n",
    "\n",
    "plt.plot(sigma_reduction_df['index'], sigma_reduction_df['approximation_error'], label='Relative Approximation Error')\n",
    "plt.plot(sigma_reduction_df['index'], sigma_reduction_df['energy_retained'], label='Energy Retained')\n",
    "plt.xlabel('Number of Components kept')\n",
    "plt.ylabel('Percentage')\n",
    "\n",
    "plt.legend()\n",
    "plt.show()\n",
    "\n",
    "#plt.plot(errorList)\n",
    "#pd.DataFrame(errorList)"
   ]
  },
  {
   "cell_type": "markdown",
   "metadata": {},
   "source": [
    "# Assessment of number of components k and nearest neighbors n"
   ]
  },
  {
   "cell_type": "markdown",
   "metadata": {
    "id": "4Wm6EQBvnG3P"
   },
   "source": [
    "Using the number of selected components, k, and a varying list of n neighbors, I can loop across each k and n and determine the resulting RMSE of these collaborative filtering recommendation systems for the training set.  "
   ]
  },
  {
   "cell_type": "code",
   "execution_count": null,
   "metadata": {
    "id": "oI1CVmm-ov1_"
   },
   "outputs": [],
   "source": [
    "# Keep only top k components\n",
    "k_list = [2,45,76,112] # k values chosen via explanation above\n",
    "n_neighbors = [3,6,16,31,51,101] # selected a range of n neighbors\n",
    "\n",
    "# create matrix for values that need prediction\n",
    "needs_prediction_df = 1 - is_na\n",
    "needs_prediction_df = needs_prediction_df.reindex()\n",
    "needs_prediction_df = needs_prediction_df.reset_index().rename(columns={'index': 'user'})\n",
    "needs_prediction_df = needs_prediction_df.melt(id_vars='user', var_name='joke', value_name='needs_prediction')\n",
    "needs_prediction_df = needs_prediction_df[needs_prediction_df['needs_prediction'] == 1]\n",
    "\n",
    "# create df to store predictions\n",
    "pred = is_na\n",
    "pred = pred.replace(1, np.nan)\n",
    "pred\n",
    "\n",
    "SVD_dict = {} # initialize a dictionary to store key of k and values of n and their respective resulting RMSE (nested dictionary)\n",
    "\n",
    "for k in k_list: # loop across each k value\n",
    "  U_reduced = U[:, :k]\n",
    "  sigma_reduced = sigma[:k]\n",
    "  Vt_reduced = Vt[:k, :]\n",
    "\n",
    "  Sigma_reduced = np.diag(sigma_reduced)\n",
    "  approximated = U_reduced @ Sigma_reduced @ Vt_reduced\n",
    "\n",
    "  df_approx = pd.DataFrame(approximated)\n",
    "\n",
    "  knn = KNN(metric = 'cosine', algorithm = 'brute') # initialize KNN model\n",
    "  knn.fit(df_approx) # fit the approximated matrix with reduced dimensionality\n",
    "\n",
    "  nearest_neighbors_dict = {} # initialize dictionary that will keep the nearest neighbors for each user\n",
    "  n_neighbor_count_dict = {} # initialize that dictionary that will store the n key and resulting RMSE value\n",
    "  for n in n_neighbors:\n",
    "    for user_index in reindex:\n",
    "        distances, indices = knn.kneighbors(df_approx.iloc[user_index,:].values.reshape(1,-1), n_neighbors = n)\n",
    "        nearest_neighbors_dict[user_index] = [distances[:, 1:], indices[:, 1:]] # remove self as nearest neighbor\n",
    "\n",
    "    for row, data in needs_prediction_df.iterrows():\n",
    "      user_index_rec = data['user']\n",
    "      joke_to_be_rated = data['joke']\n",
    "      cosine_dist, nearest_neighbors = nearest_neighbors_dict[user_index_rec]\n",
    "      cosine_sim_matrix = 1 - pd.DataFrame(cosine_dist)\n",
    "      joke_rating_list = []\n",
    "      for i in range(len(nearest_neighbors[0])):\n",
    "          #print(train_with_global_baseline.iloc[i,joke_to_be_rated])\n",
    "          joke_rating_list.append(train_with_global_baseline.iloc[i,joke_to_be_rated])\n",
    "      joke_rating_list = pd.DataFrame(joke_rating_list)\n",
    "      cosine_sim_matrix = cosine_sim_matrix.transpose()\n",
    "      cosine_sim_matrix[0] = cosine_sim_matrix[0] / cosine_sim_matrix.values.sum()\n",
    "      cosine_sim_matrix = cosine_sim_matrix.transpose()\n",
    "      #print(cosine_sim_matrix)\n",
    "      predicted_rating = cosine_sim_matrix.dot(joke_rating_list)\n",
    "      pred.iloc[user_index_rec, joke_to_be_rated] = predicted_rating[0].values\n",
    "      #print(pred.iloc[user_index_rec, joke_to_be_rated])\n",
    "\n",
    "    rmse_collab_filtering = (((pivot_train_reindex - pred) ** 2).to_numpy())\n",
    "    rmse_collab_filtering = np.sqrt(np.nanmean(rmse_collab_filtering))\n",
    "    n_neighbor_count_dict[n] = [rmse_collab_filtering] # add RMSE value to n key\n",
    "  SVD_dict[k] = n_neighbor_count_dict # add n dictionary containing the various n keys, RMSE values to k key\n"
   ]
  },
  {
   "cell_type": "markdown",
   "metadata": {
    "id": "vr-800C4rDrb"
   },
   "source": [
    "Taking a look at the results, one important takeaway is the performance of the recommender system with n_neighbors = 3 (technically, 2 neighbors as the above definition for n_neighbors includes itself).  This matches the parameters for my Project 2 collaborative filtering model.  However, by using SVD on the user-item matrix to reduce dimensionality, I can see that the RMSE decreased from 5.26 to 5.17.  This indicates that the KNN model selected better neighbors, as nothing else had changed besides the input of the SVD reduced matrix to the KNN model instead of the fully dimensioned user-item matrix.  \n",
    "\n",
    "Secondly, another important takeaway is the reduction of RMSE by changing n_neighbors.  In Project 2, increasing n_neighbors led to poorer performance.  However, with the improved KNN model neighbor selection, increasing n_neighbors appears to be a viable strategy for decreasing RMSE.  The best RMSE was achieved with a n of 101 (i.e. 100 neighbors) and a k of 2 (i.e. two components preserved).  "
   ]
  },
  {
   "cell_type": "code",
   "execution_count": null,
   "metadata": {
    "colab": {
     "base_uri": "https://localhost:8080/"
    },
    "id": "HSYHWPehBji5",
    "outputId": "f26fe87e-ac85-41ef-c420-3b9cd29f0873"
   },
   "outputs": [
    {
     "name": "stdout",
     "output_type": "stream",
     "text": [
      "{2: {3: [np.float64(5.167726619958644)], 6: [np.float64(4.985624993005408)], 16: [np.float64(4.98454318753811)], 31: [np.float64(4.983967255801575)], 51: [np.float64(5.0095337447703)], 101: [np.float64(4.969174131187813)]}, 45: {3: [np.float64(5.170881836333967)], 6: [np.float64(4.986823016224031)], 16: [np.float64(4.9856435549103)], 31: [np.float64(4.984843031833999)], 51: [np.float64(5.009810182370003)], 101: [np.float64(4.96977193255448)]}, 76: {3: [np.float64(5.1709019359387645)], 6: [np.float64(4.986732587431505)], 16: [np.float64(4.985623040240732)], 31: [np.float64(4.9848333258503015)], 51: [np.float64(5.009813560239549)], 101: [np.float64(4.969756084265123)]}, 112: {3: [np.float64(5.170829760172676)], 6: [np.float64(4.98670605754758)], 16: [np.float64(4.98556865143379)], 31: [np.float64(4.984792897559474)], 51: [np.float64(5.00979551962417)], 101: [np.float64(4.9697332910592475)]}}\n"
     ]
    }
   ],
   "source": [
    "print(SVD_dict)"
   ]
  },
  {
   "cell_type": "code",
   "execution_count": null,
   "metadata": {
    "colab": {
     "base_uri": "https://localhost:8080/"
    },
    "id": "VbS3Vc-uwJfe",
    "outputId": "5ec1c3da-57ec-4d48-bf03-2804ba2fe3c9"
   },
   "outputs": [
    {
     "data": {
      "text/plain": [
       "{2: {3: [np.float64(5.167726619958644)],\n",
       "  6: [np.float64(4.985624993005408)],\n",
       "  16: [np.float64(4.98454318753811)],\n",
       "  31: [np.float64(4.983967255801575)],\n",
       "  51: [np.float64(5.0095337447703)],\n",
       "  101: [np.float64(4.969174131187813)]},\n",
       " 45: {3: [np.float64(5.170881836333967)],\n",
       "  6: [np.float64(4.986823016224031)],\n",
       "  16: [np.float64(4.9856435549103)],\n",
       "  31: [np.float64(4.984843031833999)],\n",
       "  51: [np.float64(5.009810182370003)],\n",
       "  101: [np.float64(4.96977193255448)]},\n",
       " 76: {3: [np.float64(5.1709019359387645)],\n",
       "  6: [np.float64(4.986732587431505)],\n",
       "  16: [np.float64(4.985623040240732)],\n",
       "  31: [np.float64(4.9848333258503015)],\n",
       "  51: [np.float64(5.009813560239549)],\n",
       "  101: [np.float64(4.969756084265123)]},\n",
       " 112: {3: [np.float64(5.170829760172676)],\n",
       "  6: [np.float64(4.98670605754758)],\n",
       "  16: [np.float64(4.98556865143379)],\n",
       "  31: [np.float64(4.984792897559474)],\n",
       "  51: [np.float64(5.00979551962417)],\n",
       "  101: [np.float64(4.9697332910592475)]}}"
      ]
     },
     "execution_count": 10,
     "metadata": {},
     "output_type": "execute_result"
    }
   ],
   "source": [
    "SVD_dict"
   ]
  },
  {
   "cell_type": "markdown",
   "metadata": {
    "id": "0cm3dOGLsArs"
   },
   "source": [
    "# SVD for Global Baseline"
   ]
  },
  {
   "cell_type": "markdown",
   "metadata": {
    "id": "DxKEgn4FsEkM"
   },
   "source": [
    "I can also use SVD to establish a better global baseline.  Using the same range of k as above, I can loop over the different k values and use the approximated dataframe as the global baseline.  In this case, the training RMSE is not very useful in this assessment, as a k of 158 (i.e. all components preserved) would yield the exact same training matrix.  However, I can assess the performance of the new global baseline with the testing set, and I can see that the testing set RMSE has decreased in comparison to the previous global baseline method.  The best RMSE achieved was 4.59, with k = 2.  In comparison, the previous global baseline method yielded an RMSE of 4.98; this represents an 8% improvement in the RMSE.  "
   ]
  },
  {
   "cell_type": "code",
   "execution_count": null,
   "metadata": {
    "id": "KLa4mUOabWhX"
   },
   "outputs": [],
   "source": [
    "# Keep only top k components\n",
    "k_list = [2,45,76,112] # k values chosen via explanation above\n",
    "U, sigma, Vt = np.linalg.svd(train_with_global_baseline, full_matrices=False)\n",
    "\n",
    "SVD_dict_global = {} # initialize a dictionary to store key of k and values of n and their respective resulting RMSE (nested dictionary)\n",
    "\n",
    "for k in k_list: # loop across each k value\n",
    "  U_reduced = U[:, :k]\n",
    "  sigma_reduced = sigma[:k]\n",
    "  Vt_reduced = Vt[:k, :]\n",
    "\n",
    "  Sigma_reduced = np.diag(sigma_reduced)\n",
    "  approximated = U_reduced @ Sigma_reduced @ Vt_reduced\n",
    "\n",
    "  df_approx = pd.DataFrame(approximated)\n",
    "\n",
    "  rmse_bias_train = (((pivot_train_reindex - df_approx) ** 2).to_numpy())\n",
    "  rmse_bias_train = np.sqrt(np.nanmean(rmse_bias_train))\n",
    "  rmse_bias_test = (((pivot_test_reindex - df_approx) ** 2).to_numpy())\n",
    "  rmse_bias_test = np.sqrt(np.nanmean(rmse_bias_test))\n",
    "  SVD_dict_global[k] = [rmse_bias_train,rmse_bias_test] # add RMSE training and testing for each k"
   ]
  },
  {
   "cell_type": "code",
   "execution_count": null,
   "metadata": {
    "colab": {
     "base_uri": "https://localhost:8080/"
    },
    "id": "c4qt2CNAbn3b",
    "outputId": "b35c6e18-bcaa-4386-a528-63046988d17e"
   },
   "outputs": [
    {
     "data": {
      "text/plain": [
       "{2: [np.float64(4.087883034908918), np.float64(4.590507245655911)],\n",
       " 45: [np.float64(1.989408547449535), np.float64(4.624679948567838)],\n",
       " 76: [np.float64(1.2037962873449026), np.float64(4.636815313973561)],\n",
       " 112: [np.float64(0.5063452247255337), np.float64(4.63318828062632)]}"
      ]
     },
     "execution_count": 84,
     "metadata": {},
     "output_type": "execute_result"
    }
   ],
   "source": [
    "SVD_dict_global"
   ]
  },
  {
   "cell_type": "markdown",
   "metadata": {
    "id": "Ut4zMMD3CwtU"
   },
   "source": [
    "# Conclusions\n",
    "This exercise has demonstrated the utility of using SVD for dimensionality reduction in data pre-processing, leading to better results for both the global baseline and for the collaborative filtering recommender system when using RMSE as the assessment metric.  One limitation of this technique is the necessity of a dense matrix for matrix factorization.  Data values required imputation before SVD could be performed.  For this project, imputation was performed in the same way as in Project 2 - via global baseline estimates which were dependent on a global average rating and user-joke biases.  An alternative could be using other methods similar to SVD, such as randomized_svd as part of scikit-learn.  For randommized_svd, a sparse matrix can be created by taking the training data, centering it by substracting the global baseline, and then replacing NA values with 0.  However, one benefit of using linalg.svd over randomized_svd is its accuracy, as randomized_svd is a more approximated method. "
   ]
  },
  {
   "cell_type": "markdown",
   "metadata": {},
   "source": [
    "# Appendix"
   ]
  },
  {
   "cell_type": "markdown",
   "metadata": {},
   "source": [
    "Below is a similar process as the above, but using randomized_svd.  I tested this method after completing the above, and it was less performant, with a lower RMSE for both the global baseline and collaborative filtering recommender.  "
   ]
  },
  {
   "cell_type": "code",
   "execution_count": 25,
   "metadata": {},
   "outputs": [
    {
     "data": {
      "image/png": "[encoded data removed]",
      "text/plain": [
       "<Figure size 640x480 with 1 Axes>"
      ]
     },
     "metadata": {},
     "output_type": "display_data"
    }
   ],
   "source": [
    "from sklearn.utils.extmath import randomized_svd\n",
    "from scipy.sparse import csr_matrix\n",
    "\n",
    "# Center data by subtracting out global baseline, which accounts for global average and user-item biases\n",
    "pivot_train_reindex_centered = pivot_train_reindex - global_baseline\n",
    "pivot_train_reindex_centered_na = pivot_train_reindex_centered.replace(0,0.000000000001) # replace real 0 ratings with functionally 0 rating\n",
    "pivot_train_reindex_centered_na = pivot_train_reindex_centered_na.fillna(0)\n",
    "sparse_ratings = csr_matrix(pivot_train_reindex_centered_na)\n",
    "\n",
    "errorList = []\n",
    "energyList = []\n",
    "\n",
    "U_full, Sigma_full, Vt_full = randomized_svd(sparse_ratings,\n",
    "                                n_components=158,\n",
    "                                n_iter=5,\n",
    "                                random_state=63)\n",
    "\n",
    "for k in range(1,159):\n",
    "\n",
    "  U, Sigma, Vt = randomized_svd(sparse_ratings,\n",
    "                                n_components=k,\n",
    "                                n_iter=5,\n",
    "                                random_state=63)\n",
    "  Sigma_square = np.diag(Sigma)\n",
    "\n",
    "  approximated = U @ Sigma_square @ Vt\n",
    "  df_approx = pd.DataFrame(np.round(approximated, 2))\n",
    "  #print(df_approx)\n",
    "  approximation_error = np.linalg.norm(pivot_train_reindex_centered_na - approximated)/np.linalg.norm(pivot_train_reindex_centered_na)\n",
    "  energy_retained = np.sum(Sigma**2) / np.sum(Sigma_full**2)\n",
    "  errorList.append(approximation_error)\n",
    "  energyList.append(energy_retained)\n",
    "\n",
    "data = {'approximation_error': errorList, 'energy_retained': energyList}\n",
    "sigma_reduction_df = pd.DataFrame(data)\n",
    "sigma_reduction_df = sigma_reduction_df.reset_index()\n",
    "\n",
    "plt.plot(sigma_reduction_df['index'], sigma_reduction_df['approximation_error'], label='Relative Approximation Error')\n",
    "plt.plot(sigma_reduction_df['index'], sigma_reduction_df['energy_retained'], label='Energy Retained')\n",
    "plt.xlabel('Number of Components Kept')\n",
    "plt.ylabel('Percentage')\n",
    "\n",
    "plt.legend()\n",
    "plt.show()"
   ]
  },
  {
   "cell_type": "code",
   "execution_count": 16,
   "metadata": {},
   "outputs": [
    {
     "name": "stdout",
     "output_type": "stream",
     "text": [
      "5.181534910990706\n"
     ]
    }
   ],
   "source": [
    "# create matrix for values that need prediction - this is the same process as the above\n",
    "needs_prediction_df = 1 - is_na\n",
    "needs_prediction_df = needs_prediction_df.reindex()\n",
    "needs_prediction_df = needs_prediction_df.reset_index().rename(columns={'index': 'user'})\n",
    "needs_prediction_df = needs_prediction_df.melt(id_vars='user', var_name='joke', value_name='needs_prediction')\n",
    "needs_prediction_df = needs_prediction_df[needs_prediction_df['needs_prediction'] == 1]\n",
    "\n",
    "# create df to store predictions - this is the same process as the above\n",
    "pred = is_na\n",
    "pred = pred.replace(1, np.nan)\n",
    "pred\n",
    "\n",
    "# The next 7 lines of code are the new ones, where randomized_svd() is used for SVD instead of the numpy linalg.svd function\n",
    "U_selected, Sigma_selected, Vt_selected = randomized_svd(sparse_ratings,\n",
    "                                n_components=80, # chose an n where energy retained (from above graph) was approx 0.9\n",
    "                                n_iter=5,\n",
    "                                random_state=63)\n",
    "Sigma_square = np.diag(Sigma_selected)\n",
    "approximated = U_selected @ Sigma_square @ Vt_selected\n",
    "df_approx = pd.DataFrame(approximated)\n",
    "\n",
    "# everything below this is the same code for the collaborative filtering recommender above; the difference is in the df_approx matrix\n",
    "knn = KNN(metric = 'cosine', algorithm = 'brute') # initialize KNN model\n",
    "knn.fit(df_approx) # fit the approximated matrix with reduced dimensionality\n",
    "\n",
    "nearest_neighbors_dict = {} # initialize dictionary that will keep the nearest neighbors for each user\n",
    "n_neighbor_count_dict = {} # initialize that dictionary that will store the n key and resulting RMSE value\n",
    "\n",
    "for user_index in reindex:\n",
    "  distances, indices = knn.kneighbors(df_approx.iloc[user_index,:].values.reshape(1,-1), n_neighbors = 3)\n",
    "  nearest_neighbors_dict[user_index] = [distances[:, 1:], indices[:, 1:]] # remove self as nearest neighbor\n",
    "\n",
    "for row, data in needs_prediction_df.iterrows():\n",
    "  user_index_rec = data['user']\n",
    "  joke_to_be_rated = data['joke']\n",
    "  cosine_dist, nearest_neighbors = nearest_neighbors_dict[user_index_rec]\n",
    "  cosine_sim_matrix = 1 - pd.DataFrame(cosine_dist)\n",
    "  joke_rating_list = []\n",
    "  for i in range(len(nearest_neighbors[0])):\n",
    "          #print(train_with_global_baseline.iloc[i,joke_to_be_rated])\n",
    "    joke_rating_list.append(train_with_global_baseline.iloc[i,joke_to_be_rated])\n",
    "  joke_rating_list = pd.DataFrame(joke_rating_list)\n",
    "  cosine_sim_matrix = cosine_sim_matrix.transpose()\n",
    "  cosine_sim_matrix[0] = cosine_sim_matrix[0] / cosine_sim_matrix.values.sum()\n",
    "  cosine_sim_matrix = cosine_sim_matrix.transpose()\n",
    "        #print(cosine_sim_matrix)\n",
    "  predicted_rating = cosine_sim_matrix.dot(joke_rating_list)\n",
    "  pred.iloc[user_index_rec, joke_to_be_rated] = predicted_rating[0].values\n",
    "      #print(pred.iloc[user_index_rec, joke_to_be_rated])\n",
    "    \n",
    "rmse_collab_filtering = (((pivot_train_reindex - pred) ** 2).to_numpy())\n",
    "rmse_collab_filtering = np.sqrt(np.nanmean(rmse_collab_filtering))\n",
    "print(rmse_collab_filtering)"
   ]
  },
  {
   "cell_type": "markdown",
   "metadata": {},
   "source": [
    "I can also look at the use of randomized_svd for global baseline estimate - the below shows poorer performance as the test set RMSE is 5.12."
   ]
  },
  {
   "cell_type": "code",
   "execution_count": 17,
   "metadata": {},
   "outputs": [
    {
     "name": "stdout",
     "output_type": "stream",
     "text": [
      "5.126646047816777\n"
     ]
    }
   ],
   "source": [
    "rmse_bias_test = (((pivot_test_reindex - df_approx) ** 2).to_numpy())\n",
    "rmse_bias_test = np.sqrt(np.nanmean(rmse_bias_test))\n",
    "print(rmse_bias_test)"
   ]
  }
 ],
 "metadata": {
  "colab": {
   "provenance": []
  },
  "kernelspec": {
   "display_name": "Python 3 (ipykernel)",
   "language": "python",
   "name": "python3"
  },
  "language_info": {
   "codemirror_mode": {
    "name": "ipython",
    "version": 3
   },
   "file_extension": ".py",
   "mimetype": "text/x-python",
   "name": "python",
   "nbconvert_exporter": "python",
   "pygments_lexer": "ipython3",
   "version": "3.12.4"
  }
 },
 "nbformat": 4,
 "nbformat_minor": 4
}

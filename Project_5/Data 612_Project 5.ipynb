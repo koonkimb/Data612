{
 "cells": [
  {
   "cell_type": "markdown",
   "id": "6c58db0a-e066-4ba8-b964-d5a3854d5b4e",
   "metadata": {
    "id": "6c58db0a-e066-4ba8-b964-d5a3854d5b4e"
   },
   "source": [
    "# Introduction and Overview\n",
    "For assignment 5, I am using the global baseline recommender system from Project 2 to practice using PySpark.  Apache Spark allows parallelization of jobs, allowing us to build scalable recommender systems when the datasets are too large to transform efficiently on a single machine.  It utilizes lazy evaluation, where it creates a streamlined plan before acting on transofmrrations so that only the necessary steps are performed for the desired outcome.  Transformations are executed when view and collect actions are triggered.\n",
    "\n",
    "To show the \"equivalent\" functions in PySpark, I left much of the Pandas code as comments so that parallels can be drawn. \n",
    "\n",
    "The main steps of this assignment will be the following:\n",
    "\n",
    "1.  Spark Set-Up in Jupyter Notebook\n",
    "2.  Data Import and Pre-processing with Spark\n",
    "3.  Implement Spark with the global baseline recommender from Project 2\n",
    "4.  Conclusions/Further exploration"
   ]
  },
  {
   "cell_type": "markdown",
   "id": "5c6e0ff4-d3ab-4aa7-b667-a039a4dbbe59",
   "metadata": {},
   "source": [
    "# Spark Set-Up\n",
    "To use PySpark in Jupyter Notebook, the correct Java version must be installed.  With the current version of Spark (4.0.0), Java 17 and 21 are required.  I downloaded Java 17 here: https://adoptium.net/temurin/releases?version=17&os=windows&arch=any.  I created a new System variable in System Properties > Environment Variables, for JAVA_HOME which pointed to the folder path of the Java download.  I added a new path, pointing to %JAVA_HOME%\\bin.  I checked to ensure the correct version is being used by running Java -version in CMD.  When this showed the newer version (Java 23), I used \"where Java\" to show all locations pointing to Java installs.  The first result was a path pointing to Java 23, so I uninstalled it and rebooted.  This installed the correct version.  \n",
    "\n",
    "For Spark, I installed Spark 4.0.0 here: https://spark.apache.org/downloads.html and then extracted the .tgz file using a windows shellscript command (tar -xzf spark-4.0.0-bin-hadoop3.tgz).  I created a new System variable (SPARK_HOME) pointing to the location of this extracted file, and a new path (%SPARK_HOME%\\bin).  After installing the python packages required (findspark, pyspark), I can launch Jupyter Notebook in admin mode from command prompt and I am able to use PySpark."
   ]
  },
  {
   "cell_type": "code",
   "execution_count": 1,
   "id": "4a69bc1a-f61d-4425-9d6f-3cc01f57e616",
   "metadata": {},
   "outputs": [],
   "source": [
    "import findspark\n",
    "from pyspark import SparkContext\n",
    "import pyspark \n",
    "from pyspark.sql import SparkSession\n",
    "import os"
   ]
  },
  {
   "cell_type": "code",
   "execution_count": 2,
   "id": "4d23c073-3767-4800-8bee-bbaa22799bd6",
   "metadata": {},
   "outputs": [
    {
     "data": {
      "text/html": [
       "\n",
       "            <div>\n",
       "                <p><b>SparkSession - in-memory</b></p>\n",
       "                \n",
       "        <div>\n",
       "            <p><b>SparkContext</b></p>\n",
       "\n",
       "            <p><a href=\"http://DESKTOP-K2VAS2U:4040\">Spark UI</a></p>\n",
       "\n",
       "            <dl>\n",
       "              <dt>Version</dt>\n",
       "                <dd><code>v4.0.0</code></dd>\n",
       "              <dt>Master</dt>\n",
       "                <dd><code>local[*]</code></dd>\n",
       "              <dt>AppName</dt>\n",
       "                <dd><code>pyspark-shell</code></dd>\n",
       "            </dl>\n",
       "        </div>\n",
       "        \n",
       "            </div>\n",
       "        "
      ],
      "text/plain": [
       "<pyspark.sql.session.SparkSession at 0x23f95c5dd60>"
      ]
     },
     "execution_count": 2,
     "metadata": {},
     "output_type": "execute_result"
    }
   ],
   "source": [
    "findspark.init()\n",
    "sc = SparkContext.getOrCreate()\n",
    "\n",
    "os.environ[\"SPARK_LOCAL_DIRS\"] = \"C:\\\\Temp\\\\spark-temp\"\n",
    "\n",
    "spark = SparkSession.builder.config(\"spark.driver.memory\", \"6g\").config(\"spark.executor.memory\", \"6g\").getOrCreate()\n",
    "\n",
    "spark"
   ]
  },
  {
   "cell_type": "markdown",
   "id": "7b2b8891-0c3c-4e16-8c77-753c28847290",
   "metadata": {},
   "source": [
    "# Data Import and Pre-Processing with Spark\n",
    "First, I import relevant packages and the joke ratings dataset (final.csv).  In this case, final.csv must be stored in a local path for import with PySpark.  I create the data schema, which is contains all the Jokes as columns, with DoubleType() for the ratings.  Creating the schema allows me to name the columns appropriately, and specify the datatype of the rating.  If the schema was not defined, the data import would have picked StringType() for the ratings."
   ]
  },
  {
   "cell_type": "code",
   "execution_count": 3,
   "id": "792778bb-93be-42ed-8397-12f72cd5bfe0",
   "metadata": {
    "colab": {
     "base_uri": "https://localhost:8080/"
    },
    "executionInfo": {
     "elapsed": 5046,
     "status": "ok",
     "timestamp": 1750182661923,
     "user": {
      "displayName": "Kim Koon",
      "userId": "12463200974868077803"
     },
     "user_tz": 240
    },
    "id": "792778bb-93be-42ed-8397-12f72cd5bfe0",
    "outputId": "c77832d5-1505-4970-c2b9-1c1f078d6052"
   },
   "outputs": [],
   "source": [
    "import pandas as pd\n",
    "import numpy as np\n",
    "import pyspark.sql.functions as F\n",
    "from pyspark.sql.functions import monotonically_increasing_id, concat_ws, col, lit, mean, stddev, stddev_samp, count_distinct, when, split\n",
    "from pyspark.sql.types import IntegerType,StringType,StructField,StructType, BooleanType, DoubleType, FloatType"
   ]
  },
  {
   "cell_type": "code",
   "execution_count": 4,
   "id": "68827f81-4782-4bd9-b544-b23dd8b0658a",
   "metadata": {},
   "outputs": [],
   "source": [
    "# import the user ratings\n",
    "#user_ratings = pd.read_csv(\"https://raw.githubusercontent.com/koonkimb/Data612/refs/heads/main/Project_2/data/final.csv\", header = None) \n",
    "schema = StructType([\n",
    "    StructField(\"joke_000\", DoubleType()), \n",
    "\tStructField(\"joke_001\", DoubleType()), \n",
    "\tStructField(\"joke_002\", DoubleType()), \n",
    "\tStructField(\"joke_003\", DoubleType()), \n",
    "\tStructField(\"joke_004\", DoubleType()), \n",
    "\tStructField(\"joke_005\", DoubleType()), \n",
    "\tStructField(\"joke_006\", DoubleType()), \n",
    "\tStructField(\"joke_007\", DoubleType()), \n",
    "\tStructField(\"joke_008\", DoubleType()), \n",
    "\tStructField(\"joke_009\", DoubleType()), \n",
    "\tStructField(\"joke_010\", DoubleType()), \n",
    "\tStructField(\"joke_011\", DoubleType()), \n",
    "\tStructField(\"joke_012\", DoubleType()), \n",
    "\tStructField(\"joke_013\", DoubleType()), \n",
    "\tStructField(\"joke_014\", DoubleType()), \n",
    "\tStructField(\"joke_015\", DoubleType()), \n",
    "\tStructField(\"joke_016\", DoubleType()), \n",
    "\tStructField(\"joke_017\", DoubleType()), \n",
    "\tStructField(\"joke_018\", DoubleType()), \n",
    "\tStructField(\"joke_019\", DoubleType()), \n",
    "\tStructField(\"joke_020\", DoubleType()), \n",
    "\tStructField(\"joke_021\", DoubleType()), \n",
    "\tStructField(\"joke_022\", DoubleType()), \n",
    "\tStructField(\"joke_023\", DoubleType()), \n",
    "\tStructField(\"joke_024\", DoubleType()), \n",
    "\tStructField(\"joke_025\", DoubleType()), \n",
    "\tStructField(\"joke_026\", DoubleType()), \n",
    "\tStructField(\"joke_027\", DoubleType()), \n",
    "\tStructField(\"joke_028\", DoubleType()), \n",
    "\tStructField(\"joke_029\", DoubleType()), \n",
    "\tStructField(\"joke_030\", DoubleType()), \n",
    "\tStructField(\"joke_031\", DoubleType()), \n",
    "\tStructField(\"joke_032\", DoubleType()), \n",
    "\tStructField(\"joke_033\", DoubleType()), \n",
    "\tStructField(\"joke_034\", DoubleType()), \n",
    "\tStructField(\"joke_035\", DoubleType()), \n",
    "\tStructField(\"joke_036\", DoubleType()), \n",
    "\tStructField(\"joke_037\", DoubleType()), \n",
    "\tStructField(\"joke_038\", DoubleType()), \n",
    "\tStructField(\"joke_039\", DoubleType()), \n",
    "\tStructField(\"joke_040\", DoubleType()), \n",
    "\tStructField(\"joke_041\", DoubleType()), \n",
    "\tStructField(\"joke_042\", DoubleType()), \n",
    "\tStructField(\"joke_043\", DoubleType()), \n",
    "\tStructField(\"joke_044\", DoubleType()), \n",
    "\tStructField(\"joke_045\", DoubleType()), \n",
    "\tStructField(\"joke_046\", DoubleType()), \n",
    "\tStructField(\"joke_047\", DoubleType()), \n",
    "\tStructField(\"joke_048\", DoubleType()), \n",
    "\tStructField(\"joke_049\", DoubleType()), \n",
    "\tStructField(\"joke_050\", DoubleType()), \n",
    "\tStructField(\"joke_051\", DoubleType()), \n",
    "\tStructField(\"joke_052\", DoubleType()), \n",
    "\tStructField(\"joke_053\", DoubleType()), \n",
    "\tStructField(\"joke_054\", DoubleType()), \n",
    "\tStructField(\"joke_055\", DoubleType()), \n",
    "\tStructField(\"joke_056\", DoubleType()), \n",
    "\tStructField(\"joke_057\", DoubleType()), \n",
    "\tStructField(\"joke_058\", DoubleType()), \n",
    "\tStructField(\"joke_059\", DoubleType()), \n",
    "\tStructField(\"joke_060\", DoubleType()), \n",
    "\tStructField(\"joke_061\", DoubleType()), \n",
    "\tStructField(\"joke_062\", DoubleType()), \n",
    "\tStructField(\"joke_063\", DoubleType()), \n",
    "\tStructField(\"joke_064\", DoubleType()), \n",
    "\tStructField(\"joke_065\", DoubleType()), \n",
    "\tStructField(\"joke_066\", DoubleType()), \n",
    "\tStructField(\"joke_067\", DoubleType()), \n",
    "\tStructField(\"joke_068\", DoubleType()), \n",
    "\tStructField(\"joke_069\", DoubleType()), \n",
    "\tStructField(\"joke_070\", DoubleType()), \n",
    "\tStructField(\"joke_071\", DoubleType()), \n",
    "\tStructField(\"joke_072\", DoubleType()), \n",
    "\tStructField(\"joke_073\", DoubleType()), \n",
    "\tStructField(\"joke_074\", DoubleType()), \n",
    "\tStructField(\"joke_075\", DoubleType()), \n",
    "\tStructField(\"joke_076\", DoubleType()), \n",
    "\tStructField(\"joke_077\", DoubleType()), \n",
    "\tStructField(\"joke_078\", DoubleType()), \n",
    "\tStructField(\"joke_079\", DoubleType()), \n",
    "\tStructField(\"joke_080\", DoubleType()), \n",
    "\tStructField(\"joke_081\", DoubleType()), \n",
    "\tStructField(\"joke_082\", DoubleType()), \n",
    "\tStructField(\"joke_083\", DoubleType()), \n",
    "\tStructField(\"joke_084\", DoubleType()), \n",
    "\tStructField(\"joke_085\", DoubleType()), \n",
    "\tStructField(\"joke_086\", DoubleType()), \n",
    "\tStructField(\"joke_087\", DoubleType()), \n",
    "\tStructField(\"joke_088\", DoubleType()), \n",
    "\tStructField(\"joke_089\", DoubleType()), \n",
    "\tStructField(\"joke_090\", DoubleType()), \n",
    "\tStructField(\"joke_091\", DoubleType()), \n",
    "\tStructField(\"joke_092\", DoubleType()), \n",
    "\tStructField(\"joke_093\", DoubleType()), \n",
    "\tStructField(\"joke_094\", DoubleType()), \n",
    "\tStructField(\"joke_095\", DoubleType()), \n",
    "\tStructField(\"joke_096\", DoubleType()), \n",
    "\tStructField(\"joke_097\", DoubleType()), \n",
    "\tStructField(\"joke_098\", DoubleType()), \n",
    "\tStructField(\"joke_099\", DoubleType()), \n",
    "\tStructField(\"joke_100\", DoubleType()), \n",
    "\tStructField(\"joke_101\", DoubleType()), \n",
    "\tStructField(\"joke_102\", DoubleType()), \n",
    "\tStructField(\"joke_103\", DoubleType()), \n",
    "\tStructField(\"joke_104\", DoubleType()), \n",
    "\tStructField(\"joke_105\", DoubleType()), \n",
    "\tStructField(\"joke_106\", DoubleType()), \n",
    "\tStructField(\"joke_107\", DoubleType()), \n",
    "\tStructField(\"joke_108\", DoubleType()), \n",
    "\tStructField(\"joke_109\", DoubleType()), \n",
    "\tStructField(\"joke_110\", DoubleType()), \n",
    "\tStructField(\"joke_111\", DoubleType()), \n",
    "\tStructField(\"joke_112\", DoubleType()), \n",
    "\tStructField(\"joke_113\", DoubleType()), \n",
    "\tStructField(\"joke_114\", DoubleType()), \n",
    "\tStructField(\"joke_115\", DoubleType()), \n",
    "\tStructField(\"joke_116\", DoubleType()), \n",
    "\tStructField(\"joke_117\", DoubleType()), \n",
    "\tStructField(\"joke_118\", DoubleType()), \n",
    "\tStructField(\"joke_119\", DoubleType()), \n",
    "\tStructField(\"joke_120\", DoubleType()), \n",
    "\tStructField(\"joke_121\", DoubleType()), \n",
    "\tStructField(\"joke_122\", DoubleType()), \n",
    "\tStructField(\"joke_123\", DoubleType()), \n",
    "\tStructField(\"joke_124\", DoubleType()), \n",
    "\tStructField(\"joke_125\", DoubleType()), \n",
    "\tStructField(\"joke_126\", DoubleType()), \n",
    "\tStructField(\"joke_127\", DoubleType()), \n",
    "\tStructField(\"joke_128\", DoubleType()), \n",
    "\tStructField(\"joke_129\", DoubleType()), \n",
    "\tStructField(\"joke_130\", DoubleType()), \n",
    "\tStructField(\"joke_131\", DoubleType()), \n",
    "\tStructField(\"joke_132\", DoubleType()), \n",
    "\tStructField(\"joke_133\", DoubleType()), \n",
    "\tStructField(\"joke_134\", DoubleType()), \n",
    "\tStructField(\"joke_135\", DoubleType()), \n",
    "\tStructField(\"joke_136\", DoubleType()), \n",
    "\tStructField(\"joke_137\", DoubleType()), \n",
    "\tStructField(\"joke_138\", DoubleType()), \n",
    "\tStructField(\"joke_139\", DoubleType()), \n",
    "\tStructField(\"joke_140\", DoubleType()), \n",
    "\tStructField(\"joke_141\", DoubleType()), \n",
    "\tStructField(\"joke_142\", DoubleType()), \n",
    "\tStructField(\"joke_143\", DoubleType()), \n",
    "\tStructField(\"joke_144\", DoubleType()), \n",
    "\tStructField(\"joke_145\", DoubleType()), \n",
    "\tStructField(\"joke_146\", DoubleType()), \n",
    "\tStructField(\"joke_147\", DoubleType()), \n",
    "\tStructField(\"joke_148\", DoubleType()), \n",
    "\tStructField(\"joke_149\", DoubleType()), \n",
    "\tStructField(\"joke_150\", DoubleType()), \n",
    "\tStructField(\"joke_151\", DoubleType()), \n",
    "\tStructField(\"joke_152\", DoubleType()), \n",
    "\tStructField(\"joke_153\", DoubleType()), \n",
    "\tStructField(\"joke_154\", DoubleType()), \n",
    "\tStructField(\"joke_155\", DoubleType()), \n",
    "\tStructField(\"joke_156\", DoubleType()), \n",
    "\tStructField(\"joke_157\", DoubleType()), \n",
    "\tStructField(\"joke_158\", DoubleType()) \n",
    "\t\n",
    "])\n",
    "\n",
    "user_ratings = spark.read.csv(\"final.csv\", schema = schema, header = False)"
   ]
  },
  {
   "cell_type": "markdown",
   "id": "cd1306b9-d470-47e6-9c16-a52390f37f39",
   "metadata": {},
   "source": [
    "Like in Project 2, I drop the first column which is the number of jokes rated per user.  Since PySpark dataframes do not have indices, I create a user_index column using monotonically_increasing_id() from pyspark.sql.functions.  I use unpivot to \"melt\" the dataframe from wide to long format."
   ]
  },
  {
   "cell_type": "code",
   "execution_count": 5,
   "id": "5dd44497-97f4-46cd-9fce-0e7458734804",
   "metadata": {},
   "outputs": [
    {
     "name": "stdout",
     "output_type": "stream",
     "text": [
      "+----------+--------+------+\n",
      "|user_index|    Joke|Rating|\n",
      "+----------+--------+------+\n",
      "|         0|joke_001|  99.0|\n",
      "|         0|joke_002|  99.0|\n",
      "|         0|joke_003|  99.0|\n",
      "|         0|joke_004|  99.0|\n",
      "|         0|joke_005|  99.0|\n",
      "+----------+--------+------+\n",
      "only showing top 5 rows\n"
     ]
    }
   ],
   "source": [
    "#user_ratings_df = user_ratings.drop(user_ratings.columns[0],axis = 1) # drop the first column which is number of jokes rated\n",
    "#user_ratings_df = user_ratings_df.transpose() # transposing the matrix switches columns and rows\n",
    "#user_ratings_df = user_ratings_df.reset_index() # reset index so that columns start at 0 again\n",
    "#user_ratings_df = user_ratings_df.drop('index',axis = 1) # drop the index column\n",
    "#user_ratings_df = user_ratings_df.transpose() # revert back to original structure\n",
    "#user_ratings_df = user_ratings_df.reset_index() # reset index so that we can melt df with index as the id_vars\n",
    "#print(user_ratings_df)\n",
    "\n",
    "user_ratings = user_ratings.drop('joke_000')\n",
    "user_columns = user_ratings.columns\n",
    "user_ratings = user_ratings.withColumn('user_index', monotonically_increasing_id()) # insert user ids as spark df do not have indices\n",
    "#user_ratings_long = user_ratings_df.melt(id_vars='index', var_name='joke', value_name='rating') # change df structure from wide to long\n",
    "user_ratings = user_ratings.unpivot(ids=[\"user_index\"], values=user_columns, variableColumnName=\"Joke\", valueColumnName=\"Rating\")\n",
    "user_ratings.show(n=5)"
   ]
  },
  {
   "cell_type": "markdown",
   "id": "eeb3a8df-7e8b-4ce1-a514-433f8f4e8964",
   "metadata": {},
   "source": [
    "I dropped the user - joke ratings that were designated as \"99\" as \"99\" rating indicates unrated.  Then I split the dataset into a training and test set using randomSplit().  This process was easier in PySpark than in Pandas."
   ]
  },
  {
   "cell_type": "code",
   "execution_count": 6,
   "id": "973326dd-cbec-424a-9174-1097ce3f21a1",
   "metadata": {
    "id": "973326dd-cbec-424a-9174-1097ce3f21a1",
    "outputId": "aae76f70-52a1-4aff-a814-857d2f5f6c0c"
   },
   "outputs": [],
   "source": [
    "#user_ratings_dropped = user_ratings_long\n",
    "#user_ratings_dropped['rating'] = user_ratings_dropped['rating'].replace(99,np.nan) # replace 99 with np.nan as entries with 99 rating were not rated\n",
    "#user_ratings_dropped = user_ratings_dropped.dropna() # drop the NA records\n",
    "user_ratings = user_ratings.filter(col('Rating') != 99)\n",
    "#df_random = user_ratings_dropped.sample(frac = 1, random_state = 63) # randomize the records\n",
    "#split_size = int(0.8*len(df_random)) # designate split size (80%)\n",
    "#train = df_random[:split_size] # split dataset into 80% train and 20% test\n",
    "#test = df_random[split_size:]\n",
    "train_df, test_df = user_ratings.randomSplit([0.8,0.2], seed = 63)"
   ]
  },
  {
   "cell_type": "markdown",
   "id": "98fe4d67-fb1f-438f-a62d-36b89c45a3fb",
   "metadata": {
    "id": "98fe4d67-fb1f-438f-a62d-36b89c45a3fb"
   },
   "source": [
    "I pivot back the database from long to wide format.  I do this by grouping the Joke Ratings by user_index and then pivoting the dataframe."
   ]
  },
  {
   "cell_type": "code",
   "execution_count": 7,
   "id": "2f30fbde-ef83-438e-8ced-91cf5b0615cb",
   "metadata": {
    "id": "2f30fbde-ef83-438e-8ced-91cf5b0615cb",
    "outputId": "a38b3e67-ec65-4c2d-a911-216a9a93b2aa"
   },
   "outputs": [],
   "source": [
    "#pivot_train = train.pivot(index='index', columns='joke', values='rating') # pivot the training data back into original format with jokes as columns\n",
    "pivot_train = train_df.groupBy('user_index').pivot('Joke').agg(F.mean('Rating'))\n",
    "#pivot_test = test.pivot(index='index', columns='joke', values='rating') # pivot the testing data back into original format with jokes as columns\n",
    "pivot_test = test_df.groupBy('user_index').pivot('Joke').agg(F.mean('Rating'))"
   ]
  },
  {
   "cell_type": "markdown",
   "id": "80443bec-f35b-4df3-8cea-b94d04ec8c6f",
   "metadata": {},
   "source": [
    "I check to see if there are missing users.  This ended up being unnecessary as RMSE was later calculated using a join, which would have eliminated any records that do not \"match\" (i.e. do not have both a prediction and an actual value)."
   ]
  },
  {
   "cell_type": "code",
   "execution_count": 8,
   "id": "8ce3be02-f6e0-4f1c-8ce3-c9fab859e53a",
   "metadata": {},
   "outputs": [
    {
     "name": "stdout",
     "output_type": "stream",
     "text": [
      "+--------------------------+\n",
      "|count(DISTINCT user_index)|\n",
      "+--------------------------+\n",
      "|                      7398|\n",
      "+--------------------------+\n",
      "\n",
      "+--------------------------+\n",
      "|count(DISTINCT user_index)|\n",
      "+--------------------------+\n",
      "|                      5021|\n",
      "+--------------------------+\n",
      "\n"
     ]
    }
   ],
   "source": [
    "pivot_train.select(F.count_distinct(\"user_index\")).show() # see if there are missing users... there are\n",
    "pivot_test.select(F.count_distinct(\"user_index\")).show()"
   ]
  },
  {
   "cell_type": "markdown",
   "id": "85c82063-28f9-4d4f-bbb6-4fcbc9c3adf9",
   "metadata": {},
   "source": [
    "I found the missing rows and inserted nulls in these rows for each column.  I then unioned this data with the training and test data, so that the training and test data contained all of the users.  Again, this was unnecessary due to the inner join later used to calculate RMSE.  "
   ]
  },
  {
   "cell_type": "code",
   "execution_count": 9,
   "id": "be7f4360-f0ea-4220-b749-460d669b5091",
   "metadata": {},
   "outputs": [],
   "source": [
    "df_missing_rows = user_ratings.select('user_index').distinct().orderBy(col('user_index'))\n",
    "for i in range(158):\n",
    "    if i < 9:\n",
    "        column_name = f\"joke_00{i+1}\"\n",
    "    elif i >= 9 and i < 99:\n",
    "        column_name = f\"joke_0{i+1}\"\n",
    "    else:\n",
    "        column_name = f\"joke_{i+1}\"\n",
    "        # print(column_name)# Generate unique column names\n",
    "    if column_name in pivot_train.columns:\n",
    "        pass\n",
    "    else:\n",
    "        pivot_train = pivot_train.withColumn(column_name, lit(None).cast(DoubleType()))\n",
    "    if column_name in pivot_test.columns:\n",
    "        pass\n",
    "    else:\n",
    "        pivot_test = pivot_test.withColumn(column_name, lit(None).cast(DoubleType()))\n",
    "    #print(column_name)\n",
    "    df_missing_rows = df_missing_rows.withColumn(column_name, lit(None).cast(DoubleType()))\n",
    "pivot_train = pivot_train.select(df_missing_rows.columns)\n",
    "pivot_test = pivot_test.select(df_missing_rows.columns)\n",
    "missing_rows_train = df_missing_rows.join(pivot_train, on=[\"user_index\"], how=\"left_anti\")\n",
    "missing_rows_test = df_missing_rows.join(pivot_test, on=[\"user_index\"], how=\"left_anti\")\n",
    "#print(len(pivot_train.columns))\n",
    "#print(len(missing_rows_train.columns))\n",
    "#print(pivot_train.columns)\n",
    "#print(missing_rows_train.columns)\n",
    "#print(pivot_test.columns)\n",
    "pivot_train_union = pivot_train.union(missing_rows_train)\n",
    "pivot_test_union = pivot_test.union(missing_rows_test)"
   ]
  },
  {
   "cell_type": "code",
   "execution_count": 10,
   "id": "6729afb0-63a1-43e0-a17c-79405e2a4b53",
   "metadata": {},
   "outputs": [
    {
     "name": "stdout",
     "output_type": "stream",
     "text": [
      "+--------------------------+\n",
      "|count(DISTINCT user_index)|\n",
      "+--------------------------+\n",
      "|                      7699|\n",
      "+--------------------------+\n",
      "\n",
      "+--------------------------+\n",
      "|count(DISTINCT user_index)|\n",
      "+--------------------------+\n",
      "|                      7699|\n",
      "+--------------------------+\n",
      "\n"
     ]
    }
   ],
   "source": [
    "pivot_train_union.select(F.count_distinct(\"user_index\")).show() \n",
    "pivot_test_union.select(F.count_distinct(\"user_index\")).show()"
   ]
  },
  {
   "cell_type": "markdown",
   "id": "9c81d945-dcd4-4efb-974f-c155395e4888",
   "metadata": {},
   "source": [
    "# Global Baseline using PySpark\n",
    "I calculate the global baseline using the mean value of all known ratings in the training set.  I access the scalar value via collect()[0][0]."
   ]
  },
  {
   "cell_type": "code",
   "execution_count": 11,
   "id": "52055a39-9d67-47a0-9e93-bb3b8ac826d9",
   "metadata": {
    "id": "52055a39-9d67-47a0-9e93-bb3b8ac826d9",
    "outputId": "7d6ecb60-dcf2-4c49-90d8-3fe94b65b047"
   },
   "outputs": [],
   "source": [
    "#train_means = np.nanmean(pivot_train_reindex.values) # get mean of all values in the df\n",
    "train_means = train_df.select(mean('Rating')).collect()[0][0] #"
   ]
  },
  {
   "cell_type": "markdown",
   "id": "b817692c-90a4-4415-a7d5-4632fc8d11a5",
   "metadata": {},
   "source": [
    "A matrix of the above mean is created.  I can use the df_missing_rows dataframe to get the desired dataframe shape, and then fill all the NA values with the mean calculated above."
   ]
  },
  {
   "cell_type": "code",
   "execution_count": 12,
   "id": "8ec18646-6075-4497-8198-05e7e2396797",
   "metadata": {
    "id": "8ec18646-6075-4497-8198-05e7e2396797",
    "outputId": "1ce7c8a8-fddc-4652-9e9e-b684b4e8cc11"
   },
   "outputs": [],
   "source": [
    "train_means_df = df_missing_rows\n",
    "train_means_df = train_means_df.fillna(train_means)"
   ]
  },
  {
   "cell_type": "markdown",
   "id": "e5fc26ed-1f69-4d2f-a325-ed17280bf5b7",
   "metadata": {},
   "source": [
    "User bias is calculated by taking the mean rating of each user and subtracting the average rating across all ratings.  I can do this by grouping by user_index and finding the mean rating.  "
   ]
  },
  {
   "cell_type": "code",
   "execution_count": 13,
   "id": "34dcc8d8-1f04-449c-8abc-5029bca0bca1",
   "metadata": {
    "id": "34dcc8d8-1f04-449c-8abc-5029bca0bca1",
    "outputId": "50f56a46-1b0d-4c02-b61e-ed14dd8bbf7d"
   },
   "outputs": [
    {
     "name": "stdout",
     "output_type": "stream",
     "text": [
      "+----------+-------------------+\n",
      "|user_index|          user_bias|\n",
      "+----------+-------------------+\n",
      "|         0|                3.7|\n",
      "|         2|-1.0574999999999999|\n",
      "|         3| 1.2291666666666667|\n",
      "|         4|0.36916666666666664|\n",
      "|         5| 2.8948148148148154|\n",
      "|         6|-0.9511494252873564|\n",
      "|         7|  4.409999999999999|\n",
      "|         8| 7.8549999999999995|\n",
      "|         9|-0.5845454545454545|\n",
      "|        10|-0.4254545454545456|\n",
      "|        11|             0.7525|\n",
      "|        12|             -0.732|\n",
      "|        13|                4.0|\n",
      "|        14|              -5.75|\n",
      "|        15|  5.194444444444445|\n",
      "|        16|              4.215|\n",
      "|        17| 6.8100000000000005|\n",
      "|        18|              3.814|\n",
      "|        19|                0.0|\n",
      "|        20|               5.46|\n",
      "+----------+-------------------+\n",
      "only showing top 20 rows\n"
     ]
    }
   ],
   "source": [
    "#user_bias = pivot_train_reindex.mean(axis=1) - train_means # find user bias by taking mean rating for each user\n",
    "#print(user_bias)\n",
    "user_bias = train_df.groupBy(\"user_index\").mean(\"Rating\").orderBy(\"user_index\")\n",
    "user_bias = user_bias.withColumnRenamed(\"avg(Rating)\",\"user_bias\")\n",
    "user_bias.show()"
   ]
  },
  {
   "cell_type": "markdown",
   "id": "190cbe13-fd6e-4d65-8b89-c4710f32a0c1",
   "metadata": {},
   "source": [
    "Joke bias is calculated by taking the mean rating of each joke and subtracting the average rating across all ratings. I do the same as above and group by Joke to get the mean Rating by Joke.  "
   ]
  },
  {
   "cell_type": "code",
   "execution_count": 14,
   "id": "e9bd15e0-1a26-467c-8c40-6a06651b8978",
   "metadata": {
    "id": "e9bd15e0-1a26-467c-8c40-6a06651b8978",
    "outputId": "5d14162e-d7bb-4b33-aeb9-f4a2b399ce14"
   },
   "outputs": [
    {
     "name": "stdout",
     "output_type": "stream",
     "text": [
      "+--------+--------------------+\n",
      "|    Joke|           joke_bias|\n",
      "+--------+--------------------+\n",
      "|joke_007|  -1.424780701754386|\n",
      "|joke_008| -1.5945876288659788|\n",
      "|joke_013|   -3.11254189944134|\n",
      "|joke_015|   -3.18295019157088|\n",
      "|joke_016| -2.1721457489878544|\n",
      "|joke_017|0.004354838709677506|\n",
      "|joke_018| -2.0270867768595036|\n",
      "|joke_019|-0.43669007021063183|\n",
      "|joke_021|    1.00725321888412|\n",
      "|joke_022| -0.9524496644295297|\n",
      "|joke_023|-0.10372623574144489|\n",
      "|joke_024| -1.5156834532374104|\n",
      "|joke_025|-0.15845890410958893|\n",
      "|joke_026|-0.06906250000000005|\n",
      "|joke_028|  0.6304893617021278|\n",
      "|joke_029|  1.1942028985507251|\n",
      "|joke_030|-0.10337962962962949|\n",
      "|joke_032|  2.2082767191383583|\n",
      "|joke_033| -2.0537058823529413|\n",
      "|joke_034| -0.6903940886699503|\n",
      "+--------+--------------------+\n",
      "only showing top 20 rows\n"
     ]
    }
   ],
   "source": [
    "#joke_bias = pivot_train_reindex.mean() - train_means # find joke bias by taking mean rating for each joke\n",
    "#print(joke_bias)\n",
    "joke_bias = train_df.groupBy(\"Joke\").mean(\"Rating\").orderBy(\"Joke\")\n",
    "joke_bias = joke_bias.withColumnRenamed(\"avg(Rating)\",\"joke_bias\")\n",
    "joke_bias.show()"
   ]
  },
  {
   "cell_type": "markdown",
   "id": "7b8a6d6b-b137-4b9e-9337-d3cd180cc911",
   "metadata": {},
   "source": [
    "User and joke biases are taken into account by adding them to the matrix of average ratings. This is done for both the training and test set.  This was more difficult with PySpark than Pandas, as there was no function to add row-wise or column-wise.  Instead, I joined the user_bias dataframe to the train_means_df and then for each column, added the user_bias to the corresponding row.  For the Joke biases, I created a dictionary and added the specified column bias if the column existed in the dictionary.  Finally, I used \"when\" from pyspark.sql.functions (similar to case when... then... else... in SQL) to change the rating to 10 if greater than 10, or -10 if less than -10.  "
   ]
  },
  {
   "cell_type": "code",
   "execution_count": 15,
   "id": "e95a3551-ad34-4775-8bb8-aecbcd268a9a",
   "metadata": {
    "id": "e95a3551-ad34-4775-8bb8-aecbcd268a9a",
    "outputId": "0e487133-f2db-4966-8d41-c293f03e7c7a",
    "scrolled": true
   },
   "outputs": [
    {
     "name": "stdout",
     "output_type": "stream",
     "text": [
      "+----------+--------------------+--------------------+--------------------+--------------------+--------------------+--------------------+--------------------+--------------------+--------------------+--------------------+--------------------+--------------------+--------------------+--------------------+--------------------+--------------------+--------------------+--------------------+-------------------+--------------------+-------------------+-------------------+--------------------+--------------------+-------------------+--------------------+--------------------+-------------------+--------------------+--------------------+--------------------+-------------------+--------------------+-------------------+-------------------+-------------------+--------------------+-------------------+-------------------+-------------------+-------------------+--------------------+--------------------+--------------------+-------------------+-------------------+--------------------+--------------------+--------------------+--------------------+--------------------+--------------------+--------------------+-------------------+-------------------+--------------------+--------------------+--------------------+--------------------+-------------------+--------------------+--------------------+--------------------+--------------------+-------------------+-------------------+-------------------+-------------------+-------------------+--------------------+--------------------+--------------------+--------------------+--------------------+--------------------+-------------------+-------------------+--------------------+-------------------+--------------------+-------------------+-------------------+--------------------+-------------------+--------------------+--------------------+-------------------+--------------------+--------------------+-------------------+-------------------+-------------------+--------------------+-------------------+-------------------+--------------------+-------------------+--------------------+--------------------+--------------------+--------------------+-------------------+--------------------+--------------------+--------------------+--------------------+--------------------+-------------------+-------------------+--------------------+--------------------+--------------------+-------------------+--------------------+--------------------+--------------------+--------------------+--------------------+--------------------+-------------------+-------------------+-------------------+--------------------+--------------------+-------------------+-------------------+-------------------+--------------------+--------------------+-------------------+--------------------+--------------------+--------------------+-------------------+--------------------+-------------------+-------------------+-------------------+--------------------+-------------------+-------------------+-------------------+--------------------+-------------------+--------------------+--------------------+-------------------+--------------------+-------------------+-------------------+--------------------+-------------------+--------------------+--------------------+--------------------+--------------------+--------------------+--------------------+\n",
      "|user_index|            joke_001|            joke_002|            joke_003|            joke_004|            joke_005|            joke_006|            joke_007|            joke_008|            joke_009|            joke_010|            joke_011|            joke_012|            joke_013|            joke_014|            joke_015|            joke_016|            joke_017|            joke_018|           joke_019|            joke_020|           joke_021|           joke_022|            joke_023|            joke_024|           joke_025|            joke_026|            joke_027|           joke_028|            joke_029|            joke_030|            joke_031|           joke_032|            joke_033|           joke_034|           joke_035|           joke_036|            joke_037|           joke_038|           joke_039|           joke_040|           joke_041|            joke_042|            joke_043|            joke_044|           joke_045|           joke_046|            joke_047|            joke_048|            joke_049|            joke_050|            joke_051|            joke_052|            joke_053|           joke_054|           joke_055|            joke_056|            joke_057|            joke_058|            joke_059|           joke_060|            joke_061|            joke_062|            joke_063|            joke_064|           joke_065|           joke_066|           joke_067|           joke_068|           joke_069|            joke_070|            joke_071|            joke_072|            joke_073|            joke_074|            joke_075|           joke_076|           joke_077|            joke_078|           joke_079|            joke_080|           joke_081|           joke_082|            joke_083|           joke_084|            joke_085|            joke_086|           joke_087|            joke_088|            joke_089|           joke_090|           joke_091|           joke_092|            joke_093|           joke_094|           joke_095|            joke_096|           joke_097|            joke_098|            joke_099|            joke_100|            joke_101|           joke_102|            joke_103|            joke_104|            joke_105|            joke_106|            joke_107|           joke_108|           joke_109|            joke_110|            joke_111|            joke_112|           joke_113|            joke_114|            joke_115|            joke_116|            joke_117|            joke_118|            joke_119|           joke_120|           joke_121|           joke_122|            joke_123|            joke_124|           joke_125|           joke_126|           joke_127|            joke_128|            joke_129|           joke_130|            joke_131|            joke_132|            joke_133|           joke_134|            joke_135|           joke_136|           joke_137|           joke_138|            joke_139|           joke_140|           joke_141|           joke_142|            joke_143|           joke_144|            joke_145|            joke_146|           joke_147|            joke_148|           joke_149|           joke_150|            joke_151|           joke_152|            joke_153|            joke_154|            joke_155|            joke_156|            joke_157|            joke_158|\n",
      "+----------+--------------------+--------------------+--------------------+--------------------+--------------------+--------------------+--------------------+--------------------+--------------------+--------------------+--------------------+--------------------+--------------------+--------------------+--------------------+--------------------+--------------------+--------------------+-------------------+--------------------+-------------------+-------------------+--------------------+--------------------+-------------------+--------------------+--------------------+-------------------+--------------------+--------------------+--------------------+-------------------+--------------------+-------------------+-------------------+-------------------+--------------------+-------------------+-------------------+-------------------+-------------------+--------------------+--------------------+--------------------+-------------------+-------------------+--------------------+--------------------+--------------------+--------------------+--------------------+--------------------+--------------------+-------------------+-------------------+--------------------+--------------------+--------------------+--------------------+-------------------+--------------------+--------------------+--------------------+--------------------+-------------------+-------------------+-------------------+-------------------+-------------------+--------------------+--------------------+--------------------+--------------------+--------------------+--------------------+-------------------+-------------------+--------------------+-------------------+--------------------+-------------------+-------------------+--------------------+-------------------+--------------------+--------------------+-------------------+--------------------+--------------------+-------------------+-------------------+-------------------+--------------------+-------------------+-------------------+--------------------+-------------------+--------------------+--------------------+--------------------+--------------------+-------------------+--------------------+--------------------+--------------------+--------------------+--------------------+-------------------+-------------------+--------------------+--------------------+--------------------+-------------------+--------------------+--------------------+--------------------+--------------------+--------------------+--------------------+-------------------+-------------------+-------------------+--------------------+--------------------+-------------------+-------------------+-------------------+--------------------+--------------------+-------------------+--------------------+--------------------+--------------------+-------------------+--------------------+-------------------+-------------------+-------------------+--------------------+-------------------+-------------------+-------------------+--------------------+-------------------+--------------------+--------------------+-------------------+--------------------+-------------------+-------------------+--------------------+-------------------+--------------------+--------------------+--------------------+--------------------+--------------------+--------------------+\n",
      "|        26|  -1.319524280184031|  -1.319524280184031|  -1.319524280184031|  -1.319524280184031|  -1.319524280184031|  -1.319524280184031| -2.7443049819384173| -2.9141119090500096|  -1.319524280184031|  -1.319524280184031|  -1.319524280184031|  -1.319524280184031|  -4.432066179625371|  -1.319524280184031|  -4.502474471754911| -3.4916700291718854| -1.3151694414743536| -3.3466110570435346|-1.7562143503946628|  -1.319524280184031|-0.3122710612999111|-2.2719739446135607| -1.4232505159254758| -2.8352077334214414|  -1.47798318429362|  -1.388586780184031|  -1.319524280184031|-0.6890349184819032|-0.12532138163330586| -1.4229039098136604|  -1.319524280184031| 0.8887524389543273| -3.3732301625369723|-2.0099183688539815| -1.022698481891271|-0.9200790839729345| -2.8608429615027124|-0.6353554822300667|-1.1928266057654264|-0.9150634958703053|-1.8314343925435814|-0.48782122341547174|  -1.319524280184031|   -3.16098413419863|-1.0850641862873174|-0.7342500185806552|  0.5096141010170134|-0.06493523908814103|  1.0369237198159689| -0.3390341363374665|  -1.319524280184031|  -1.319524280184031|  0.8570083500071335| 0.2029175802810852| -2.173466587876339| -1.2876875454901533| -2.8279673939564858| -2.9608576135173648|  -1.482482479540944| -1.875238565898317|  -1.319524280184031|  0.8286109433710394|  0.6674001184413991|   -2.92907842031142|-1.5616997829262613|-0.7434125223260569|-2.2841713390075604| 0.9974253466816418| 0.0737708017831824|0.018307578223048848| -2.0144346744492645|-0.11464104894360116|  -1.319524280184031|  -3.630656355655729| -2.2492662156679026| 0.1479601918656579|-0.8724498120989247|-0.23354489874073225| -2.319524280184031|  -1.319524280184031|-1.6975880056742272|-0.8063863491495481|  -2.043765244039453| -0.998497253157004|  -2.001992634614411|  -1.881296051955803|-0.8861390661762492|-0.05191233988552435|   0.876324343669181|-0.3749528516126025|-0.9064273534700829|-0.2687348064998214| 0.48510915090101325|-0.5854001116696187|-1.0945242801840311|-0.31832428018403003| 0.4599859238976016| -1.9600242801840309|-0.07470500307559758|  -1.319524280184031| -3.3703484560082075|-1.0905106747418543| -1.2838879165476673| 0.41111917174632495|-0.30806002294246815|  1.2884148298862286| -1.3644521262556504|  1.611240747138373|-0.6799074219464828|-0.09748414640476755|  0.9799235725767064|-0.48781256847231935|-1.1029088955686464|  0.8371966752991407|  -1.204320198551378|  -1.319524280184031|  1.3629497682588738| -0.5116849450039758| -1.1743058893794331|-1.5835151058721044|-0.3891909468506971|0.28050716635684925|  -3.422952851612602|  -4.045306593109201|-0.8915645486404065| 0.8530180926973263|-0.7952385658983162| -1.6652786661489432| 0.38993269558873256|-0.8527631465807919| -1.9073070856138954|  -1.363373837706155|-0.08932820175265865|  1.024003757199147|  -1.405655667045345|-1.7216385658983167|-0.0757799879465888|-0.2687599489738388| -0.5200697347294854| -2.320604092390604| -4.198931687591438| -1.555714756374507| 0.37139075249570785|-1.6801377771165462| -1.2307378724170408| -3.0813805676091808| -0.717949812098925|   0.613101714510929|-0.5860371953131824| 0.3956961374493795| -2.5474002200336545| -1.142912629698594| -1.9156443945786936|  -2.025139951825822| -2.8899714733334116| -2.7132730908405494| -1.2319034962277868| -1.3094876836607008|\n",
      "|        29| -1.1970242801840314| -1.1970242801840314| -1.1970242801840314| -1.1970242801840314| -1.1970242801840314| -1.1970242801840314| -2.6218049819384177|   -2.79161190905001| -1.1970242801840314| -1.1970242801840314| -1.1970242801840314| -1.1970242801840314|  -4.309566179625371| -1.1970242801840314|  -4.379974471754911|  -3.369170029171886|  -1.192669441474354|  -3.224111057043535|-1.6337143503946632| -1.1970242801840314|-0.1897710612999115| -2.149473944613561| -1.3007505159254762|  -2.712707733421442|-1.3554831842936204| -1.2660867801840314| -1.1970242801840314|-0.5665349184819036|-0.00282138163330...| -1.3004039098136608| -1.1970242801840314|  1.011252438954327| -3.2507301625369727|-1.8874183688539818|-0.9001984818912715|-0.7975790839729349|  -2.738342961502713| -0.512855482230067|-1.0703266057654268|-0.7925634958703057|-1.7089343925435818|-0.36532122341547213| -1.1970242801840314| -3.0384841341986304|-0.9625641862873178|-0.6117500185806556|   0.632114101017013| 0.05756476091185858|  1.1594237198159685|-0.21653413633746688| -1.1970242801840314| -1.1970242801840314|  0.9795083500071331| 0.3254175802810848|-2.0509665878763395| -1.1651875454901537|  -2.705467393956486|  -2.838357613517365| -1.3599824795409443|-1.7527385658983174| -1.1970242801840314|   0.951110943371039|  0.7899001184413987| -2.8065784203114204|-1.4391997829262617|-0.6209125223260573| -2.161671339007561| 1.1199253466816415|0.19627080178318201| 0.14080757822304846| -1.8919346744492649|0.007858951056398444| -1.1970242801840314| -3.5081563556557294|  -2.126766215667903| 0.2704601918656575|-0.7499498120989251|-0.11104489874073264|-2.1970242801840314| -1.1970242801840314|-1.5750880056742276|-0.6838863491495485| -1.9212652440394533|-0.8759972531570044| -1.8794926346144112| -1.7587960519558035|-0.7636390661762495| 0.07058766011447526|  0.9988243436691806|-0.2524528516126029|-0.7839273534700832|-0.1462348064998218|  0.6076091509010129|-0.4629001116696191|-0.9720242801840314|-0.19582428018403042| 0.5824859238976012| -1.8375242801840312| 0.04779499692440203| -1.1970242801840314|  -3.247848456008208|-0.9680106747418546| -1.1613879165476677|  0.5336191717463246|-0.18556002294246854|  1.4109148298862282| -1.2419521262556508| 1.7337407471383726|-0.5574074219464832|0.025015853595232063|   1.102423572576706|-0.36531256847231974|-0.9804088955686466|  0.9596966752991403| -1.0818201985513785| -1.1970242801840314|  1.4854497682588734|-0.38918494500397616| -1.0518058893794335|-1.4610151058721048|-0.2666909468506975|0.40300716635684886| -3.3004528516126026|  -3.922806593109201|-0.7690645486404069| 0.9755180926973259|-0.6727385658983166| -1.5427786661489435|  0.5124326955887322|-0.7302631465807923| -1.7848070856138958| -1.2408738377061554|0.033171798247340956| 1.1465037571991465| -1.2831556670453454| -1.599138565898317|0.04672001205341081|-0.1462599489738392|-0.39756973472948576|-2.1981040923906043|-4.0764316875914375|-1.4332147563745075| 0.49389075249570746|-1.5576377771165466| -1.1082378724170412|  -2.958880567609181|-0.5954498120989254|  0.7356017145109286|-0.4635371953131828| 0.5181961374493791|  -2.424900220033655|-1.0204126296985945|  -1.793144394578694| -1.9026399518258224|  -2.767471473333412| -2.5907730908405497| -1.1094034962277872| -1.1869876836607012|\n",
      "|       474|  -5.469524280184031|  -5.469524280184031|  -5.469524280184031|  -5.469524280184031|  -5.469524280184031|  -5.469524280184031|  -6.894304981938418|   -7.06411190905001|  -5.469524280184031|  -5.469524280184031|  -5.469524280184031|  -5.469524280184031|  -8.582066179625372|  -5.469524280184031|   -8.65247447175491|  -7.641670029171886| -5.4651694414743535|  -7.496611057043535| -5.906214350394663|  -5.469524280184031| -4.462271061299911| -6.421973944613561|  -5.573250515925476|  -6.985207733421442|  -5.62798318429362|  -5.538586780184032|  -5.469524280184031| -4.839034918481904|  -4.275321381633306|  -5.572903909813661|  -5.469524280184031| -3.261247561045673|  -7.523230162536972| -6.159918368853981| -5.172698481891271| -5.070079083972935|  -7.010842961502712| -4.785355482230067| -5.342826605765427| -5.065063495870306| -5.981434392543582|  -4.637821223415472|  -5.469524280184031|   -7.31098413419863|-5.2350641862873175| -4.884250018580656|  -3.640385898982987|  -4.214935239088142| -3.1130762801840315|  -4.489034136337467|  -5.469524280184031|  -5.469524280184031|  -3.292991649992867| -3.947082419718915| -6.323466587876339|  -5.437687545490154|  -6.977967393956487|  -7.110857613517365|  -5.632482479540944| -6.025238565898317|  -5.469524280184031|  -3.321389056628961| -3.4825998815586012|   -7.07907842031142| -5.711699782926262| -4.893412522326058| -6.434171339007561|-3.1525746533183585| -4.076229198216818|  -4.131692421776951|  -6.164434674449264|  -4.264641048943601|  -5.469524280184031|  -7.780656355655729|  -6.399266215667903|-4.0020398081343425| -5.022449812098925|  -4.383544898740732| -6.469524280184031|  -5.469524280184031| -5.847588005674227| -4.956386349149549| -6.1937652440394535| -5.148497253157005|  -6.151992634614411|  -6.031296051955803|  -5.03613906617625|  -4.201912339885524| -3.2736756563308194|-4.5249528516126025| -5.056427353470084| -4.418734806499822| -3.6648908490989873| -4.735400111669619| -5.244524280184032|  -4.468324280184031|-3.6900140761023987|  -6.110024280184032|  -4.224705003075598|  -5.469524280184031| -7.5203484560082074| -5.240510674741855| -5.4338879165476675| -3.7388808282536754|  -4.458060022942469|  -2.861585170113772|  -5.514452126255651|-2.5387592528616274|-4.8299074219464835| -4.2474841464047675|  -3.170076427423294|   -4.63781256847232|-5.2529088955686465| -3.3128033247008597|  -5.354320198551378|  -5.469524280184031| -2.7870502317411265|  -4.661684945003977|  -5.324305889379434|-5.7335151058721046| -4.539190946850697| -3.869492833643151|  -7.572952851612603|  -8.195306593109201| -5.041564548640407| -3.296981907302674|-4.9452385658983165|  -5.815278666148943|  -3.760067304411268| -5.002763146580792|  -6.057307085613896|  -5.513373837706156| -4.2393282017526595|-3.1259962428008534|  -5.555655667045345|-5.8716385658983175|  -4.22577998794659|  -4.41875994897384|  -4.670069734729486| -6.470604092390604| -8.348931687591438| -5.705714756374507| -3.7786092475042925| -5.830137777116547|  -5.380737872417041|  -7.231380567609181| -4.867949812098925| -3.5368982854890714| -4.736037195313183| -3.754303862550621|  -6.697400220033655| -5.292912629698595|  -6.065644394578694|  -6.175139951825822|  -7.039971473333412|   -6.86327309084055|  -5.381903496227787|  -5.459487683660702|\n",
      "|       964|   2.103519198076839|   2.103519198076839|   2.103519198076839|   2.103519198076839|   2.103519198076839|   2.103519198076839|  0.6787384963224528|    0.50893156921086|   2.103519198076839|   2.103519198076839|   2.103519198076839|   2.103519198076839|  -1.009022701364501|   2.103519198076839| -1.0794309934940411|-0.06862655091101555|  2.1078740367865163| 0.07643242121733529|  1.666829127866207|   2.103519198076839|  3.110772416960959| 1.1510695336473091|   1.999792962335394|  0.5878357448394285| 1.9450602939672499|  2.0344566980768386|   2.103519198076839| 2.7340085597789665|   3.297722096627564|   2.000139568447209|   2.103519198076839|  4.311795917215197| 0.04981331572389758| 1.4131251094068884|  2.400344996369599| 2.5029643942879356|  0.5622005167581574|  2.787687996030803| 2.2302168724954434| 2.5079799823905646| 1.5916090857172884|   2.935222254845398|   2.103519198076839|  0.2620593440622401| 2.3379792919735523| 2.6887934596802148|  3.9326575792778833|   3.358108239172729|   4.459967198076839|  3.0840093419234034|   2.103519198076839|   2.103519198076839|   4.280051828268004|  3.625961058541955| 1.2495768903845308|  2.1353559327707163|  0.5950760843043841|  0.4621858647435053|   1.940560998719926| 1.5478049123625528|   2.103519198076839|   4.251654421631909|  4.0904435967022685|  0.4939650579494501| 1.8613436953346085|  2.679630955934813| 1.1388721392533094|  4.420468824942512| 3.4968142800440525|   3.441351056483919|  1.4086088038116054|   3.308402429317269|   2.103519198076839|-0.20761287739485912|  1.1737772625929674| 3.5710036701265278| 2.5505936661619453|  3.1894985795201376| 1.1035191980768386|   2.103519198076839| 1.7254554725866427| 2.6166571291113216|   1.379278234221417| 2.4245462251038656|   1.421050843646459|  1.5417474263050668| 2.5369044120846205|  3.3711311383753455|   4.299367821930051| 3.0480906266482672|  2.516616124790787| 3.1543086717610485|   3.908152629161883|  2.837643366591251|  2.328519198076839|  3.1047191980768396| 3.8830294021584715|   1.463019198076839|  3.3483384751852725|   2.103519198076839|0.052695022252662316|  2.332532803519016|  2.1391555617132023|   3.834162650007195|  3.1149834553184017|   4.711458308147098|  2.0585913520052195|  5.034284225399243|  2.743136056314387|  3.3255593318561023|   4.402967050837576|  2.9352309097885505| 2.3201345826922237|  4.2602401535600105|   2.218723279709492|   2.103519198076839|   4.785993246519744|   2.911358533256894|  2.2487375888814367| 1.8395283723887654| 3.0338525314101727|  3.703550644617719|9.062664826764433E-5| -0.6222631148483306| 2.5314789296204636|  4.276061570958197| 2.6278049123625538|  1.7577648121119267|   3.812976173849602|  2.570280331680078|  1.5157363926469745|   2.059669640554715|   3.333715276508211|  4.447047235460017|   2.017387811215525| 1.7014049123625532|  3.347263490314281|  3.154283529287031|  2.9029737435313843| 1.1024393858702657|-0.7758882093305677| 1.8673287218863628|  3.7944342307565777| 1.7429057011443236|   2.192305605843829|  0.3416629106516891|  2.705093666161945|   4.036145192771799|  2.837006282947687| 3.8187396157102493|  0.8756432582272153| 2.2801308485622758|  1.5073990836821762|   1.397903526435048|  0.5330720049274584|  0.7097703874203207|   2.191139982033083|   2.113555794600169|\n",
      "|      1677|  2.5271423864826352|  2.5271423864826352|  2.5271423864826352|  2.5271423864826352|  2.5271423864826352|  2.5271423864826352|  1.1023616847282491|  0.9325547576166564|  2.5271423864826352|  2.5271423864826352|  2.5271423864826352|  2.5271423864826352| -0.5853995129587046|  2.5271423864826352| -0.6558078050882448| 0.35499663749478083|  2.5314972251923127|  0.5000556096231317| 2.0904523162720032|  2.5271423864826352|  3.534395605366755| 1.5746927220531055|    2.42341615074119|  1.0114589332452248| 2.3686834823730463|   2.458079886482635|  2.5271423864826352|  3.157631748184763|  3.7213452850333604|  2.4237627568530056|  2.5271423864826352|  4.735419105620993| 0.47343650412969396| 1.8367482978126848| 2.8239681847753952|  2.926587582693732|  0.9858237051639538| 3.2113111844365996|   2.65384006090124|  2.931603170796361|  2.015232274123085|  3.3588454432511945|  2.5271423864826352|  0.6856825324680365| 2.7616024803793486|  3.112416648086011|    4.35628076768368|   3.781731427578525|   4.883590386482635|  3.5076325303291997|  2.5271423864826352|  2.5271423864826352|     4.7036750166738|  4.049584246947751| 1.6732000787903272|  2.5589791211765127|  1.0186992727101805|  0.8858090531493017|  2.3641841871257223| 1.9714281007683492|  2.5271423864826352|   4.675277610037705|   4.514066785108065|  0.9175882463552465| 2.2849668837404047| 3.1032541443406094| 1.5624953276591058|  4.844092013348308| 3.9204374684498484|   3.864974244889715|  1.8322319922174017|   3.732025617723065|  2.5271423864826352| 0.21601031101093726|  1.5974004509987638|  3.994626858532324| 2.9742168545677417|   3.613121767925934|  1.527142386482635|  2.5271423864826352| 2.1490786609924393|  3.040280317517118|  1.8029014226272133| 2.8481694135096625|  1.8446740320522554|  1.9653706147108632| 2.9605276004904173|   3.794754326781142|   4.722991010335847| 3.4717138150540636| 2.9402393131965834|  3.577931860166845|    4.33177581756768| 3.2612665549970474| 2.7521423864826353|  3.5283423864826364|  4.306652590564267|  1.8866423864826354|  3.7719616635910684|  2.5271423864826352|  0.4763182106584587|  2.756155991924812|  2.5627787501189987|   4.257785838412991|   3.538606643724198|   5.135081496552894|   2.482214540411016|  5.457907413805039| 3.1667592447201836|  3.7491825202618987|   4.826590239243373|   3.358854098194347|   2.74375777109802|   4.683863341965807|   2.642346468115288|  2.5271423864826352|    5.20961643492554|  3.3349817216626905|   2.672360777287233|  2.263151560794562|  3.457475719815969|  4.127173833023516|   0.423713815054064|-0.19863992644253425|   2.95510211802626| 4.6996847593639925|   3.05142810076835|   2.181388000517723|   4.236599362255399| 2.9939035200858743|  1.9393595810527708|  2.4832928289605114|  3.7573384649140076|  4.870670423865813|   2.441010999621321| 2.1250281007683496| 3.7708866787200774| 3.5779067176928274|   3.326596931937181|  1.526062574276062|-0.3522650209247713|  2.290951910292159|   4.218057419162374| 2.1665288895501202|  2.6159287942496254|  0.7652860990574855| 3.1287168545677413|   4.459768381177595|  3.260629471353484|  4.242362804116046|  1.2992664466330117|  2.703754036968072|  1.9310222720879726|  1.8215267148408443|  0.9566951933332548|   1.133393575826117|  2.6147631704388794|  2.5371789830059654|\n",
      "|      1697|  1.7729757198159688|  1.7729757198159688|  1.7729757198159688|  1.7729757198159688|  1.7729757198159688|  1.7729757198159688|  0.3481950180615827| 0.17838809094998997|  1.7729757198159688|  1.7729757198159688|  1.7729757198159688|  1.7729757198159688|  -1.339566179625371|  1.7729757198159688| -1.4099744717549112| -0.3991700291718856|  1.7773305585256463|-0.25411105704353476|  1.336285649605337|  1.7729757198159688| 2.7802289387000885| 0.8205260553864391|   1.669249484074524|  0.2572922665785584| 1.6145168157063798|  1.7039132198159688|  1.7729757198159688| 2.4034650815180965|   2.967178618366694|  1.6695960901863394|  1.7729757198159688|  3.981252438954327|-0.28073016253697247| 1.0825816311460184|  2.069801518108729| 2.1724209160270656| 0.23165703849728736|  2.457144517769933| 1.8996733942345734| 2.1774365041296946| 1.2610656074564184|   2.604678776584528|  1.7729757198159688|-0.06848413419862998|  2.007435813712682| 2.3582499814193447|  3.6021141010170132|  3.0275647609118588|   4.129423719815969|  2.7534658636625333|  1.7729757198159688|  1.7729757198159688|  3.9495083500071333|  3.295417580281085| 0.9190334121236609|  1.8048124545098465| 0.26453260604351403| 0.13164238648263527|  1.6100175204590559| 1.2172614341016827|  1.7729757198159688|   3.921110943371039|   3.759900118441399| 0.16342157968858007| 1.5308002170737385|  2.349087477673943| 0.8083286609924394|  4.089925346681642|  3.166270801783182|  3.1108075782230484|  1.0780653255507353|  2.9778589510563984|  1.7729757198159688| -0.5381563556557292|  0.8432337843320974| 3.2404601918656577| 2.2200501879010752|  2.8589551012592676| 0.7729757198159686|  1.7729757198159688| 1.3949119943257726| 2.2861136508504516|  1.0487347559605469|  2.094002746842996|   1.090507365385589|  1.2112039480441967|  2.206360933823751|  3.0405876601144755|   3.968824343669181|  2.717547148387397|  2.186072646529917| 2.8237651935001784|  3.5776091509010133|  2.507099888330381| 1.9979757198159687|    2.77417571981597| 3.5524859238976014|   1.132475719815969|   3.017794996924402|  1.7729757198159688|-0.27784845600820773| 2.0019893252581458|  1.8086120834523325|  3.5036191717463248|  2.7844399770575317|   4.380914829886228|  1.7280478737443494|  4.703740747138372|  2.412592578053517|  2.9950158535952323|   4.072423572576707|  2.6046874315276805| 1.9895911044313535|  3.9296966752991405|  1.8881798014486217|  1.7729757198159688|   4.455449768258873|   2.580815054996024|  1.9181941106205667| 1.5089848941278954| 2.7033090531493027|  3.373007166356849| -0.3304528516126024| -0.9528065931092007| 2.2009354513595936|  3.945518092697326| 2.2972614341016837|  1.4272213338510567|  3.4824326955887326|  2.239736853419208|  1.1851929143861044|  1.7291261622938447|   3.003171798247341|  4.116503757199147|  1.6868443329546547| 1.3708614341016832|  3.016720012053411|  2.823740051026161|  2.5724302652705147| 0.7718959076093956|-1.1064316875914377| 1.5367852436254927|  3.4638907524957077| 1.4123622228834536|   1.861762127582959|0.011119432390819028|  2.374550187901075|   3.705601714510929| 2.5064628046868176| 3.4881961374493793|  0.5450997799663453| 1.9495873703014057|  1.1768556054213062|  1.0673600481741778| 0.20252852666658838|  0.3792269091594507|   1.860596503772213|   1.783012316339299|\n",
      "|      1806|   3.270475719815969|   3.270475719815969|   3.270475719815969|   3.270475719815969|   3.270475719815969|   3.270475719815969|  1.8456950180615828|    1.67588809094999|   3.270475719815969|   3.270475719815969|   3.270475719815969|   3.270475719815969|   0.157933820374629|   3.270475719815969| 0.08752552824508886|  1.0983299708281145|  3.2748305585256463|  1.2433889429564653|  2.833785649605337|   3.270475719815969|  4.277728938700089|  2.318026055386439|   3.166749484074524|  1.7547922665785585|   3.11201681570638|  3.2014132198159686|   3.270475719815969| 3.9009650815180965|   4.464678618366694|   3.167096090186339|   3.270475719815969|  5.478752438954327|  1.2167698374630276| 2.5800816311460184|  3.567301518108729| 3.6699209160270656|  1.7291570384972874|  3.954644517769933| 3.3971733942345734| 3.6749365041296946| 2.7585656074564184|   4.102178776584529|   3.270475719815969|    1.42901586580137| 3.5049358137126823| 3.8557499814193448|   5.099614101017013|   4.525064760911858|   5.626923719815968|   4.250965863662533|   3.270475719815969|   3.270475719815969|   5.447008350007133|  4.792917580281085|  2.416533412123661|  3.3023124545098463|   1.762032606043514|  1.6291423864826353|   3.107517520459056|  2.714761434101683|   3.270475719815969|   5.418610943371039|   5.257400118441399|  1.6609215796885801| 3.0283002170737383|  3.846587477673943| 2.3058286609924394|  5.587425346681641| 4.6637708017831825|   4.608307578223049|  2.5755653255507354|   4.475358951056399|   3.270475719815969|  0.9593436443442709|  2.3407337843320972|  4.737960191865658| 3.7175501879010753|   4.356455101259268|  2.270475719815969|   3.270475719815969|  2.892411994325773| 3.7836136508504516|  2.5462347559605467| 3.5915027468429956|   2.588007365385589|   2.708703948044197| 3.7038609338237505|   4.538087660114476|    5.46632434366918|  4.215047148387398|  3.683572646529917|  4.321265193500178|   5.075109150901013| 4.0045998883303815|  3.495475719815969|    4.27167571981597| 5.0499859238976015|   2.629975719815969|  4.5152949969244025|   3.270475719815969|  1.2196515439917923|  3.499489325258146|  3.3061120834523323|   5.001119171746325|   4.281939977057531|   5.878414829886228|  3.2255478737443495|  6.201240747138373|  3.910092578053517|   4.492515853595233|   5.569923572576706|    4.10218743152768| 3.4870911044313537|  5.4271966752991405|   3.385679801448622|   3.270475719815969|   5.952949768258874|   4.078315054996024|  3.4156941106205667| 3.0064848941278957|  4.200809053149303|  4.870507166356849|  1.1670471483873976|  0.5446934068907994| 3.6984354513595936|  5.443018092697326| 3.7947614341016838|  2.9247213338510565|   4.979932695588732|  3.737236853419208|  2.6826929143861045|   3.226626162293845|   4.500671798247341|  5.614003757199146|   3.184344332954655|  2.868361434101683|  4.514220012053411|  4.321240051026161|   4.069930265270514|  2.269395907609396| 0.3910683124085623|  3.034285243625493|   4.961390752495708|  2.909862222883454|   3.359262127582959|   1.508619432390819|  3.872050187901075|   5.203101714510929|  4.003962804686817|  4.985696137449379|  2.0425997799663453| 3.4470873703014058|  2.6743556054213062|   2.564860048174178|  1.7000285266665884|  1.8767269091594507|   3.358096503772213|   3.280512316339299|\n",
      "|      1950|-0.09452428018403136|-0.09452428018403136|-0.09452428018403136|-0.09452428018403136|-0.09452428018403136|-0.09452428018403136| -1.5193049819384175| -1.6891119090500102|-0.09452428018403136|-0.09452428018403136|-0.09452428018403136|-0.09452428018403136|  -3.207066179625371|-0.09452428018403136| -3.2774744717549114| -2.2666700291718858|-0.09016944147435385|  -2.121611057043535|-0.5312143503946631|-0.09452428018403136| 0.9127289387000885| -1.046973944613561|-0.19825051592547627| -1.6102077334214417|-0.2529831842936203|-0.16358678018403142|-0.09452428018403136| 0.5359650815180964|  1.0996786183666938|-0.19790390981366085|-0.09452428018403136|  2.113752438954327| -2.1482301625369726|-0.7849183688539817|0.20230151810872854| 0.3049209160270652| -1.6358429615027128|  0.589644517769933|0.03217339423457327| 0.3099365041296943|-0.6064343925435818|  0.7371787765845279|-0.09452428018403136| -1.9359841341986301|0.13993581371268224|0.49074998141934445|   1.734614101017013|  1.1600647609118586|  2.2619237198159685|  0.8859658636625332|-0.09452428018403136|-0.09452428018403136|   2.082008350007133| 1.4279175802810848|-0.9484665878763393|-0.06268754549015375| -1.6029673939564861|  -1.735857613517365|-0.25748247954094433|-0.6502385658983173|-0.09452428018403136|   2.053610943371039|  1.8924001184413988|   -1.70407842031142|-0.3366997829262618| 0.4815874776739427|-1.0591713390075608| 2.2224253466816415|  1.298770801783182|  1.2433075782230485| -0.7894346744492647|  1.1103589510563985|-0.09452428018403136| -2.4056563556557293| -1.0242662156679028| 1.3729601918656575|0.35255018790107495|  0.9914551012592674|-1.0945242801840316|-0.09452428018403136|-0.4725880056742275|0.41861365085045155| -0.8187652440394533|0.22650274684299565|  -0.776992634614411| -0.6562960519558035| 0.3388609338237505|  1.1730876601144753|  2.1013243436691806| 0.8500471483873971|0.31857264652991674| 0.9562651935001782|   1.710109150901013|  0.639599888330381| 0.1304757198159686|  0.9066757198159696| 1.6849859238976013| -0.7350242801840312|   1.150294996924402|-0.09452428018403136|  -2.145348456008208|0.13448932525814541|-0.05888791654766774|  1.6361191717463246|  0.9169399770575315|   2.513414829886228|-0.13945212625565073| 2.8362407471383726| 0.5450925780535169|   1.127515853595232|   2.204923572576706|  0.7371874315276803|0.12209110443135338|  2.0621966752991403|0.020679801448621693|-0.09452428018403136|  2.5879497682588735|  0.7133150549960239|0.050694110620566446|-0.3585151058721047| 0.8358090531493025|  1.505507166356849| -2.1979528516126026|  -2.820306593109201|0.33343545135959324|  2.078018092697326|0.42976143410168344|-0.44027866614894356|  1.6149326955887322|0.37223685341920776| -0.6823070856138959|-0.13837383770615536|   1.135671798247341| 2.2490037571991466|-0.18065566704534536|-0.4966385658983171| 1.1492200120534108| 0.9562400510261608|  0.7049302652705143|-1.0956040923906045| -2.973931687591438|-0.3307147563745074|  1.5963907524957075|-0.4551377771165465|-0.00573787241704...| -1.8563805676091811| 0.5070501879010746|  1.8381017145109286| 0.6389628046868172| 1.6206961374493791| -1.3224002200336549|0.08208737030140545| -0.6906443945786939| -0.8001399518258223| -1.6649714733334118| -1.4882730908405495|-0.00690349622778...|-0.08448768366070124|\n",
      "|      2040|  2.2622939016341506|  2.2622939016341506|  2.2622939016341506|  2.2622939016341506|  2.2622939016341506|  2.2622939016341506|  0.8375131998797645|  0.6677062727681717|  2.2622939016341506|  2.2622939016341506|  2.2622939016341506|  2.2622939016341506| -0.8502479978071893|  2.2622939016341506| -0.9206562899367294| 0.09014815264629616|   2.266648740343828|   0.235207124774647| 1.8256038314235188|  2.2622939016341506| 3.2695471205182702| 1.3098442372046208|  2.1585676658927055|  0.7466104483967402| 2.1038349975245616|  2.1932314016341503|  2.2622939016341506|  2.892783263336278|  3.4564968001848757|   2.158914272004521|  2.2622939016341506|  4.470570620772509|  0.2085880192812093| 1.5718998129642001| 2.5591196999269106| 2.6617390978452473|  0.7209752203154691|  2.946462699588115|  2.388991576052755| 2.6667546859478763| 1.7503837892746001|    3.09399695840271|  2.2622939016341506|  0.4208340476195518|  2.496753995530864| 2.8475681632375265|   4.091432282835195|  3.5168829427300405|    4.61874190163415|   3.242784045480715|  2.2622939016341506|  2.2622939016341506|   4.438826531825315| 3.7847357620992668| 1.4083515939418425|   2.294130636328028|  0.7538507878616958|   0.620960568300817|  2.0993357022772376| 1.7065796159198645|  2.2622939016341506|   4.410429125189221|   4.249218300259581|  0.6527397615067618|   2.02011839889192| 2.8384056594921248| 1.2976468428106211|  4.579243528499823| 3.6555889836013638|    3.60012576004123|   1.567383507368917|    3.46717713287458|  2.2622939016341506|-0.04883817383754...|  1.3325519661502792| 3.7297783736838395|  2.709368369719257|  3.3482732830774493| 1.2622939016341503|  2.2622939016341506| 1.8842301761439544| 2.7754318326686334|  1.5380529377787286|  2.583320928661178|  1.5798255472037708|  1.7005221298623785| 2.6956791156419326|   3.529905841932657|   4.458142525487363|  3.206865330205579| 2.6753908283480987|   3.31308337531836|   4.066927332719195| 2.9964180701485628| 2.4872939016341507|  3.2634939016341518|  4.041804105715784|  1.6217939016341507|  3.5071131787425838|  2.2622939016341506| 0.21146972580997403| 2.4913075070763275|   2.297930265270514|  3.9929373535645065|  3.2737581588757134|   4.870233011704411|   2.217366055562531|  5.193058928956555|  2.901910759871699|   3.484334035413414|  4.5617417543948875|   3.094005613345862| 2.4789092862495354|   4.419014857117322|  2.3774979832668035|  2.2622939016341506|   4.944767950077056|   3.070133236814206|  2.4075122924387484| 1.9983030759460771| 3.1926272349674845|  3.862325348175031| 0.15886533020557936| -0.4634884112910189| 2.6902536331777753|  4.434836274515508| 2.7865796159198655|  1.9165395156692384|  3.9717508774069143| 2.7290550352373897|  1.6745110962042862|  2.2184443441120267|   3.492489980065523| 4.6058219390173285|  2.1761625147728365|  1.860179615919865| 3.5060381938715928| 3.3130582328443428|  3.0617484470886964| 1.2612140894275774| -0.617113505773256| 2.0261034254436745|  3.9532089343138894| 1.9016804047016354|  2.3510803094011408|  0.5004376142090008| 2.8638683697192566|   4.194919896329111| 2.9957809865049994|  3.977514319267561|   1.034417961784527| 2.4389055521195875|   1.666173787239488|  1.5566782299923596|  0.6918467084847701|  0.8685450909776324|  2.3499146855903947|   2.272330498157481|\n",
      "|      2214| -2.6228576135173642| -2.6228576135173642| -2.6228576135173642| -2.6228576135173642| -2.6228576135173642| -2.6228576135173642|   -4.04763831527175|  -4.217445242383343| -2.6228576135173642| -2.6228576135173642| -2.6228576135173642| -2.6228576135173642|  -5.735399512958704| -2.6228576135173642|  -5.805807805088245|  -4.795003362505218|  -2.618502774807687|  -4.649944390376868|-3.0595476837279962| -2.6228576135173642|-1.6156043946332443| -3.575307277946894| -2.7265838492588093|  -4.138541066754774| -2.781316517626953| -2.6919201135173645| -2.6228576135173642|-1.9923682518152366|  -1.428654714966639|  -2.726237243146994| -2.6228576135173642|-0.4145808943790059| -4.6765634958703055|-3.3132517021873147|-2.3260318152246042|-2.2234124173062675|  -4.164176294836046|   -1.9386888155634|-2.4961599390987597|-2.2183968292036385|-3.1347677258769147|  -1.791154556748805| -2.6228576135173642|  -4.464317467531963| -2.388397519620651|-2.0375833519139883| -0.7937192323163198| -1.3682685724214743|-0.26640961351736436| -1.6423674696707997| -2.6228576135173642| -2.6228576135173642|-0.44632498332619974| -1.100415753052248|-3.4767999212096723| -2.5910208788234868|  -4.131300727289819| -4.2641909468506976|  -2.785815812874277|-3.1785718992316503| -2.6228576135173642| -0.4747223899622939| -0.6359332148919341|  -4.232411753644753| -2.865033116259595|  -2.04674585565939|-3.5875046723408937|-0.3059079866516914|-1.2295625315501508| -1.2850257551102844| -3.3177680077825977| -1.4179743822769344| -2.6228576135173642|  -4.933989688989062| -3.5525995490012354|-1.1553731414676753| -2.175783145432258| -1.5368782320740655|-3.6228576135173647| -2.6228576135173642|  -3.00092133900756|-2.1097196824828814|  -3.347098577372786| -2.301830586490337|  -3.305325967947744| -3.1846293852891363| -2.189472399509582| -1.3552456732188576|-0.42700898966415224|-1.6782861849459358| -2.209760686803416|-1.5720681398331546|   -0.81822418243232| -1.888733445002952| -2.397857613517364| -1.6216576135173633|-0.8433474094357316|  -3.263357613517364| -1.3780383364089308| -2.6228576135173642|  -4.673681789341541|-2.3938440080751873| -2.5872212498810008| -0.8922141615870083| -1.6113933562758014|-0.01491850344710...| -2.6677854595889836| 0.3079074138050397| -1.983240755279816| -1.4008174797381008|-0.32340976075662686| -1.7911459018056526|-2.4062422289019794| -0.4661366580341926| -2.5076535318847113| -2.6228576135173642|0.059616434925540585|  -1.815018278337309| -2.4776392227127664|-2.8868484392054374|-1.6925242801840303| -1.022826166976484|  -4.726286184945936|  -5.348639926442534|-2.1948978819737395|-0.4503152406360069|-2.0985718992316493| -2.9686119994822766| -0.9134006377446007| -2.156096479914125| -3.2106404189472286|  -2.666707171039488| -1.3926615350859919|-0.2793295761341863| -2.7089890003786783|  -3.02497189923165| -1.379113321279922| -1.572093282307172| -1.8234030680628186|-3.6239374257239376| -5.502265020924771|-2.8590480897078403| -0.9319425808376254|-2.9834711104498792|  -2.534071205750374|  -4.384713900942514| -2.021283145432258| -0.6902316188224042|-1.8893705286465157|-0.9076371958839538| -3.8507335533669877|-2.4462459630319273|  -3.218977727912027|  -3.328473285159155|  -4.193304806666744|  -4.016606424173882|   -2.53523682956112|  -2.612821016994034|\n",
      "|      2250|  2.4892876010040874|  2.4892876010040874|  2.4892876010040874|  2.4892876010040874|  2.4892876010040874|  2.4892876010040874|  1.0645068992497013|  0.8946999721381086|  2.4892876010040874|  2.4892876010040874|  2.4892876010040874|  2.4892876010040874| -0.6232542984372524|  2.4892876010040874| -0.6936625905667926|   0.317141852016233|   2.493642439713765| 0.46220082414458386| 2.0525975307934554|  2.4892876010040874| 3.4965408198882075| 1.5368379365745577|  2.3855613652626424|   0.973604147766677| 2.3308286968944985|   2.420225101004087|  2.4892876010040874|  3.119776962706215|  3.6834904995548126|  2.3859079713744578|  2.4892876010040874|  4.697564320142446| 0.43558171865114614|  1.798893512334137| 2.7861133992968474|  2.888732797215184|   0.947968919685406| 3.1734563989580518|  2.615985275422692|  2.893748385317813|  1.977377488644537|  3.3209906577726467|  2.4892876010040874|  0.6478277469894886|  2.723747694900801| 3.0745618626074633|   4.318425982205132|  3.7438766420999774|   4.845735601004087|   3.469777744850652|  2.4892876010040874|  2.4892876010040874|  4.6658202311952515|  4.011729461469203| 1.6353452933117794|   2.521124335697965|  0.9808444872316326|  0.8479542676707539|  2.3263294016471745| 1.9335733152898014|  2.4892876010040874|   4.637422824559158|   4.476211999629518|  0.8797334608766987|  2.247112098261857| 3.0653993588620616|  1.524640542180558|   4.80623722786976|  3.882582682971301|  3.8271194594111675|   1.794377206738854|  3.6941708322445175|  2.4892876010040874| 0.17815552553238945|   1.559545665520216| 3.9567720730537763|  2.936362069089194|   3.575266982447386| 1.4892876010040872|  2.4892876010040874| 2.1112238755138915|   3.00242553203857|  1.7650466371486655|  2.810314628031114|  1.8068192465737076|  1.9275158292323153|  2.922672815011869|   3.756899541302594|   4.685136224857299|  3.433859029575516| 2.9023845277180356|  3.540077074688297|  4.2939210320891315| 3.2234117695184996| 2.7142876010040875|   3.490487601004088|   4.26879780508572|  1.8487876010040876|   3.734106878112521|  2.4892876010040874|  0.4384634251799109| 2.7183012064462644|   2.524923964640451|   4.219931052934443|  3.5007518582456503|   5.097226711074347|   2.444359754932468|  5.420052628326491| 3.1289044592416357|   3.711327734783351|   4.788735453764825|   3.320999312715799| 2.7059029856194723|   4.646008556487259|  2.6044916826367404|  2.4892876010040874|   5.171761649446992|  3.2971269361841427|  2.6345059918086853|  2.225296775316014| 3.4196209343374213|  4.089319047544968|  0.3858590295755162|-0.23649471192108207|  2.917247332547712|  4.661829973885444| 3.0135733152898023|   2.143533215039175|   4.198744576776851| 2.9560487346073265|   1.901504795574223|  2.4454380434819636|  3.7194836794354598|  4.832815638387265|  2.4031562141427734| 2.0871733152898018| 3.7330318932415296| 3.5400519322142796|   3.288742146458633| 1.4882077887975143|-0.3901198064033191| 2.2530971248136114|   4.180202633683827| 2.1286741040715724|  2.5780740087710776|  0.7274313135789376| 3.0908620690891935|   4.421913595699047| 3.2227746858749358| 4.2045080186374975|   1.261411661154464| 2.6658992514895243|  1.8931674866094248|  1.7836719293622965|   0.918840407854707|  1.0955387903475693|  2.5769083849603316|  2.4993241975274176|\n",
      "|      2453|  0.5304757198159686|  0.5304757198159686|  0.5304757198159686|  0.5304757198159686|  0.5304757198159686|  0.5304757198159686| -0.8943049819384175| -1.0641119090500102|  0.5304757198159686|  0.5304757198159686|  0.5304757198159686|  0.5304757198159686|  -2.582066179625371|  0.5304757198159686| -2.6524744717549114| -1.6416700291718858|  0.5348305585256461|  -1.496611057043535|0.09378564960533681|  0.5304757198159686| 1.5377289387000885|-0.4219739446135611| 0.42674948407452373| -0.9852077334214417| 0.3720168157063797|  0.4614132198159686|  0.5304757198159686| 1.1609650815180963|  1.7246786183666938| 0.42709609018633915|  0.5304757198159686|  2.738752438954327| -1.5232301625369726|-0.1599183688539817| 0.8273015181087285| 0.9299209160270652| -1.0108429615027128|  1.214644517769933| 0.6571733942345732| 0.9349365041296943|0.01856560745641822|   1.362178776584528|  0.5304757198159686| -1.3109841341986301| 0.7649358137126823| 1.1157499814193446|   2.359614101017013|  1.7850647609118586|  2.8869237198159685|  1.5109658636625332|  0.5304757198159686|  0.5304757198159686|   2.707008350007133|  2.052917580281085|-0.3234665878763393|  0.5623124545098462| -0.9779673939564861|  -1.110857613517365| 0.36751752045905567|-0.0252385658983173|  0.5304757198159686|   2.678610943371039|  2.5174001184413988|   -1.07907842031142| 0.2883002170737382| 1.1065874776739428|-0.4341713390075608| 2.8474253466816415|  1.923770801783182|  1.8683075782230485|-0.16443467444926474|  1.7353589510563985|  0.5304757198159686| -1.7806563556557293|-0.39926621566790277| 1.9979601918656575|  0.977550187901075|  1.6164551012592674|-0.4695242801840316|  0.5304757198159686|0.15241199432577252| 1.0436136508504514|-0.19376524403945328| 0.8515027468429957|-0.15199263461441104|-0.03129605195580354| 0.9638609338237505|  1.7980876601144753|  2.7263243436691806|  1.475047148387397| 0.9435726465299168| 1.5812651935001782|  2.3351091509010127| 1.2645998883303808| 0.7554757198159686|  1.5316757198159696| 2.3099859238976013|-0.11002428018403121|   1.775294996924402|  0.5304757198159686|  -1.520348456008208| 0.7594893252581454|  0.5661120834523322|  2.2611191717463246|  1.5419399770575315|   3.138414829886228| 0.48554787374434927| 3.4612407471383726|  1.170092578053517|   1.752515853595232|   2.829923572576706|  1.3621874315276803| 0.7470911044313534|  2.6871966752991403|  0.6456798014486217|  0.5304757198159686|  3.2129497682588735|  1.3383150549960239|  0.6756941106205665| 0.2664848941278953| 1.4608090531493025|  2.130507166356849| -1.5729528516126026|  -2.195306593109201| 0.9584354513595932|  2.703018092697326| 1.0547614341016835| 0.18472133385105644|   2.239932695588732| 0.9972368534192078|-0.05730708561389586| 0.48662616229384464|   1.760671798247341| 2.8740037571991466| 0.44434433295465464|0.12836143410168288| 1.7742200120534108| 1.5812400510261608|  1.3299302652705143|-0.4706040923906045| -2.348931687591438| 0.2942852436254926|  2.2213907524957075|0.16986222288345348|   0.619262127582959| -1.2313805676091811| 1.1320501879010747|  2.4631017145109286| 1.2639628046868172|  2.245696137449379| -0.6974002200336549| 0.7070873703014054|-0.06564439457869387|-0.17513995182582232| -1.0399714733334118| -0.8632730908405495|  0.6180965037722128|  0.5405123163392987|\n",
      "|      2509|  1.1500757198159688|  1.1500757198159688|  1.1500757198159688|  1.1500757198159688|  1.1500757198159688|  1.1500757198159688| -0.2747049819384173|-0.44451190905001003|  1.1500757198159688|  1.1500757198159688|  1.1500757198159688|  1.1500757198159688|  -1.962466179625371|  1.1500757198159688|  -2.032874471754911| -1.0220700291718856|  1.1544305585256462| -0.8770110570435348|  0.713385649605337|  1.1500757198159688|  2.157328938700089|0.19762605538643907|   1.046349484074524| -0.3656077334214416| 0.9916168157063798|  1.0810132198159688|  1.1500757198159688| 1.7805650815180964|   2.344278618366694|  1.0466960901863394|  1.1500757198159688|  3.358352438954327| -0.9036301625369725|0.45968163114601845| 1.4469015181087288| 1.5495209160270653|-0.39124296150271265| 1.8342445177699331| 1.2767733942345734| 1.5545365041296946| 0.6381656074564184|   1.981778776584528|  1.1500757198159688|   -0.69138413419863| 1.3845358137126824| 1.7353499814193447|  2.9792141010170132|  2.4046647609118588|  3.5065237198159687|  2.1305658636625333|  1.1500757198159688|  1.1500757198159688|  3.3266083500071333|  2.672517580281085|0.29613341212366084|  1.1819124545098465|  -0.358367393956486|-0.49125761351736474|  0.9871175204590559| 0.5943614341016829|  1.1500757198159688|   3.298210943371039|   3.137000118441399|-0.45947842031141994| 0.9079002170737384|  1.726187477673943|0.18542866099243938| 3.4670253466816416| 2.5433708017831824|   2.487907578223049|  0.4551653255507354|   2.354958951056399|  1.1500757198159688| -1.1610563556557292| 0.22033378433209738| 2.6175601918656577| 1.5971501879010752|  2.2360551012592675|0.15007571981596857|  1.1500757198159688| 0.7720119943257726| 1.6632136508504516|  0.4258347559605469| 1.4711027468429958|  0.4676073653855891|  0.5883039480441966| 1.5834609338237506|  2.4176876601144754|   3.345924343669181|  2.094647148387397|  1.563172646529917| 2.2008651935001784|   2.954709150901013|  1.884199888330381| 1.3750757198159687|  2.1512757198159695| 2.9295859238976014|  0.5095757198159689|  2.3948949969244024|  1.1500757198159688| -0.9007484560082077| 1.3790893252581455|  1.1857120834523325|  2.8807191717463247|  2.1615399770575316|  3.7580148298862284|  1.1051478737443494|  4.080840747138373| 1.7896925780535171|  2.3721158535952322|   3.449523572576706|  1.9817874315276804| 1.3666911044313534|  3.3067966752991405|  1.2652798014486217|  1.1500757198159688|  3.8325497682588736|   1.957915054996024|  1.2952941106205667| 0.8860848941278954| 2.0804090531493027|  2.750107166356849| -0.9533528516126024| -1.5757065931092007| 1.5780354513595933|  3.322618092697326| 1.6743614341016837|  0.8043213338510566|   2.859532695588732|  1.616836853419208|  0.5622929143861043|  1.1062261622938447|   2.380271798247341| 3.4936037571991467|  1.0639443329546547|  0.747961434101683|  2.393820012053411|  2.200840051026161|  1.9495302652705144|0.14899590760939563|-1.7293316875914377| 0.9138852436254927|  2.8409907524957076| 0.7894622228834536|   1.238862127582959|  -0.611780567609181| 1.7516501879010749|   3.082701714510929| 1.8835628046868174| 2.8652961374493793|-0.07780022003365472| 1.3266873703014057|  0.5539556054213063| 0.44446004817417784| -0.4203714733334116|-0.24367309084054933|   1.237696503772213|   1.160112316339299|\n",
      "|      2529|  1.1368171832306029|  1.1368171832306029|  1.1368171832306029|  1.1368171832306029|  1.1368171832306029|  1.1368171832306029| -0.2879635185237832|-0.45777044563537594|  1.1368171832306029|  1.1368171832306029|  1.1368171832306029|  1.1368171832306029|  -1.975724716210737|  1.1368171832306029|  -2.046133008340277| -1.0353285657572515|  1.1411720219402803| -0.8902695936289007| 0.7001271130199711|  1.1368171832306029|  2.144070402114723|0.18436751880107316|   1.033090947489158| -0.3788662700068075| 0.9783582791210139|  1.0677546832306029|  1.1368171832306029| 1.7673065449327305|   2.331020081781328|  1.0334375536009734|  1.1368171832306029|  3.345093902368961| -0.9168886991223384|0.44642309456065254|  1.433642981523363| 1.5362623794416994|-0.40450149808807856| 1.8209859811845672| 1.2635148576492075| 1.5412779675443287| 0.6249070708710525|  1.9685202399991621|  1.1368171832306029| -0.7046426707839959| 1.3712772771273165| 1.7220914448339788|  2.9659555644316473|   2.391406224326493|  3.4932651832306028|  2.1173073270771674|  1.1368171832306029|  1.1368171832306029|  3.3133498134217674|  2.659259043695719|0.28287487553829493|  1.1686539179244806| -0.3716259305418519| -0.5045161501027307|    0.97385898387369| 0.5811028975163169|  1.1368171832306029|  3.2849524067856732|   3.123741581856033|-0.47273695689678585| 0.8946416804883724|  1.712928941088577|0.17217012440707347| 3.4537668100962757| 2.5301122651978165|   2.474649041637683|  0.4419067889653695|   2.341700414471033|  1.1368171832306029|  -1.174314892241095| 0.20707524774673147|  2.604301655280292| 1.5838916513157093|  2.2227965646739016|0.13681718323060266|  1.1368171832306029| 0.7587534577404067| 1.6499551142650857| 0.41257621937518096|   1.45784421025763|  0.4543488288002232|  0.5750454114588307| 1.5702023972383847|  2.4044291235291095|   3.332665807083815| 2.0813886118020313|  1.549914109944551| 2.1876066569148125|   2.941450614315647|  1.870941351745015| 1.3618171832306027|  2.1380171832306036| 2.9163273873122355| 0.49631718323060303|  2.3816364603390365|  1.1368171832306029| -0.9140069925935737| 1.3658307886727796|  1.1724535468669666|   2.867460635160959|  2.1482814404721657|  3.7447562933008625|  1.0918893371589835|  4.067582210553007| 1.7764340414681512|  2.3588573170098663|  3.4362650359913403|  1.9685288949423145| 1.3534325678459875|  3.2935381387137745|  1.2520212648632558|  1.1368171832306029|  3.8192912316735077|  1.9446565184106581|  1.2820355740352007| 0.8728263575425295|  2.067150516563937|  2.736848629771483| -0.9666113881979683| -1.5889651296945666| 1.5647769147742274|   3.30935955611196| 1.6611028975163178|  0.7910627972656907|   2.846274159003366|  1.603578316833842|  0.5490343778007384|  1.0929676257084788|  2.3670132616619752|  3.480345220613781|  1.0506857963692888| 0.7347028975163171|  2.380561475468045|  2.187581514440795|  1.9362717286851485|0.13573737102402972|-1.7425902241768036| 0.9006267070401268|  2.8277322159103417| 0.7762036862980877|   1.225603590997593| -0.6250391041945469|  1.738391651315709|   3.069443177925563| 1.8703042681014515| 2.8520376008640134|-0.09105875661902063| 1.3134288337160398|  0.5406970688359404|  0.4312015115888119|-0.43363000991877754|-0.25693162742591524|   1.224437967186847|   1.146853779753933|\n",
      "|      2927|   3.142657537997786|   3.142657537997786|   3.142657537997786|   3.142657537997786|   3.142657537997786|   3.142657537997786|     1.7178768362434|  1.5480699091318073|   3.142657537997786|   3.142657537997786|   3.142657537997786|   3.142657537997786|0.030115638556446278|   3.142657537997786|-0.04029265357309386|  0.9705117890099317|  3.1470123767074636|  1.1155707611382826|  2.705967467787154|   3.142657537997786|  4.149910756881906| 2.1902078735682564|   3.038931302256341|  1.6269740847603757|  2.984198633888197|   3.073595037997786|   3.142657537997786|  3.773146899699914|   4.336860436548511|  3.0392779083681565|   3.142657537997786|  5.350934257136144|  1.0889516556448449| 2.4522634493278357|  3.439483336290546|  3.542102734208883|  1.6013388566791047| 3.8268263359517505| 3.2693552124163907|  3.547118322311512| 2.6307474256382357|  3.9743605947663454|   3.142657537997786|  1.3011976839831874| 3.3771176318944995|  3.727931799601162|   4.971795919198831|   4.397246579093676|   5.499105537997786|   4.123147681844351|   3.142657537997786|   3.142657537997786|   5.319190168188951|  4.665099398462902|  2.288715230305478|  3.1744942726916636|  1.6342144242253314|  1.5013242046644526|   2.979699338640873|    2.5869432522835|   3.142657537997786|   5.290792761552856|   5.129581936623216|  1.5331033978703974| 2.9004820352555556| 3.7187692958557603| 2.1780104791742567|  5.459607164863459|  4.535952619964999|   4.480489396404866|  2.4477471437325526|   4.347540769238216|   3.142657537997786|  0.8315254625260882|   2.212915602513915| 4.6101420100474755| 3.5897320060828926|   4.228636919441085| 2.1426575379977857|   3.142657537997786|   2.76459381250759|  3.655795469032269|  2.4184165741423644| 3.4636845650248134|  2.4601891835674063|   2.580885766226014|  3.576042752005568|   4.410269478296293|   5.338506161850998| 4.0872289665692145| 3.5557544647117343|  4.193447011681996|   4.947290969082831| 3.8767817065121983|  3.367657537997786|   4.143857537997787|  4.922167742079418|  2.5021575379977863|   4.387476815106219|   3.142657537997786|  1.0918333621736096|  3.371671143439963|  3.1782939016341496|   4.873300989928142|   4.154121795239349|   5.750596648068045|  3.0977296919261668|   6.07342256532019| 3.7822743962353345|    4.36469767177705|   5.442105390758524|   3.974369249709498|  3.359272922613171|   5.299378493480958|   3.257861619630439|   3.142657537997786|  5.8251315864406905|  3.9504968731778414|   3.287875928802384|  2.878666712309713|   4.07299087133112|  4.742688984538667|   1.039228966569215| 0.41687522507261665|  3.570617269541411| 5.3151999108791435|  3.666943252283501|  2.7969031520328738|    4.85211451377055| 3.6094186716010253|  2.5548747325679217|  3.0988079804756623|  4.3728536164291585|  5.486185575380964|   3.056526151136472| 2.7405432522835005|  4.386401830235228|  4.193421869207978|   3.942112083452332| 2.1415777257912127| 0.2632501305903796|   2.90646706180731|   4.833572570677525|  2.782044041065271|  3.2314439457647763|  1.3808012505726364|  3.744232006082892|   5.075283532692746|  3.876144622868635|  4.857877955631197|  1.9147815981481626|  3.319269188483223|  2.5465374236031235|   2.437041866355995|  1.5722103448484057|   1.748908727341268|  3.2302783219540303|  3.1526941345211164|\n",
      "|      3091|   2.256031275371524|   2.256031275371524|   2.256031275371524|   2.256031275371524|   2.256031275371524|   2.256031275371524|  0.8312505736171378|  0.6614436465055451|   2.256031275371524|   2.256031275371524|   2.256031275371524|   2.256031275371524| -0.8565106240698159|   2.256031275371524| -0.9269189161993561| 0.08388552638366953|  2.2603861140812014| 0.22894449851202037| 1.8193412051608921|   2.256031275371524|  3.263284494255644| 1.3035816109419942|   2.152305039630079|  0.7403478221341135|  2.097572371261935|  2.1869687753715237|   2.256031275371524| 2.8865206370736516|   3.450234173922249|  2.1526516457418943|   2.256031275371524|  4.464307994509882| 0.20232539301858266| 1.5656371867015735|  2.552857073664284| 2.6554764715826207|  0.7147125940528425| 2.9402000733254883| 2.3827289497901285| 2.6604920596852497| 1.7441211630119735|   3.087734332140083|   2.256031275371524| 0.41457142135692515| 2.4904913692682373|    2.8413055369749|   4.085169656572568|   3.510620316467414|   4.612479275371523|  3.2365214192180884|   2.256031275371524|   2.256031275371524|   4.432563905562688|   3.77847313583664| 1.4020889676792159|  2.2878680100654014|  0.7475881615990692|  0.6146979420381904|   2.093073076014611| 1.7003169896572379|   2.256031275371524|   4.404166498926594|  4.2429556739969545|  0.6464771352441352| 2.0138557726292934|  2.832143033229498| 1.2913842165479945|  4.572980902237196| 3.6493263573387376|   3.593863133778604|  1.5611208811062904|   3.460914506611954|   2.256031275371524|-0.05510080010017404|  1.3262893398876525|  3.723515747421213| 2.7031057434566303|  3.3420106568148227| 1.2560312753715237|   2.256031275371524| 1.8779675498813277| 2.7691692064060067|   1.531790311516102| 2.5770583023985507|  1.5735629209411441|  1.6942595035997519| 2.6894164893793056|  3.5236432156700306|  4.4518798992247355| 3.2006027039429523|  2.669128202085472| 3.3068207490557335|   4.060664706456568|  2.990155443885936|  2.481031275371524|  3.2572312753715247| 4.0355414794531566|   1.615531275371524|  3.5008505524799576|   2.256031275371524|  0.2052070995473474|  2.485044880813701|  2.2916676390078874|    3.98667472730188|   3.267495532613087|  4.8639703854417835|  2.2111034292999046|  5.186796302693928| 2.8956481336090723|  3.4780714091507874|   4.555479128132261|  3.0877429870832356|  2.472646659986909|   4.412752230854696|   2.371235357004177|   2.256031275371524|   4.938505323814429|   3.063870610551579|   2.401249666176122| 1.9920404496834505|  3.186364608704858|  3.856062721912404| 0.15260270394295272|-0.46975103755364556| 2.6839910069151487|  4.428573648252881|  2.780316989657239|  1.9102768894066118|  3.9654882511442873|  2.722792408974763|  1.6682484699416595|     2.2121817178494|  3.4862273538028963|  4.599559312754701|    2.16989988851021| 1.8539169896572383|  3.499775567608966|  3.306795606581716|  3.0554858208260693| 1.2549514631649508|-0.6233761320358826|  2.019840799181048|   3.946946308051263| 1.8954177784390087|   2.344817683138514| 0.49417498794637416|   2.85760574345663|   4.188657270066484| 2.9895183602423723| 3.9712516930049344|  1.0281553355219004|  2.432642925856961|  1.6599111609768613|   1.550415603729733|  0.6855840822221435|  0.8622824647150058|   2.343652059327768|   2.266067871894854|\n",
      "|      3506|  -5.549524280184031|  -5.549524280184031|  -5.549524280184031|  -5.549524280184031|  -5.549524280184031|  -5.549524280184031|  -6.974304981938418|   -7.14411190905001|  -5.549524280184031|  -5.549524280184031|  -5.549524280184031|  -5.549524280184031|  -8.662066179625372|  -5.549524280184031|  -8.732474471754912|  -7.721670029171886| -5.5451694414743535|  -7.576611057043535| -5.986214350394663|  -5.549524280184031| -4.542271061299911| -6.501973944613561| -5.6532505159254764|  -7.065207733421442|  -5.70798318429362|  -5.618586780184032|  -5.549524280184031| -4.919034918481904|  -4.355321381633306|  -5.652903909813661|  -5.549524280184031| -3.341247561045673|  -7.603230162536972| -6.239918368853981| -5.252698481891271| -5.150079083972935|  -7.090842961502712| -4.865355482230067| -5.422826605765427| -5.145063495870306| -6.061434392543582|  -4.717821223415472|  -5.549524280184031|   -7.39098413419863| -5.315064186287318| -4.964250018580656|  -3.720385898982987|  -4.294935239088142| -3.1930762801840316|  -4.569034136337467|  -5.549524280184031|  -5.549524280184031|  -3.372991649992867| -4.027082419718916|-6.4034665878763395|  -5.517687545490154|  -7.057967393956487|  -7.190857613517365|  -5.712482479540944|-6.1052385658983175|  -5.549524280184031|  -3.401389056628961| -3.5625998815586013|   -7.15907842031142| -5.791699782926262| -4.973412522326058| -6.514171339007561|-3.2325746533183586| -4.156229198216818|  -4.211692421776951| -6.2444346744492645|  -4.344641048943601|  -5.549524280184031|  -7.860656355655729|  -6.479266215667903|-4.0820398081343425| -5.102449812098925|  -4.463544898740732| -6.549524280184031|  -5.549524280184031| -5.927588005674227| -5.036386349149549|  -6.273765244039454| -5.228497253157005|  -6.231992634614411| -6.1112960519558035|  -5.11613906617625|  -4.281912339885524| -3.3536756563308194| -4.604952851612603| -5.136427353470084| -4.498734806499822| -3.7448908490989874| -4.815400111669619| -5.324524280184032|  -4.548324280184031| -3.770014076102399|  -6.190024280184032|  -4.304705003075598|  -5.549524280184031| -7.6003484560082075| -5.320510674741855| -5.5138879165476675| -3.8188808282536755|  -4.538060022942469|  -2.941585170113772|  -5.594452126255651|-2.6187592528616275|-4.9099074219464836| -4.3274841464047675|  -3.250076427423294|   -4.71781256847232| -5.332908895568647| -3.3928033247008598| -5.4343201985513785|  -5.549524280184031| -2.8670502317411266|  -4.741684945003977|  -5.404305889379434| -5.813515105872105| -4.619190946850697| -3.949492833643151|  -7.652952851612603|  -8.275306593109201| -5.121564548640407| -3.376981907302674|-5.0252385658983165|  -5.895278666148943|  -3.840067304411268| -5.082763146580792|  -6.137307085613896|  -5.593373837706156| -4.3193282017526595|-3.2059962428008535|  -5.635655667045345|-5.9516385658983175|  -4.30577998794659|  -4.49875994897384|  -4.750069734729486| -6.550604092390604| -8.428931687591438|-5.7857147563745075| -3.8586092475042926| -5.910137777116547|  -5.460737872417041|  -7.311380567609181| -4.947949812098925| -3.6168982854890714| -4.816037195313183| -3.834303862550621|  -6.777400220033655| -5.372912629698595|  -6.145644394578694|  -6.255139951825822|  -7.119971473333412|   -6.94327309084055|  -5.461903496227787|  -5.539487683660702|\n",
      "|      3764|  1.3591991240712877|  1.3591991240712877|  1.3591991240712877|  1.3591991240712877|  1.3591991240712877|  1.3591991240712877|-0.06558157768309836| -0.2353885047946911|  1.3591991240712877|  1.3591991240712877|  1.3591991240712877|  1.3591991240712877| -1.7533427753700521|  1.3591991240712877| -1.8237510674995923| -0.8129466249165667|  1.3635539627809652| -0.6678876527882158|  0.922509053860656|  1.3591991240712877|  2.366452342955408|  0.406749459641758|   1.255472888329843|-0.15648432916612265| 1.2007402199616988|  1.2901366240712877|  1.3591991240712877| 1.9896884857734154|   2.553402022622013|  1.2558194944416583|  1.3591991240712877|  3.567475843209646| -0.6945067582816535| 0.6688050354013374| 1.6560249223640477| 1.7586443202823843| -0.1821195572473937|  2.043367922025252| 1.4858967984898923| 1.7636599083850135| 0.8472890117117373|   2.190902180839847|  1.3591991240712877|-0.48226072994331104| 1.5936592179680014| 1.9444733856746637|   3.188337505272332|  2.6137881651671777|  3.7156471240712876|  2.3396892679178523|  1.3591991240712877|  1.3591991240712877|  3.5357317542624522|  2.881640984536404| 0.5052568163789798|  1.3910358587651654|-0.14924398970116703| -0.2821342092620458|  1.1962409247143748| 0.8034848383570018|  1.3591991240712877|   3.507334347626358|   3.346123522696718|  -0.250355016056101| 1.1170236213290574|  1.935310881929262| 0.3945520652477583| 3.6761487509369606| 2.7524942060385014|   2.697030982478368|  0.6642887298060544|   2.564082355311718|  1.3591991240712877| -0.9519329514004102|  0.4294571885874163| 2.8266835961209766| 1.8062735921563942|  2.4451785055145865| 0.3591991240712875|  1.3591991240712877| 0.9811353985810916| 1.8723370551057705|  0.6349581602158658| 1.6802261510983147|  0.6767307696409081|  0.7974273522995156| 1.7925843380790696|  2.6268110643697944|  3.5550477479244997|  2.303770552642716| 1.7722960507852359| 2.4099885977554973|  3.1638325551563318|    2.0933232925857| 1.5841991240712876|  2.3603991240712885| 3.1387093281529204|  0.7186991240712879|  2.6040184011797214|  1.3591991240712877| -0.6916250517528888| 1.5882127295134645|  1.3948354877076514|  3.0898425760016437|  2.3706633813128506|  3.9671382341415473|  1.3142712779996684|  4.289964151393692|  1.998815982308836|   2.581239257850551|   3.658646976832025|  2.1909108357829994| 1.5758145086866724|  3.5159200795544594|  1.4744032057039407|  1.3591991240712877|   4.041673172514193|   2.167038459251343|  1.5044175148758856| 1.0952082983832143| 2.2895324574046216|  2.959230570612168| -0.7442294473572835| -1.3665831888538817| 1.7871588556149123|  3.531741496952645| 1.8834848383570026|  1.0134447381063756|   3.068656099844051| 1.8259602576745269|  0.7714163186414232|  1.3153495665491637|    2.58939520250266| 3.7027271614544657|  1.2730677372099737|  0.957084838357002|   2.60294341630873|   2.40996345528148|   2.158653669525833| 0.3581193118647146|-1.5202082833361188| 1.1230086478808117|  3.0501141567510266| 0.9985856271387725|   1.447985531838278|-0.40265716335386204| 1.9607735921563938|  3.2918251187662477|  2.092686208942136| 3.0744195417046982| 0.13132318422166422| 1.5358107745567247|  0.7630790096766252|  0.6535834524294968|-0.21124806907809268|-0.03454968658523039|   1.446819908027532|   1.369235720594618|\n",
      "|      4590|  -2.132024280184031|  -2.132024280184031|  -2.132024280184031|  -2.132024280184031|  -2.132024280184031|  -2.132024280184031| -3.5568049819384173| -3.7266119090500096|  -2.132024280184031|  -2.132024280184031|  -2.132024280184031|  -2.132024280184031|  -5.244566179625371|  -2.132024280184031|  -5.314974471754911|  -4.304170029171885| -2.1276694414743536|  -4.159111057043535| -2.568714350394663|  -2.132024280184031|-1.1247710612999111|-3.0844739446135607|  -2.235750515925476| -3.6477077334214414|  -2.29048318429362| -2.2010867801840313|  -2.132024280184031|-1.5015349184819033| -0.9378213816333059| -2.2354039098136607|  -2.132024280184031|0.07625243895432732|  -4.185730162536972|-2.8224183688539815| -1.835198481891271|-1.7325790839729345| -3.6733429615027124|-1.4478554822300667|-2.0053266057654264|-1.7275634958703052|-2.6439343925435814| -1.3003212234154717|  -2.132024280184031|   -3.97348413419863|-1.8975641862873174| -1.546750018580655|-0.30288589898298657|  -0.877435239088141| 0.22442371981596887| -1.1515341363374665|  -2.132024280184031|  -2.132024280184031| 0.04450835000713349|-0.6095824197189148| -2.985966587876339| -2.1001875454901535| -3.6404673939564858| -3.7733576135173648|  -2.294982479540944| -2.687738565898317|  -2.132024280184031|0.016110943371039355|-0.14509988155860087|   -3.74157842031142|-2.3741997829262615|-1.5559125223260568|-3.0966713390075604|0.18492534668164184|-0.7387291982168176| -0.7941924217769512| -2.8269346744492645| -0.9271410489436012|  -2.132024280184031|  -4.443156355655729| -3.0617662156679026|-0.6645398081343421|-1.6849498120989246| -1.0460448987407323| -3.132024280184031|  -2.132024280184031| -2.510088005674227|-1.6188863491495482|  -2.856265244039453| -1.810997253157004|  -2.814492634614411|  -2.693796051955803|-1.6986390661762492| -0.8644123398855244|   0.063824343669181|-1.1874528516126026|-1.7189273534700829|-1.0812348064998214|-0.32739084909898675|-1.3979001116696188|-1.9070242801840311|   -1.13082428018403|-0.3525140761023984|  -2.772524280184031| -0.8872050030755976|  -2.132024280184031|  -4.182848456008207|-1.9030106747418543| -2.0963879165476675|-0.40138082825367505| -1.1205600229424681|  0.4759148298862286| -2.1769521262556504|  0.798740747138373|-1.4924074219464827| -0.9099841464047675| 0.16742357257670637| -1.3003125684723194|-1.9154088955686464|0.024696675299140658|  -2.016820198551378|  -2.132024280184031|  0.5504497682588738| -1.3241849450039758| -1.9868058893794331| -2.396015105872104| -1.201690946850697|-0.5319928336431508|  -4.235452851612602|  -4.857806593109201|-1.7040645486404065|0.04051809269732631| -1.607738565898316| -2.4777786661489434|-0.42256730441126744|-1.6652631465807919| -2.7198070856138954|  -2.175873837706155| -0.9018282017526587|0.21150375719914694|  -2.218155667045345|-2.5341385658983167|-0.8882799879465888|-1.0812599489738388| -1.3325697347294854| -3.133104092390604| -5.011431687591438| -2.368214756374507|-0.44110924750429215| -2.492637777116546|  -2.043237872417041| -3.8938805676091808| -1.530449812098925|-0.19939828548907101|-1.3985371953131824|-0.4168038625506205| -3.3599002200336545| -1.955412629698594| -2.7281443945786936|  -2.837639951825822| -3.7024714733334116| -3.5257730908405494|  -2.044403496227787|  -2.121987683660701|\n",
      "|      4823|   2.294475719815969|   2.294475719815969|   2.294475719815969|   2.294475719815969|   2.294475719815969|   2.294475719815969|  0.8696950180615828|    0.69988809094999|   2.294475719815969|   2.294475719815969|   2.294475719815969|   2.294475719815969|  -0.818066179625371|   2.294475719815969| -0.8884744717549111| 0.12232997082811448|  2.2988305585256463|  0.2673889429564653|  1.857785649605337|   2.294475719815969|  3.301728938700089| 1.3420260553864392|   2.190749484074524|  0.7787922665785585|   2.13601681570638|  2.2254132198159686|   2.294475719815969| 2.9249650815180965|   3.488678618366694|   2.191096090186339|   2.294475719815969|  4.502752438954327|  0.2407698374630276| 1.6040816311460184|  2.591301518108729| 2.6939209160270656|  0.7531570384972874|  2.978644517769933| 2.4211733942345735| 2.6989365041296947| 1.7825656074564185|   3.126178776584528|   2.294475719815969|  0.4530158658013701| 2.5289358137126823|  2.879749981419345|   4.123614101017013|   3.549064760911859|   4.650923719815969|  3.2749658636625334|   2.294475719815969|   2.294475719815969|   4.471008350007134|  3.816917580281085| 1.4405334121236608|  2.3263124545098464|  0.7860326060435141|  0.6531423864826353|   2.131517520459056| 1.7387614341016828|   2.294475719815969|   4.442610943371039|   4.281400118441399|  0.6849215796885801| 2.0523002170737383|  2.870587477673943| 1.3298286609924395|  4.611425346681642| 3.6877708017831825|   3.632307578223049|  1.5995653255507354|   3.499358951056399|   2.294475719815969|-0.01665635565572...|  1.3647337843320975| 3.7619601918656578| 2.7415501879010753|  3.3804551012592676| 1.2944757198159687|   2.294475719815969| 1.9164119943257727| 2.8076136508504517|   1.570234755960547| 2.6155027468429957|   1.612007365385589|  1.7327039480441968| 2.7278609338237505|  3.5620876601144755|   4.490324343669181| 3.2390471483873973|  2.707572646529917| 3.3452651935001785|   4.099109150901013|  3.028599888330381|  2.519475719815969|  3.2956757198159696| 4.0739859238976015|   1.653975719815969|  3.5392949969244025|   2.294475719815969| 0.24365154399179234|  2.523489325258146|  2.3301120834523323|   4.025119171746325|  3.3059399770575317|  4.9024148298862285|  2.2495478737443495|  5.225240747138373|  2.934092578053517|  3.5165158535952323|   4.593923572576706|  3.1261874315276805| 2.5110911044313537|  4.4511966752991405|   2.409679801448622|   2.294475719815969|   4.976949768258874|   3.102315054996024|  2.4396941106205667| 2.0304848941278957| 3.2248090531493028|  3.894507166356849| 0.19104714838739767| -0.4313065931092006| 2.7224354513595936|  4.467018092697327|  2.818761434101684|  1.9487213338510567|   4.003932695588732|  2.761236853419208|  1.7066929143861045|   2.250626162293845|  3.5246717982473412|  4.638003757199147|   2.208344332954655| 1.8923614341016832|  3.538220012053411|  3.345240051026161|  3.0939302652705143| 1.2933959076093957|-0.5849316875914377|  2.058285243625493|  3.9853907524957077| 1.9338622228834537|   2.383262127582959|  0.5326194323908191|  2.896050187901075|   4.227101714510929|  3.027962804686817|   4.00969613744938|  1.0665997799663454|  2.471087370301406|  1.6983556054213063|   1.588860048174178|  0.7240285266665885|  0.9007269091594508|   2.382096503772213|   2.304512316339299|\n",
      "+----------+--------------------+--------------------+--------------------+--------------------+--------------------+--------------------+--------------------+--------------------+--------------------+--------------------+--------------------+--------------------+--------------------+--------------------+--------------------+--------------------+--------------------+--------------------+-------------------+--------------------+-------------------+-------------------+--------------------+--------------------+-------------------+--------------------+--------------------+-------------------+--------------------+--------------------+--------------------+-------------------+--------------------+-------------------+-------------------+-------------------+--------------------+-------------------+-------------------+-------------------+-------------------+--------------------+--------------------+--------------------+-------------------+-------------------+--------------------+--------------------+--------------------+--------------------+--------------------+--------------------+--------------------+-------------------+-------------------+--------------------+--------------------+--------------------+--------------------+-------------------+--------------------+--------------------+--------------------+--------------------+-------------------+-------------------+-------------------+-------------------+-------------------+--------------------+--------------------+--------------------+--------------------+--------------------+--------------------+-------------------+-------------------+--------------------+-------------------+--------------------+-------------------+-------------------+--------------------+-------------------+--------------------+--------------------+-------------------+--------------------+--------------------+-------------------+-------------------+-------------------+--------------------+-------------------+-------------------+--------------------+-------------------+--------------------+--------------------+--------------------+--------------------+-------------------+--------------------+--------------------+--------------------+--------------------+--------------------+-------------------+-------------------+--------------------+--------------------+--------------------+-------------------+--------------------+--------------------+--------------------+--------------------+--------------------+--------------------+-------------------+-------------------+-------------------+--------------------+--------------------+-------------------+-------------------+-------------------+--------------------+--------------------+-------------------+--------------------+--------------------+--------------------+-------------------+--------------------+-------------------+-------------------+-------------------+--------------------+-------------------+-------------------+-------------------+--------------------+-------------------+--------------------+--------------------+-------------------+--------------------+-------------------+-------------------+--------------------+-------------------+--------------------+--------------------+--------------------+--------------------+--------------------+--------------------+\n",
      "only showing top 20 rows\n"
     ]
    }
   ],
   "source": [
    "#train_means_user_bias = train_means_df.add(user_bias, axis = 0)\n",
    "#train_means_bias = train_means_df.add(joke_bias, axis = 1)\n",
    "#train_means_bias[train_means_bias > 10] = 10 # cap maximum ratings at 10\n",
    "#train_means_bias[train_means_bias < -10] = -10 # cap minimal ratings at -10\n",
    "#print(train_means_bias)\n",
    "train_means_bias = train_means_df.join(user_bias, on=\"user_index\", how=\"inner\")\n",
    "joke_cols = [c for c in train_means_df.columns if c != \"user_index\"]\n",
    "joke_bias_dict = {row[\"Joke\"]: row[\"joke_bias\"] for row in joke_bias.collect()}\n",
    "#print(joke_bias_dict)\n",
    "for c in joke_cols:\n",
    "    train_means_bias = train_means_bias.withColumn(c, col(c) + col(\"user_bias\"))\n",
    "\n",
    "    if c in joke_bias_dict:\n",
    "        train_means_bias = train_means_bias.withColumn(c, col(c) + lit(joke_bias_dict[c]))\n",
    "    train_means_bias = train_means_bias.withColumn(c, when(col(c) > 10, 10).otherwise(col(c)))\n",
    "    train_means_bias = train_means_bias.withColumn(c, when(col(c) < -10, -10).otherwise(col(c)))\n",
    "    \n",
    "train_means_bias = train_means_bias.drop(\"user_bias\")\n",
    "train_means_bias.show()"
   ]
  },
  {
   "cell_type": "code",
   "execution_count": 16,
   "id": "9462925b-7284-4b2a-b0a8-73454cba1d92",
   "metadata": {
    "id": "9462925b-7284-4b2a-b0a8-73454cba1d92",
    "outputId": "93fa7981-c4f3-4aaa-e4e5-c371c01f0edf",
    "scrolled": true
   },
   "outputs": [
    {
     "name": "stdout",
     "output_type": "stream",
     "text": [
      "+----------+--------------------+--------------------+--------------------+--------------------+--------------------+--------------------+--------------------+--------------------+--------------------+--------------------+--------------------+--------------------+--------------------+--------------------+--------------------+--------------------+--------------------+--------------------+-------------------+--------------------+-------------------+-------------------+--------------------+--------------------+-------------------+--------------------+--------------------+-------------------+--------------------+--------------------+--------------------+-------------------+--------------------+-------------------+-------------------+-------------------+--------------------+-------------------+-------------------+-------------------+-------------------+--------------------+--------------------+--------------------+-------------------+-------------------+--------------------+--------------------+--------------------+--------------------+--------------------+--------------------+--------------------+-------------------+-------------------+--------------------+--------------------+--------------------+--------------------+-------------------+--------------------+--------------------+--------------------+--------------------+-------------------+-------------------+-------------------+-------------------+-------------------+--------------------+--------------------+--------------------+--------------------+--------------------+--------------------+-------------------+-------------------+--------------------+-------------------+--------------------+-------------------+-------------------+--------------------+-------------------+--------------------+--------------------+-------------------+--------------------+--------------------+-------------------+-------------------+-------------------+--------------------+-------------------+-------------------+--------------------+-------------------+--------------------+--------------------+--------------------+--------------------+-------------------+--------------------+--------------------+--------------------+--------------------+--------------------+-------------------+-------------------+--------------------+--------------------+--------------------+-------------------+--------------------+--------------------+--------------------+--------------------+--------------------+--------------------+-------------------+-------------------+-------------------+--------------------+--------------------+-------------------+-------------------+-------------------+--------------------+--------------------+-------------------+--------------------+--------------------+--------------------+-------------------+--------------------+-------------------+-------------------+-------------------+--------------------+-------------------+-------------------+-------------------+--------------------+-------------------+--------------------+--------------------+-------------------+--------------------+-------------------+-------------------+--------------------+-------------------+--------------------+--------------------+--------------------+--------------------+--------------------+--------------------+\n",
      "|user_index|            joke_001|            joke_002|            joke_003|            joke_004|            joke_005|            joke_006|            joke_007|            joke_008|            joke_009|            joke_010|            joke_011|            joke_012|            joke_013|            joke_014|            joke_015|            joke_016|            joke_017|            joke_018|           joke_019|            joke_020|           joke_021|           joke_022|            joke_023|            joke_024|           joke_025|            joke_026|            joke_027|           joke_028|            joke_029|            joke_030|            joke_031|           joke_032|            joke_033|           joke_034|           joke_035|           joke_036|            joke_037|           joke_038|           joke_039|           joke_040|           joke_041|            joke_042|            joke_043|            joke_044|           joke_045|           joke_046|            joke_047|            joke_048|            joke_049|            joke_050|            joke_051|            joke_052|            joke_053|           joke_054|           joke_055|            joke_056|            joke_057|            joke_058|            joke_059|           joke_060|            joke_061|            joke_062|            joke_063|            joke_064|           joke_065|           joke_066|           joke_067|           joke_068|           joke_069|            joke_070|            joke_071|            joke_072|            joke_073|            joke_074|            joke_075|           joke_076|           joke_077|            joke_078|           joke_079|            joke_080|           joke_081|           joke_082|            joke_083|           joke_084|            joke_085|            joke_086|           joke_087|            joke_088|            joke_089|           joke_090|           joke_091|           joke_092|            joke_093|           joke_094|           joke_095|            joke_096|           joke_097|            joke_098|            joke_099|            joke_100|            joke_101|           joke_102|            joke_103|            joke_104|            joke_105|            joke_106|            joke_107|           joke_108|           joke_109|            joke_110|            joke_111|            joke_112|           joke_113|            joke_114|            joke_115|            joke_116|            joke_117|            joke_118|            joke_119|           joke_120|           joke_121|           joke_122|            joke_123|            joke_124|           joke_125|           joke_126|           joke_127|            joke_128|            joke_129|           joke_130|            joke_131|            joke_132|            joke_133|           joke_134|            joke_135|           joke_136|           joke_137|           joke_138|            joke_139|           joke_140|           joke_141|           joke_142|            joke_143|           joke_144|            joke_145|            joke_146|           joke_147|            joke_148|           joke_149|           joke_150|            joke_151|           joke_152|            joke_153|            joke_154|            joke_155|            joke_156|            joke_157|            joke_158|\n",
      "+----------+--------------------+--------------------+--------------------+--------------------+--------------------+--------------------+--------------------+--------------------+--------------------+--------------------+--------------------+--------------------+--------------------+--------------------+--------------------+--------------------+--------------------+--------------------+-------------------+--------------------+-------------------+-------------------+--------------------+--------------------+-------------------+--------------------+--------------------+-------------------+--------------------+--------------------+--------------------+-------------------+--------------------+-------------------+-------------------+-------------------+--------------------+-------------------+-------------------+-------------------+-------------------+--------------------+--------------------+--------------------+-------------------+-------------------+--------------------+--------------------+--------------------+--------------------+--------------------+--------------------+--------------------+-------------------+-------------------+--------------------+--------------------+--------------------+--------------------+-------------------+--------------------+--------------------+--------------------+--------------------+-------------------+-------------------+-------------------+-------------------+-------------------+--------------------+--------------------+--------------------+--------------------+--------------------+--------------------+-------------------+-------------------+--------------------+-------------------+--------------------+-------------------+-------------------+--------------------+-------------------+--------------------+--------------------+-------------------+--------------------+--------------------+-------------------+-------------------+-------------------+--------------------+-------------------+-------------------+--------------------+-------------------+--------------------+--------------------+--------------------+--------------------+-------------------+--------------------+--------------------+--------------------+--------------------+--------------------+-------------------+-------------------+--------------------+--------------------+--------------------+-------------------+--------------------+--------------------+--------------------+--------------------+--------------------+--------------------+-------------------+-------------------+-------------------+--------------------+--------------------+-------------------+-------------------+-------------------+--------------------+--------------------+-------------------+--------------------+--------------------+--------------------+-------------------+--------------------+-------------------+-------------------+-------------------+--------------------+-------------------+-------------------+-------------------+--------------------+-------------------+--------------------+--------------------+-------------------+--------------------+-------------------+-------------------+--------------------+-------------------+--------------------+--------------------+--------------------+--------------------+--------------------+--------------------+\n",
      "|        26|  -1.319524280184031|  -1.319524280184031|  -1.319524280184031|  -1.319524280184031|  -1.319524280184031|  -1.319524280184031| -2.7443049819384173| -2.9141119090500096|  -1.319524280184031|  -1.319524280184031|  -1.319524280184031|  -1.319524280184031|  -4.432066179625371|  -1.319524280184031|  -4.502474471754911| -3.4916700291718854| -1.3151694414743536| -3.3466110570435346|-1.7562143503946628|  -1.319524280184031|-0.3122710612999111|-2.2719739446135607| -1.4232505159254758| -2.8352077334214414|  -1.47798318429362|  -1.388586780184031|  -1.319524280184031|-0.6890349184819032|-0.12532138163330586| -1.4229039098136604|  -1.319524280184031| 0.8887524389543273| -3.3732301625369723|-2.0099183688539815| -1.022698481891271|-0.9200790839729345| -2.8608429615027124|-0.6353554822300667|-1.1928266057654264|-0.9150634958703053|-1.8314343925435814|-0.48782122341547174|  -1.319524280184031|   -3.16098413419863|-1.0850641862873174|-0.7342500185806552|  0.5096141010170134|-0.06493523908814103|  1.0369237198159689| -0.3390341363374665|  -1.319524280184031|  -1.319524280184031|  0.8570083500071335| 0.2029175802810852| -2.173466587876339| -1.2876875454901533| -2.8279673939564858| -2.9608576135173648|  -1.482482479540944| -1.875238565898317|  -1.319524280184031|  0.8286109433710394|  0.6674001184413991|   -2.92907842031142|-1.5616997829262613|-0.7434125223260569|-2.2841713390075604| 0.9974253466816418| 0.0737708017831824|0.018307578223048848| -2.0144346744492645|-0.11464104894360116|  -1.319524280184031|  -3.630656355655729| -2.2492662156679026| 0.1479601918656579|-0.8724498120989247|-0.23354489874073225| -2.319524280184031|  -1.319524280184031|-1.6975880056742272|-0.8063863491495481|  -2.043765244039453| -0.998497253157004|  -2.001992634614411|  -1.881296051955803|-0.8861390661762492|-0.05191233988552435|   0.876324343669181|-0.3749528516126025|-0.9064273534700829|-0.2687348064998214| 0.48510915090101325|-0.5854001116696187|-1.0945242801840311|-0.31832428018403003| 0.4599859238976016| -1.9600242801840309|-0.07470500307559758|  -1.319524280184031| -3.3703484560082075|-1.0905106747418543| -1.2838879165476673| 0.41111917174632495|-0.30806002294246815|  1.2884148298862286| -1.3644521262556504|  1.611240747138373|-0.6799074219464828|-0.09748414640476755|  0.9799235725767064|-0.48781256847231935|-1.1029088955686464|  0.8371966752991407|  -1.204320198551378|  -1.319524280184031|  1.3629497682588738| -0.5116849450039758| -1.1743058893794331|-1.5835151058721044|-0.3891909468506971|0.28050716635684925|  -3.422952851612602|  -4.045306593109201|-0.8915645486404065| 0.8530180926973263|-0.7952385658983162| -1.6652786661489432| 0.38993269558873256|-0.8527631465807919| -1.9073070856138954|  -1.363373837706155|-0.08932820175265865|  1.024003757199147|  -1.405655667045345|-1.7216385658983167|-0.0757799879465888|-0.2687599489738388| -0.5200697347294854| -2.320604092390604| -4.198931687591438| -1.555714756374507| 0.37139075249570785|-1.6801377771165462| -1.2307378724170408| -3.0813805676091808| -0.717949812098925|   0.613101714510929|-0.5860371953131824| 0.3956961374493795| -2.5474002200336545| -1.142912629698594| -1.9156443945786936|  -2.025139951825822| -2.8899714733334116| -2.7132730908405494| -1.2319034962277868| -1.3094876836607008|\n",
      "|        29| -1.1970242801840314| -1.1970242801840314| -1.1970242801840314| -1.1970242801840314| -1.1970242801840314| -1.1970242801840314| -2.6218049819384177|   -2.79161190905001| -1.1970242801840314| -1.1970242801840314| -1.1970242801840314| -1.1970242801840314|  -4.309566179625371| -1.1970242801840314|  -4.379974471754911|  -3.369170029171886|  -1.192669441474354|  -3.224111057043535|-1.6337143503946632| -1.1970242801840314|-0.1897710612999115| -2.149473944613561| -1.3007505159254762|  -2.712707733421442|-1.3554831842936204| -1.2660867801840314| -1.1970242801840314|-0.5665349184819036|-0.00282138163330...| -1.3004039098136608| -1.1970242801840314|  1.011252438954327| -3.2507301625369727|-1.8874183688539818|-0.9001984818912715|-0.7975790839729349|  -2.738342961502713| -0.512855482230067|-1.0703266057654268|-0.7925634958703057|-1.7089343925435818|-0.36532122341547213| -1.1970242801840314| -3.0384841341986304|-0.9625641862873178|-0.6117500185806556|   0.632114101017013| 0.05756476091185858|  1.1594237198159685|-0.21653413633746688| -1.1970242801840314| -1.1970242801840314|  0.9795083500071331| 0.3254175802810848|-2.0509665878763395| -1.1651875454901537|  -2.705467393956486|  -2.838357613517365| -1.3599824795409443|-1.7527385658983174| -1.1970242801840314|   0.951110943371039|  0.7899001184413987| -2.8065784203114204|-1.4391997829262617|-0.6209125223260573| -2.161671339007561| 1.1199253466816415|0.19627080178318201| 0.14080757822304846| -1.8919346744492649|0.007858951056398444| -1.1970242801840314| -3.5081563556557294|  -2.126766215667903| 0.2704601918656575|-0.7499498120989251|-0.11104489874073264|-2.1970242801840314| -1.1970242801840314|-1.5750880056742276|-0.6838863491495485| -1.9212652440394533|-0.8759972531570044| -1.8794926346144112| -1.7587960519558035|-0.7636390661762495| 0.07058766011447526|  0.9988243436691806|-0.2524528516126029|-0.7839273534700832|-0.1462348064998218|  0.6076091509010129|-0.4629001116696191|-0.9720242801840314|-0.19582428018403042| 0.5824859238976012| -1.8375242801840312| 0.04779499692440203| -1.1970242801840314|  -3.247848456008208|-0.9680106747418546| -1.1613879165476677|  0.5336191717463246|-0.18556002294246854|  1.4109148298862282| -1.2419521262556508| 1.7337407471383726|-0.5574074219464832|0.025015853595232063|   1.102423572576706|-0.36531256847231974|-0.9804088955686466|  0.9596966752991403| -1.0818201985513785| -1.1970242801840314|  1.4854497682588734|-0.38918494500397616| -1.0518058893794335|-1.4610151058721048|-0.2666909468506975|0.40300716635684886| -3.3004528516126026|  -3.922806593109201|-0.7690645486404069| 0.9755180926973259|-0.6727385658983166| -1.5427786661489435|  0.5124326955887322|-0.7302631465807923| -1.7848070856138958| -1.2408738377061554|0.033171798247340956| 1.1465037571991465| -1.2831556670453454| -1.599138565898317|0.04672001205341081|-0.1462599489738392|-0.39756973472948576|-2.1981040923906043|-4.0764316875914375|-1.4332147563745075| 0.49389075249570746|-1.5576377771165466| -1.1082378724170412|  -2.958880567609181|-0.5954498120989254|  0.7356017145109286|-0.4635371953131828| 0.5181961374493791|  -2.424900220033655|-1.0204126296985945|  -1.793144394578694| -1.9026399518258224|  -2.767471473333412| -2.5907730908405497| -1.1094034962277872| -1.1869876836607012|\n",
      "|       474|  -5.469524280184031|  -5.469524280184031|  -5.469524280184031|  -5.469524280184031|  -5.469524280184031|  -5.469524280184031|  -6.894304981938418|   -7.06411190905001|  -5.469524280184031|  -5.469524280184031|  -5.469524280184031|  -5.469524280184031|  -8.582066179625372|  -5.469524280184031|   -8.65247447175491|  -7.641670029171886| -5.4651694414743535|  -7.496611057043535| -5.906214350394663|  -5.469524280184031| -4.462271061299911| -6.421973944613561|  -5.573250515925476|  -6.985207733421442|  -5.62798318429362|  -5.538586780184032|  -5.469524280184031| -4.839034918481904|  -4.275321381633306|  -5.572903909813661|  -5.469524280184031| -3.261247561045673|  -7.523230162536972| -6.159918368853981| -5.172698481891271| -5.070079083972935|  -7.010842961502712| -4.785355482230067| -5.342826605765427| -5.065063495870306| -5.981434392543582|  -4.637821223415472|  -5.469524280184031|   -7.31098413419863|-5.2350641862873175| -4.884250018580656|  -3.640385898982987|  -4.214935239088142| -3.1130762801840315|  -4.489034136337467|  -5.469524280184031|  -5.469524280184031|  -3.292991649992867| -3.947082419718915| -6.323466587876339|  -5.437687545490154|  -6.977967393956487|  -7.110857613517365|  -5.632482479540944| -6.025238565898317|  -5.469524280184031|  -3.321389056628961| -3.4825998815586012|   -7.07907842031142| -5.711699782926262| -4.893412522326058| -6.434171339007561|-3.1525746533183585| -4.076229198216818|  -4.131692421776951|  -6.164434674449264|  -4.264641048943601|  -5.469524280184031|  -7.780656355655729|  -6.399266215667903|-4.0020398081343425| -5.022449812098925|  -4.383544898740732| -6.469524280184031|  -5.469524280184031| -5.847588005674227| -4.956386349149549| -6.1937652440394535| -5.148497253157005|  -6.151992634614411|  -6.031296051955803|  -5.03613906617625|  -4.201912339885524| -3.2736756563308194|-4.5249528516126025| -5.056427353470084| -4.418734806499822| -3.6648908490989873| -4.735400111669619| -5.244524280184032|  -4.468324280184031|-3.6900140761023987|  -6.110024280184032|  -4.224705003075598|  -5.469524280184031| -7.5203484560082074| -5.240510674741855| -5.4338879165476675| -3.7388808282536754|  -4.458060022942469|  -2.861585170113772|  -5.514452126255651|-2.5387592528616274|-4.8299074219464835| -4.2474841464047675|  -3.170076427423294|   -4.63781256847232|-5.2529088955686465| -3.3128033247008597|  -5.354320198551378|  -5.469524280184031| -2.7870502317411265|  -4.661684945003977|  -5.324305889379434|-5.7335151058721046| -4.539190946850697| -3.869492833643151|  -7.572952851612603|  -8.195306593109201| -5.041564548640407| -3.296981907302674|-4.9452385658983165|  -5.815278666148943|  -3.760067304411268| -5.002763146580792|  -6.057307085613896|  -5.513373837706156| -4.2393282017526595|-3.1259962428008534|  -5.555655667045345|-5.8716385658983175|  -4.22577998794659|  -4.41875994897384|  -4.670069734729486| -6.470604092390604| -8.348931687591438| -5.705714756374507| -3.7786092475042925| -5.830137777116547|  -5.380737872417041|  -7.231380567609181| -4.867949812098925| -3.5368982854890714| -4.736037195313183| -3.754303862550621|  -6.697400220033655| -5.292912629698595|  -6.065644394578694|  -6.175139951825822|  -7.039971473333412|   -6.86327309084055|  -5.381903496227787|  -5.459487683660702|\n",
      "|       964|   2.103519198076839|   2.103519198076839|   2.103519198076839|   2.103519198076839|   2.103519198076839|   2.103519198076839|  0.6787384963224528|    0.50893156921086|   2.103519198076839|   2.103519198076839|   2.103519198076839|   2.103519198076839|  -1.009022701364501|   2.103519198076839| -1.0794309934940411|-0.06862655091101555|  2.1078740367865163| 0.07643242121733529|  1.666829127866207|   2.103519198076839|  3.110772416960959| 1.1510695336473091|   1.999792962335394|  0.5878357448394285| 1.9450602939672499|  2.0344566980768386|   2.103519198076839| 2.7340085597789665|   3.297722096627564|   2.000139568447209|   2.103519198076839|  4.311795917215197| 0.04981331572389758| 1.4131251094068884|  2.400344996369599| 2.5029643942879356|  0.5622005167581574|  2.787687996030803| 2.2302168724954434| 2.5079799823905646| 1.5916090857172884|   2.935222254845398|   2.103519198076839|  0.2620593440622401| 2.3379792919735523| 2.6887934596802148|  3.9326575792778833|   3.358108239172729|   4.459967198076839|  3.0840093419234034|   2.103519198076839|   2.103519198076839|   4.280051828268004|  3.625961058541955| 1.2495768903845308|  2.1353559327707163|  0.5950760843043841|  0.4621858647435053|   1.940560998719926| 1.5478049123625528|   2.103519198076839|   4.251654421631909|  4.0904435967022685|  0.4939650579494501| 1.8613436953346085|  2.679630955934813| 1.1388721392533094|  4.420468824942512| 3.4968142800440525|   3.441351056483919|  1.4086088038116054|   3.308402429317269|   2.103519198076839|-0.20761287739485912|  1.1737772625929674| 3.5710036701265278| 2.5505936661619453|  3.1894985795201376| 1.1035191980768386|   2.103519198076839| 1.7254554725866427| 2.6166571291113216|   1.379278234221417| 2.4245462251038656|   1.421050843646459|  1.5417474263050668| 2.5369044120846205|  3.3711311383753455|   4.299367821930051| 3.0480906266482672|  2.516616124790787| 3.1543086717610485|   3.908152629161883|  2.837643366591251|  2.328519198076839|  3.1047191980768396| 3.8830294021584715|   1.463019198076839|  3.3483384751852725|   2.103519198076839|0.052695022252662316|  2.332532803519016|  2.1391555617132023|   3.834162650007195|  3.1149834553184017|   4.711458308147098|  2.0585913520052195|  5.034284225399243|  2.743136056314387|  3.3255593318561023|   4.402967050837576|  2.9352309097885505| 2.3201345826922237|  4.2602401535600105|   2.218723279709492|   2.103519198076839|   4.785993246519744|   2.911358533256894|  2.2487375888814367| 1.8395283723887654| 3.0338525314101727|  3.703550644617719|9.062664826764433E-5| -0.6222631148483306| 2.5314789296204636|  4.276061570958197| 2.6278049123625538|  1.7577648121119267|   3.812976173849602|  2.570280331680078|  1.5157363926469745|   2.059669640554715|   3.333715276508211|  4.447047235460017|   2.017387811215525| 1.7014049123625532|  3.347263490314281|  3.154283529287031|  2.9029737435313843| 1.1024393858702657|-0.7758882093305677| 1.8673287218863628|  3.7944342307565777| 1.7429057011443236|   2.192305605843829|  0.3416629106516891|  2.705093666161945|   4.036145192771799|  2.837006282947687| 3.8187396157102493|  0.8756432582272153| 2.2801308485622758|  1.5073990836821762|   1.397903526435048|  0.5330720049274584|  0.7097703874203207|   2.191139982033083|   2.113555794600169|\n",
      "|      1677|  2.5271423864826352|  2.5271423864826352|  2.5271423864826352|  2.5271423864826352|  2.5271423864826352|  2.5271423864826352|  1.1023616847282491|  0.9325547576166564|  2.5271423864826352|  2.5271423864826352|  2.5271423864826352|  2.5271423864826352| -0.5853995129587046|  2.5271423864826352| -0.6558078050882448| 0.35499663749478083|  2.5314972251923127|  0.5000556096231317| 2.0904523162720032|  2.5271423864826352|  3.534395605366755| 1.5746927220531055|    2.42341615074119|  1.0114589332452248| 2.3686834823730463|   2.458079886482635|  2.5271423864826352|  3.157631748184763|  3.7213452850333604|  2.4237627568530056|  2.5271423864826352|  4.735419105620993| 0.47343650412969396| 1.8367482978126848| 2.8239681847753952|  2.926587582693732|  0.9858237051639538| 3.2113111844365996|   2.65384006090124|  2.931603170796361|  2.015232274123085|  3.3588454432511945|  2.5271423864826352|  0.6856825324680365| 2.7616024803793486|  3.112416648086011|    4.35628076768368|   3.781731427578525|   4.883590386482635|  3.5076325303291997|  2.5271423864826352|  2.5271423864826352|     4.7036750166738|  4.049584246947751| 1.6732000787903272|  2.5589791211765127|  1.0186992727101805|  0.8858090531493017|  2.3641841871257223| 1.9714281007683492|  2.5271423864826352|   4.675277610037705|   4.514066785108065|  0.9175882463552465| 2.2849668837404047| 3.1032541443406094| 1.5624953276591058|  4.844092013348308| 3.9204374684498484|   3.864974244889715|  1.8322319922174017|   3.732025617723065|  2.5271423864826352| 0.21601031101093726|  1.5974004509987638|  3.994626858532324| 2.9742168545677417|   3.613121767925934|  1.527142386482635|  2.5271423864826352| 2.1490786609924393|  3.040280317517118|  1.8029014226272133| 2.8481694135096625|  1.8446740320522554|  1.9653706147108632| 2.9605276004904173|   3.794754326781142|   4.722991010335847| 3.4717138150540636| 2.9402393131965834|  3.577931860166845|    4.33177581756768| 3.2612665549970474| 2.7521423864826353|  3.5283423864826364|  4.306652590564267|  1.8866423864826354|  3.7719616635910684|  2.5271423864826352|  0.4763182106584587|  2.756155991924812|  2.5627787501189987|   4.257785838412991|   3.538606643724198|   5.135081496552894|   2.482214540411016|  5.457907413805039| 3.1667592447201836|  3.7491825202618987|   4.826590239243373|   3.358854098194347|   2.74375777109802|   4.683863341965807|   2.642346468115288|  2.5271423864826352|    5.20961643492554|  3.3349817216626905|   2.672360777287233|  2.263151560794562|  3.457475719815969|  4.127173833023516|   0.423713815054064|-0.19863992644253425|   2.95510211802626| 4.6996847593639925|   3.05142810076835|   2.181388000517723|   4.236599362255399| 2.9939035200858743|  1.9393595810527708|  2.4832928289605114|  3.7573384649140076|  4.870670423865813|   2.441010999621321| 2.1250281007683496| 3.7708866787200774| 3.5779067176928274|   3.326596931937181|  1.526062574276062|-0.3522650209247713|  2.290951910292159|   4.218057419162374| 2.1665288895501202|  2.6159287942496254|  0.7652860990574855| 3.1287168545677413|   4.459768381177595|  3.260629471353484|  4.242362804116046|  1.2992664466330117|  2.703754036968072|  1.9310222720879726|  1.8215267148408443|  0.9566951933332548|   1.133393575826117|  2.6147631704388794|  2.5371789830059654|\n",
      "|      1697|  1.7729757198159688|  1.7729757198159688|  1.7729757198159688|  1.7729757198159688|  1.7729757198159688|  1.7729757198159688|  0.3481950180615827| 0.17838809094998997|  1.7729757198159688|  1.7729757198159688|  1.7729757198159688|  1.7729757198159688|  -1.339566179625371|  1.7729757198159688| -1.4099744717549112| -0.3991700291718856|  1.7773305585256463|-0.25411105704353476|  1.336285649605337|  1.7729757198159688| 2.7802289387000885| 0.8205260553864391|   1.669249484074524|  0.2572922665785584| 1.6145168157063798|  1.7039132198159688|  1.7729757198159688| 2.4034650815180965|   2.967178618366694|  1.6695960901863394|  1.7729757198159688|  3.981252438954327|-0.28073016253697247| 1.0825816311460184|  2.069801518108729| 2.1724209160270656| 0.23165703849728736|  2.457144517769933| 1.8996733942345734| 2.1774365041296946| 1.2610656074564184|   2.604678776584528|  1.7729757198159688|-0.06848413419862998|  2.007435813712682| 2.3582499814193447|  3.6021141010170132|  3.0275647609118588|   4.129423719815969|  2.7534658636625333|  1.7729757198159688|  1.7729757198159688|  3.9495083500071333|  3.295417580281085| 0.9190334121236609|  1.8048124545098465| 0.26453260604351403| 0.13164238648263527|  1.6100175204590559| 1.2172614341016827|  1.7729757198159688|   3.921110943371039|   3.759900118441399| 0.16342157968858007| 1.5308002170737385|  2.349087477673943| 0.8083286609924394|  4.089925346681642|  3.166270801783182|  3.1108075782230484|  1.0780653255507353|  2.9778589510563984|  1.7729757198159688| -0.5381563556557292|  0.8432337843320974| 3.2404601918656577| 2.2200501879010752|  2.8589551012592676| 0.7729757198159686|  1.7729757198159688| 1.3949119943257726| 2.2861136508504516|  1.0487347559605469|  2.094002746842996|   1.090507365385589|  1.2112039480441967|  2.206360933823751|  3.0405876601144755|   3.968824343669181|  2.717547148387397|  2.186072646529917| 2.8237651935001784|  3.5776091509010133|  2.507099888330381| 1.9979757198159687|    2.77417571981597| 3.5524859238976014|   1.132475719815969|   3.017794996924402|  1.7729757198159688|-0.27784845600820773| 2.0019893252581458|  1.8086120834523325|  3.5036191717463248|  2.7844399770575317|   4.380914829886228|  1.7280478737443494|  4.703740747138372|  2.412592578053517|  2.9950158535952323|   4.072423572576707|  2.6046874315276805| 1.9895911044313535|  3.9296966752991405|  1.8881798014486217|  1.7729757198159688|   4.455449768258873|   2.580815054996024|  1.9181941106205667| 1.5089848941278954| 2.7033090531493027|  3.373007166356849| -0.3304528516126024| -0.9528065931092007| 2.2009354513595936|  3.945518092697326| 2.2972614341016837|  1.4272213338510567|  3.4824326955887326|  2.239736853419208|  1.1851929143861044|  1.7291261622938447|   3.003171798247341|  4.116503757199147|  1.6868443329546547| 1.3708614341016832|  3.016720012053411|  2.823740051026161|  2.5724302652705147| 0.7718959076093956|-1.1064316875914377| 1.5367852436254927|  3.4638907524957077| 1.4123622228834536|   1.861762127582959|0.011119432390819028|  2.374550187901075|   3.705601714510929| 2.5064628046868176| 3.4881961374493793|  0.5450997799663453| 1.9495873703014057|  1.1768556054213062|  1.0673600481741778| 0.20252852666658838|  0.3792269091594507|   1.860596503772213|   1.783012316339299|\n",
      "|      1806|   3.270475719815969|   3.270475719815969|   3.270475719815969|   3.270475719815969|   3.270475719815969|   3.270475719815969|  1.8456950180615828|    1.67588809094999|   3.270475719815969|   3.270475719815969|   3.270475719815969|   3.270475719815969|   0.157933820374629|   3.270475719815969| 0.08752552824508886|  1.0983299708281145|  3.2748305585256463|  1.2433889429564653|  2.833785649605337|   3.270475719815969|  4.277728938700089|  2.318026055386439|   3.166749484074524|  1.7547922665785585|   3.11201681570638|  3.2014132198159686|   3.270475719815969| 3.9009650815180965|   4.464678618366694|   3.167096090186339|   3.270475719815969|  5.478752438954327|  1.2167698374630276| 2.5800816311460184|  3.567301518108729| 3.6699209160270656|  1.7291570384972874|  3.954644517769933| 3.3971733942345734| 3.6749365041296946| 2.7585656074564184|   4.102178776584529|   3.270475719815969|    1.42901586580137| 3.5049358137126823| 3.8557499814193448|   5.099614101017013|   4.525064760911858|   5.626923719815968|   4.250965863662533|   3.270475719815969|   3.270475719815969|   5.447008350007133|  4.792917580281085|  2.416533412123661|  3.3023124545098463|   1.762032606043514|  1.6291423864826353|   3.107517520459056|  2.714761434101683|   3.270475719815969|   5.418610943371039|   5.257400118441399|  1.6609215796885801| 3.0283002170737383|  3.846587477673943| 2.3058286609924394|  5.587425346681641| 4.6637708017831825|   4.608307578223049|  2.5755653255507354|   4.475358951056399|   3.270475719815969|  0.9593436443442709|  2.3407337843320972|  4.737960191865658| 3.7175501879010753|   4.356455101259268|  2.270475719815969|   3.270475719815969|  2.892411994325773| 3.7836136508504516|  2.5462347559605467| 3.5915027468429956|   2.588007365385589|   2.708703948044197| 3.7038609338237505|   4.538087660114476|    5.46632434366918|  4.215047148387398|  3.683572646529917|  4.321265193500178|   5.075109150901013| 4.0045998883303815|  3.495475719815969|    4.27167571981597| 5.0499859238976015|   2.629975719815969|  4.5152949969244025|   3.270475719815969|  1.2196515439917923|  3.499489325258146|  3.3061120834523323|   5.001119171746325|   4.281939977057531|   5.878414829886228|  3.2255478737443495|  6.201240747138373|  3.910092578053517|   4.492515853595233|   5.569923572576706|    4.10218743152768| 3.4870911044313537|  5.4271966752991405|   3.385679801448622|   3.270475719815969|   5.952949768258874|   4.078315054996024|  3.4156941106205667| 3.0064848941278957|  4.200809053149303|  4.870507166356849|  1.1670471483873976|  0.5446934068907994| 3.6984354513595936|  5.443018092697326| 3.7947614341016838|  2.9247213338510565|   4.979932695588732|  3.737236853419208|  2.6826929143861045|   3.226626162293845|   4.500671798247341|  5.614003757199146|   3.184344332954655|  2.868361434101683|  4.514220012053411|  4.321240051026161|   4.069930265270514|  2.269395907609396| 0.3910683124085623|  3.034285243625493|   4.961390752495708|  2.909862222883454|   3.359262127582959|   1.508619432390819|  3.872050187901075|   5.203101714510929|  4.003962804686817|  4.985696137449379|  2.0425997799663453| 3.4470873703014058|  2.6743556054213062|   2.564860048174178|  1.7000285266665884|  1.8767269091594507|   3.358096503772213|   3.280512316339299|\n",
      "|      1950|-0.09452428018403136|-0.09452428018403136|-0.09452428018403136|-0.09452428018403136|-0.09452428018403136|-0.09452428018403136| -1.5193049819384175| -1.6891119090500102|-0.09452428018403136|-0.09452428018403136|-0.09452428018403136|-0.09452428018403136|  -3.207066179625371|-0.09452428018403136| -3.2774744717549114| -2.2666700291718858|-0.09016944147435385|  -2.121611057043535|-0.5312143503946631|-0.09452428018403136| 0.9127289387000885| -1.046973944613561|-0.19825051592547627| -1.6102077334214417|-0.2529831842936203|-0.16358678018403142|-0.09452428018403136| 0.5359650815180964|  1.0996786183666938|-0.19790390981366085|-0.09452428018403136|  2.113752438954327| -2.1482301625369726|-0.7849183688539817|0.20230151810872854| 0.3049209160270652| -1.6358429615027128|  0.589644517769933|0.03217339423457327| 0.3099365041296943|-0.6064343925435818|  0.7371787765845279|-0.09452428018403136| -1.9359841341986301|0.13993581371268224|0.49074998141934445|   1.734614101017013|  1.1600647609118586|  2.2619237198159685|  0.8859658636625332|-0.09452428018403136|-0.09452428018403136|   2.082008350007133| 1.4279175802810848|-0.9484665878763393|-0.06268754549015375| -1.6029673939564861|  -1.735857613517365|-0.25748247954094433|-0.6502385658983173|-0.09452428018403136|   2.053610943371039|  1.8924001184413988|   -1.70407842031142|-0.3366997829262618| 0.4815874776739427|-1.0591713390075608| 2.2224253466816415|  1.298770801783182|  1.2433075782230485| -0.7894346744492647|  1.1103589510563985|-0.09452428018403136| -2.4056563556557293| -1.0242662156679028| 1.3729601918656575|0.35255018790107495|  0.9914551012592674|-1.0945242801840316|-0.09452428018403136|-0.4725880056742275|0.41861365085045155| -0.8187652440394533|0.22650274684299565|  -0.776992634614411| -0.6562960519558035| 0.3388609338237505|  1.1730876601144753|  2.1013243436691806| 0.8500471483873971|0.31857264652991674| 0.9562651935001782|   1.710109150901013|  0.639599888330381| 0.1304757198159686|  0.9066757198159696| 1.6849859238976013| -0.7350242801840312|   1.150294996924402|-0.09452428018403136|  -2.145348456008208|0.13448932525814541|-0.05888791654766774|  1.6361191717463246|  0.9169399770575315|   2.513414829886228|-0.13945212625565073| 2.8362407471383726| 0.5450925780535169|   1.127515853595232|   2.204923572576706|  0.7371874315276803|0.12209110443135338|  2.0621966752991403|0.020679801448621693|-0.09452428018403136|  2.5879497682588735|  0.7133150549960239|0.050694110620566446|-0.3585151058721047| 0.8358090531493025|  1.505507166356849| -2.1979528516126026|  -2.820306593109201|0.33343545135959324|  2.078018092697326|0.42976143410168344|-0.44027866614894356|  1.6149326955887322|0.37223685341920776| -0.6823070856138959|-0.13837383770615536|   1.135671798247341| 2.2490037571991466|-0.18065566704534536|-0.4966385658983171| 1.1492200120534108| 0.9562400510261608|  0.7049302652705143|-1.0956040923906045| -2.973931687591438|-0.3307147563745074|  1.5963907524957075|-0.4551377771165465|-0.00573787241704...| -1.8563805676091811| 0.5070501879010746|  1.8381017145109286| 0.6389628046868172| 1.6206961374493791| -1.3224002200336549|0.08208737030140545| -0.6906443945786939| -0.8001399518258223| -1.6649714733334118| -1.4882730908405495|-0.00690349622778...|-0.08448768366070124|\n",
      "|      2040|  2.2622939016341506|  2.2622939016341506|  2.2622939016341506|  2.2622939016341506|  2.2622939016341506|  2.2622939016341506|  0.8375131998797645|  0.6677062727681717|  2.2622939016341506|  2.2622939016341506|  2.2622939016341506|  2.2622939016341506| -0.8502479978071893|  2.2622939016341506| -0.9206562899367294| 0.09014815264629616|   2.266648740343828|   0.235207124774647| 1.8256038314235188|  2.2622939016341506| 3.2695471205182702| 1.3098442372046208|  2.1585676658927055|  0.7466104483967402| 2.1038349975245616|  2.1932314016341503|  2.2622939016341506|  2.892783263336278|  3.4564968001848757|   2.158914272004521|  2.2622939016341506|  4.470570620772509|  0.2085880192812093| 1.5718998129642001| 2.5591196999269106| 2.6617390978452473|  0.7209752203154691|  2.946462699588115|  2.388991576052755| 2.6667546859478763| 1.7503837892746001|    3.09399695840271|  2.2622939016341506|  0.4208340476195518|  2.496753995530864| 2.8475681632375265|   4.091432282835195|  3.5168829427300405|    4.61874190163415|   3.242784045480715|  2.2622939016341506|  2.2622939016341506|   4.438826531825315| 3.7847357620992668| 1.4083515939418425|   2.294130636328028|  0.7538507878616958|   0.620960568300817|  2.0993357022772376| 1.7065796159198645|  2.2622939016341506|   4.410429125189221|   4.249218300259581|  0.6527397615067618|   2.02011839889192| 2.8384056594921248| 1.2976468428106211|  4.579243528499823| 3.6555889836013638|    3.60012576004123|   1.567383507368917|    3.46717713287458|  2.2622939016341506|-0.04883817383754...|  1.3325519661502792| 3.7297783736838395|  2.709368369719257|  3.3482732830774493| 1.2622939016341503|  2.2622939016341506| 1.8842301761439544| 2.7754318326686334|  1.5380529377787286|  2.583320928661178|  1.5798255472037708|  1.7005221298623785| 2.6956791156419326|   3.529905841932657|   4.458142525487363|  3.206865330205579| 2.6753908283480987|   3.31308337531836|   4.066927332719195| 2.9964180701485628| 2.4872939016341507|  3.2634939016341518|  4.041804105715784|  1.6217939016341507|  3.5071131787425838|  2.2622939016341506| 0.21146972580997403| 2.4913075070763275|   2.297930265270514|  3.9929373535645065|  3.2737581588757134|   4.870233011704411|   2.217366055562531|  5.193058928956555|  2.901910759871699|   3.484334035413414|  4.5617417543948875|   3.094005613345862| 2.4789092862495354|   4.419014857117322|  2.3774979832668035|  2.2622939016341506|   4.944767950077056|   3.070133236814206|  2.4075122924387484| 1.9983030759460771| 3.1926272349674845|  3.862325348175031| 0.15886533020557936| -0.4634884112910189| 2.6902536331777753|  4.434836274515508| 2.7865796159198655|  1.9165395156692384|  3.9717508774069143| 2.7290550352373897|  1.6745110962042862|  2.2184443441120267|   3.492489980065523| 4.6058219390173285|  2.1761625147728365|  1.860179615919865| 3.5060381938715928| 3.3130582328443428|  3.0617484470886964| 1.2612140894275774| -0.617113505773256| 2.0261034254436745|  3.9532089343138894| 1.9016804047016354|  2.3510803094011408|  0.5004376142090008| 2.8638683697192566|   4.194919896329111| 2.9957809865049994|  3.977514319267561|   1.034417961784527| 2.4389055521195875|   1.666173787239488|  1.5566782299923596|  0.6918467084847701|  0.8685450909776324|  2.3499146855903947|   2.272330498157481|\n",
      "|      2214| -2.6228576135173642| -2.6228576135173642| -2.6228576135173642| -2.6228576135173642| -2.6228576135173642| -2.6228576135173642|   -4.04763831527175|  -4.217445242383343| -2.6228576135173642| -2.6228576135173642| -2.6228576135173642| -2.6228576135173642|  -5.735399512958704| -2.6228576135173642|  -5.805807805088245|  -4.795003362505218|  -2.618502774807687|  -4.649944390376868|-3.0595476837279962| -2.6228576135173642|-1.6156043946332443| -3.575307277946894| -2.7265838492588093|  -4.138541066754774| -2.781316517626953| -2.6919201135173645| -2.6228576135173642|-1.9923682518152366|  -1.428654714966639|  -2.726237243146994| -2.6228576135173642|-0.4145808943790059| -4.6765634958703055|-3.3132517021873147|-2.3260318152246042|-2.2234124173062675|  -4.164176294836046|   -1.9386888155634|-2.4961599390987597|-2.2183968292036385|-3.1347677258769147|  -1.791154556748805| -2.6228576135173642|  -4.464317467531963| -2.388397519620651|-2.0375833519139883| -0.7937192323163198| -1.3682685724214743|-0.26640961351736436| -1.6423674696707997| -2.6228576135173642| -2.6228576135173642|-0.44632498332619974| -1.100415753052248|-3.4767999212096723| -2.5910208788234868|  -4.131300727289819| -4.2641909468506976|  -2.785815812874277|-3.1785718992316503| -2.6228576135173642| -0.4747223899622939| -0.6359332148919341|  -4.232411753644753| -2.865033116259595|  -2.04674585565939|-3.5875046723408937|-0.3059079866516914|-1.2295625315501508| -1.2850257551102844| -3.3177680077825977| -1.4179743822769344| -2.6228576135173642|  -4.933989688989062| -3.5525995490012354|-1.1553731414676753| -2.175783145432258| -1.5368782320740655|-3.6228576135173647| -2.6228576135173642|  -3.00092133900756|-2.1097196824828814|  -3.347098577372786| -2.301830586490337|  -3.305325967947744| -3.1846293852891363| -2.189472399509582| -1.3552456732188576|-0.42700898966415224|-1.6782861849459358| -2.209760686803416|-1.5720681398331546|   -0.81822418243232| -1.888733445002952| -2.397857613517364| -1.6216576135173633|-0.8433474094357316|  -3.263357613517364| -1.3780383364089308| -2.6228576135173642|  -4.673681789341541|-2.3938440080751873| -2.5872212498810008| -0.8922141615870083| -1.6113933562758014|-0.01491850344710...| -2.6677854595889836| 0.3079074138050397| -1.983240755279816| -1.4008174797381008|-0.32340976075662686| -1.7911459018056526|-2.4062422289019794| -0.4661366580341926| -2.5076535318847113| -2.6228576135173642|0.059616434925540585|  -1.815018278337309| -2.4776392227127664|-2.8868484392054374|-1.6925242801840303| -1.022826166976484|  -4.726286184945936|  -5.348639926442534|-2.1948978819737395|-0.4503152406360069|-2.0985718992316493| -2.9686119994822766| -0.9134006377446007| -2.156096479914125| -3.2106404189472286|  -2.666707171039488| -1.3926615350859919|-0.2793295761341863| -2.7089890003786783|  -3.02497189923165| -1.379113321279922| -1.572093282307172| -1.8234030680628186|-3.6239374257239376| -5.502265020924771|-2.8590480897078403| -0.9319425808376254|-2.9834711104498792|  -2.534071205750374|  -4.384713900942514| -2.021283145432258| -0.6902316188224042|-1.8893705286465157|-0.9076371958839538| -3.8507335533669877|-2.4462459630319273|  -3.218977727912027|  -3.328473285159155|  -4.193304806666744|  -4.016606424173882|   -2.53523682956112|  -2.612821016994034|\n",
      "|      2250|  2.4892876010040874|  2.4892876010040874|  2.4892876010040874|  2.4892876010040874|  2.4892876010040874|  2.4892876010040874|  1.0645068992497013|  0.8946999721381086|  2.4892876010040874|  2.4892876010040874|  2.4892876010040874|  2.4892876010040874| -0.6232542984372524|  2.4892876010040874| -0.6936625905667926|   0.317141852016233|   2.493642439713765| 0.46220082414458386| 2.0525975307934554|  2.4892876010040874| 3.4965408198882075| 1.5368379365745577|  2.3855613652626424|   0.973604147766677| 2.3308286968944985|   2.420225101004087|  2.4892876010040874|  3.119776962706215|  3.6834904995548126|  2.3859079713744578|  2.4892876010040874|  4.697564320142446| 0.43558171865114614|  1.798893512334137| 2.7861133992968474|  2.888732797215184|   0.947968919685406| 3.1734563989580518|  2.615985275422692|  2.893748385317813|  1.977377488644537|  3.3209906577726467|  2.4892876010040874|  0.6478277469894886|  2.723747694900801| 3.0745618626074633|   4.318425982205132|  3.7438766420999774|   4.845735601004087|   3.469777744850652|  2.4892876010040874|  2.4892876010040874|  4.6658202311952515|  4.011729461469203| 1.6353452933117794|   2.521124335697965|  0.9808444872316326|  0.8479542676707539|  2.3263294016471745| 1.9335733152898014|  2.4892876010040874|   4.637422824559158|   4.476211999629518|  0.8797334608766987|  2.247112098261857| 3.0653993588620616|  1.524640542180558|   4.80623722786976|  3.882582682971301|  3.8271194594111675|   1.794377206738854|  3.6941708322445175|  2.4892876010040874| 0.17815552553238945|   1.559545665520216| 3.9567720730537763|  2.936362069089194|   3.575266982447386| 1.4892876010040872|  2.4892876010040874| 2.1112238755138915|   3.00242553203857|  1.7650466371486655|  2.810314628031114|  1.8068192465737076|  1.9275158292323153|  2.922672815011869|   3.756899541302594|   4.685136224857299|  3.433859029575516| 2.9023845277180356|  3.540077074688297|  4.2939210320891315| 3.2234117695184996| 2.7142876010040875|   3.490487601004088|   4.26879780508572|  1.8487876010040876|   3.734106878112521|  2.4892876010040874|  0.4384634251799109| 2.7183012064462644|   2.524923964640451|   4.219931052934443|  3.5007518582456503|   5.097226711074347|   2.444359754932468|  5.420052628326491| 3.1289044592416357|   3.711327734783351|   4.788735453764825|   3.320999312715799| 2.7059029856194723|   4.646008556487259|  2.6044916826367404|  2.4892876010040874|   5.171761649446992|  3.2971269361841427|  2.6345059918086853|  2.225296775316014| 3.4196209343374213|  4.089319047544968|  0.3858590295755162|-0.23649471192108207|  2.917247332547712|  4.661829973885444| 3.0135733152898023|   2.143533215039175|   4.198744576776851| 2.9560487346073265|   1.901504795574223|  2.4454380434819636|  3.7194836794354598|  4.832815638387265|  2.4031562141427734| 2.0871733152898018| 3.7330318932415296| 3.5400519322142796|   3.288742146458633| 1.4882077887975143|-0.3901198064033191| 2.2530971248136114|   4.180202633683827| 2.1286741040715724|  2.5780740087710776|  0.7274313135789376| 3.0908620690891935|   4.421913595699047| 3.2227746858749358| 4.2045080186374975|   1.261411661154464| 2.6658992514895243|  1.8931674866094248|  1.7836719293622965|   0.918840407854707|  1.0955387903475693|  2.5769083849603316|  2.4993241975274176|\n",
      "|      2453|  0.5304757198159686|  0.5304757198159686|  0.5304757198159686|  0.5304757198159686|  0.5304757198159686|  0.5304757198159686| -0.8943049819384175| -1.0641119090500102|  0.5304757198159686|  0.5304757198159686|  0.5304757198159686|  0.5304757198159686|  -2.582066179625371|  0.5304757198159686| -2.6524744717549114| -1.6416700291718858|  0.5348305585256461|  -1.496611057043535|0.09378564960533681|  0.5304757198159686| 1.5377289387000885|-0.4219739446135611| 0.42674948407452373| -0.9852077334214417| 0.3720168157063797|  0.4614132198159686|  0.5304757198159686| 1.1609650815180963|  1.7246786183666938| 0.42709609018633915|  0.5304757198159686|  2.738752438954327| -1.5232301625369726|-0.1599183688539817| 0.8273015181087285| 0.9299209160270652| -1.0108429615027128|  1.214644517769933| 0.6571733942345732| 0.9349365041296943|0.01856560745641822|   1.362178776584528|  0.5304757198159686| -1.3109841341986301| 0.7649358137126823| 1.1157499814193446|   2.359614101017013|  1.7850647609118586|  2.8869237198159685|  1.5109658636625332|  0.5304757198159686|  0.5304757198159686|   2.707008350007133|  2.052917580281085|-0.3234665878763393|  0.5623124545098462| -0.9779673939564861|  -1.110857613517365| 0.36751752045905567|-0.0252385658983173|  0.5304757198159686|   2.678610943371039|  2.5174001184413988|   -1.07907842031142| 0.2883002170737382| 1.1065874776739428|-0.4341713390075608| 2.8474253466816415|  1.923770801783182|  1.8683075782230485|-0.16443467444926474|  1.7353589510563985|  0.5304757198159686| -1.7806563556557293|-0.39926621566790277| 1.9979601918656575|  0.977550187901075|  1.6164551012592674|-0.4695242801840316|  0.5304757198159686|0.15241199432577252| 1.0436136508504514|-0.19376524403945328| 0.8515027468429957|-0.15199263461441104|-0.03129605195580354| 0.9638609338237505|  1.7980876601144753|  2.7263243436691806|  1.475047148387397| 0.9435726465299168| 1.5812651935001782|  2.3351091509010127| 1.2645998883303808| 0.7554757198159686|  1.5316757198159696| 2.3099859238976013|-0.11002428018403121|   1.775294996924402|  0.5304757198159686|  -1.520348456008208| 0.7594893252581454|  0.5661120834523322|  2.2611191717463246|  1.5419399770575315|   3.138414829886228| 0.48554787374434927| 3.4612407471383726|  1.170092578053517|   1.752515853595232|   2.829923572576706|  1.3621874315276803| 0.7470911044313534|  2.6871966752991403|  0.6456798014486217|  0.5304757198159686|  3.2129497682588735|  1.3383150549960239|  0.6756941106205665| 0.2664848941278953| 1.4608090531493025|  2.130507166356849| -1.5729528516126026|  -2.195306593109201| 0.9584354513595932|  2.703018092697326| 1.0547614341016835| 0.18472133385105644|   2.239932695588732| 0.9972368534192078|-0.05730708561389586| 0.48662616229384464|   1.760671798247341| 2.8740037571991466| 0.44434433295465464|0.12836143410168288| 1.7742200120534108| 1.5812400510261608|  1.3299302652705143|-0.4706040923906045| -2.348931687591438| 0.2942852436254926|  2.2213907524957075|0.16986222288345348|   0.619262127582959| -1.2313805676091811| 1.1320501879010747|  2.4631017145109286| 1.2639628046868172|  2.245696137449379| -0.6974002200336549| 0.7070873703014054|-0.06564439457869387|-0.17513995182582232| -1.0399714733334118| -0.8632730908405495|  0.6180965037722128|  0.5405123163392987|\n",
      "|      2509|  1.1500757198159688|  1.1500757198159688|  1.1500757198159688|  1.1500757198159688|  1.1500757198159688|  1.1500757198159688| -0.2747049819384173|-0.44451190905001003|  1.1500757198159688|  1.1500757198159688|  1.1500757198159688|  1.1500757198159688|  -1.962466179625371|  1.1500757198159688|  -2.032874471754911| -1.0220700291718856|  1.1544305585256462| -0.8770110570435348|  0.713385649605337|  1.1500757198159688|  2.157328938700089|0.19762605538643907|   1.046349484074524| -0.3656077334214416| 0.9916168157063798|  1.0810132198159688|  1.1500757198159688| 1.7805650815180964|   2.344278618366694|  1.0466960901863394|  1.1500757198159688|  3.358352438954327| -0.9036301625369725|0.45968163114601845| 1.4469015181087288| 1.5495209160270653|-0.39124296150271265| 1.8342445177699331| 1.2767733942345734| 1.5545365041296946| 0.6381656074564184|   1.981778776584528|  1.1500757198159688|   -0.69138413419863| 1.3845358137126824| 1.7353499814193447|  2.9792141010170132|  2.4046647609118588|  3.5065237198159687|  2.1305658636625333|  1.1500757198159688|  1.1500757198159688|  3.3266083500071333|  2.672517580281085|0.29613341212366084|  1.1819124545098465|  -0.358367393956486|-0.49125761351736474|  0.9871175204590559| 0.5943614341016829|  1.1500757198159688|   3.298210943371039|   3.137000118441399|-0.45947842031141994| 0.9079002170737384|  1.726187477673943|0.18542866099243938| 3.4670253466816416| 2.5433708017831824|   2.487907578223049|  0.4551653255507354|   2.354958951056399|  1.1500757198159688| -1.1610563556557292| 0.22033378433209738| 2.6175601918656577| 1.5971501879010752|  2.2360551012592675|0.15007571981596857|  1.1500757198159688| 0.7720119943257726| 1.6632136508504516|  0.4258347559605469| 1.4711027468429958|  0.4676073653855891|  0.5883039480441966| 1.5834609338237506|  2.4176876601144754|   3.345924343669181|  2.094647148387397|  1.563172646529917| 2.2008651935001784|   2.954709150901013|  1.884199888330381| 1.3750757198159687|  2.1512757198159695| 2.9295859238976014|  0.5095757198159689|  2.3948949969244024|  1.1500757198159688| -0.9007484560082077| 1.3790893252581455|  1.1857120834523325|  2.8807191717463247|  2.1615399770575316|  3.7580148298862284|  1.1051478737443494|  4.080840747138373| 1.7896925780535171|  2.3721158535952322|   3.449523572576706|  1.9817874315276804| 1.3666911044313534|  3.3067966752991405|  1.2652798014486217|  1.1500757198159688|  3.8325497682588736|   1.957915054996024|  1.2952941106205667| 0.8860848941278954| 2.0804090531493027|  2.750107166356849| -0.9533528516126024| -1.5757065931092007| 1.5780354513595933|  3.322618092697326| 1.6743614341016837|  0.8043213338510566|   2.859532695588732|  1.616836853419208|  0.5622929143861043|  1.1062261622938447|   2.380271798247341| 3.4936037571991467|  1.0639443329546547|  0.747961434101683|  2.393820012053411|  2.200840051026161|  1.9495302652705144|0.14899590760939563|-1.7293316875914377| 0.9138852436254927|  2.8409907524957076| 0.7894622228834536|   1.238862127582959|  -0.611780567609181| 1.7516501879010749|   3.082701714510929| 1.8835628046868174| 2.8652961374493793|-0.07780022003365472| 1.3266873703014057|  0.5539556054213063| 0.44446004817417784| -0.4203714733334116|-0.24367309084054933|   1.237696503772213|   1.160112316339299|\n",
      "|      2529|  1.1368171832306029|  1.1368171832306029|  1.1368171832306029|  1.1368171832306029|  1.1368171832306029|  1.1368171832306029| -0.2879635185237832|-0.45777044563537594|  1.1368171832306029|  1.1368171832306029|  1.1368171832306029|  1.1368171832306029|  -1.975724716210737|  1.1368171832306029|  -2.046133008340277| -1.0353285657572515|  1.1411720219402803| -0.8902695936289007| 0.7001271130199711|  1.1368171832306029|  2.144070402114723|0.18436751880107316|   1.033090947489158| -0.3788662700068075| 0.9783582791210139|  1.0677546832306029|  1.1368171832306029| 1.7673065449327305|   2.331020081781328|  1.0334375536009734|  1.1368171832306029|  3.345093902368961| -0.9168886991223384|0.44642309456065254|  1.433642981523363| 1.5362623794416994|-0.40450149808807856| 1.8209859811845672| 1.2635148576492075| 1.5412779675443287| 0.6249070708710525|  1.9685202399991621|  1.1368171832306029| -0.7046426707839959| 1.3712772771273165| 1.7220914448339788|  2.9659555644316473|   2.391406224326493|  3.4932651832306028|  2.1173073270771674|  1.1368171832306029|  1.1368171832306029|  3.3133498134217674|  2.659259043695719|0.28287487553829493|  1.1686539179244806| -0.3716259305418519| -0.5045161501027307|    0.97385898387369| 0.5811028975163169|  1.1368171832306029|  3.2849524067856732|   3.123741581856033|-0.47273695689678585| 0.8946416804883724|  1.712928941088577|0.17217012440707347| 3.4537668100962757| 2.5301122651978165|   2.474649041637683|  0.4419067889653695|   2.341700414471033|  1.1368171832306029|  -1.174314892241095| 0.20707524774673147|  2.604301655280292| 1.5838916513157093|  2.2227965646739016|0.13681718323060266|  1.1368171832306029| 0.7587534577404067| 1.6499551142650857| 0.41257621937518096|   1.45784421025763|  0.4543488288002232|  0.5750454114588307| 1.5702023972383847|  2.4044291235291095|   3.332665807083815| 2.0813886118020313|  1.549914109944551| 2.1876066569148125|   2.941450614315647|  1.870941351745015| 1.3618171832306027|  2.1380171832306036| 2.9163273873122355| 0.49631718323060303|  2.3816364603390365|  1.1368171832306029| -0.9140069925935737| 1.3658307886727796|  1.1724535468669666|   2.867460635160959|  2.1482814404721657|  3.7447562933008625|  1.0918893371589835|  4.067582210553007| 1.7764340414681512|  2.3588573170098663|  3.4362650359913403|  1.9685288949423145| 1.3534325678459875|  3.2935381387137745|  1.2520212648632558|  1.1368171832306029|  3.8192912316735077|  1.9446565184106581|  1.2820355740352007| 0.8728263575425295|  2.067150516563937|  2.736848629771483| -0.9666113881979683| -1.5889651296945666| 1.5647769147742274|   3.30935955611196| 1.6611028975163178|  0.7910627972656907|   2.846274159003366|  1.603578316833842|  0.5490343778007384|  1.0929676257084788|  2.3670132616619752|  3.480345220613781|  1.0506857963692888| 0.7347028975163171|  2.380561475468045|  2.187581514440795|  1.9362717286851485|0.13573737102402972|-1.7425902241768036| 0.9006267070401268|  2.8277322159103417| 0.7762036862980877|   1.225603590997593| -0.6250391041945469|  1.738391651315709|   3.069443177925563| 1.8703042681014515| 2.8520376008640134|-0.09105875661902063| 1.3134288337160398|  0.5406970688359404|  0.4312015115888119|-0.43363000991877754|-0.25693162742591524|   1.224437967186847|   1.146853779753933|\n",
      "|      2927|   3.142657537997786|   3.142657537997786|   3.142657537997786|   3.142657537997786|   3.142657537997786|   3.142657537997786|     1.7178768362434|  1.5480699091318073|   3.142657537997786|   3.142657537997786|   3.142657537997786|   3.142657537997786|0.030115638556446278|   3.142657537997786|-0.04029265357309386|  0.9705117890099317|  3.1470123767074636|  1.1155707611382826|  2.705967467787154|   3.142657537997786|  4.149910756881906| 2.1902078735682564|   3.038931302256341|  1.6269740847603757|  2.984198633888197|   3.073595037997786|   3.142657537997786|  3.773146899699914|   4.336860436548511|  3.0392779083681565|   3.142657537997786|  5.350934257136144|  1.0889516556448449| 2.4522634493278357|  3.439483336290546|  3.542102734208883|  1.6013388566791047| 3.8268263359517505| 3.2693552124163907|  3.547118322311512| 2.6307474256382357|  3.9743605947663454|   3.142657537997786|  1.3011976839831874| 3.3771176318944995|  3.727931799601162|   4.971795919198831|   4.397246579093676|   5.499105537997786|   4.123147681844351|   3.142657537997786|   3.142657537997786|   5.319190168188951|  4.665099398462902|  2.288715230305478|  3.1744942726916636|  1.6342144242253314|  1.5013242046644526|   2.979699338640873|    2.5869432522835|   3.142657537997786|   5.290792761552856|   5.129581936623216|  1.5331033978703974| 2.9004820352555556| 3.7187692958557603| 2.1780104791742567|  5.459607164863459|  4.535952619964999|   4.480489396404866|  2.4477471437325526|   4.347540769238216|   3.142657537997786|  0.8315254625260882|   2.212915602513915| 4.6101420100474755| 3.5897320060828926|   4.228636919441085| 2.1426575379977857|   3.142657537997786|   2.76459381250759|  3.655795469032269|  2.4184165741423644| 3.4636845650248134|  2.4601891835674063|   2.580885766226014|  3.576042752005568|   4.410269478296293|   5.338506161850998| 4.0872289665692145| 3.5557544647117343|  4.193447011681996|   4.947290969082831| 3.8767817065121983|  3.367657537997786|   4.143857537997787|  4.922167742079418|  2.5021575379977863|   4.387476815106219|   3.142657537997786|  1.0918333621736096|  3.371671143439963|  3.1782939016341496|   4.873300989928142|   4.154121795239349|   5.750596648068045|  3.0977296919261668|   6.07342256532019| 3.7822743962353345|    4.36469767177705|   5.442105390758524|   3.974369249709498|  3.359272922613171|   5.299378493480958|   3.257861619630439|   3.142657537997786|  5.8251315864406905|  3.9504968731778414|   3.287875928802384|  2.878666712309713|   4.07299087133112|  4.742688984538667|   1.039228966569215| 0.41687522507261665|  3.570617269541411| 5.3151999108791435|  3.666943252283501|  2.7969031520328738|    4.85211451377055| 3.6094186716010253|  2.5548747325679217|  3.0988079804756623|  4.3728536164291585|  5.486185575380964|   3.056526151136472| 2.7405432522835005|  4.386401830235228|  4.193421869207978|   3.942112083452332| 2.1415777257912127| 0.2632501305903796|   2.90646706180731|   4.833572570677525|  2.782044041065271|  3.2314439457647763|  1.3808012505726364|  3.744232006082892|   5.075283532692746|  3.876144622868635|  4.857877955631197|  1.9147815981481626|  3.319269188483223|  2.5465374236031235|   2.437041866355995|  1.5722103448484057|   1.748908727341268|  3.2302783219540303|  3.1526941345211164|\n",
      "|      3091|   2.256031275371524|   2.256031275371524|   2.256031275371524|   2.256031275371524|   2.256031275371524|   2.256031275371524|  0.8312505736171378|  0.6614436465055451|   2.256031275371524|   2.256031275371524|   2.256031275371524|   2.256031275371524| -0.8565106240698159|   2.256031275371524| -0.9269189161993561| 0.08388552638366953|  2.2603861140812014| 0.22894449851202037| 1.8193412051608921|   2.256031275371524|  3.263284494255644| 1.3035816109419942|   2.152305039630079|  0.7403478221341135|  2.097572371261935|  2.1869687753715237|   2.256031275371524| 2.8865206370736516|   3.450234173922249|  2.1526516457418943|   2.256031275371524|  4.464307994509882| 0.20232539301858266| 1.5656371867015735|  2.552857073664284| 2.6554764715826207|  0.7147125940528425| 2.9402000733254883| 2.3827289497901285| 2.6604920596852497| 1.7441211630119735|   3.087734332140083|   2.256031275371524| 0.41457142135692515| 2.4904913692682373|    2.8413055369749|   4.085169656572568|   3.510620316467414|   4.612479275371523|  3.2365214192180884|   2.256031275371524|   2.256031275371524|   4.432563905562688|   3.77847313583664| 1.4020889676792159|  2.2878680100654014|  0.7475881615990692|  0.6146979420381904|   2.093073076014611| 1.7003169896572379|   2.256031275371524|   4.404166498926594|  4.2429556739969545|  0.6464771352441352| 2.0138557726292934|  2.832143033229498| 1.2913842165479945|  4.572980902237196| 3.6493263573387376|   3.593863133778604|  1.5611208811062904|   3.460914506611954|   2.256031275371524|-0.05510080010017404|  1.3262893398876525|  3.723515747421213| 2.7031057434566303|  3.3420106568148227| 1.2560312753715237|   2.256031275371524| 1.8779675498813277| 2.7691692064060067|   1.531790311516102| 2.5770583023985507|  1.5735629209411441|  1.6942595035997519| 2.6894164893793056|  3.5236432156700306|  4.4518798992247355| 3.2006027039429523|  2.669128202085472| 3.3068207490557335|   4.060664706456568|  2.990155443885936|  2.481031275371524|  3.2572312753715247| 4.0355414794531566|   1.615531275371524|  3.5008505524799576|   2.256031275371524|  0.2052070995473474|  2.485044880813701|  2.2916676390078874|    3.98667472730188|   3.267495532613087|  4.8639703854417835|  2.2111034292999046|  5.186796302693928| 2.8956481336090723|  3.4780714091507874|   4.555479128132261|  3.0877429870832356|  2.472646659986909|   4.412752230854696|   2.371235357004177|   2.256031275371524|   4.938505323814429|   3.063870610551579|   2.401249666176122| 1.9920404496834505|  3.186364608704858|  3.856062721912404| 0.15260270394295272|-0.46975103755364556| 2.6839910069151487|  4.428573648252881|  2.780316989657239|  1.9102768894066118|  3.9654882511442873|  2.722792408974763|  1.6682484699416595|     2.2121817178494|  3.4862273538028963|  4.599559312754701|    2.16989988851021| 1.8539169896572383|  3.499775567608966|  3.306795606581716|  3.0554858208260693| 1.2549514631649508|-0.6233761320358826|  2.019840799181048|   3.946946308051263| 1.8954177784390087|   2.344817683138514| 0.49417498794637416|   2.85760574345663|   4.188657270066484| 2.9895183602423723| 3.9712516930049344|  1.0281553355219004|  2.432642925856961|  1.6599111609768613|   1.550415603729733|  0.6855840822221435|  0.8622824647150058|   2.343652059327768|   2.266067871894854|\n",
      "|      3506|  -5.549524280184031|  -5.549524280184031|  -5.549524280184031|  -5.549524280184031|  -5.549524280184031|  -5.549524280184031|  -6.974304981938418|   -7.14411190905001|  -5.549524280184031|  -5.549524280184031|  -5.549524280184031|  -5.549524280184031|  -8.662066179625372|  -5.549524280184031|  -8.732474471754912|  -7.721670029171886| -5.5451694414743535|  -7.576611057043535| -5.986214350394663|  -5.549524280184031| -4.542271061299911| -6.501973944613561| -5.6532505159254764|  -7.065207733421442|  -5.70798318429362|  -5.618586780184032|  -5.549524280184031| -4.919034918481904|  -4.355321381633306|  -5.652903909813661|  -5.549524280184031| -3.341247561045673|  -7.603230162536972| -6.239918368853981| -5.252698481891271| -5.150079083972935|  -7.090842961502712| -4.865355482230067| -5.422826605765427| -5.145063495870306| -6.061434392543582|  -4.717821223415472|  -5.549524280184031|   -7.39098413419863| -5.315064186287318| -4.964250018580656|  -3.720385898982987|  -4.294935239088142| -3.1930762801840316|  -4.569034136337467|  -5.549524280184031|  -5.549524280184031|  -3.372991649992867| -4.027082419718916|-6.4034665878763395|  -5.517687545490154|  -7.057967393956487|  -7.190857613517365|  -5.712482479540944|-6.1052385658983175|  -5.549524280184031|  -3.401389056628961| -3.5625998815586013|   -7.15907842031142| -5.791699782926262| -4.973412522326058| -6.514171339007561|-3.2325746533183586| -4.156229198216818|  -4.211692421776951| -6.2444346744492645|  -4.344641048943601|  -5.549524280184031|  -7.860656355655729|  -6.479266215667903|-4.0820398081343425| -5.102449812098925|  -4.463544898740732| -6.549524280184031|  -5.549524280184031| -5.927588005674227| -5.036386349149549|  -6.273765244039454| -5.228497253157005|  -6.231992634614411| -6.1112960519558035|  -5.11613906617625|  -4.281912339885524| -3.3536756563308194| -4.604952851612603| -5.136427353470084| -4.498734806499822| -3.7448908490989874| -4.815400111669619| -5.324524280184032|  -4.548324280184031| -3.770014076102399|  -6.190024280184032|  -4.304705003075598|  -5.549524280184031| -7.6003484560082075| -5.320510674741855| -5.5138879165476675| -3.8188808282536755|  -4.538060022942469|  -2.941585170113772|  -5.594452126255651|-2.6187592528616275|-4.9099074219464836| -4.3274841464047675|  -3.250076427423294|   -4.71781256847232| -5.332908895568647| -3.3928033247008598| -5.4343201985513785|  -5.549524280184031| -2.8670502317411266|  -4.741684945003977|  -5.404305889379434| -5.813515105872105| -4.619190946850697| -3.949492833643151|  -7.652952851612603|  -8.275306593109201| -5.121564548640407| -3.376981907302674|-5.0252385658983165|  -5.895278666148943|  -3.840067304411268| -5.082763146580792|  -6.137307085613896|  -5.593373837706156| -4.3193282017526595|-3.2059962428008535|  -5.635655667045345|-5.9516385658983175|  -4.30577998794659|  -4.49875994897384|  -4.750069734729486| -6.550604092390604| -8.428931687591438|-5.7857147563745075| -3.8586092475042926| -5.910137777116547|  -5.460737872417041|  -7.311380567609181| -4.947949812098925| -3.6168982854890714| -4.816037195313183| -3.834303862550621|  -6.777400220033655| -5.372912629698595|  -6.145644394578694|  -6.255139951825822|  -7.119971473333412|   -6.94327309084055|  -5.461903496227787|  -5.539487683660702|\n",
      "|      3764|  1.3591991240712877|  1.3591991240712877|  1.3591991240712877|  1.3591991240712877|  1.3591991240712877|  1.3591991240712877|-0.06558157768309836| -0.2353885047946911|  1.3591991240712877|  1.3591991240712877|  1.3591991240712877|  1.3591991240712877| -1.7533427753700521|  1.3591991240712877| -1.8237510674995923| -0.8129466249165667|  1.3635539627809652| -0.6678876527882158|  0.922509053860656|  1.3591991240712877|  2.366452342955408|  0.406749459641758|   1.255472888329843|-0.15648432916612265| 1.2007402199616988|  1.2901366240712877|  1.3591991240712877| 1.9896884857734154|   2.553402022622013|  1.2558194944416583|  1.3591991240712877|  3.567475843209646| -0.6945067582816535| 0.6688050354013374| 1.6560249223640477| 1.7586443202823843| -0.1821195572473937|  2.043367922025252| 1.4858967984898923| 1.7636599083850135| 0.8472890117117373|   2.190902180839847|  1.3591991240712877|-0.48226072994331104| 1.5936592179680014| 1.9444733856746637|   3.188337505272332|  2.6137881651671777|  3.7156471240712876|  2.3396892679178523|  1.3591991240712877|  1.3591991240712877|  3.5357317542624522|  2.881640984536404| 0.5052568163789798|  1.3910358587651654|-0.14924398970116703| -0.2821342092620458|  1.1962409247143748| 0.8034848383570018|  1.3591991240712877|   3.507334347626358|   3.346123522696718|  -0.250355016056101| 1.1170236213290574|  1.935310881929262| 0.3945520652477583| 3.6761487509369606| 2.7524942060385014|   2.697030982478368|  0.6642887298060544|   2.564082355311718|  1.3591991240712877| -0.9519329514004102|  0.4294571885874163| 2.8266835961209766| 1.8062735921563942|  2.4451785055145865| 0.3591991240712875|  1.3591991240712877| 0.9811353985810916| 1.8723370551057705|  0.6349581602158658| 1.6802261510983147|  0.6767307696409081|  0.7974273522995156| 1.7925843380790696|  2.6268110643697944|  3.5550477479244997|  2.303770552642716| 1.7722960507852359| 2.4099885977554973|  3.1638325551563318|    2.0933232925857| 1.5841991240712876|  2.3603991240712885| 3.1387093281529204|  0.7186991240712879|  2.6040184011797214|  1.3591991240712877| -0.6916250517528888| 1.5882127295134645|  1.3948354877076514|  3.0898425760016437|  2.3706633813128506|  3.9671382341415473|  1.3142712779996684|  4.289964151393692|  1.998815982308836|   2.581239257850551|   3.658646976832025|  2.1909108357829994| 1.5758145086866724|  3.5159200795544594|  1.4744032057039407|  1.3591991240712877|   4.041673172514193|   2.167038459251343|  1.5044175148758856| 1.0952082983832143| 2.2895324574046216|  2.959230570612168| -0.7442294473572835| -1.3665831888538817| 1.7871588556149123|  3.531741496952645| 1.8834848383570026|  1.0134447381063756|   3.068656099844051| 1.8259602576745269|  0.7714163186414232|  1.3153495665491637|    2.58939520250266| 3.7027271614544657|  1.2730677372099737|  0.957084838357002|   2.60294341630873|   2.40996345528148|   2.158653669525833| 0.3581193118647146|-1.5202082833361188| 1.1230086478808117|  3.0501141567510266| 0.9985856271387725|   1.447985531838278|-0.40265716335386204| 1.9607735921563938|  3.2918251187662477|  2.092686208942136| 3.0744195417046982| 0.13132318422166422| 1.5358107745567247|  0.7630790096766252|  0.6535834524294968|-0.21124806907809268|-0.03454968658523039|   1.446819908027532|   1.369235720594618|\n",
      "|      4590|  -2.132024280184031|  -2.132024280184031|  -2.132024280184031|  -2.132024280184031|  -2.132024280184031|  -2.132024280184031| -3.5568049819384173| -3.7266119090500096|  -2.132024280184031|  -2.132024280184031|  -2.132024280184031|  -2.132024280184031|  -5.244566179625371|  -2.132024280184031|  -5.314974471754911|  -4.304170029171885| -2.1276694414743536|  -4.159111057043535| -2.568714350394663|  -2.132024280184031|-1.1247710612999111|-3.0844739446135607|  -2.235750515925476| -3.6477077334214414|  -2.29048318429362| -2.2010867801840313|  -2.132024280184031|-1.5015349184819033| -0.9378213816333059| -2.2354039098136607|  -2.132024280184031|0.07625243895432732|  -4.185730162536972|-2.8224183688539815| -1.835198481891271|-1.7325790839729345| -3.6733429615027124|-1.4478554822300667|-2.0053266057654264|-1.7275634958703052|-2.6439343925435814| -1.3003212234154717|  -2.132024280184031|   -3.97348413419863|-1.8975641862873174| -1.546750018580655|-0.30288589898298657|  -0.877435239088141| 0.22442371981596887| -1.1515341363374665|  -2.132024280184031|  -2.132024280184031| 0.04450835000713349|-0.6095824197189148| -2.985966587876339| -2.1001875454901535| -3.6404673939564858| -3.7733576135173648|  -2.294982479540944| -2.687738565898317|  -2.132024280184031|0.016110943371039355|-0.14509988155860087|   -3.74157842031142|-2.3741997829262615|-1.5559125223260568|-3.0966713390075604|0.18492534668164184|-0.7387291982168176| -0.7941924217769512| -2.8269346744492645| -0.9271410489436012|  -2.132024280184031|  -4.443156355655729| -3.0617662156679026|-0.6645398081343421|-1.6849498120989246| -1.0460448987407323| -3.132024280184031|  -2.132024280184031| -2.510088005674227|-1.6188863491495482|  -2.856265244039453| -1.810997253157004|  -2.814492634614411|  -2.693796051955803|-1.6986390661762492| -0.8644123398855244|   0.063824343669181|-1.1874528516126026|-1.7189273534700829|-1.0812348064998214|-0.32739084909898675|-1.3979001116696188|-1.9070242801840311|   -1.13082428018403|-0.3525140761023984|  -2.772524280184031| -0.8872050030755976|  -2.132024280184031|  -4.182848456008207|-1.9030106747418543| -2.0963879165476675|-0.40138082825367505| -1.1205600229424681|  0.4759148298862286| -2.1769521262556504|  0.798740747138373|-1.4924074219464827| -0.9099841464047675| 0.16742357257670637| -1.3003125684723194|-1.9154088955686464|0.024696675299140658|  -2.016820198551378|  -2.132024280184031|  0.5504497682588738| -1.3241849450039758| -1.9868058893794331| -2.396015105872104| -1.201690946850697|-0.5319928336431508|  -4.235452851612602|  -4.857806593109201|-1.7040645486404065|0.04051809269732631| -1.607738565898316| -2.4777786661489434|-0.42256730441126744|-1.6652631465807919| -2.7198070856138954|  -2.175873837706155| -0.9018282017526587|0.21150375719914694|  -2.218155667045345|-2.5341385658983167|-0.8882799879465888|-1.0812599489738388| -1.3325697347294854| -3.133104092390604| -5.011431687591438| -2.368214756374507|-0.44110924750429215| -2.492637777116546|  -2.043237872417041| -3.8938805676091808| -1.530449812098925|-0.19939828548907101|-1.3985371953131824|-0.4168038625506205| -3.3599002200336545| -1.955412629698594| -2.7281443945786936|  -2.837639951825822| -3.7024714733334116| -3.5257730908405494|  -2.044403496227787|  -2.121987683660701|\n",
      "|      4823|   2.294475719815969|   2.294475719815969|   2.294475719815969|   2.294475719815969|   2.294475719815969|   2.294475719815969|  0.8696950180615828|    0.69988809094999|   2.294475719815969|   2.294475719815969|   2.294475719815969|   2.294475719815969|  -0.818066179625371|   2.294475719815969| -0.8884744717549111| 0.12232997082811448|  2.2988305585256463|  0.2673889429564653|  1.857785649605337|   2.294475719815969|  3.301728938700089| 1.3420260553864392|   2.190749484074524|  0.7787922665785585|   2.13601681570638|  2.2254132198159686|   2.294475719815969| 2.9249650815180965|   3.488678618366694|   2.191096090186339|   2.294475719815969|  4.502752438954327|  0.2407698374630276| 1.6040816311460184|  2.591301518108729| 2.6939209160270656|  0.7531570384972874|  2.978644517769933| 2.4211733942345735| 2.6989365041296947| 1.7825656074564185|   3.126178776584528|   2.294475719815969|  0.4530158658013701| 2.5289358137126823|  2.879749981419345|   4.123614101017013|   3.549064760911859|   4.650923719815969|  3.2749658636625334|   2.294475719815969|   2.294475719815969|   4.471008350007134|  3.816917580281085| 1.4405334121236608|  2.3263124545098464|  0.7860326060435141|  0.6531423864826353|   2.131517520459056| 1.7387614341016828|   2.294475719815969|   4.442610943371039|   4.281400118441399|  0.6849215796885801| 2.0523002170737383|  2.870587477673943| 1.3298286609924395|  4.611425346681642| 3.6877708017831825|   3.632307578223049|  1.5995653255507354|   3.499358951056399|   2.294475719815969|-0.01665635565572...|  1.3647337843320975| 3.7619601918656578| 2.7415501879010753|  3.3804551012592676| 1.2944757198159687|   2.294475719815969| 1.9164119943257727| 2.8076136508504517|   1.570234755960547| 2.6155027468429957|   1.612007365385589|  1.7327039480441968| 2.7278609338237505|  3.5620876601144755|   4.490324343669181| 3.2390471483873973|  2.707572646529917| 3.3452651935001785|   4.099109150901013|  3.028599888330381|  2.519475719815969|  3.2956757198159696| 4.0739859238976015|   1.653975719815969|  3.5392949969244025|   2.294475719815969| 0.24365154399179234|  2.523489325258146|  2.3301120834523323|   4.025119171746325|  3.3059399770575317|  4.9024148298862285|  2.2495478737443495|  5.225240747138373|  2.934092578053517|  3.5165158535952323|   4.593923572576706|  3.1261874315276805| 2.5110911044313537|  4.4511966752991405|   2.409679801448622|   2.294475719815969|   4.976949768258874|   3.102315054996024|  2.4396941106205667| 2.0304848941278957| 3.2248090531493028|  3.894507166356849| 0.19104714838739767| -0.4313065931092006| 2.7224354513595936|  4.467018092697327|  2.818761434101684|  1.9487213338510567|   4.003932695588732|  2.761236853419208|  1.7066929143861045|   2.250626162293845|  3.5246717982473412|  4.638003757199147|   2.208344332954655| 1.8923614341016832|  3.538220012053411|  3.345240051026161|  3.0939302652705143| 1.2933959076093957|-0.5849316875914377|  2.058285243625493|  3.9853907524957077| 1.9338622228834537|   2.383262127582959|  0.5326194323908191|  2.896050187901075|   4.227101714510929|  3.027962804686817|   4.00969613744938|  1.0665997799663454|  2.471087370301406|  1.6983556054213063|   1.588860048174178|  0.7240285266665885|  0.9007269091594508|   2.382096503772213|   2.304512316339299|\n",
      "+----------+--------------------+--------------------+--------------------+--------------------+--------------------+--------------------+--------------------+--------------------+--------------------+--------------------+--------------------+--------------------+--------------------+--------------------+--------------------+--------------------+--------------------+--------------------+-------------------+--------------------+-------------------+-------------------+--------------------+--------------------+-------------------+--------------------+--------------------+-------------------+--------------------+--------------------+--------------------+-------------------+--------------------+-------------------+-------------------+-------------------+--------------------+-------------------+-------------------+-------------------+-------------------+--------------------+--------------------+--------------------+-------------------+-------------------+--------------------+--------------------+--------------------+--------------------+--------------------+--------------------+--------------------+-------------------+-------------------+--------------------+--------------------+--------------------+--------------------+-------------------+--------------------+--------------------+--------------------+--------------------+-------------------+-------------------+-------------------+-------------------+-------------------+--------------------+--------------------+--------------------+--------------------+--------------------+--------------------+-------------------+-------------------+--------------------+-------------------+--------------------+-------------------+-------------------+--------------------+-------------------+--------------------+--------------------+-------------------+--------------------+--------------------+-------------------+-------------------+-------------------+--------------------+-------------------+-------------------+--------------------+-------------------+--------------------+--------------------+--------------------+--------------------+-------------------+--------------------+--------------------+--------------------+--------------------+--------------------+-------------------+-------------------+--------------------+--------------------+--------------------+-------------------+--------------------+--------------------+--------------------+--------------------+--------------------+--------------------+-------------------+-------------------+-------------------+--------------------+--------------------+-------------------+-------------------+-------------------+--------------------+--------------------+-------------------+--------------------+--------------------+--------------------+-------------------+--------------------+-------------------+-------------------+-------------------+--------------------+-------------------+-------------------+-------------------+--------------------+-------------------+--------------------+--------------------+-------------------+--------------------+-------------------+-------------------+--------------------+-------------------+--------------------+--------------------+--------------------+--------------------+--------------------+--------------------+\n",
      "only showing top 20 rows\n"
     ]
    }
   ],
   "source": [
    "test_means_df = train_means_df\n",
    "test_means_bias = test_means_df.join(user_bias, on=\"user_index\", how=\"inner\")\n",
    "joke_cols = [c for c in test_means_df.columns if c != \"user_index\"]\n",
    "joke_bias_dict = {row[\"Joke\"]: row[\"joke_bias\"] for row in joke_bias.collect()}\n",
    "#print(joke_bias_dict)\n",
    "for c in joke_cols:\n",
    "    test_means_bias = test_means_bias.withColumn(c, col(c) + col(\"user_bias\"))\n",
    "\n",
    "    if c in joke_bias_dict:\n",
    "        test_means_bias = test_means_bias.withColumn(c, col(c) + lit(joke_bias_dict[c]))\n",
    "    test_means_bias = test_means_bias.withColumn(c, when(col(c) > 10, 10).otherwise(col(c)))\n",
    "    test_means_bias = test_means_bias.withColumn(c, when(col(c) < -10, -10).otherwise(col(c)))\n",
    "\n",
    "test_means_bias = test_means_bias.drop(\"user_bias\")\n",
    "test_means_bias.show()"
   ]
  },
  {
   "cell_type": "markdown",
   "id": "9d9f8980-316f-43ce-8648-e666301c35bd",
   "metadata": {
    "id": "9d9f8980-316f-43ce-8648-e666301c35bd"
   },
   "source": [
    "I can then compute the RMSE by \"melting\" (i.e. unpivoting) the training dataframe and dropping NAs.  I do the same for the global baseline prediction dataframe, and then join the two dataframes together based on user_index and joke.  This gives me a dataframe in long format containing unique user_index, joke combinations along with the actual ratings and predicted value based on the global baseline prediction.  With this format of PySpark dataframe, I can use RegressionEvaluator from pyspark.ml.evaluation and indicate that the prediction column is in the column \"Prediction\" while the actual value is in the column \"Rating\"."
   ]
  },
  {
   "cell_type": "code",
   "execution_count": 17,
   "id": "bd529684-d35a-49dd-b21d-d71a04175a39",
   "metadata": {},
   "outputs": [
    {
     "name": "stdout",
     "output_type": "stream",
     "text": [
      "+----------+--------+------+--------------------+\n",
      "|user_index|    Joke|Rating|          Prediction|\n",
      "+----------+--------+------+--------------------+\n",
      "|        29|joke_072| -2.97|0.007858951056398444|\n",
      "|      2250|joke_110|   1.1|   3.711327734783351|\n",
      "|      2529|joke_127|  -2.3|  1.6611028975163178|\n",
      "|      2927|joke_098|  10.0|  2.5021575379977863|\n",
      "|      2927|joke_150|   0.0|   4.857877955631197|\n",
      "|      3764|joke_047|  2.72|   3.188337505272332|\n",
      "|      6721|joke_056|   0.0|  0.5623124545098462|\n",
      "|      1258|joke_071| -0.33|  -0.709487306028212|\n",
      "|      1409|joke_055| -7.87| -0.9481808735906244|\n",
      "|      1409|joke_132| -9.94|-0.13808812342044047|\n",
      "|      3155|joke_018|  -3.3| -3.4578110570435348|\n",
      "|      3155|joke_152| -10.0| -1.2541126296985943|\n",
      "|      1690|joke_019| -1.12|  -4.067083915612054|\n",
      "|      2944|joke_019| -3.56|   -0.70038101706133|\n",
      "|      6508|joke_138|  5.12| 0.30366995756821646|\n",
      "|      1077|joke_104|   0.0|  3.2511191717463244|\n",
      "|      4117|joke_105|  2.07|  0.3494399770575314|\n",
      "|      5799|joke_021|   0.0|  3.3033539387000888|\n",
      "|      1480|joke_087| -2.07|   4.955324348457898|\n",
      "|      3382|joke_134|  2.72|   6.756261821715276|\n",
      "+----------+--------+------+--------------------+\n",
      "only showing top 20 rows\n"
     ]
    }
   ],
   "source": [
    "rmse_bias_train = pivot_train_union.unpivot(ids=[\"user_index\"], values=user_columns, variableColumnName=\"Joke\", valueColumnName=\"Rating\")\n",
    "rmse_bias_train = rmse_bias_train.dropna()\n",
    "train_means_bias_pivot = train_means_bias.unpivot(ids=[\"user_index\"], values=user_columns, variableColumnName=\"Joke\", valueColumnName=\"Rating\")\n",
    "train_means_bias_pivot = train_means_bias_pivot.withColumnRenamed(\"Rating\",\"Prediction\")\n",
    "rmse_bias_train = rmse_bias_train.join(train_means_bias_pivot, on = [\"user_index\",\"Joke\"], how = \"inner\")\n",
    "rmse_bias_train.show()"
   ]
  },
  {
   "cell_type": "code",
   "execution_count": 18,
   "id": "cb90312c-cbf1-4ef9-b352-65f770334ff2",
   "metadata": {},
   "outputs": [
    {
     "name": "stdout",
     "output_type": "stream",
     "text": [
      "4.28245951030375\n"
     ]
    }
   ],
   "source": [
    "from pyspark.ml.evaluation import RegressionEvaluator\n",
    "evaluator = RegressionEvaluator(predictionCol=\"Prediction\", labelCol=\"Rating\", metricName=\"rmse\")\n",
    "rmse_gb_train = evaluator.evaluate(rmse_bias_train)\n",
    "print(rmse_gb_train)"
   ]
  },
  {
   "cell_type": "code",
   "execution_count": 19,
   "id": "6250ef18-9644-420c-9804-0a0574b5a230",
   "metadata": {
    "id": "6250ef18-9644-420c-9804-0a0574b5a230",
    "outputId": "2ddb4e7c-ebc2-4710-9b16-92066f878492"
   },
   "outputs": [
    {
     "name": "stdout",
     "output_type": "stream",
     "text": [
      "+----------+--------+------+-------------------+\n",
      "|user_index|    Joke|Rating|         Prediction|\n",
      "+----------+--------+------+-------------------+\n",
      "|      5572|joke_019|   0.0|0.09378564960533681|\n",
      "|      6262|joke_088|  0.22| 1.5222981864302647|\n",
      "|      6479|joke_062|  4.72|  2.228610943371039|\n",
      "|      4636|joke_072|   0.0| 0.9894065701040174|\n",
      "|      2961|joke_019| -6.77|-0.3270654142244505|\n",
      "|      5957|joke_105|  1.63| 2.9869399770575313|\n",
      "|      3787|joke_053|   6.6|  5.709307200581844|\n",
      "|      3689|joke_054|  1.54| 2.3721281065968745|\n",
      "|      5453|joke_118|  10.0| 5.3025372772182475|\n",
      "|      2308|joke_127|   0.0|   2.20642810076835|\n",
      "|      2841|joke_019|  2.64| 0.4657856496053368|\n",
      "|      1969|joke_123| -4.88| 2.5165926029328523|\n",
      "|      2153|joke_019|  4.39|-0.5459113200916328|\n",
      "|      1002|joke_129| -1.89| 1.5110865417425785|\n",
      "|      3343|joke_072|  5.98|0.31035895105639844|\n",
      "|      2404|joke_132| -4.94|-5.0008738377061555|\n",
      "|      2546|joke_132|   0.0|  5.050376162293844|\n",
      "|      2414|joke_114|  10.0|  8.408735136837603|\n",
      "|      2441|joke_046| -10.0|-1.5839559009335962|\n",
      "|      4434|joke_104| -2.74| 2.0611191717463244|\n",
      "+----------+--------+------+-------------------+\n",
      "only showing top 20 rows\n"
     ]
    }
   ],
   "source": [
    "rmse_bias_test = pivot_test_union.unpivot(ids=[\"user_index\"], values=user_columns, variableColumnName=\"Joke\", valueColumnName=\"Rating\")\n",
    "rmse_bias_test = rmse_bias_test.dropna()\n",
    "test_means_bias_pivot = test_means_bias.unpivot(ids=[\"user_index\"], values=user_columns, variableColumnName=\"Joke\", valueColumnName=\"Rating\")\n",
    "test_means_bias_pivot = test_means_bias_pivot.withColumnRenamed(\"Rating\",\"Prediction\")\n",
    "rmse_bias_test = rmse_bias_test.join(test_means_bias_pivot, on = [\"user_index\",\"Joke\"], how = \"inner\")\n",
    "rmse_bias_test.show()"
   ]
  },
  {
   "cell_type": "code",
   "execution_count": 20,
   "id": "4b0a74dd-4459-40ef-9a68-af3a03dd9d9f",
   "metadata": {},
   "outputs": [
    {
     "name": "stdout",
     "output_type": "stream",
     "text": [
      "4.712638333379371\n"
     ]
    }
   ],
   "source": [
    "rmse_gb_test = evaluator.evaluate(rmse_bias_test)\n",
    "print(rmse_gb_test)"
   ]
  },
  {
   "cell_type": "markdown",
   "id": "7f6789df-6c1f-478c-9424-d860ec6ac906",
   "metadata": {},
   "source": [
    "# Conclusion\n",
    "\n",
    "This exercise was intended to provide an introduction to PySpark, although its use in this assignment was not intended to demonstrate its utility given the small dataset.  I had first attempted to perform this exercise on Assignment 4, given its much larger dataset.  However, because I am running PySpark on my local machine and not a machine cluster (given that databricks no longer allows us to spin up clusters for free), I ran into significant memory issues.  Even when using the same pared down dataset in Assignment 4 (I had used only 20% of the dataset), PySpark encountered memory issues in areas where Pandas was able to complete equivalent transformations.  Given the limitations of my local machine, I had to swap to adapting Assignment 2 to PySpark.  \n",
    "\n",
    "I ran into similar problems when attempting the Content-Based filtering step of my Assignment 2 recommender system, as shown below.  While I was able to find the features of the jokes dataset with TF-IDF in PySpark, using HashingTF and IDF in pyspark.ml.feature, my Spark session crashed continuously when attempting to calculate cosine similarity through a user defined function.  \n",
    "\n",
    "While this exercise was a good introduction for manipulating Spark dataframes and provided an overview of its use and set-up, ultimately for smaller datasets and local machines, Pandas is likely the better choice.  However, I still believe that my Assignment 4 recommender system demonstrates the necessity of moving to a distributed platform.  At its full size, I encountered memory issues that prohibited me from transforming the data.  With access to machine clusters, these operations could have been performed given its access to more memory and parallelized processing.  For this current assignment, based off of assignment 2, the dataset is much smaller and can be fully implemented using just Pandas.  Many operations - such as finding cosine similarity, or any other element-wise operations - were more difficult using PySpark and required iteration.  However, the utility of SQL-like functions did streamline other transformations, such as finding distinct_count.  With exposure to more PySpark packages, such as RegressionEvaluator, it is likely that I can find better ways to perform the cumbersome operations.  "
   ]
  },
  {
   "cell_type": "markdown",
   "id": "9607a75a-f9ab-40dc-95d3-bde0ef3856d0",
   "metadata": {
    "id": "9607a75a-f9ab-40dc-95d3-bde0ef3856d0"
   },
   "source": [
    "# Appendix: TF-IDF with PySpark"
   ]
  },
  {
   "cell_type": "code",
   "execution_count": 21,
   "id": "15e4df5e-874a-43c1-86c4-7f9c9c6967e7",
   "metadata": {
    "id": "15e4df5e-874a-43c1-86c4-7f9c9c6967e7",
    "outputId": "d1d02a80-a8b0-479b-b444-f907690cdfe4"
   },
   "outputs": [
    {
     "name": "stdout",
     "output_type": "stream",
     "text": [
      "root\n",
      " |-- Joke: string (nullable = false)\n",
      " |-- Joke_Content: string (nullable = false)\n",
      "\n",
      "+--------+--------------------+\n",
      "|    Joke|        Joke_Content|\n",
      "+--------+--------------------+\n",
      "|joke_001|\"A man visits the...|\n",
      "|joke_002|\"This couple had ...|\n",
      "|joke_003|Q. What's 200 fee...|\n",
      "|joke_004|Q. What's the dif...|\n",
      "|joke_005|Q.\\tWhat's O. J. ...|\n",
      "|joke_006|Bill & Hillary ar...|\n",
      "|joke_007|How many feminist...|\n",
      "|joke_008|Q. Did you hear a...|\n",
      "|joke_009|\"A country guy go...|\n",
      "|joke_010|\"Two cannibals ar...|\n",
      "|joke_011|Q. What do a hurr...|\n",
      "|joke_012|\"A guy stood over...|\n",
      "|joke_013|\"They asked the J...|\n",
      "|joke_014|\"The father was v...|\n",
      "|joke_015|Q:  What did the ...|\n",
      "|joke_016|Q. What is orange...|\n",
      "|joke_017|How many men does...|\n",
      "|joke_018|\"A dog walks into...|\n",
      "|joke_019|\"Q: If a person w...|\n",
      "|joke_020|What's the differ...|\n",
      "+--------+--------------------+\n",
      "only showing top 20 rows\n"
     ]
    }
   ],
   "source": [
    "# Import the data\n",
    "#jokes_df = pd.read_csv(\"https://raw.githubusercontent.com/koonkimb/Data612/refs/heads/main/Project_2/data/Dataset4JokeSet.csv\", header = None)\n",
    "jokes_df = spark.read.csv(\"Dataset4JokeSet.csv\", header = False)\n",
    "\n",
    "jokes_df = jokes_df.withColumn(\"Joke_Content\",  concat_ws(\" \", col(\"_c0\"), col(\"_c1\")))\n",
    "jokes_df = jokes_df.withColumn('_c0', monotonically_increasing_id() + 1)\n",
    "\n",
    "joke_index = train_means_bias_pivot.select(\"Joke\").distinct().orderBy(\"Joke\")\n",
    "joke_index = joke_index.withColumn('_c0', monotonically_increasing_id() + 1)\n",
    "jokes_df = joke_index.join(jokes_df, on = '_c0', how = 'inner')\n",
    "jokes_df = jokes_df.drop('_c0','_c1')\n",
    "jokes_df.printSchema()\n",
    "jokes_df.show()"
   ]
  },
  {
   "cell_type": "code",
   "execution_count": 22,
   "id": "15fffdae-c6e2-4036-92f5-c6ec985d0d39",
   "metadata": {},
   "outputs": [],
   "source": [
    "from pyspark.ml.feature import HashingTF, IDF\n",
    "from pyspark.ml.linalg import DenseVector, Vectors\n",
    "from pyspark.sql.functions import udf, col"
   ]
  },
  {
   "cell_type": "code",
   "execution_count": 23,
   "id": "b3e55822-b461-418f-9bd6-23e3243d7c03",
   "metadata": {
    "id": "b3e55822-b461-418f-9bd6-23e3243d7c03",
    "outputId": "a6d8e6d4-9d3e-4753-9e03-f6866d41df05"
   },
   "outputs": [
    {
     "name": "stdout",
     "output_type": "stream",
     "text": [
      "+--------+--------------------+--------------------+\n",
      "|    Joke|        Joke_Content|            features|\n",
      "+--------+--------------------+--------------------+\n",
      "|joke_001|[\"A, man, visits,...|(262144,[3856,722...|\n",
      "|joke_002|[\"This, couple, h...|(262144,[17893,18...|\n",
      "|joke_003|[Q., What's, 200,...|(262144,[32769,41...|\n",
      "|joke_004|[Q., What's, the,...|(262144,[3834,942...|\n",
      "|joke_005|[Q.\\tWhat's, O., ...|(262144,[61321,87...|\n",
      "|joke_006|[Bill, &, Hillary...|(262144,[2665,119...|\n",
      "|joke_007|[How, many, femin...|(262144,[19736,27...|\n",
      "|joke_008|[Q., Did, you, he...|(262144,[18700,27...|\n",
      "|joke_009|[\"A, country, guy...|(262144,[921,1199...|\n",
      "|joke_010|[\"Two, cannibals,...|(262144,[16108,21...|\n",
      "|joke_011|[Q., What, do, a,...|(262144,[19546,27...|\n",
      "|joke_012|[\"A, guy, stood, ...|(262144,[5680,275...|\n",
      "|joke_013|[\"They, asked, th...|(262144,[9378,253...|\n",
      "|joke_014|[\"The, father, wa...|(262144,[9056,216...|\n",
      "|joke_015|[Q:, , What, did,...|(262144,[19208,24...|\n",
      "|joke_016|[Q., What, is, or...|(262144,[49331,83...|\n",
      "|joke_017|[How, many, men, ...|(262144,[14273,27...|\n",
      "|joke_018|[\"A, dog, walks, ...|(262144,[4631,252...|\n",
      "|joke_019|[\"Q:, If, a, pers...|(262144,[70488,80...|\n",
      "|joke_020|[What's, the, dif...|(262144,[3834,722...|\n",
      "+--------+--------------------+--------------------+\n",
      "only showing top 20 rows\n"
     ]
    }
   ],
   "source": [
    "joke_df_processed = jokes_df.withColumn(\"Joke_Content\", split(jokes_df[\"Joke_Content\"], \" \"))\n",
    "hashingTF = HashingTF(inputCol=\"Joke_Content\", outputCol=\"features\")\n",
    "joke_features_df = hashingTF.transform(joke_df_processed)\n",
    "joke_features_df.show()"
   ]
  },
  {
   "cell_type": "code",
   "execution_count": 24,
   "id": "a0a2af92-62b6-4c05-b925-41cc6702a462",
   "metadata": {},
   "outputs": [
    {
     "name": "stdout",
     "output_type": "stream",
     "text": [
      "+--------+--------------------+\n",
      "|    Joke|        IDF_features|\n",
      "+--------+--------------------+\n",
      "|joke_001|(262144,[3856,722...|\n",
      "|joke_002|(262144,[17893,18...|\n",
      "|joke_003|(262144,[32769,41...|\n",
      "|joke_004|(262144,[3834,942...|\n",
      "|joke_005|(262144,[61321,87...|\n",
      "|joke_006|(262144,[2665,119...|\n",
      "|joke_007|(262144,[19736,27...|\n",
      "|joke_008|(262144,[18700,27...|\n",
      "|joke_009|(262144,[921,1199...|\n",
      "|joke_010|(262144,[16108,21...|\n",
      "|joke_011|(262144,[19546,27...|\n",
      "|joke_012|(262144,[5680,275...|\n",
      "|joke_013|(262144,[9378,253...|\n",
      "|joke_014|(262144,[9056,216...|\n",
      "|joke_015|(262144,[19208,24...|\n",
      "|joke_016|(262144,[49331,83...|\n",
      "|joke_017|(262144,[14273,27...|\n",
      "|joke_018|(262144,[4631,252...|\n",
      "|joke_019|(262144,[70488,80...|\n",
      "|joke_020|(262144,[3834,722...|\n",
      "+--------+--------------------+\n",
      "only showing top 20 rows\n"
     ]
    }
   ],
   "source": [
    "idf = IDF(inputCol=\"features\", outputCol=\"IDF_features\")\n",
    "idf_model = idf.fit(joke_features_df)\n",
    "tfidf_df = idf_model.transform(joke_features_df)\n",
    "tfidf_df = tfidf_df.select(\"Joke\",\"IDF_features\")\n",
    "tfidf_df.show()"
   ]
  },
  {
   "cell_type": "code",
   "execution_count": 25,
   "id": "52456206-2c6a-4d88-920b-252e8c580e4f",
   "metadata": {},
   "outputs": [],
   "source": [
    "spark.stop()"
   ]
  }
 ],
 "metadata": {
  "colab": {
   "provenance": []
  },
  "kernelspec": {
   "display_name": "Python 3 (ipykernel)",
   "language": "python",
   "name": "python3"
  },
  "language_info": {
   "codemirror_mode": {
    "name": "ipython",
    "version": 3
   },
   "file_extension": ".py",
   "mimetype": "text/x-python",
   "name": "python",
   "nbconvert_exporter": "python",
   "pygments_lexer": "ipython3",
   "version": "3.12.4"
  }
 },
 "nbformat": 4,
 "nbformat_minor": 5
}

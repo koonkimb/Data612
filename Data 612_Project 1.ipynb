{
 "cells": [
  {
   "cell_type": "markdown",
   "id": "15151488-8539-4828-bda0-1e1f1025d68b",
   "metadata": {},
   "source": [
    "This system recommends books from the Goosebumps series to readers.  Data was sourced from Kaggle via https://www.kaggle.com/code/saurabhbagchi/recommender-system-for-books/input.  Specifically, the Ratings.csv and Books.csv file were used.  A smaller subset of data was used, first by isolating ratings for only Goosebumps titles, and then selecting the top 5 users by number of reviews provided.  From there, any Goosebumps novel with greater than 2 reviews were included in this dataset.  The input data is therefore composed of 5 users with their ratings across 9 books.  "
   ]
  },
  {
   "cell_type": "code",
   "execution_count": 23,
   "id": "7363bcda-f4a2-4db7-96fd-3dcb327f0d82",
   "metadata": {},
   "outputs": [
    {
     "name": "stdout",
     "output_type": "stream",
     "text": [
      "    userid                        title  rating\n",
      "13  185233                Monster Blood     5.0\n",
      "6    13518        My Hairiest Adventure     7.0\n",
      "24  201353        My Hairiest Adventure     6.0\n",
      "21  201353       Egg Monsters from Mars     6.0\n",
      "2    13518         Attack of the Mutant     4.0\n",
      "10  185233    A Shocker on Shock Street     5.0\n",
      "3    13518       Egg Monsters from Mars     2.0\n",
      "31  215024                Monster Blood     9.0\n",
      "19  201353    A Shocker on Shock Street     6.0\n",
      "41   67782            Monster Blood III     8.0\n",
      "42   67782        My Hairiest Adventure     9.0\n",
      "12  185233       Egg Monsters from Mars     5.0\n",
      "15  185233        My Hairiest Adventure     5.0\n",
      "7    13518           The Headless Ghost     9.0\n",
      "36   67782      A Night in Terror Tower     8.0\n",
      "5    13518            Monster Blood III     5.0\n",
      "44   67782  The Horror at Camp Jellyjam    10.0\n",
      "8    13518  The Horror at Camp Jellyjam     8.0\n",
      "20  201353         Attack of the Mutant     6.0\n",
      "35  215024  The Horror at Camp Jellyjam     4.0\n",
      "25  201353           The Headless Ghost     6.0\n",
      "    userid                      title  rating\n",
      "0    13518    A Night in Terror Tower     9.0\n",
      "29  215024       Attack of the Mutant     4.0\n",
      "37   67782  A Shocker on Shock Street    10.0\n",
      "16  185233         The Headless Ghost     5.0\n",
      "32  215024          Monster Blood III    10.0\n",
      "18  201353    A Night in Terror Tower     6.0\n"
     ]
    }
   ],
   "source": [
    "import pandas as pd\n",
    "import numpy as np\n",
    "\n",
    "df = pd.read_csv(\"C:\\\\Users\\\\Kim\\\\Downloads\\\\ratings\\\\Goosebumps_ratings.csv\", header = 0)\n",
    "#print(df)\n",
    "\n",
    "df_dropped = df.dropna()\n",
    "\n",
    "df_random = df_dropped.sample(frac = 1, random_state = 63)\n",
    "split_size = int(0.8*len(df_random))\n",
    "train = df_random[:split_size]\n",
    "test = df_random[split_size:]\n",
    "\n",
    "print(train)\n",
    "print(test)"
   ]
  },
  {
   "cell_type": "code",
   "execution_count": 80,
   "id": "2c0e999a-56d2-48d7-a810-10992e8bf5e5",
   "metadata": {},
   "outputs": [
    {
     "name": "stdout",
     "output_type": "stream",
     "text": [
      "title   A Night in Terror Tower  A Shocker on Shock Street  \\\n",
      "userid                                                       \n",
      "13518                       NaN                        NaN   \n",
      "67782                       8.0                        NaN   \n",
      "185233                      NaN                        5.0   \n",
      "201353                      NaN                        6.0   \n",
      "215024                      NaN                        NaN   \n",
      "\n",
      "title   Attack of the Mutant  Egg Monsters from Mars  Monster Blood  \\\n",
      "userid                                                                \n",
      "13518                    4.0                     2.0            NaN   \n",
      "67782                    NaN                     NaN            NaN   \n",
      "185233                   NaN                     5.0            5.0   \n",
      "201353                   6.0                     6.0            NaN   \n",
      "215024                   NaN                     NaN            9.0   \n",
      "\n",
      "title   Monster Blood III  My Hairiest Adventure  The Headless Ghost  \\\n",
      "userid                                                                 \n",
      "13518                 5.0                    7.0                 9.0   \n",
      "67782                 8.0                    9.0                 NaN   \n",
      "185233                NaN                    5.0                 NaN   \n",
      "201353                NaN                    6.0                 6.0   \n",
      "215024                NaN                    NaN                 NaN   \n",
      "\n",
      "title   The Horror at Camp Jellyjam  \n",
      "userid                               \n",
      "13518                           8.0  \n",
      "67782                          10.0  \n",
      "185233                          NaN  \n",
      "201353                          NaN  \n",
      "215024                          4.0  \n",
      "title   A Night in Terror Tower  A Shocker on Shock Street  \\\n",
      "userid                                                       \n",
      "13518                       9.0                        NaN   \n",
      "67782                       NaN                       10.0   \n",
      "185233                      NaN                        NaN   \n",
      "201353                      6.0                        NaN   \n",
      "215024                      NaN                        NaN   \n",
      "\n",
      "title   Attack of the Mutant  Egg Monsters from Mars  Monster Blood  \\\n",
      "userid                                                                \n",
      "13518                    NaN                     NaN            NaN   \n",
      "67782                    NaN                     NaN            NaN   \n",
      "185233                   NaN                     NaN            NaN   \n",
      "201353                   NaN                     NaN            NaN   \n",
      "215024                   4.0                     NaN            NaN   \n",
      "\n",
      "title   Monster Blood III  My Hairiest Adventure  The Headless Ghost  \\\n",
      "userid                                                                 \n",
      "13518                 NaN                    NaN                 NaN   \n",
      "67782                 NaN                    NaN                 NaN   \n",
      "185233                NaN                    NaN                 5.0   \n",
      "201353                NaN                    NaN                 NaN   \n",
      "215024               10.0                    NaN                 NaN   \n",
      "\n",
      "title   The Horror at Camp Jellyjam  \n",
      "userid                               \n",
      "13518                           NaN  \n",
      "67782                           NaN  \n",
      "185233                          NaN  \n",
      "201353                          NaN  \n",
      "215024                          NaN  \n"
     ]
    }
   ],
   "source": [
    "pivot_train = train.pivot(index='userid', columns='title', values='rating')\n",
    "print(pivot_train)\n",
    "\n",
    "pivot_test = test.pivot(index='userid', columns='title', values='rating')\n",
    "pivot_test.insert(3,'Egg Monsters from Mars', np.nan)\n",
    "pivot_test.insert(4,'Monster Blood', np.nan)\n",
    "pivot_test.insert(6,'My Hairiest Adventure', np.nan)\n",
    "pivot_test.insert(8,'The Horror at Camp Jellyjam', np.nan)\n",
    "print(pivot_test)"
   ]
  },
  {
   "cell_type": "code",
   "execution_count": 29,
   "id": "3f45e353-48fd-4aaf-bad0-0f69b9556746",
   "metadata": {},
   "outputs": [
    {
     "name": "stdout",
     "output_type": "stream",
     "text": [
      "6.333333333333333\n"
     ]
    }
   ],
   "source": [
    "train_means = train['rating'].mean()\n",
    "print(train_means)"
   ]
  },
  {
   "cell_type": "code",
   "execution_count": 88,
   "id": "f3ace7ad-e010-4c4b-9a77-16e60c550f34",
   "metadata": {},
   "outputs": [
    {
     "name": "stdout",
     "output_type": "stream",
     "text": [
      "1.9840634910475863\n"
     ]
    }
   ],
   "source": [
    "is_na = pivot_train.isna().astype(int) # create an is_na matrix \n",
    "\n",
    "# create matrix of ones, then multiply by the mean, then multiply by the is_na matrix so that NaN values are replaced by 0\n",
    "train_means_df = np.ones((5,9)) * train_means * (1-is_na) \n",
    "\n",
    "#convert to dataframe, then replace 0 with NaN\n",
    "train_means_df = pd.DataFrame(train_means_df)\n",
    "train_means_df = train_means_df.replace(0, np.nan)\n",
    "\n",
    "rmse_raw_train = (((pivot_train - train_means_df) ** 2).to_numpy())\n",
    "rmse_raw_train = np.sqrt(np.nanmean(rmse_raw_train))\n",
    "print(rmse_raw_train)"
   ]
  },
  {
   "cell_type": "code",
   "execution_count": 89,
   "id": "9f5128fa-d1ff-433e-93ab-dd62b4d1138f",
   "metadata": {},
   "outputs": [
    {
     "name": "stdout",
     "output_type": "stream",
     "text": [
      "2.6246692913372702\n"
     ]
    }
   ],
   "source": [
    "# Do the same as above but for the test set\n",
    "is_na_test = pivot_test.isna().astype(int) # create an is_na matrix \n",
    "\n",
    "# create matrix of ones, then multiply by the mean, then multiply by the is_na matrix so that NaN values are replaced by 0\n",
    "test_means_df = np.ones((5,9)) * train_means * (1-is_na_test) \n",
    "\n",
    "#convert to dataframe, then replace 0 with NaN\n",
    "test_means_df = pd.DataFrame(test_means_df)\n",
    "test_means_df = test_means_df.replace(0, np.nan)\n",
    "\n",
    "rmse_raw_test = (((pivot_test - test_means_df) ** 2).to_numpy())\n",
    "rmse_raw_test = np.sqrt(np.nanmean(rmse_raw_test))\n",
    "print(rmse_raw_test)"
   ]
  },
  {
   "cell_type": "code",
   "execution_count": 99,
   "id": "5d7cef76-d169-4342-bc9d-f401bbc7a863",
   "metadata": {},
   "outputs": [
    {
     "name": "stdout",
     "output_type": "stream",
     "text": [
      "userid\n",
      "13518    -0.500000\n",
      "67782     2.416667\n",
      "185233   -1.333333\n",
      "201353   -0.333333\n",
      "215024    0.166667\n",
      "dtype: float64\n"
     ]
    }
   ],
   "source": [
    "user_bias = pivot_train.mean(axis=1) - train_means\n",
    "print(user_bias)"
   ]
  },
  {
   "cell_type": "code",
   "execution_count": 100,
   "id": "89b69f43-3174-40f7-aa23-dd24b076b84a",
   "metadata": {},
   "outputs": [
    {
     "name": "stdout",
     "output_type": "stream",
     "text": [
      "title\n",
      "A Night in Terror Tower        1.666667\n",
      "A Shocker on Shock Street     -0.833333\n",
      "Attack of the Mutant          -1.333333\n",
      "Egg Monsters from Mars        -2.000000\n",
      "Monster Blood                  0.666667\n",
      "Monster Blood III              0.166667\n",
      "My Hairiest Adventure          0.416667\n",
      "The Headless Ghost             1.166667\n",
      "The Horror at Camp Jellyjam    1.000000\n",
      "dtype: float64\n"
     ]
    }
   ],
   "source": [
    "book_bias = pivot_train.mean() - train_means\n",
    "print(book_bias)"
   ]
  },
  {
   "cell_type": "code",
   "execution_count": 101,
   "id": "04503fcf-9ab2-46ac-9a9c-05006bc26550",
   "metadata": {},
   "outputs": [
    {
     "name": "stdout",
     "output_type": "stream",
     "text": [
      "title   A Night in Terror Tower  A Shocker on Shock Street  \\\n",
      "userid                                                       \n",
      "13518                       NaN                        NaN   \n",
      "67782                      10.0                        NaN   \n",
      "185233                      NaN                   4.166667   \n",
      "201353                      NaN                   5.166667   \n",
      "215024                      NaN                        NaN   \n",
      "\n",
      "title   Attack of the Mutant  Egg Monsters from Mars  Monster Blood  \\\n",
      "userid                                                                \n",
      "13518               4.500000                3.833333            NaN   \n",
      "67782                    NaN                     NaN            NaN   \n",
      "185233                   NaN                3.000000       5.666667   \n",
      "201353              4.666667                4.000000            NaN   \n",
      "215024                   NaN                     NaN       7.166667   \n",
      "\n",
      "title   Monster Blood III  My Hairiest Adventure  The Headless Ghost  \\\n",
      "userid                                                                 \n",
      "13518            6.000000               6.250000            7.000000   \n",
      "67782            8.916667               9.166667                 NaN   \n",
      "185233                NaN               5.416667                 NaN   \n",
      "201353                NaN               6.416667            7.166667   \n",
      "215024                NaN                    NaN                 NaN   \n",
      "\n",
      "title   The Horror at Camp Jellyjam  \n",
      "userid                               \n",
      "13518                      6.833333  \n",
      "67782                      9.750000  \n",
      "185233                          NaN  \n",
      "201353                          NaN  \n",
      "215024                     7.500000  \n",
      "title   A Night in Terror Tower  A Shocker on Shock Street  \\\n",
      "userid                                                       \n",
      "13518                       NaN                        NaN   \n",
      "67782                       8.0                        NaN   \n",
      "185233                      NaN                        5.0   \n",
      "201353                      NaN                        6.0   \n",
      "215024                      NaN                        NaN   \n",
      "\n",
      "title   Attack of the Mutant  Egg Monsters from Mars  Monster Blood  \\\n",
      "userid                                                                \n",
      "13518                    4.0                     2.0            NaN   \n",
      "67782                    NaN                     NaN            NaN   \n",
      "185233                   NaN                     5.0            5.0   \n",
      "201353                   6.0                     6.0            NaN   \n",
      "215024                   NaN                     NaN            9.0   \n",
      "\n",
      "title   Monster Blood III  My Hairiest Adventure  The Headless Ghost  \\\n",
      "userid                                                                 \n",
      "13518                 5.0                    7.0                 9.0   \n",
      "67782                 8.0                    9.0                 NaN   \n",
      "185233                NaN                    5.0                 NaN   \n",
      "201353                NaN                    6.0                 6.0   \n",
      "215024                NaN                    NaN                 NaN   \n",
      "\n",
      "title   The Horror at Camp Jellyjam  \n",
      "userid                               \n",
      "13518                           8.0  \n",
      "67782                          10.0  \n",
      "185233                          NaN  \n",
      "201353                          NaN  \n",
      "215024                          4.0  \n"
     ]
    }
   ],
   "source": [
    "train_means_user_bias = train_means_df.add(user_bias, axis = 0)\n",
    "train_means_bias = train_means_user_bias.add(book_bias, axis = 1)\n",
    "train_means_bias[train_means_bias > 10] = 10\n",
    "print(train_means_bias)"
   ]
  },
  {
   "cell_type": "code",
   "execution_count": 95,
   "id": "64cfb505-0efb-474e-bfa9-614d6e0493a5",
   "metadata": {},
   "outputs": [
    {
     "name": "stdout",
     "output_type": "stream",
     "text": [
      "title   A Night in Terror Tower  A Shocker on Shock Street  \\\n",
      "userid                                                       \n",
      "13518                 10.000000                        NaN   \n",
      "67782                       NaN                       10.0   \n",
      "185233                      NaN                        NaN   \n",
      "201353                 7.166667                        NaN   \n",
      "215024                      NaN                        NaN   \n",
      "\n",
      "title   Attack of the Mutant  Egg Monsters from Mars  Monster Blood  \\\n",
      "userid                                                                \n",
      "13518                    NaN                     NaN            NaN   \n",
      "67782                    NaN                     NaN            NaN   \n",
      "185233                   NaN                     NaN            NaN   \n",
      "201353                   NaN                     NaN            NaN   \n",
      "215024              4.666667                     NaN            NaN   \n",
      "\n",
      "title   Monster Blood III  My Hairiest Adventure  The Headless Ghost  \\\n",
      "userid                                                                 \n",
      "13518                 NaN                    NaN                 NaN   \n",
      "67782                 NaN                    NaN                 NaN   \n",
      "185233                NaN                    NaN            3.666667   \n",
      "201353                NaN                    NaN                 NaN   \n",
      "215024               10.0                    NaN                 NaN   \n",
      "\n",
      "title   The Horror at Camp Jellyjam  \n",
      "userid                               \n",
      "13518                           NaN  \n",
      "67782                           NaN  \n",
      "185233                          NaN  \n",
      "201353                          NaN  \n",
      "215024                          NaN  \n"
     ]
    }
   ],
   "source": [
    "test_means_user_bias = test_means_df.add(user_bias, axis = 0)\n",
    "test_means_bias = test_means_user_bias.add(book_bias, axis = 1)\n",
    "test_means_bias[test_means_bias > 10] = 10\n",
    "print(test_means_bias)"
   ]
  },
  {
   "cell_type": "code",
   "execution_count": 102,
   "id": "ff62cf82-7a3a-48b2-8042-06d6521fd6ec",
   "metadata": {},
   "outputs": [
    {
     "name": "stdout",
     "output_type": "stream",
     "text": [
      "1.4539901311863508\n"
     ]
    }
   ],
   "source": [
    "rmse_bias_train = (((pivot_train - train_means_bias) ** 2).to_numpy())\n",
    "rmse_bias_train = np.sqrt(np.nanmean(rmse_bias_train))\n",
    "print(rmse_bias_train)"
   ]
  },
  {
   "cell_type": "code",
   "execution_count": 103,
   "id": "22888581-c124-43b7-a8ea-10356c2d1a18",
   "metadata": {},
   "outputs": [
    {
     "name": "stdout",
     "output_type": "stream",
     "text": [
      "0.8740073734751264\n"
     ]
    }
   ],
   "source": [
    "rmse_bias_test = (((pivot_test - test_means_bias) ** 2).to_numpy())\n",
    "rmse_bias_test = np.sqrt(np.nanmean(rmse_bias_test))\n",
    "print(rmse_bias_test)"
   ]
  },
  {
   "cell_type": "code",
   "execution_count": null,
   "id": "c992cd58-47d4-4bc4-ae62-c5841024c7a8",
   "metadata": {},
   "outputs": [],
   "source": []
  }
 ],
 "metadata": {
  "kernelspec": {
   "display_name": "Python 3 (ipykernel)",
   "language": "python",
   "name": "python3"
  },
  "language_info": {
   "codemirror_mode": {
    "name": "ipython",
    "version": 3
   },
   "file_extension": ".py",
   "mimetype": "text/x-python",
   "name": "python",
   "nbconvert_exporter": "python",
   "pygments_lexer": "ipython3",
   "version": "3.12.4"
  }
 },
 "nbformat": 4,
 "nbformat_minor": 5
}

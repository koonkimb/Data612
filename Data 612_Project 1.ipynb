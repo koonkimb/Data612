{
 "cells": [
  {
   "cell_type": "markdown",
   "id": "15151488-8539-4828-bda0-1e1f1025d68b",
   "metadata": {},
   "source": [
    "This system recommends books from the Goosebumps series to readers.  Data was sourced from Kaggle via https://www.kaggle.com/code/saurabhbagchi/recommender-system-for-books/input.  Specifically, the Ratings.csv and Books.csv file were used.  A smaller subset of data was used, first by isolating ratings for only Goosebumps titles, and then selecting the top 5 users by number of reviews provided.  From there, any Goosebumps novel with greater than 2 reviews were included in this dataset.  The input data is therefore composed of 5 users with their ratings across 9 books.  "
   ]
  },
  {
   "cell_type": "markdown",
   "id": "83c80e05-2c67-4b2c-b1d5-4bf6be946685",
   "metadata": {},
   "source": [
    "I import the data and split the dataset intoa training and test set, with an 80%, 20% split.  This leads to 21 records in the training set and 6 records in the testing set.  The goal is to use the training set data to develop a recommender system based on the overall mean rating across all books, and then adding additional bias factors for each user and book.  The testing set will be used to validate the results and ability of the recommender system to predict user's book ratings beyond the data used in training.  "
   ]
  },
  {
   "cell_type": "code",
   "execution_count": 104,
   "id": "7363bcda-f4a2-4db7-96fd-3dcb327f0d82",
   "metadata": {},
   "outputs": [
    {
     "name": "stdout",
     "output_type": "stream",
     "text": [
      "    userid                        title  rating\n",
      "13  185233                Monster Blood     5.0\n",
      "6    13518        My Hairiest Adventure     7.0\n",
      "24  201353        My Hairiest Adventure     6.0\n",
      "21  201353       Egg Monsters from Mars     6.0\n",
      "2    13518         Attack of the Mutant     4.0\n",
      "10  185233    A Shocker on Shock Street     5.0\n",
      "3    13518       Egg Monsters from Mars     2.0\n",
      "31  215024                Monster Blood     9.0\n",
      "19  201353    A Shocker on Shock Street     6.0\n",
      "41   67782            Monster Blood III     8.0\n",
      "42   67782        My Hairiest Adventure     9.0\n",
      "12  185233       Egg Monsters from Mars     5.0\n",
      "15  185233        My Hairiest Adventure     5.0\n",
      "7    13518           The Headless Ghost     9.0\n",
      "36   67782      A Night in Terror Tower     8.0\n",
      "5    13518            Monster Blood III     5.0\n",
      "44   67782  The Horror at Camp Jellyjam    10.0\n",
      "8    13518  The Horror at Camp Jellyjam     8.0\n",
      "20  201353         Attack of the Mutant     6.0\n",
      "35  215024  The Horror at Camp Jellyjam     4.0\n",
      "25  201353           The Headless Ghost     6.0\n",
      "    userid                      title  rating\n",
      "0    13518    A Night in Terror Tower     9.0\n",
      "29  215024       Attack of the Mutant     4.0\n",
      "37   67782  A Shocker on Shock Street    10.0\n",
      "16  185233         The Headless Ghost     5.0\n",
      "32  215024          Monster Blood III    10.0\n",
      "18  201353    A Night in Terror Tower     6.0\n"
     ]
    }
   ],
   "source": [
    "import pandas as pd\n",
    "import numpy as np\n",
    "\n",
    "df = pd.read_csv(\"https://raw.githubusercontent.com/koonkimb/Data612/refs/heads/main/Goosebumps_ratings.csv\", header = 0)\n",
    "#print(df)\n",
    "\n",
    "df_dropped = df.dropna()\n",
    "\n",
    "df_random = df_dropped.sample(frac = 1, random_state = 63)\n",
    "split_size = int(0.8*len(df_random))\n",
    "train = df_random[:split_size]\n",
    "test = df_random[split_size:]\n",
    "\n",
    "print(train)\n",
    "print(test)"
   ]
  },
  {
   "cell_type": "markdown",
   "id": "fa141b7c-2c50-4c7f-b44a-b7ff18575243",
   "metadata": {},
   "source": [
    "Because the data is originally in long format, I pivot the dataset to wide format for both the training and testing set to create the user-item matrices.  For the test set, I also need to insert four additional columns, as these books did not have any user ratings.  These columns are inserted to mimick the structure of the training set, although all values in these columns are NaN."
   ]
  },
  {
   "cell_type": "code",
   "execution_count": 80,
   "id": "2c0e999a-56d2-48d7-a810-10992e8bf5e5",
   "metadata": {},
   "outputs": [
    {
     "name": "stdout",
     "output_type": "stream",
     "text": [
      "title   A Night in Terror Tower  A Shocker on Shock Street  \\\n",
      "userid                                                       \n",
      "13518                       NaN                        NaN   \n",
      "67782                       8.0                        NaN   \n",
      "185233                      NaN                        5.0   \n",
      "201353                      NaN                        6.0   \n",
      "215024                      NaN                        NaN   \n",
      "\n",
      "title   Attack of the Mutant  Egg Monsters from Mars  Monster Blood  \\\n",
      "userid                                                                \n",
      "13518                    4.0                     2.0            NaN   \n",
      "67782                    NaN                     NaN            NaN   \n",
      "185233                   NaN                     5.0            5.0   \n",
      "201353                   6.0                     6.0            NaN   \n",
      "215024                   NaN                     NaN            9.0   \n",
      "\n",
      "title   Monster Blood III  My Hairiest Adventure  The Headless Ghost  \\\n",
      "userid                                                                 \n",
      "13518                 5.0                    7.0                 9.0   \n",
      "67782                 8.0                    9.0                 NaN   \n",
      "185233                NaN                    5.0                 NaN   \n",
      "201353                NaN                    6.0                 6.0   \n",
      "215024                NaN                    NaN                 NaN   \n",
      "\n",
      "title   The Horror at Camp Jellyjam  \n",
      "userid                               \n",
      "13518                           8.0  \n",
      "67782                          10.0  \n",
      "185233                          NaN  \n",
      "201353                          NaN  \n",
      "215024                          4.0  \n",
      "title   A Night in Terror Tower  A Shocker on Shock Street  \\\n",
      "userid                                                       \n",
      "13518                       9.0                        NaN   \n",
      "67782                       NaN                       10.0   \n",
      "185233                      NaN                        NaN   \n",
      "201353                      6.0                        NaN   \n",
      "215024                      NaN                        NaN   \n",
      "\n",
      "title   Attack of the Mutant  Egg Monsters from Mars  Monster Blood  \\\n",
      "userid                                                                \n",
      "13518                    NaN                     NaN            NaN   \n",
      "67782                    NaN                     NaN            NaN   \n",
      "185233                   NaN                     NaN            NaN   \n",
      "201353                   NaN                     NaN            NaN   \n",
      "215024                   4.0                     NaN            NaN   \n",
      "\n",
      "title   Monster Blood III  My Hairiest Adventure  The Headless Ghost  \\\n",
      "userid                                                                 \n",
      "13518                 NaN                    NaN                 NaN   \n",
      "67782                 NaN                    NaN                 NaN   \n",
      "185233                NaN                    NaN                 5.0   \n",
      "201353                NaN                    NaN                 NaN   \n",
      "215024               10.0                    NaN                 NaN   \n",
      "\n",
      "title   The Horror at Camp Jellyjam  \n",
      "userid                               \n",
      "13518                           NaN  \n",
      "67782                           NaN  \n",
      "185233                          NaN  \n",
      "201353                          NaN  \n",
      "215024                          NaN  \n"
     ]
    }
   ],
   "source": [
    "pivot_train = train.pivot(index='userid', columns='title', values='rating')\n",
    "print(pivot_train)\n",
    "\n",
    "pivot_test = test.pivot(index='userid', columns='title', values='rating')\n",
    "pivot_test.insert(3,'Egg Monsters from Mars', np.nan)\n",
    "pivot_test.insert(4,'Monster Blood', np.nan)\n",
    "pivot_test.insert(6,'My Hairiest Adventure', np.nan)\n",
    "pivot_test.insert(8,'The Horror at Camp Jellyjam', np.nan)\n",
    "print(pivot_test)"
   ]
  },
  {
   "cell_type": "markdown",
   "id": "1b8b26f5-765e-4f55-ba3f-90fc8c015b0f",
   "metadata": {},
   "source": [
    "First, to provide a baseline of comparison, the mean across all training dataset reviews is determined.  This mean will be used as a baseline \"recommendation\". The mean is not expected to be a good predictor as it does not take into account the user and book biases (i.e. users may specifically rate higher or lower than average, and books may be generally considered better or worse than average).  As such, incorporating additional biases later on should yield better results.  To assess this numerically we can calculate the RMSE (root mean squared error), which is the square root of the average of squared errors, using just the mean value. Later, we can calculate the RMSE for the recommender system that does incorporate the aforementioned biases.  The expectation is that incorporating these biases will decrease the RMSE in comparison to baseline using the mean value.  The RMSE was chosen as the assessment metric as it penalizes \"more\" incorrect answers more strongly.  "
   ]
  },
  {
   "cell_type": "code",
   "execution_count": 29,
   "id": "3f45e353-48fd-4aaf-bad0-0f69b9556746",
   "metadata": {},
   "outputs": [
    {
     "name": "stdout",
     "output_type": "stream",
     "text": [
      "6.333333333333333\n"
     ]
    }
   ],
   "source": [
    "train_means = train['rating'].mean()\n",
    "print(train_means)"
   ]
  },
  {
   "cell_type": "markdown",
   "id": "57dd0984-2ec2-41c9-866e-7f1ad5498332",
   "metadata": {},
   "source": [
    "To compute the RMSE of the training set, I first create a matrix that shows NA values in the training set.  I then create a matrix of ones, and multiply it by the mean across all training set book recommendations (from above - 6.33).  Afterwards, I use the is_NA matrix to replace all corresponding NA values in the matrix of means to 0.  For example, if user 13518 has an NaN value for the book \"A Night in Terror Tower\", then the matrix of means should also have an NaN value for user 13518, book \"A Night in Terror Tower\".  However, if user 13518 has a rating for book \"Attack of the Mutant\", then the matrix of means should have the value 6.33 (the mean across all training set ratings) for user 13518, book \"Attach of the Mutant\".  This allows us to perform matrix operations on a matrix with NaN values.  As shown below, the RMSE using the mean across all training set ratings is approximately 1.98.  "
   ]
  },
  {
   "cell_type": "code",
   "execution_count": 88,
   "id": "f3ace7ad-e010-4c4b-9a77-16e60c550f34",
   "metadata": {},
   "outputs": [
    {
     "name": "stdout",
     "output_type": "stream",
     "text": [
      "1.9840634910475863\n"
     ]
    }
   ],
   "source": [
    "is_na = pivot_train.isna().astype(int) # create an is_na matrix \n",
    "\n",
    "# create matrix of ones, then multiply by the mean, then multiply by the is_na matrix so that NaN values are replaced by 0\n",
    "train_means_df = np.ones((5,9)) * train_means * (1-is_na) \n",
    "\n",
    "#convert to dataframe, then replace 0 with NaN\n",
    "train_means_df = pd.DataFrame(train_means_df)\n",
    "train_means_df = train_means_df.replace(0, np.nan)\n",
    "\n",
    "rmse_raw_train = (((pivot_train - train_means_df) ** 2).to_numpy())\n",
    "rmse_raw_train = np.sqrt(np.nanmean(rmse_raw_train))\n",
    "print(rmse_raw_train)"
   ]
  },
  {
   "cell_type": "markdown",
   "id": "0b55a87c-1797-4dd8-ad8f-57e3eac4df84",
   "metadata": {},
   "source": [
    "We can then perform the same operations as the above, but for the testing set.  When doing so, the RMSE is 2.62."
   ]
  },
  {
   "cell_type": "code",
   "execution_count": 89,
   "id": "9f5128fa-d1ff-433e-93ab-dd62b4d1138f",
   "metadata": {},
   "outputs": [
    {
     "name": "stdout",
     "output_type": "stream",
     "text": [
      "2.6246692913372702\n"
     ]
    }
   ],
   "source": [
    "# Do the same as above but for the test set\n",
    "is_na_test = pivot_test.isna().astype(int) # create an is_na matrix \n",
    "\n",
    "# create matrix of ones, then multiply by the mean, then multiply by the is_na matrix so that NaN values are replaced by 0\n",
    "test_means_df = np.ones((5,9)) * train_means * (1-is_na_test) \n",
    "\n",
    "#convert to dataframe, then replace 0 with NaN\n",
    "test_means_df = pd.DataFrame(test_means_df)\n",
    "test_means_df = test_means_df.replace(0, np.nan)\n",
    "\n",
    "rmse_raw_test = (((pivot_test - test_means_df) ** 2).to_numpy())\n",
    "rmse_raw_test = np.sqrt(np.nanmean(rmse_raw_test))\n",
    "print(rmse_raw_test)"
   ]
  },
  {
   "cell_type": "markdown",
   "id": "4ce5ef89-cb73-4820-a50e-89673936d680",
   "metadata": {},
   "source": [
    "As previously stated, user and book biases can be calculated to see if specific users and books may skew ratings higher or lower than average.  To do this, we can take the mean of training set ratings by user and then subtract the mean across all training set ratings.  "
   ]
  },
  {
   "cell_type": "code",
   "execution_count": 99,
   "id": "5d7cef76-d169-4342-bc9d-f401bbc7a863",
   "metadata": {},
   "outputs": [
    {
     "name": "stdout",
     "output_type": "stream",
     "text": [
      "userid\n",
      "13518    -0.500000\n",
      "67782     2.416667\n",
      "185233   -1.333333\n",
      "201353   -0.333333\n",
      "215024    0.166667\n",
      "dtype: float64\n"
     ]
    }
   ],
   "source": [
    "user_bias = pivot_train.mean(axis=1) - train_means\n",
    "print(user_bias)"
   ]
  },
  {
   "cell_type": "markdown",
   "id": "32dd6804-c3dc-444d-bc18-21e771ec3e41",
   "metadata": {},
   "source": [
    "For book bias, we do the same except by column (i.e. we take the mean of training set ratings by book and then subtract the mean across all training set ratings).  "
   ]
  },
  {
   "cell_type": "code",
   "execution_count": 100,
   "id": "89b69f43-3174-40f7-aa23-dd24b076b84a",
   "metadata": {},
   "outputs": [
    {
     "name": "stdout",
     "output_type": "stream",
     "text": [
      "title\n",
      "A Night in Terror Tower        1.666667\n",
      "A Shocker on Shock Street     -0.833333\n",
      "Attack of the Mutant          -1.333333\n",
      "Egg Monsters from Mars        -2.000000\n",
      "Monster Blood                  0.666667\n",
      "Monster Blood III              0.166667\n",
      "My Hairiest Adventure          0.416667\n",
      "The Headless Ghost             1.166667\n",
      "The Horror at Camp Jellyjam    1.000000\n",
      "dtype: float64\n"
     ]
    }
   ],
   "source": [
    "book_bias = pivot_train.mean() - train_means\n",
    "print(book_bias)"
   ]
  },
  {
   "cell_type": "markdown",
   "id": "289107d8-db41-4d5b-870c-c1f1e7a7ed70",
   "metadata": {},
   "source": [
    "The new recommendation system can now add these biases to the matrix of means.  For any values above the 10.0 rating, the prediction is replaced with 10.0 which is the upper limit of the rating scale.  "
   ]
  },
  {
   "cell_type": "code",
   "execution_count": 101,
   "id": "04503fcf-9ab2-46ac-9a9c-05006bc26550",
   "metadata": {},
   "outputs": [
    {
     "name": "stdout",
     "output_type": "stream",
     "text": [
      "title   A Night in Terror Tower  A Shocker on Shock Street  \\\n",
      "userid                                                       \n",
      "13518                       NaN                        NaN   \n",
      "67782                      10.0                        NaN   \n",
      "185233                      NaN                   4.166667   \n",
      "201353                      NaN                   5.166667   \n",
      "215024                      NaN                        NaN   \n",
      "\n",
      "title   Attack of the Mutant  Egg Monsters from Mars  Monster Blood  \\\n",
      "userid                                                                \n",
      "13518               4.500000                3.833333            NaN   \n",
      "67782                    NaN                     NaN            NaN   \n",
      "185233                   NaN                3.000000       5.666667   \n",
      "201353              4.666667                4.000000            NaN   \n",
      "215024                   NaN                     NaN       7.166667   \n",
      "\n",
      "title   Monster Blood III  My Hairiest Adventure  The Headless Ghost  \\\n",
      "userid                                                                 \n",
      "13518            6.000000               6.250000            7.000000   \n",
      "67782            8.916667               9.166667                 NaN   \n",
      "185233                NaN               5.416667                 NaN   \n",
      "201353                NaN               6.416667            7.166667   \n",
      "215024                NaN                    NaN                 NaN   \n",
      "\n",
      "title   The Horror at Camp Jellyjam  \n",
      "userid                               \n",
      "13518                      6.833333  \n",
      "67782                      9.750000  \n",
      "185233                          NaN  \n",
      "201353                          NaN  \n",
      "215024                     7.500000  \n",
      "title   A Night in Terror Tower  A Shocker on Shock Street  \\\n",
      "userid                                                       \n",
      "13518                       NaN                        NaN   \n",
      "67782                       8.0                        NaN   \n",
      "185233                      NaN                        5.0   \n",
      "201353                      NaN                        6.0   \n",
      "215024                      NaN                        NaN   \n",
      "\n",
      "title   Attack of the Mutant  Egg Monsters from Mars  Monster Blood  \\\n",
      "userid                                                                \n",
      "13518                    4.0                     2.0            NaN   \n",
      "67782                    NaN                     NaN            NaN   \n",
      "185233                   NaN                     5.0            5.0   \n",
      "201353                   6.0                     6.0            NaN   \n",
      "215024                   NaN                     NaN            9.0   \n",
      "\n",
      "title   Monster Blood III  My Hairiest Adventure  The Headless Ghost  \\\n",
      "userid                                                                 \n",
      "13518                 5.0                    7.0                 9.0   \n",
      "67782                 8.0                    9.0                 NaN   \n",
      "185233                NaN                    5.0                 NaN   \n",
      "201353                NaN                    6.0                 6.0   \n",
      "215024                NaN                    NaN                 NaN   \n",
      "\n",
      "title   The Horror at Camp Jellyjam  \n",
      "userid                               \n",
      "13518                           8.0  \n",
      "67782                          10.0  \n",
      "185233                          NaN  \n",
      "201353                          NaN  \n",
      "215024                          4.0  \n"
     ]
    }
   ],
   "source": [
    "train_means_user_bias = train_means_df.add(user_bias, axis = 0)\n",
    "train_means_bias = train_means_user_bias.add(book_bias, axis = 1)\n",
    "train_means_bias[train_means_bias > 10] = 10\n",
    "print(train_means_bias)"
   ]
  },
  {
   "cell_type": "markdown",
   "id": "91e765d8-ccd5-4e7f-b34c-f8911531095e",
   "metadata": {},
   "source": [
    "We repeat this process of adding the biases to the matrix of means for the test set."
   ]
  },
  {
   "cell_type": "code",
   "execution_count": 95,
   "id": "64cfb505-0efb-474e-bfa9-614d6e0493a5",
   "metadata": {},
   "outputs": [
    {
     "name": "stdout",
     "output_type": "stream",
     "text": [
      "title   A Night in Terror Tower  A Shocker on Shock Street  \\\n",
      "userid                                                       \n",
      "13518                 10.000000                        NaN   \n",
      "67782                       NaN                       10.0   \n",
      "185233                      NaN                        NaN   \n",
      "201353                 7.166667                        NaN   \n",
      "215024                      NaN                        NaN   \n",
      "\n",
      "title   Attack of the Mutant  Egg Monsters from Mars  Monster Blood  \\\n",
      "userid                                                                \n",
      "13518                    NaN                     NaN            NaN   \n",
      "67782                    NaN                     NaN            NaN   \n",
      "185233                   NaN                     NaN            NaN   \n",
      "201353                   NaN                     NaN            NaN   \n",
      "215024              4.666667                     NaN            NaN   \n",
      "\n",
      "title   Monster Blood III  My Hairiest Adventure  The Headless Ghost  \\\n",
      "userid                                                                 \n",
      "13518                 NaN                    NaN                 NaN   \n",
      "67782                 NaN                    NaN                 NaN   \n",
      "185233                NaN                    NaN            3.666667   \n",
      "201353                NaN                    NaN                 NaN   \n",
      "215024               10.0                    NaN                 NaN   \n",
      "\n",
      "title   The Horror at Camp Jellyjam  \n",
      "userid                               \n",
      "13518                           NaN  \n",
      "67782                           NaN  \n",
      "185233                          NaN  \n",
      "201353                          NaN  \n",
      "215024                          NaN  \n"
     ]
    }
   ],
   "source": [
    "test_means_user_bias = test_means_df.add(user_bias, axis = 0)\n",
    "test_means_bias = test_means_user_bias.add(book_bias, axis = 1)\n",
    "test_means_bias[test_means_bias > 10] = 10\n",
    "print(test_means_bias)"
   ]
  },
  {
   "cell_type": "markdown",
   "id": "07cced05-1e6f-43d2-8aab-541d5cab5518",
   "metadata": {},
   "source": [
    "Now, we can re-compute the RMSE for both the training and test set.  We can see the RMSE for the training set decreased from 1.98 to 1.45, which is an approximate 27% improvement.  For the test set, the RMSE decreased from 2.62 to 0.87 which is an approximate 67% improvement."
   ]
  },
  {
   "cell_type": "code",
   "execution_count": 102,
   "id": "ff62cf82-7a3a-48b2-8042-06d6521fd6ec",
   "metadata": {},
   "outputs": [
    {
     "name": "stdout",
     "output_type": "stream",
     "text": [
      "1.4539901311863508\n"
     ]
    }
   ],
   "source": [
    "rmse_bias_train = (((pivot_train - train_means_bias) ** 2).to_numpy())\n",
    "rmse_bias_train = np.sqrt(np.nanmean(rmse_bias_train))\n",
    "print(rmse_bias_train)"
   ]
  },
  {
   "cell_type": "code",
   "execution_count": 103,
   "id": "22888581-c124-43b7-a8ea-10356c2d1a18",
   "metadata": {},
   "outputs": [
    {
     "name": "stdout",
     "output_type": "stream",
     "text": [
      "0.8740073734751264\n"
     ]
    }
   ],
   "source": [
    "rmse_bias_test = (((pivot_test - test_means_bias) ** 2).to_numpy())\n",
    "rmse_bias_test = np.sqrt(np.nanmean(rmse_bias_test))\n",
    "print(rmse_bias_test)"
   ]
  }
 ],
 "metadata": {
  "kernelspec": {
   "display_name": "Python 3 (ipykernel)",
   "language": "python",
   "name": "python3"
  },
  "language_info": {
   "codemirror_mode": {
    "name": "ipython",
    "version": 3
   },
   "file_extension": ".py",
   "mimetype": "text/x-python",
   "name": "python",
   "nbconvert_exporter": "python",
   "pygments_lexer": "ipython3",
   "version": "3.12.4"
  }
 },
 "nbformat": 4,
 "nbformat_minor": 5
}

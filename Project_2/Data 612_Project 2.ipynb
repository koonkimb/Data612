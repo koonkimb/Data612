{
 "cells": [
  {
   "cell_type": "markdown",
   "id": "6c58db0a-e066-4ba8-b964-d5a3854d5b4e",
   "metadata": {},
   "source": [
    "For assignment 2, I selected the fourth Jester dataset in [http://eigentaste.berkeley.edu/dataset/] This dataset consists of two parts - a user rating dataset where 7000+ users rated distinct 158 jokes, and a jokes dataset consisting of a single column of jokes that were rated.  \n",
    "\n",
    "The general strategy of my recommender system will be as follows:\n",
    "\n",
    "1.  Develop a baseline for comparison.  This will be done using the same method in Project 1, where the mean of all user ratings among all jokes is used to establish a baseline.  The user ratings dataset will be split into a testing set and a training set, with a 80% - 20% split.\n",
    "2.  Incorporate Content-Based filtering by using tf-idf to determine similarity between jokes.  A recommendation can be developed using a user's own joke ratings and the cosine-similarity matrix calculated with the tf-idf.\n",
    "4.  Incorporate Item-Item collaborative filtering "
   ]
  },
  {
   "cell_type": "code",
   "execution_count": 96,
   "id": "792778bb-93be-42ed-8397-12f72cd5bfe0",
   "metadata": {},
   "outputs": [
    {
     "name": "stdout",
     "output_type": "stream",
     "text": [
      "      index     0     1     2     3     4     5     6     7     8  ...    148  \\\n",
      "0         0  99.0  99.0  99.0  99.0  99.0  99.0  99.0  99.0  99.0  ...  99.00   \n",
      "1         1  99.0  99.0  99.0  99.0  99.0  99.0  99.0  99.0  99.0  ...  99.00   \n",
      "2         2  99.0  99.0  99.0  99.0  99.0  99.0  99.0  99.0  99.0  ...  99.00   \n",
      "3         3  99.0  99.0  99.0  99.0  99.0  99.0  99.0  99.0  99.0  ...  99.00   \n",
      "4         4  99.0  99.0  99.0  99.0  99.0  99.0  99.0  99.0  99.0  ...  99.00   \n",
      "...     ...   ...   ...   ...   ...   ...   ...   ...   ...   ...  ...    ...   \n",
      "7694   7694  99.0  99.0  99.0  99.0  99.0  99.0  99.0  99.0  99.0  ...   0.00   \n",
      "7695   7695  99.0  99.0  99.0  99.0  99.0  99.0  99.0  99.0  99.0  ...  99.00   \n",
      "7696   7696  99.0  99.0  99.0  99.0  99.0  99.0  99.0  99.0  99.0  ...  99.00   \n",
      "7697   7697  99.0  99.0  99.0  99.0  99.0  99.0  99.0  99.0  99.0  ...   2.03   \n",
      "7698   7698  99.0  99.0  99.0  99.0  99.0  99.0  99.0  99.0  99.0  ...  99.00   \n",
      "\n",
      "        149    150    151    152   153    154    155    156    157  \n",
      "0     99.00  99.00  99.00  99.00  99.0  99.00  99.00  99.00  99.00  \n",
      "1     99.00  99.00  99.00  99.00  99.0  99.00  99.00  99.00  99.00  \n",
      "2     99.00  99.00  99.00  99.00  99.0  99.00  99.00  99.00  99.00  \n",
      "3     99.00   5.61  -4.51   0.00   0.0  99.00   0.00   5.93   4.19  \n",
      "4     99.00  99.00  99.00  99.00   0.0  99.00  99.00  99.00   0.00  \n",
      "...     ...    ...    ...    ...   ...    ...    ...    ...    ...  \n",
      "7694  99.00   0.00   0.00   0.00  99.0   0.00   0.00   0.00  99.00  \n",
      "7695  99.00  99.00  99.00  99.00  99.0  99.00  99.00  99.00  99.00  \n",
      "7696   8.63  99.00   6.76   0.00   3.5   6.26  99.00  -2.66   0.65  \n",
      "7697  99.00   2.05   2.05   0.73   0.0   2.97   0.57   0.00   0.00  \n",
      "7698  99.00  99.00  99.00  99.00  99.0  99.00  99.00  99.00  99.00  \n",
      "\n",
      "[7699 rows x 159 columns]\n",
      "         index joke  rating\n",
      "0            0    0   99.00\n",
      "1            1    0   99.00\n",
      "2            2    0   99.00\n",
      "3            3    0   99.00\n",
      "4            4    0   99.00\n",
      "...        ...  ...     ...\n",
      "1216437   7694  157   99.00\n",
      "1216438   7695  157   99.00\n",
      "1216439   7696  157    0.65\n",
      "1216440   7697  157    0.00\n",
      "1216441   7698  157   99.00\n",
      "\n",
      "[1216442 rows x 3 columns]\n"
     ]
    }
   ],
   "source": [
    "import pandas as pd\n",
    "import numpy as np\n",
    "from sklearn.feature_extraction.text import TfidfVectorizer\n",
    "from sklearn.metrics.pairwise import cosine_similarity\n",
    "\n",
    "user_ratings = pd.read_csv(\"https://raw.githubusercontent.com/koonkimb/Data612/refs/heads/main/Project_2/data/final.csv\", header = None)\n",
    "user_ratings_df = user_ratings.drop(user_ratings.columns[0],axis = 1)\n",
    "user_ratings_df = user_ratings_df.transpose()\n",
    "user_ratings_df = user_ratings_df.reset_index()\n",
    "user_ratings_df = user_ratings_df.drop('index',axis = 1)\n",
    "user_ratings_df = user_ratings_df.transpose()\n",
    "user_ratings_df = user_ratings_df.reset_index()\n",
    "print(user_ratings_df)\n",
    "\n",
    "user_ratings_long = user_ratings_df.melt(id_vars='index', var_name='joke', value_name='rating')\n",
    "print(user_ratings_long)"
   ]
  },
  {
   "cell_type": "code",
   "execution_count": 98,
   "id": "973326dd-cbec-424a-9174-1097ce3f21a1",
   "metadata": {},
   "outputs": [
    {
     "name": "stdout",
     "output_type": "stream",
     "text": [
      "         index joke  rating\n",
      "270614    1149   35    2.93\n",
      "597375    4552   77   -2.72\n",
      "264573    2807   34    0.00\n",
      "146048    7466   18    7.00\n",
      "494479    1743   64    0.00\n",
      "...        ...  ...     ...\n",
      "142383    3801   18   -3.05\n",
      "1110350   1694  144    3.05\n",
      "142552    3970   18   -3.74\n",
      "266408    4642   34    0.00\n",
      "1174114   3866  152   -5.26\n",
      "\n",
      "[85191 rows x 3 columns]\n",
      "        index joke  rating\n",
      "424789   1344   55    5.12\n",
      "548349   1720   71    6.95\n",
      "548375   1746   71   -8.03\n",
      "600614     92   78    0.00\n",
      "377185   7633   48   20.00\n",
      "...       ...  ...     ...\n",
      "133417   2534   17  -10.00\n",
      "366276   4423   47    0.00\n",
      "434127   2983   56    0.00\n",
      "165136   3457   21    9.63\n",
      "837185   5693  108    2.31\n",
      "\n",
      "[21298 rows x 3 columns]\n"
     ]
    }
   ],
   "source": [
    "\n",
    "user_ratings_dropped['rating'] = user_ratings_long['rating'].replace(99,np.nan)\n",
    "user_ratings_dropped = user_ratings_dropped.dropna()\n",
    "df_random = user_ratings_dropped.sample(frac = 1, random_state = 63)\n",
    "split_size = int(0.8*len(df_random))\n",
    "train = df_random[:split_size]\n",
    "test = df_random[split_size:]\n",
    "\n",
    "print(train)\n",
    "print(test)"
   ]
  },
  {
   "cell_type": "markdown",
   "id": "98fe4d67-fb1f-438f-a62d-36b89c45a3fb",
   "metadata": {},
   "source": [
    "Pivot back the database from long to wide format:"
   ]
  },
  {
   "cell_type": "code",
   "execution_count": 99,
   "id": "2f30fbde-ef83-438e-8ced-91cf5b0615cb",
   "metadata": {},
   "outputs": [
    {
     "name": "stdout",
     "output_type": "stream",
     "text": [
      "joke   6    7    12   14   15   16   17    18    20   21   ...   148   149  \\\n",
      "index                                                      ...               \n",
      "0      NaN  NaN  NaN  NaN  NaN  NaN  NaN   NaN   NaN  NaN  ...   NaN   NaN   \n",
      "2      NaN  NaN  NaN  NaN  NaN  NaN  NaN   NaN   NaN  NaN  ...   NaN   NaN   \n",
      "3      NaN  NaN  NaN  NaN  NaN  NaN  NaN   NaN -4.59  NaN  ...   NaN   NaN   \n",
      "4      NaN  NaN  NaN  NaN  NaN  NaN  NaN -7.72   NaN  NaN  ...   NaN   NaN   \n",
      "5      NaN  NaN  NaN  NaN  NaN  NaN  NaN  4.39   NaN  NaN  ...   NaN  3.19   \n",
      "...    ...  ...  ...  ...  ...  ...  ...   ...   ...  ...  ...   ...   ...   \n",
      "7694   NaN  NaN  NaN  NaN  NaN  NaN  NaN  0.00  0.00  NaN  ...   NaN   NaN   \n",
      "7695   NaN  NaN  NaN  NaN  NaN  NaN  NaN -9.51   NaN  NaN  ...   NaN   NaN   \n",
      "7696   NaN  NaN  NaN  NaN  NaN  NaN  NaN   NaN   NaN  NaN  ...   NaN  8.63   \n",
      "7697   NaN  NaN  NaN  NaN  NaN  NaN  NaN  2.52  5.37  NaN  ...  2.03   NaN   \n",
      "7698   NaN  NaN  NaN  NaN  NaN  NaN  NaN  4.59   NaN  NaN  ...   NaN   NaN   \n",
      "\n",
      "joke    150   151   152  153   154   155  156   157  \n",
      "index                                                \n",
      "0       NaN   NaN   NaN  NaN   NaN   NaN  NaN   NaN  \n",
      "2       NaN   NaN   NaN  NaN   NaN   NaN  NaN   NaN  \n",
      "3      5.61   NaN  0.00  0.0   NaN  0.00  NaN   NaN  \n",
      "4       NaN   NaN   NaN  0.0   NaN   NaN  NaN  0.00  \n",
      "5       NaN   NaN  3.41  NaN -2.32   NaN  0.0  2.93  \n",
      "...     ...   ...   ...  ...   ...   ...  ...   ...  \n",
      "7694   0.00   NaN  0.00  NaN  0.00  0.00  0.0   NaN  \n",
      "7695    NaN   NaN   NaN  NaN   NaN   NaN  NaN   NaN  \n",
      "7696    NaN  6.76  0.00  3.5   NaN   NaN  NaN  0.65  \n",
      "7697    NaN  2.05  0.73  0.0  2.97  0.57  NaN  0.00  \n",
      "7698    NaN   NaN   NaN  NaN   NaN   NaN  NaN   NaN  \n",
      "\n",
      "[7414 rows x 136 columns]\n",
      "joke   6    7    12   14   15   16   17    18   20   21   ...  148  149   150  \\\n",
      "index                                                     ...                   \n",
      "1      NaN  NaN  NaN  NaN  NaN  NaN  NaN   NaN  NaN  NaN  ...  NaN  NaN   NaN   \n",
      "2      NaN  NaN  NaN  NaN  NaN  NaN  NaN -5.98  NaN  NaN  ...  NaN  NaN   NaN   \n",
      "3      NaN  NaN  NaN  NaN  NaN  NaN  NaN -5.41  NaN  NaN  ...  NaN  NaN   NaN   \n",
      "4      NaN  NaN  NaN  NaN  NaN  NaN  NaN   NaN  NaN  NaN  ...  NaN  NaN   NaN   \n",
      "5      NaN  NaN  NaN  NaN  NaN  NaN  NaN   NaN  NaN  NaN  ...  NaN  NaN   NaN   \n",
      "...    ...  ...  ...  ...  ...  ...  ...   ...  ...  ...  ...  ...  ...   ...   \n",
      "7691   NaN  NaN  NaN  NaN  NaN  NaN  NaN   NaN  NaN  NaN  ...  NaN  NaN   NaN   \n",
      "7693   NaN  NaN  NaN  NaN  NaN  NaN  NaN   NaN  NaN  NaN  ...  NaN  NaN   NaN   \n",
      "7694   NaN  NaN  NaN  NaN  NaN  NaN  NaN   NaN  NaN  NaN  ...  0.0  NaN   NaN   \n",
      "7696   NaN  NaN  NaN  NaN  NaN  NaN  NaN -7.93  NaN  NaN  ...  NaN  NaN   NaN   \n",
      "7697   NaN  NaN  NaN  NaN  NaN  NaN  NaN   NaN  NaN  NaN  ...  NaN  NaN  2.05   \n",
      "\n",
      "joke    151  152  153   154  155   156   157  \n",
      "index                                         \n",
      "1       NaN  NaN  NaN   NaN  NaN   NaN   NaN  \n",
      "2       NaN  NaN  NaN   NaN  NaN   NaN   NaN  \n",
      "3     -4.51  NaN  NaN   NaN  NaN  5.93  4.19  \n",
      "4       NaN  NaN  NaN   NaN  NaN   NaN   NaN  \n",
      "5      0.00  NaN  NaN   NaN  NaN   NaN   NaN  \n",
      "...     ...  ...  ...   ...  ...   ...   ...  \n",
      "7691    NaN  NaN  NaN   NaN  NaN   NaN   NaN  \n",
      "7693    NaN  NaN  NaN   NaN  NaN   NaN   NaN  \n",
      "7694   0.00  NaN  NaN   NaN  NaN   NaN   NaN  \n",
      "7696    NaN  NaN  NaN  6.26  NaN -2.66   NaN  \n",
      "7697    NaN  NaN  NaN   NaN  NaN  0.00   NaN  \n",
      "\n",
      "[4942 rows x 136 columns]\n"
     ]
    }
   ],
   "source": [
    "pivot_train = train.pivot(index='index', columns='joke', values='rating')\n",
    "print(pivot_train)\n",
    "pivot_test = test.pivot(index='index', columns='joke', values='rating')\n",
    "print(pivot_test)"
   ]
  },
  {
   "cell_type": "markdown",
   "id": "a0f587b1-4d33-4326-a20a-4bb06666e5ca",
   "metadata": {},
   "source": [
    "leaving off right here - need to fill in matrix with missing users in each set "
   ]
  },
  {
   "cell_type": "code",
   "execution_count": 107,
   "id": "1482904e-6f0c-4207-a263-57419561a5e4",
   "metadata": {},
   "outputs": [
    {
     "name": "stdout",
     "output_type": "stream",
     "text": [
      "joke   0    1    2    3    4    5    6    7    8    9    ...   148   149  \\\n",
      "index                                                    ...               \n",
      "0      NaN  NaN  NaN  NaN  NaN  NaN  NaN  NaN  NaN  NaN  ...   NaN   NaN   \n",
      "1      NaN  NaN  NaN  NaN  NaN  NaN  NaN  NaN  NaN  NaN  ...   NaN   NaN   \n",
      "2      NaN  NaN  NaN  NaN  NaN  NaN  NaN  NaN  NaN  NaN  ...   NaN   NaN   \n",
      "3      NaN  NaN  NaN  NaN  NaN  NaN  NaN  NaN  NaN  NaN  ...   NaN   NaN   \n",
      "4      NaN  NaN  NaN  NaN  NaN  NaN  NaN  NaN  NaN  NaN  ...   NaN   NaN   \n",
      "...    ...  ...  ...  ...  ...  ...  ...  ...  ...  ...  ...   ...   ...   \n",
      "7694   NaN  NaN  NaN  NaN  NaN  NaN  NaN  NaN  NaN  NaN  ...   NaN   NaN   \n",
      "7695   NaN  NaN  NaN  NaN  NaN  NaN  NaN  NaN  NaN  NaN  ...   NaN   NaN   \n",
      "7696   NaN  NaN  NaN  NaN  NaN  NaN  NaN  NaN  NaN  NaN  ...   NaN  8.63   \n",
      "7697   NaN  NaN  NaN  NaN  NaN  NaN  NaN  NaN  NaN  NaN  ...  2.03   NaN   \n",
      "7698   NaN  NaN  NaN  NaN  NaN  NaN  NaN  NaN  NaN  NaN  ...   NaN   NaN   \n",
      "\n",
      "joke    150   151   152  153   154   155  156   157  \n",
      "index                                                \n",
      "0       NaN   NaN   NaN  NaN   NaN   NaN  NaN   NaN  \n",
      "1       NaN   NaN   NaN  NaN   NaN   NaN  NaN   NaN  \n",
      "2       NaN   NaN   NaN  NaN   NaN   NaN  NaN   NaN  \n",
      "3      5.61   NaN  0.00  0.0   NaN  0.00  NaN   NaN  \n",
      "4       NaN   NaN   NaN  0.0   NaN   NaN  NaN  0.00  \n",
      "...     ...   ...   ...  ...   ...   ...  ...   ...  \n",
      "7694   0.00   NaN  0.00  NaN  0.00  0.00  0.0   NaN  \n",
      "7695    NaN   NaN   NaN  NaN   NaN   NaN  NaN   NaN  \n",
      "7696    NaN  6.76  0.00  3.5   NaN   NaN  NaN  0.65  \n",
      "7697    NaN  2.05  0.73  0.0  2.97  0.57  NaN  0.00  \n",
      "7698    NaN   NaN   NaN  NaN   NaN   NaN  NaN   NaN  \n",
      "\n",
      "[7699 rows x 158 columns]\n",
      "joke   0    1    2    3    4    5    6    7    8    9    ...  148  149   150  \\\n",
      "index                                                    ...                   \n",
      "0      NaN  NaN  NaN  NaN  NaN  NaN  NaN  NaN  NaN  NaN  ...  NaN  NaN   NaN   \n",
      "1      NaN  NaN  NaN  NaN  NaN  NaN  NaN  NaN  NaN  NaN  ...  NaN  NaN   NaN   \n",
      "2      NaN  NaN  NaN  NaN  NaN  NaN  NaN  NaN  NaN  NaN  ...  NaN  NaN   NaN   \n",
      "3      NaN  NaN  NaN  NaN  NaN  NaN  NaN  NaN  NaN  NaN  ...  NaN  NaN   NaN   \n",
      "4      NaN  NaN  NaN  NaN  NaN  NaN  NaN  NaN  NaN  NaN  ...  NaN  NaN   NaN   \n",
      "...    ...  ...  ...  ...  ...  ...  ...  ...  ...  ...  ...  ...  ...   ...   \n",
      "7694   NaN  NaN  NaN  NaN  NaN  NaN  NaN  NaN  NaN  NaN  ...  0.0  NaN   NaN   \n",
      "7695   NaN  NaN  NaN  NaN  NaN  NaN  NaN  NaN  NaN  NaN  ...  NaN  NaN   NaN   \n",
      "7696   NaN  NaN  NaN  NaN  NaN  NaN  NaN  NaN  NaN  NaN  ...  NaN  NaN   NaN   \n",
      "7697   NaN  NaN  NaN  NaN  NaN  NaN  NaN  NaN  NaN  NaN  ...  NaN  NaN  2.05   \n",
      "7698   NaN  NaN  NaN  NaN  NaN  NaN  NaN  NaN  NaN  NaN  ...  NaN  NaN   NaN   \n",
      "\n",
      "joke    151  152  153   154  155   156   157  \n",
      "index                                         \n",
      "0       NaN  NaN  NaN   NaN  NaN   NaN   NaN  \n",
      "1       NaN  NaN  NaN   NaN  NaN   NaN   NaN  \n",
      "2       NaN  NaN  NaN   NaN  NaN   NaN   NaN  \n",
      "3     -4.51  NaN  NaN   NaN  NaN  5.93  4.19  \n",
      "4       NaN  NaN  NaN   NaN  NaN   NaN   NaN  \n",
      "...     ...  ...  ...   ...  ...   ...   ...  \n",
      "7694   0.00  NaN  NaN   NaN  NaN   NaN   NaN  \n",
      "7695    NaN  NaN  NaN   NaN  NaN   NaN   NaN  \n",
      "7696    NaN  NaN  NaN  6.26  NaN -2.66   NaN  \n",
      "7697    NaN  NaN  NaN   NaN  NaN  0.00   NaN  \n",
      "7698    NaN  NaN  NaN   NaN  NaN   NaN   NaN  \n",
      "\n",
      "[7699 rows x 158 columns]\n"
     ]
    }
   ],
   "source": [
    "reindex = list(range(7699))\n",
    "column_reindex = list(range(158))\n",
    "pivot_train_reindex = pivot_train.reindex(reindex).fillna(np.nan)\n",
    "pivot_train_reindex_transpose = pivot_train_reindex.transpose()\n",
    "pivot_train_reindex_transpose = pivot_train_reindex_transpose.reindex(column_reindex).fillna(np.nan)\n",
    "pivot_train_reindex = pivot_train_reindex_transpose.transpose()\n",
    "\n",
    "pivot_test_reindex = pivot_test.reindex(reindex).fillna(np.nan)\n",
    "pivot_test_reindex_transpose = pivot_test_reindex.transpose()\n",
    "pivot_test_reindex_transpose = pivot_test_reindex_transpose.reindex(column_reindex).fillna(np.nan)\n",
    "pivot_test_reindex = pivot_test_reindex_transpose.transpose()\n",
    "\n",
    "print(pivot_train_reindex)\n",
    "print(pivot_test_reindex)"
   ]
  },
  {
   "cell_type": "code",
   "execution_count": 108,
   "id": "52055a39-9d67-47a0-9e93-bb3b8ac826d9",
   "metadata": {},
   "outputs": [
    {
     "name": "stdout",
     "output_type": "stream",
     "text": [
      "0.5318867016468877\n"
     ]
    }
   ],
   "source": [
    "train_means = np.nanmean(pivot_train_reindex.values)\n",
    "print(train_means)"
   ]
  },
  {
   "cell_type": "code",
   "execution_count": 110,
   "id": "8ec18646-6075-4497-8198-05e7e2396797",
   "metadata": {},
   "outputs": [
    {
     "name": "stdout",
     "output_type": "stream",
     "text": [
      "5.055509305757885\n"
     ]
    }
   ],
   "source": [
    "is_na = pivot_train_reindex.isna().astype(int) # create an is_na matrix \n",
    "\n",
    "# create matrix of ones, then multiply by the mean, then multiply by the is_na matrix so that NaN values are replaced by 0\n",
    "train_means_df = np.ones((7699,158)) * train_means * (1-is_na) \n",
    "\n",
    "#convert to dataframe, then replace 0 with NaN\n",
    "train_means_df = pd.DataFrame(train_means_df)\n",
    "train_means_df = train_means_df.replace(0, np.nan)\n",
    "\n",
    "rmse_raw_train = (((pivot_train_reindex - train_means_df) ** 2).to_numpy())\n",
    "rmse_raw_train = np.sqrt(np.nanmean(rmse_raw_train))\n",
    "print(rmse_raw_train)"
   ]
  },
  {
   "cell_type": "code",
   "execution_count": 112,
   "id": "b5ae8e2a-106e-401d-b446-52056fd047f9",
   "metadata": {},
   "outputs": [
    {
     "name": "stdout",
     "output_type": "stream",
     "text": [
      "5.09985299924901\n"
     ]
    }
   ],
   "source": [
    "is_na_test = pivot_test_reindex.isna().astype(int) # create an is_na matrix \n",
    "\n",
    "# create matrix of ones, then multiply by the mean, then multiply by the is_na matrix so that NaN values are replaced by 0\n",
    "test_means_df = np.ones((7699,158)) * train_means * (1-is_na_test) \n",
    "\n",
    "#convert to dataframe, then replace 0 with NaN\n",
    "test_means_df = pd.DataFrame(test_means_df)\n",
    "test_means_df = test_means_df.replace(0, np.nan)\n",
    "\n",
    "rmse_raw_test = (((pivot_test_reindex - test_means_df) ** 2).to_numpy())\n",
    "rmse_raw_test = np.sqrt(np.nanmean(rmse_raw_test))\n",
    "print(rmse_raw_test)"
   ]
  },
  {
   "cell_type": "code",
   "execution_count": 113,
   "id": "34dcc8d8-1f04-449c-8abc-5029bca0bca1",
   "metadata": {},
   "outputs": [
    {
     "name": "stdout",
     "output_type": "stream",
     "text": [
      "index\n",
      "0        3.168113\n",
      "1             NaN\n",
      "2        0.051447\n",
      "3        0.595411\n",
      "4       -0.860887\n",
      "          ...    \n",
      "7694    -0.101432\n",
      "7695   -10.041887\n",
      "7696     2.223113\n",
      "7697     1.395172\n",
      "7698     3.693113\n",
      "Length: 7699, dtype: float64\n"
     ]
    }
   ],
   "source": [
    "user_bias = pivot_train_reindex.mean(axis=1) - train_means\n",
    "print(user_bias)"
   ]
  },
  {
   "cell_type": "code",
   "execution_count": 176,
   "id": "e9bd15e0-1a26-467c-8c40-6a06651b8978",
   "metadata": {},
   "outputs": [
    {
     "name": "stdout",
     "output_type": "stream",
     "text": [
      "joke\n",
      "0           NaN\n",
      "1           NaN\n",
      "2           NaN\n",
      "3           NaN\n",
      "4           NaN\n",
      "         ...   \n",
      "153   -1.211308\n",
      "154   -2.060754\n",
      "155   -1.884826\n",
      "156   -0.555840\n",
      "157   -0.545272\n",
      "Length: 158, dtype: float64\n"
     ]
    }
   ],
   "source": [
    "joke_bias = pivot_train_reindex.mean() - train_means\n",
    "print(joke_bias)"
   ]
  },
  {
   "cell_type": "code",
   "execution_count": 115,
   "id": "e95a3551-ad34-4775-8bb8-aecbcd268a9a",
   "metadata": {},
   "outputs": [
    {
     "name": "stdout",
     "output_type": "stream",
     "text": [
      "joke   0    1    2    3    4    5    6    7    8    9    ...       148  \\\n",
      "index                                                    ...             \n",
      "0      NaN  NaN  NaN  NaN  NaN  NaN  NaN  NaN  NaN  NaN  ...       NaN   \n",
      "1      NaN  NaN  NaN  NaN  NaN  NaN  NaN  NaN  NaN  NaN  ...       NaN   \n",
      "2      NaN  NaN  NaN  NaN  NaN  NaN  NaN  NaN  NaN  NaN  ...       NaN   \n",
      "3      NaN  NaN  NaN  NaN  NaN  NaN  NaN  NaN  NaN  NaN  ...       NaN   \n",
      "4      NaN  NaN  NaN  NaN  NaN  NaN  NaN  NaN  NaN  NaN  ...       NaN   \n",
      "...    ...  ...  ...  ...  ...  ...  ...  ...  ...  ...  ...       ...   \n",
      "7694   NaN  NaN  NaN  NaN  NaN  NaN  NaN  NaN  NaN  NaN  ...       NaN   \n",
      "7695   NaN  NaN  NaN  NaN  NaN  NaN  NaN  NaN  NaN  NaN  ...       NaN   \n",
      "7696   NaN  NaN  NaN  NaN  NaN  NaN  NaN  NaN  NaN  NaN  ...       NaN   \n",
      "7697   NaN  NaN  NaN  NaN  NaN  NaN  NaN  NaN  NaN  NaN  ...  0.711764   \n",
      "7698   NaN  NaN  NaN  NaN  NaN  NaN  NaN  NaN  NaN  NaN  ...       NaN   \n",
      "\n",
      "joke        149      150       151       152       153       154       155  \\\n",
      "index                                                                        \n",
      "0           NaN      NaN       NaN       NaN       NaN       NaN       NaN   \n",
      "1           NaN      NaN       NaN       NaN       NaN       NaN       NaN   \n",
      "2           NaN      NaN       NaN       NaN       NaN       NaN       NaN   \n",
      "3           NaN -1.07183       NaN -0.565378 -0.784268       NaN -1.360361   \n",
      "4           NaN      NaN       NaN       NaN -0.784268       NaN       NaN   \n",
      "...         ...      ...       ...       ...       ...       ...       ...   \n",
      "7694        NaN -1.07183       NaN -0.565378       NaN -1.472743 -1.360361   \n",
      "7695        NaN      NaN       NaN       NaN       NaN       NaN       NaN   \n",
      "7696   1.535839      NaN  0.227476 -0.565378 -0.784268       NaN       NaN   \n",
      "7697        NaN      NaN  0.227476 -0.565378 -0.784268 -1.472743 -1.360361   \n",
      "7698        NaN      NaN       NaN       NaN       NaN       NaN       NaN   \n",
      "\n",
      "joke        156       157  \n",
      "index                      \n",
      "0           NaN       NaN  \n",
      "1           NaN       NaN  \n",
      "2           NaN       NaN  \n",
      "3           NaN       NaN  \n",
      "4           NaN  0.120188  \n",
      "...         ...       ...  \n",
      "7694  -0.052811       NaN  \n",
      "7695        NaN       NaN  \n",
      "7696        NaN  0.120188  \n",
      "7697        NaN  0.120188  \n",
      "7698        NaN       NaN  \n",
      "\n",
      "[7699 rows x 158 columns]\n"
     ]
    }
   ],
   "source": [
    "train_means_user_bias = train_means_df.add(user_bias, axis = 0)\n",
    "train_means_bias = train_means_df.add(joke_bias, axis = 1)\n",
    "train_means_bias[train_means_bias > 10] = 10\n",
    "train_means_bias[train_means_bias < -10] = -10\n",
    "print(train_means_bias)"
   ]
  },
  {
   "cell_type": "code",
   "execution_count": 116,
   "id": "9462925b-7284-4b2a-b0a8-73454cba1d92",
   "metadata": {},
   "outputs": [
    {
     "name": "stdout",
     "output_type": "stream",
     "text": [
      "joke   0    1    2    3    4    5    6    7    8    9    ...       148  149  \\\n",
      "index                                                    ...                  \n",
      "0      NaN  NaN  NaN  NaN  NaN  NaN  NaN  NaN  NaN  NaN  ...       NaN  NaN   \n",
      "1      NaN  NaN  NaN  NaN  NaN  NaN  NaN  NaN  NaN  NaN  ...       NaN  NaN   \n",
      "2      NaN  NaN  NaN  NaN  NaN  NaN  NaN  NaN  NaN  NaN  ...       NaN  NaN   \n",
      "3      NaN  NaN  NaN  NaN  NaN  NaN  NaN  NaN  NaN  NaN  ...       NaN  NaN   \n",
      "4      NaN  NaN  NaN  NaN  NaN  NaN  NaN  NaN  NaN  NaN  ...       NaN  NaN   \n",
      "...    ...  ...  ...  ...  ...  ...  ...  ...  ...  ...  ...       ...  ...   \n",
      "7694   NaN  NaN  NaN  NaN  NaN  NaN  NaN  NaN  NaN  NaN  ...  0.711764  NaN   \n",
      "7695   NaN  NaN  NaN  NaN  NaN  NaN  NaN  NaN  NaN  NaN  ...       NaN  NaN   \n",
      "7696   NaN  NaN  NaN  NaN  NaN  NaN  NaN  NaN  NaN  NaN  ...       NaN  NaN   \n",
      "7697   NaN  NaN  NaN  NaN  NaN  NaN  NaN  NaN  NaN  NaN  ...       NaN  NaN   \n",
      "7698   NaN  NaN  NaN  NaN  NaN  NaN  NaN  NaN  NaN  NaN  ...       NaN  NaN   \n",
      "\n",
      "joke       150       151  152  153       154  155       156       157  \n",
      "index                                                                  \n",
      "0          NaN       NaN  NaN  NaN       NaN  NaN       NaN       NaN  \n",
      "1          NaN       NaN  NaN  NaN       NaN  NaN       NaN       NaN  \n",
      "2          NaN       NaN  NaN  NaN       NaN  NaN       NaN       NaN  \n",
      "3          NaN  0.227476  NaN  NaN       NaN  NaN -0.052811  0.120188  \n",
      "4          NaN       NaN  NaN  NaN       NaN  NaN       NaN       NaN  \n",
      "...        ...       ...  ...  ...       ...  ...       ...       ...  \n",
      "7694       NaN  0.227476  NaN  NaN       NaN  NaN       NaN       NaN  \n",
      "7695       NaN       NaN  NaN  NaN       NaN  NaN       NaN       NaN  \n",
      "7696       NaN       NaN  NaN  NaN -1.472743  NaN -0.052811       NaN  \n",
      "7697  -1.07183       NaN  NaN  NaN       NaN  NaN -0.052811       NaN  \n",
      "7698       NaN       NaN  NaN  NaN       NaN  NaN       NaN       NaN  \n",
      "\n",
      "[7699 rows x 158 columns]\n"
     ]
    }
   ],
   "source": [
    "test_means_user_bias = test_means_df.add(user_bias, axis = 0)\n",
    "test_means_bias = test_means_df.add(joke_bias, axis = 1)\n",
    "test_means_bias[test_means_bias > 10] = 10\n",
    "test_means_bias[test_means_bias < -10] = -10\n",
    "print(test_means_bias)"
   ]
  },
  {
   "cell_type": "markdown",
   "id": "9d9f8980-316f-43ce-8648-e666301c35bd",
   "metadata": {},
   "source": [
    "Using the user biases and joke biases, we can determine the final baseline RMSE for the training and test set."
   ]
  },
  {
   "cell_type": "code",
   "execution_count": 118,
   "id": "4a356dbf-bfb3-4a84-977b-dcbd3dded8e5",
   "metadata": {},
   "outputs": [
    {
     "name": "stdout",
     "output_type": "stream",
     "text": [
      "4.92605004367484\n"
     ]
    }
   ],
   "source": [
    "rmse_bias_train = (((pivot_train_reindex - train_means_bias) ** 2).to_numpy())\n",
    "rmse_bias_train = np.sqrt(np.nanmean(rmse_bias_train))\n",
    "print(rmse_bias_train)"
   ]
  },
  {
   "cell_type": "code",
   "execution_count": 119,
   "id": "6250ef18-9644-420c-9804-0a0574b5a230",
   "metadata": {},
   "outputs": [
    {
     "name": "stdout",
     "output_type": "stream",
     "text": [
      "4.969971634915424\n"
     ]
    }
   ],
   "source": [
    "rmse_bias_test = (((pivot_test_reindex - test_means_bias) ** 2).to_numpy())\n",
    "rmse_bias_test = np.sqrt(np.nanmean(rmse_bias_test))\n",
    "print(rmse_bias_test)"
   ]
  },
  {
   "cell_type": "markdown",
   "id": "9607a75a-f9ab-40dc-95d3-bde0ef3856d0",
   "metadata": {},
   "source": [
    "Per step 2 of the plan outlined above, I can incorporate content based filtering with tf-idf.  I used scikit-learn's TfidfVectorizer to do this."
   ]
  },
  {
   "cell_type": "code",
   "execution_count": 137,
   "id": "15e4df5e-874a-43c1-86c4-7f9c9c6967e7",
   "metadata": {},
   "outputs": [
    {
     "name": "stdout",
     "output_type": "stream",
     "text": [
      "                                                     0\n",
      "0    A man visits the doctor. The doctor says \"I ha...\n",
      "1    This couple had an excellent relationship goin...\n",
      "2    Q. What's 200 feet long and has 4 teeth?   A. ...\n",
      "3    Q. What's the difference between a man and a t...\n",
      "4    Q.\\tWhat's O. J. Simpson's Internet address?  ...\n",
      "..                                                 ...\n",
      "153  Poodle: \"My life is a mess. My owner is mean, ...\n",
      "154  Did you hear that NASA has launched several co...\n",
      "155  A bear walks into a bar and says,\"I'd like a b...\n",
      "156  A dog goes into a bar and orders a martini. Th...\n",
      "157  I'm reading a great book about antigravity -- ...\n",
      "\n",
      "[158 rows x 1 columns]\n"
     ]
    }
   ],
   "source": [
    "# Import the data\n",
    "jokes_df = pd.read_csv(\"https://raw.githubusercontent.com/koonkimb/Data612/refs/heads/main/Project_2/data/Dataset4JokeSet.csv\", header = None)\n",
    "print(jokes_df)"
   ]
  },
  {
   "cell_type": "code",
   "execution_count": 121,
   "id": "b3e55822-b461-418f-9bd6-23e3243d7c03",
   "metadata": {},
   "outputs": [
    {
     "name": "stdout",
     "output_type": "stream",
     "text": [
      "                                                     0\n",
      "0    A man visits the doctor. The doctor says \"I ha...\n",
      "1    This couple had an excellent relationship goin...\n",
      "2    Q. What's  feet long and has  teeth?   A. The ...\n",
      "3    Q. What's the difference between a man and a t...\n",
      "4    Q.\\tWhat's O. J. Simpson's Internet address?  ...\n",
      "..                                                 ...\n",
      "153  Poodle: \"My life is a mess. My owner is mean, ...\n",
      "154  Did you hear that NASA has launched several co...\n",
      "155  A bear walks into a bar and says,\"I'd like a b...\n",
      "156  A dog goes into a bar and orders a martini. Th...\n",
      "157  I'm reading a great book about antigravity -- ...\n",
      "\n",
      "[158 rows x 1 columns]\n"
     ]
    }
   ],
   "source": [
    "# use regex to remove any integers, as the TfidfVectorizer will convert all strings to lowercase with a function that cannot take in integers\n",
    "jokes_df_string = jokes_df\n",
    "jokes_df_string[0] = jokes_df_string[0].replace(r'\\d+', '', regex = True)\n",
    "print(jokes_df_string)"
   ]
  },
  {
   "cell_type": "code",
   "execution_count": 140,
   "id": "9688eb46-e718-467c-ab96-454d2538e777",
   "metadata": {},
   "outputs": [
    {
     "name": "stdout",
     "output_type": "stream",
     "text": [
      "['able' 'abortion' 'accident' ... 'younger' 'zipper' 'zo']\n",
      "{'man': 1084, 'visits': 1901, 'doctor': 512, 'says': 1538, 'bad': 133, 'news': 1197, 'cancer': 264, 'alzheimer': 41, 'disease': 501, 'replies': 1464, 'thank': 1796, 'god': 758, 'don': 520, 'couple': 400, 'excellent': 603, 'relationship': 1450, 'going': 761, 'day': 440, 'came': 259, 'home': 858, 'work': 1976, 'girlfriend': 749, 'packing': 1258, 'asked': 93, 'leaving': 1001, 'told': 1823, 'heard': 826, 'awful': 124, 'things': 1801, 'possibly': 1352, 'said': 1521, 'make': 1078, 'pedophile': 1294, 'replied': 1463, 'awfully': 125, 'big': 167, 'word': 1974, 'year': 1996, 'old': 1230, 'feet': 649, 'long': 1048, 'teeth': 1781, 'row': 1508, 'willie': 1954, 'nelson': 1191, 'concert': 368, 'difference': 486, 'toilet': 1820, 'doesn': 515, 'follow': 691, 'use': 1875, 'simpson': 1615, 'internet': 911, 'address': 11, 'slash': 1632, 'backslash': 131, 'escape': 587, 'hillary': 845, 'trip': 1848, 'arkansas': 80, 'gas': 731, 'pulls': 1391, 'service': 1576, 'station': 1706, 'outskirts': 1253, 'town': 1832, 'attendant': 110, 'runs': 1515, 'serve': 1574, 'realizes': 1425, 'boyfriend': 204, 'high': 843, 'school': 1541, 'chat': 296, 'gases': 732, 'car': 270, 'cleans': 322, 'windows': 1957, 'say': 1536, 'good': 764, 'bye': 251, 'road': 1499, 'turns': 1857, 'aren': 78, 'glad': 755, 'married': 1094, 've': 1886, 'wife': 1951, 'grease': 779, 'monkey': 1150, 'pumping': 1392, 'president': 1363, 'feminists': 654, 'does': 514, 'screw': 1551, 'light': 1024, 'bulb': 239, 'funny': 721, 'did': 481, 'hear': 825, 'dyslexic': 546, 'devil': 475, 'worshiper': 1983, 'sold': 1649, 'soul': 1659, 'santa': 1527, 'country': 399, 'guy': 799, 'goes': 760, 'city': 316, 'bar': 139, 'dress': 533, 'code': 337, 'maitre': 1077, 'demands': 459, 'wear': 1935, 'tie': 1809, 'discouraged': 497, 'sulk': 1739, 'inspiration': 906, 'strikes': 1726, 'got': 769, 'jumper': 947, 'cables': 252, 'trunk': 1850, 'wraps': 1987, 'neck': 1184, 'sort': 1658, 'like': 1029, 'string': 1727, 'bulky': 240, 'sure': 1748, 'returns': 1484, 'reluctant': 1454, 'okay': 1229, 'pretty': 1366, 'resourceful': 1472, 'fellow': 651, 'come': 347, 'just': 950, 'start': 1699, 'cannibals': 266, 'eating': 555, 'clown': 334, 'taste': 1772, 'hurricane': 878, 'tornado': 1829, 'redneck': 1444, 'divorce': 510, 'common': 352, 'lose': 1056, 'trailer': 1837, 'stood': 1715, 'tee': 1780, 'shot': 1596, 'eternity': 593, 'looking': 1052, 'measuring': 1109, 'distance': 506, 'figuring': 660, 'wind': 1955, 'direction': 494, 'speed': 1672, 'driving': 538, 'partner': 1279, 'nuts': 1215, 'finally': 663, 'exasperated': 602, 'hell': 835, 'taking': 1765, 'hit': 849, 'goddamn': 759, 'ball': 134, 'answers': 61, 'watching': 1929, 'clubhouse': 335, 'want': 1920, 'perfect': 1300, 'stand': 1693, 'snowball': 1644, 'chance': 291, 'hitting': 850, 'japanese': 930, 'visitor': 1900, 'elections': 562, 'morning': 1153, 'father': 643, 'anxious': 63, 'marry': 1095, 'daughter': 438, 'wanted': 1921, 'impress': 891, 'date': 436, 'huh': 874, 'surprised': 1750, 'loves': 1062, 'carefully': 273, 'explained': 620, 'interested': 908, 'boy': 203, 'yes': 2002, 'sir': 1620, 'minutes': 1136, 'later': 983, 'girl': 748, 'stairs': 1689, 'kissed': 962, 'goodbye': 765, 'left': 1003, 'reappeared': 1427, 'furious': 723, 'torn': 1828, 'hair': 803, 'mess': 1122, 'screamed': 1548, 'dammit': 431, 'daddy': 429, 'twist': 1862, 'straight': 1722, 'blind': 177, 'person': 1304, 'given': 752, 'matzah': 1103, 'wrote': 1993, 'orange': 1240, 'sounds': 1661, 'parrot': 1276, 'carrot': 275, 'men': 1118, 'dog': 516, 'walks': 1915, 'western': 1941, 'union': 1869, 'asks': 94, 'clerk': 325, 'send': 1567, 'telegram': 1782, 'fills': 662, 'form': 699, 'writes': 1991, 'wishes': 1961, 'bow': 202, 'wow': 1986, 'add': 10, 'price': 1367, 'responded': 1475, 'wouldn': 1984, 'sound': 1660, 'little': 1038, 'silly': 1612, 'speaks': 1667, 'languages': 979, 'called': 255, 'tri': 1846, 'lingual': 1033, 'bi': 165, 'language': 978, 'american': 48, 'macintosh': 1073, 'etch': 592, 'sketch': 1627, 'shake': 1582, 'mac': 1069, 'clear': 323, 'screen': 1550, 'used': 1876, 'tire': 1815, 'condoms': 372, 'goodyear': 766, 'great': 780, 'duck': 543, 'pharmacy': 1308, 'condom': 371, 'pharmacist': 1307, 'stick': 1711, 'kind': 959, 'think': 1802, 'australian': 117, 'boomerang': 192, 'won': 1967, 'run': 1513, 'parakeet': 1272, 'lawnmower': 992, 'shredded': 1603, 'tweet': 1859, 'kindergarten': 960, 'girls': 751, 'talking': 1768, 'outside': 1252, 'believe': 160, 'saw': 1535, 'patio': 1283, 'yesterday': 2003, 'second': 1559, 'sits': 1623, 'extremely': 627, 'gorgeous': 768, 'woman': 1964, 'thing': 1800, 'notices': 1209, 'pants': 1267, 'skin': 1628, 'tight': 1810, 'waisted': 1904, 'obvious': 1219, 'mechanism': 1111, 'zipper': 2007, 'buttons': 248, 'velcro': 1889, 'opening': 1234, 'puzzling': 1398, 'hips': 847, 'worked': 1977, 'nerve': 1192, 'ask': 92, 'excuse': 612, 'miss': 1137, 'buying': 250, 'drink': 534, 'clinton': 330, 'vacation': 1882, 'steps': 1710, 'air': 35, 'force': 695, 'pigs': 1320, 'arms': 82, 'honor': 860, 'guardsman': 793, 'genuine': 742, 'razor': 1413, 'hogs': 851, 'chelsea': 301, 'nice': 1198, 'trade': 1834, 'mechanical': 1110, 'electrical': 563, 'software': 1647, 'engineer': 572, 'microsoft': 1127, 'desert': 467, 'broke': 225, 'problem': 1374, 'fuel': 716, 'injection': 900, 'pop': 1345, 'hood': 861, 'll': 1043, 'look': 1050, 'loose': 1054, 'ground': 788, 'wire': 1959, 'jumps': 948, 'close': 331, 'wait': 1905, 'reopen': 1459, 'fine': 668, 'scotsmen': 1545, 'sitting': 1624, 'younger': 2006, 'scottish': 1546, 'gentleman': 740, 'ah': 28, 'lad': 972, 'window': 1956, 'stone': 1714, 'wall': 1916, 'built': 238, 'bare': 140, 'hands': 809, 'placed': 1327, 'meself': 1121, 'macgregor': 1070, 'builder': 236, 'takes': 1764, 'sips': 1619, 'beer': 155, 'aye': 127, 'lake': 977, 'eye': 628, 'beautiful': 151, 'pier': 1318, 'laid': 976, 'board': 187, 'hammered': 806, 'nail': 1167, 'continues': 385, 'build': 235, 'inch': 894, 'pavement': 1286, 'agh': 23, 'sheep': 1585, 'lawyer': 993, 'plumber': 1335, 'works': 1979, 'unclog': 1863, 'looks': 1053, 'desk': 470, 'oval': 1254, 'office': 1225, 'aides': 32, 'nervously': 1194, 'approach': 73, 'exclaims': 611, 'abortion': 1, 'mr': 1160, 'aide': 31, 'ahead': 29, 'pay': 1288, 'responds': 1476, 'arrives': 85, 'gates': 735, 'heaven': 830, 'st': 1686, 'peter': 1306, 'religion': 1452, 'methodist': 1125, 'list': 1035, 'room': 1504, 'quiet': 1405, 'pass': 1280, 'baptist': 138, 'jewish': 933, 'understand': 1864, 'different': 487, 'rooms': 1505, 'religions': 1453, 'tells': 1787, 'catholics': 280, 'ones': 1231, 'finals': 664, 'world': 1980, 'cup': 418, 'hey': 840, 'backwoods': 132, 'midwestern': 1129, 'state': 1703, 'johnny': 936, 'hour': 868, 'late': 982, 'teacher': 1774, 'john': 935, 'johny': 937, 'brother': 229, 'ass': 96, 'corrects': 391, 'speech': 1671, 'rectum': 1442, 'wrecked': 1989, 'damn': 432, 'near': 1181, 'killed': 956, 'explorer': 624, 'deepest': 450, 'amazon': 45, 'suddenly': 1735, 'finds': 667, 'surrounded': 1751, 'bloodthirsty': 182, 'group': 790, 'natives': 1176, 'surveying': 1752, 'situation': 1625, 'quietly': 1406, 'oh': 1227, 'screwed': 1552, 'sky': 1630, 'darkens': 434, 'voice': 1902, 'booms': 193, 'pick': 1314, 'bash': 146, 'head': 823, 'chief': 304, 'standing': 1695, 'bashes': 147, 'life': 1022, 'lifeless': 1023, 'body': 189, 'breathing': 213, 'heavily': 832, 'angry': 56, 'orders': 1244, 'bartender': 144, 'polish': 1341, 'joke': 940, 'barkeep': 141, 'glares': 757, 'warning': 1924, 'tone': 1825, 'telling': 1786, 'better': 164, 'know': 968, 'bouncers': 200, 'customers': 423, 'customer': 422, 'tell': 1784, 'slowly': 1636, 'young': 2005, 'seeing': 1561, 'psychiatrist': 1388, 'sleeping': 1634, 'disorder': 503, 'obsessed': 1217, 'mother': 1154, 'soon': 1655, 'sleep': 1633, 'dreaming': 532, 'dream': 531, 'wake': 1909, 'downstairs': 528, 'eat': 554, 'piece': 1317, 'toast': 1817, 'order': 1242, 'waiter': 1907, 'prepare': 1360, 'chickens': 303, 'special': 1668, 'die': 483, 'women': 1966, 'wants': 1923, 'satisfy': 1531, 'need': 1185, 'irishmen': 919, 'change': 292, 'lightbulb': 1025, 'hold': 852, 'spins': 1677, 'atheist': 103, 'orgasm': 1246, 'darwin': 435, 'discussing': 500, 'age': 21, 'question': 1402, 'enjoys': 578, 'sex': 1581, 'listens': 1037, 'awhile': 126, 'interrupts': 914, 'listen': 1036, 'guys': 800, 'ear': 549, 'itches': 924, 'finger': 670, 'wiggle': 1952, 'afterward': 20, 'feels': 648, 'arnold': 83, 'swartzeneger': 1755, 'sylvester': 1758, 'stallone': 1691, 'making': 1080, 'movie': 1158, 'lives': 1041, 'composers': 363, 'mozart': 1159, 'case': 277, 'bach': 129, 'horse': 864, 'face': 631, 'comes': 348, 'play': 1332, 'husband': 880, 'speaking': 1666, 'role': 1500, 'years': 1998, 'th': 1795, 'birthday': 172, 'decides': 448, 'surprise': 1749, 'hiring': 848, 'prostitute': 1385, 'doorbell': 523, 'rings': 1492, 'uses': 1878, 'walker': 1913, 'door': 522, 'opens': 1235, 'latex': 985, 'outfit': 1249, 'smiles': 1641, 'hi': 841, 'super': 1741, 'soup': 1662, 'exceptional': 604, 'gift': 747, 'fixing': 676, 'serving': 1578, 'company': 354, 'loyally': 1066, 'happily': 813, 'retired': 1480, 'contacted': 381, 'regarding': 1448, 'seemingly': 1563, 'impossible': 890, 'having': 821, 'multi': 1161, 'million': 1131, 'dollar': 518, 'machines': 1072, 'tried': 1847, 'machine': 1071, 'fixed': 675, 'avail': 120, 'desperation': 471, 'solved': 1652, 'problems': 1375, 'past': 1282, 'reluctantly': 1455, 'took': 1827, 'challenge': 290, 'spent': 1674, 'studying': 1731, 'huge': 873, 'end': 571, 'marked': 1092, 'small': 1637, 'chalk': 289, 'particular': 1277, 'component': 361, 'proudly': 1386, 'stated': 1704, 'replaced': 1462, 'perfectly': 1301, 'received': 1430, 'demanded': 458, 'itemized': 926, 'accounting': 4, 'charges': 294, 'briefly': 220, 'mark': 1091, 'knowing': 969, 'paid': 1259, 'peace': 1291, 'graduate': 774, 'science': 1542, 'degree': 452, 'engineering': 573, 'cost': 393, 'liberal': 1016, 'arts': 87, 'fries': 712, 'students': 1730, 'gathered': 736, 'possible': 1351, 'designers': 468, 'human': 875, 'joints': 939, 'nervous': 1193, 'systems': 1759, 'thousands': 1806, 'connections': 378, 'actually': 8, 'civil': 318, 'toxic': 1833, 'waste': 1926, 'pipeline': 1324, 'recreational': 1439, 'area': 77, 'confession': 373, 'priest': 1370, 'widower': 1950, 'grandchildren': 775, 'night': 1199, 'met': 1123, 'flight': 683, 'attendants': 111, 'love': 1061, 'twice': 1860, 'son': 1654, 'time': 1811, 'everybody': 598, 'announced': 58, 'new': 1196, 'national': 1175, 'bird': 170, 'spread': 1682, 'eagle': 548, 'monica': 1149, 'lewinsky': 1014, 'bob': 188, 'dole': 517, 'upset': 1873, 'finished': 672, 'sunday': 1740, 'william': 1953, 'burst': 243, 'living': 1042, 'dad': 428, 'mom': 1144, 'getting': 746, 'block': 178, 'away': 123, 'susan': 1753, 'dinner': 493, 'aside': 91, 'talk': 1767, 'wonderful': 1970, 'offered': 1223, 'excitement': 609, 'bedroom': 153, 'fool': 693, 'lot': 1059, 'half': 804, 'sister': 1621, 'afraid': 18, 'heart': 829, 'broken': 226, 'months': 1152, 'eventually': 597, 'started': 1700, 'dating': 437, 'dianne': 478, 'june': 949, 'insisted': 905, 'private': 1372, 'conversation': 386, 'sad': 1518, 'sorry': 1657, 'decided': 447, 'harm': 818, 'guess': 794, 'complained': 356, 'fall': 635, 'shook': 1593, 'attention': 112, 'dear': 444, 'really': 1426, 'pope': 1346, 'dies': 485, 'naturally': 1177, 'reception': 1435, 'committee': 351, 'whirlwind': 1947, 'tour': 1830, 'enjoy': 576, 'myriad': 1165, 'recreations': 1440, 'available': 121, 'read': 1419, 'ancient': 52, 'original': 1247, 'text': 1794, 'holy': 857, 'scriptures': 1556, 'spends': 1673, 'eon': 584, 'learning': 998, 'linguistic': 1034, 'master': 1097, 'library': 1017, 'begins': 159, 'pour': 1355, 'version': 1891, 'bible': 166, 'working': 1978, 'recent': 1433, 'easy': 553, 'reading': 1420, 'script': 1555, 'sudden': 1734, 'scream': 1547, 'angels': 55, 'running': 1514, 'huddled': 872, 'chair': 287, 'crying': 416, 'muttering': 1164, 'scribes': 1554, 'particularly': 1278, 'concerned': 367, 'angel': 54, 'offering': 1224, 'comfort': 349, 'mean': 1105, 'collecting': 340, 'wits': 1962, 'sobs': 1645, 'letter': 1010, 'supposed': 1747, 'celebrate': 283, 'twins': 1861, 'gives': 753, 'adoption': 15, 'family': 638, 'egypt': 560, 'named': 1169, 'amal': 42, 'spain': 1664, 'juan': 942, 'sends': 1568, 'picture': 1316, 'receiving': 1432, 'seen': 1564, 'cindy': 315, 'crawford': 406, 'stranded': 1723, 'island': 921, 'days': 441, 'frustrated': 714, 'baseball': 145, 'cap': 267, 'answer': 59, 'agrees': 27, 'walking': 1914, 'hello': 836, 'weeks': 1937, 'jones': 941, 'phone': 1309, 'book': 190, 'phones': 1310, 'teddybears': 1779, 'teddybear': 1778, 'lightbulbs': 1026, 'chukcha': 313, 'russian': 1516, 'eskimo': 590, 'parliament': 1275, 'building': 237, 'guard': 792, 'required': 1470, 'member': 1117, 'idiot': 885, 'buddhist': 233, 'hot': 866, 'vendor': 1890, 'publicity': 1389, 'outing': 1250, 'sneaked': 1642, 'visit': 1899, 'fortune': 703, 'teller': 1785, 'local': 1044, 'repute': 1469, 'dark': 433, 'hazy': 822, 'peering': 1297, 'crystal': 417, 'mystic': 1166, 'delivered': 456, 'grave': 778, 'way': 1933, 'blunt': 185, 'widow': 1949, 'violent': 1896, 'horrible': 863, 'death': 445, 'visibly': 1898, 'shaken': 1583, 'stared': 1697, 'lined': 1032, 'single': 1616, 'flickering': 682, 'candle': 265, 'deep': 449, 'breaths': 214, 'compose': 362, 'simply': 1614, 'gaze': 738, 'steadied': 1708, 'acquitted': 6, 'managers': 1087, 'assignment': 97, 'measure': 1106, 'height': 834, 'flagpole': 677, 'ladders': 973, 'tape': 1770, 'measures': 1108, 'falling': 636, 'dropping': 539, 'sees': 1565, 'trying': 1853, 'lays': 996, 'flat': 678, 'measurement': 1107, 'gone': 763, 'manager': 1086, 'laughs': 989, 'isn': 922, 'length': 1007, 'physicist': 1312, 'mathematician': 1102, 'wakes': 1910, 'picks': 1315, 'bucket': 232, 'water': 1930, 'douses': 527, 'calculates': 253, 'optimal': 1238, 'trajectory': 1840, 'minimum': 1133, 'solution': 1650, 'exists': 615, 'rallying': 1411, 'international': 910, 'pride': 1369, 'movement': 1157, 'dyslexics': 547, 'untie': 1871, 'rednecks': 1445, 'seated': 1558, 'lady': 975, 'stools': 1717, 'began': 157, 'choke': 311, 'hamburger': 805, 'turning': 1856, 'blue': 184, 'obviously': 1220, 'respiratory': 1474, 'distress': 507, 'gal': 726, 'agreed': 26, 'help': 837, 'bet': 163, 'ran': 1412, 'breathe': 212, 'speak': 1665, 'pulled': 1390, 'skirt': 1629, 'licked': 1019, 'butt': 247, 'shocked': 1591, 'coughed': 395, 'obstruction': 1218, 'relief': 1451, 'walked': 1912, 'friend': 710, 'hind': 846, 'lick': 1018, 'maneuver': 1088, 'opened': 1233, 'bmw': 186, 'ripping': 1496, 'completely': 358, 'police': 1340, 'arrived': 84, 'scene': 1540, 'complaining': 357, 'bitterly': 174, 'damage': 430, 'precious': 1358, 'officer': 1226, 'beeeeemer': 154, 'whined': 1945, 'lawyers': 994, 'materialistic': 1100, 'sick': 1607, 'retorted': 1482, 'worried': 1981, 'stupid': 1733, 'didn': 482, 'notice': 1207, 'arm': 81, 'ripped': 1495, 'gaaaad': 725, 'noticing': 1210, 'bloody': 183, 'shoulder': 1597, 'rolex': 1501, 'brooms': 228, 'fell': 650, 'ceremony': 286, 'bride': 217, 'broom': 227, 'informed': 898, 'groom': 787, 'expecting': 618, 'whiskbroom': 1948, 'aghast': 24, 'swept': 1756, 'piloting': 1323, 'balloon': 135, 'discovers': 499, 'wandered': 1918, 'course': 401, 'hopelessly': 862, 'lost': 1058, 'descends': 466, 'lower': 1064, 'altitude': 40, 'locates': 1045, 'lowers': 1065, 'shouts': 1600, 'field': 657, 'information': 897, 'technology': 1777, 'balloonist': 136, 'technically': 1776, 'correct': 390, 'management': 1085, 'expect': 617, 'immediate': 889, 'position': 1348, 'fault': 644, 'honey': 859, 'died': 484, 'remarry': 1457, 'considerable': 380, 'period': 1302, 'grieving': 784, 'companionship': 353, 'remarried': 1456, 'live': 1039, 'house': 870, 'money': 1148, 'rid': 1488, 'lived': 1040, 'bed': 152, 'brand': 207, 'thousand': 1805, 'dollars': 519, 'slept': 1635, 'golf': 762, 'clubs': 336, 'handed': 808, 'employer': 570, 'applicant': 69, 'job': 934, 'responsible': 1477, 'went': 1939, 'wrong': 1992, 'sacramento': 1517, 'pc': 1290, 'users': 1877, 'meeting': 1116, 'demonstrating': 460, 'latest': 984, 'recognition': 1436, 'representative': 1468, 'ready': 1422, 'demonstration': 461, 'yelled': 1999, 'format': 700, 'return': 1483, 'chimed': 307, 'unfortunately': 1868, 'college': 342, 'dean': 443, 'addressed': 12, 'pointing': 1337, 'rules': 1511, 'female': 653, 'dormitory': 524, 'bounds': 201, 'male': 1081, 'anybody': 65, 'caught': 281, 'breaking': 211, 'rule': 1510, 'finded': 665, 'continued': 384, 'fined': 669, 'questions': 1403, 'point': 1336, 'student': 1729, 'crowd': 414, 'inquired': 901, 'season': 1557, 'george': 743, 'washington': 1925, 'richard': 1486, 'nixon': 1200, 'couldn': 397, 'lie': 1020, 'truth': 1851, 'stalkers': 1690, 'replace': 1461, 'watch': 1927, 'intelligent': 907, 'sasquatch': 1528, 'actual': 7, 'reported': 1466, 'sightings': 1608, 'terrible': 1789, 'wreck': 1988, 'vehicles': 1888, 'destroyed': 472, 'buy': 249, 'fortunately': 702, 'hurt': 879, 'thankfulness': 1797, 'bottle': 196, 'wine': 1958, 'let': 1009, 'open': 1232, 'bottleout': 197, 'closed': 332, 'cleverly': 326, 'cops': 388, 'pro': 1373, 'opposite': 1237, 'congress': 377, 'progress': 1381, 'government': 771, 'mafia': 1075, 'organized': 1245, 'wonder': 1968, 'irs': 920, 'calls': 256, 'earn': 551, 'airplane': 37, 'throw': 1807, 'plane': 1329, 'happy': 814, 'bills': 169, 'people': 1298, 'chips': 309, 'asian': 89, 'york': 2004, 'citybank': 317, 'exchange': 606, 'yen': 2001, 'currency': 419, 'month': 1151, 'bank': 137, 'receives': 1431, 'fluctuations': 688, 'fluk': 689, 'amelicans': 46, 'computer': 364, 'programmer': 1379, 'shower': 1602, 'shampoo': 1584, 'label': 971, 'rinse': 1493, 'lather': 986, 'repeat': 1460, 'place': 1326, 'mon': 1146, 'clean': 321, 'stuff': 1732, 'lying': 1068, 'floor': 684, 'clothes': 333, 'laundry': 991, 'right': 1490, 'hears': 828, 'blah': 176, 'engineers': 574, 'weapons': 1934, 'targets': 1771, 'presidents': 1365, 'depends': 464, 'definition': 451, 'screwing': 1553, 'neutron': 1195, 'owe': 1255, 'charge': 293, 'recently': 1434, 'completing': 359, 'routine': 1507, 'physical': 1311, 'examination': 601, 'ok': 1228, 'hours': 869, 'shit': 1590, 'forgot': 698, 'czechoslovakian': 426, 'felt': 652, 'eyesight': 630, 'growing': 791, 'steadily': 1709, 'worse': 1982, 'optometrist': 1239, 'simple': 1613, 'testing': 1792, 'showed': 1601, 'standard': 1694, 'chart': 295, 'letters': 1012, 'diminishing': 491, 'size': 1626, 'crkbnwxskzy': 411, 'czech': 425, 'answered': 60, 'doc': 511, 'radio': 1409, 'naval': 1178, 'ship': 1589, 'canadian': 261, 'authorities': 118, 'americans': 49, 'divert': 509, 'degrees': 453, 'north': 1203, 'avoid': 122, 'collision': 344, 'canadians': 262, 'recommend': 1437, 'south': 1663, 'captain': 269, 'navy': 1179, 'aircraft': 36, 'carrier': 274, 'uss': 1879, 'lincoln': 1030, 'largest': 981, 'united': 1870, 'states': 1705, 'atlantic': 104, 'fleet': 680, 'accompanied': 3, 'destroyers': 473, 'cruisers': 415, 'numerous': 1212, 'support': 1746, 'vessels': 1892, 'demand': 457, 'counter': 398, 'undertaken': 1865, 'ensure': 580, 'safety': 1520, 'lighthouse': 1027, 'programmers': 1380, 'hardware': 817, 'panda': 1265, 'bear': 149, 'table': 1760, 'double': 526, 'cheeseburger': 300, 'gun': 795, 'rips': 1497, 'gunfire': 796, 'patrons': 1284, 'scatter': 1539, 'dive': 508, 'chairs': 288, 'tables': 1761, 'ensuring': 581, 'races': 1408, 'dictionary': 480, 'pan': 1264, 'da': 427, 'zo': 2008, 'asiatic': 90, 'mammal': 1083, 'ailurus': 33, 'fulgens': 717, 'soft': 1646, 'fur': 722, 'related': 1449, 'bears': 150, 'inhabits': 899, 'mountains': 1155, 'northern': 1204, 'india': 895, 'eats': 556, 'shoots': 1594, 'leaves': 1000, 'early': 550, 'woke': 1963, 'mama': 1082, 'reasons': 1429, 'children': 305, 'hate': 819, 'teachers': 1775, 'reason': 1428, 'principal': 1371, 'reaching': 1417, 'interview': 915, 'resources': 1473, 'fresh': 709, 'stanford': 1696, 'starting': 1701, 'salary': 1522, 'neighborhood': 1190, 'depending': 463, 'benefits': 162, 'package': 1257, 'interviewer': 916, 'holidays': 855, 'medical': 1113, 'dental': 462, 'matching': 1098, 'retirement': 1481, 'fund': 719, 'leased': 999, 'red': 1443, 'corvette': 392, 'sat': 1529, 'kidding': 955, 'yeah': 1995, 'atoms': 106, 'street': 1725, 'atom': 105, 'electron': 564, 'positive': 1349, 'thought': 1804, 'criticizing': 410, 'walk': 1911, 'mile': 1130, 'shoes': 1592, 'criticize': 409, 'attorneys': 113, 'diner': 492, 'ordered': 1243, 'drinks': 536, 'produced': 1376, 'sandwiches': 1526, 'briefcases': 219, 'owner': 1256, 'quite': 1407, 'marched': 1090, 'looked': 1051, 'shrugged': 1606, 'shoulders': 1598, 'exchanged': 607, 'explaining': 621, 'class': 320, 'negatives': 1188, 'differently': 488, 'followed': 692, 'negative': 1187, 'makes': 1079, 'positives': 1350, 'puts': 1396, 'hand': 807, 'womanhood': 1965, 'ages': 22, 'africa': 19, 'virgin': 1897, 'unexplored': 1867, 'asia': 88, 'exotic': 616, 'america': 47, 'fully': 718, 'explored': 623, 'breathtakingly': 215, 'free': 706, 'europe': 594, 'exhausted': 613, 'points': 1338, 'australia': 116, 'knows': 970, 'bus': 244, 'stops': 1719, 'train': 1838, 'whats': 1943, 'greeting': 783, 'queen': 1401, 'knee': 963, 'greet': 782, 'refused': 1447, 'novocaine': 1211, 'root': 1506, 'canal': 263, 'transcend': 1841, 'medication': 1114, 'escaped': 588, 'jail': 928, 'digging': 490, 'hole': 853, 'cell': 284, 'emerged': 565, 'middle': 1128, 'preschool': 1361, 'playground': 1333, 'shouted': 1599, 'nurse': 1213, 'invisible': 918, 'waiting': 1908, 'pre': 1357, 'med': 1112, 'difficult': 489, 'physics': 1313, 'professor': 1377, 'complicated': 360, 'concept': 365, 'rudely': 1509, 'interrupted': 913, 'learn': 997, 'save': 1533, 'quickly': 1404, 'lecture': 1002, 'spoke': 1678, 'persisted': 1303, 'usually': 1880, 'keeps': 952, 'idiots': 886, 'hunters': 877, 'woods': 1973, 'falls': 637, 'eyes': 629, 'rolled': 1502, 'whips': 1946, 'gasps': 733, 'operator': 1236, 'dead': 442, 'calm': 257, 'soothing': 1656, 'alright': 39, 'silence': 1610, 'hunter': 876, 'line': 1031, 'reports': 1467, 'pearly': 1293, 'checks': 299, 'dossier': 525, 'gets': 745, 'dissatisfied': 505, 'level': 1013, 'starts': 1702, 'designing': 469, 'improvements': 893, 'conditioning': 370, 'flush': 690, 'toilets': 1821, 'escalators': 586, 'popular': 1347, 'satan': 1530, 'telephone': 1783, 'sneer': 1643, 'mistake': 1141, 'gotten': 770, 'staff': 1687, 'keeping': 951, 'sue': 1736, 'uproariously': 1872, 'fat': 642, 'suffer': 1737, 'fewer': 656, 'attacks': 108, 'british': 223, 'french': 707, 'chinese': 308, 'italians': 923, 'excessive': 605, 'amounts': 51, 'conclusion': 369, 'english': 575, 'kills': 958, 'approached': 74, 'large': 980, 'supermarket': 1742, 'appears': 67, 'boss': 195, 'employees': 569, 'recruit': 1441, 'grandmother': 776, 'funeral': 720, 'stopped': 1718, 'giving': 754, 'test': 1790, 'tests': 1793, 'noticed': 1208, 'attached': 107, 'note': 1205, 'saying': 1537, 'business': 246, 'friends': 711, 'flowers': 687, 'occasion': 1221, 'site': 1622, 'card': 271, 'rest': 1478, 'florist': 686, 'complain': 355, 'imagine': 888, 'today': 1818, 'congratulations': 376, 'location': 1046, 'discovered': 498, 'pistol': 1325, 'squealed': 1685, 'delight': 455, 'headed': 824, 'nearest': 1183, 'sink': 1617, 'pleased': 1334, 'turned': 1855, 'remember': 1458, 'drive': 537, 'crazy': 408, 'guns': 797, 'smiled': 1640, 'employee': 568, 'paper': 1268, 'shredder': 1604, 'confused': 375, 'secretary': 1560, 'report': 1465, 'feeding': 645, 'thanks': 1798, 'copies': 387, 'sherlock': 1588, 'holmes': 856, 'dr': 529, 'watson': 1931, 'camping': 260, 'set': 1579, 'tent': 1788, 'asleep': 95, 'faithful': 634, 'millions': 1132, 'stars': 1698, 'ponders': 1343, 'minute': 1135, 'astronomically': 102, 'galaxies': 727, 'potentially': 1353, 'billions': 168, 'planets': 1330, 'astrologically': 100, 'saturn': 1532, 'leo': 1008, 'timewise': 1813, 'approximately': 75, 'quarter': 1400, 'theologically': 1799, 'evident': 599, 'lord': 1055, 'powerful': 1356, 'insignificant': 904, 'meteorologically': 1124, 'tomorrow': 1824, 'silent': 1611, 'moment': 1145, 'stolen': 1713, 'bought': 198, 'lexus': 1015, 'bundle': 242, 'brought': 230, 'madam': 1074, 'sales': 1524, 'audio': 115, 'automatic': 119, 'exactly': 600, 'drove': 540, 'somewhat': 1653, 'amazed': 43, 'ricky': 1487, 'astounded': 99, 'beethoven': 156, 'nat': 1174, 'king': 961, 'cole': 339, 'traffic': 1835, 'enjoying': 577, 'green': 781, 'enormous': 579, 'sports': 1680, 'utility': 1881, 'vehicle': 1887, 'coming': 350, 'crossing': 413, 'sped': 1670, 'paying': 1289, 'swerved': 1757, 'narrowly': 1171, 'missed': 1138, 'ladies': 974, 'gentlemen': 741, 'realized': 1424, 'reduced': 1446, 'spotted': 1681, 'descended': 465, 'bit': 173, 'promised': 1383, 'meet': 1115, 'ago': 25, 'hovering': 871, 'latitude': 987, 'west': 1940, 'longitude': 1049, 'idea': 884, 'fact': 632, 'frankly': 705, 'far': 639, 'risen': 1498, 'quantity': 1399, 'promise': 1382, 'beneath': 161, 'solve': 1651, 'joins': 938, 'corporate': 389, 'empire': 567, 'trainee': 1839, 'dials': 477, 'pantry': 1266, 'coffee': 338, 'dialed': 476, 'extension': 626, 'dumbo': 545, 'ceo': 285, 'indignantly': 896, 'drug': 541, 'store': 1720, 'hiccups': 842, 'promptly': 1384, 'reaches': 1416, 'slaps': 1631, 'heck': 833, 'screams': 1549, 'anymore': 66, 'grade': 773, 'story': 1721, 'pig': 1319, 'accumulate': 5, 'materials': 1101, 'wheelbarrow': 1944, 'straw': 1724, 'pardon': 1273, 'paused': 1285, 'raised': 1410, 'judy': 944, 'trouble': 1849, 'tony': 1826, 'clicked': 327, 'id': 883, 'error': 585, 'puzzled': 1397, 'expression': 625, 'riot': 1494, 'fix': 674, 'gave': 737, 'grin': 785, 'haven': 820, 'write': 1990, 'figure': 659, 'drunk': 542, 'staggers': 1688, 'catholic': 279, 'church': 314, 'enters': 583, 'confessional': 374, 'booth': 194, 'coughs': 396, 'times': 1812, 'pounds': 1354, 'mumbles': 1162, 'ain': 34, 'knockin': 967, 'astronomer': 101, 'holidaying': 854, 'scotland': 1544, 'glancing': 756, 'observed': 1216, 'black': 175, 'interesting': 909, 'gazed': 739, 'heavenward': 831, 'supplication': 1745, 'intoned': 917, 'containing': 382, 'claim': 319, 'killing': 957, 'chuck': 312, 'norris': 1202, 'cease': 282, 'exist': 614, 'wanna': 1919, 'knock': 965, 'hah': 802, 'tourist': 1831, 'restaurant': 1479, 'specialty': 1669, 'senor': 1569, 'testicles': 1791, 'bull': 241, 'ring': 1491, 'swallowed': 1754, 'hard': 815, 'tasted': 1773, 'dish': 502, 'delicious': 454, 'evening': 596, 'item': 925, 'served': 1575, 'smaller': 1638, 'briton': 224, 'frenchman': 708, 'viewing': 1895, 'painting': 1261, 'adam': 9, 'eve': 595, 'frolicking': 713, 'garden': 730, 'eden': 557, 'reserve': 1471, 'muses': 1163, 'brit': 222, 'nonsense': 1201, 'disagrees': 495, 'naked': 1168, 'clearly': 324, 'shelter': 1586, 'apple': 68, 'paradise': 1271, 'politics': 1342, 'try': 1852, 'explain': 619, 'breadwinner': 208, 'capitalism': 268, 'administrator': 13, 'care': 272, 'needs': 1186, 'nanny': 1170, 'consider': 379, 'baby': 128, 'future': 724, 'sense': 1570, 'thinking': 1803, 'check': 298, 'severely': 1580, 'soiled': 1648, 'diaper': 479, 'parents': 1274, 'wanting': 1922, 'finding': 666, 'locked': 1047, 'peeks': 1296, 'keyhole': 953, 'words': 1975, 'ignored': 887, 'scot': 1543, 'accident': 2, 'emergency': 566, 'toe': 1819, 'tag': 1762, 'stirred': 1712, 'astonished': 98, 'doctors': 513, 'nurses': 1214, 'present': 1362, 'happened': 811, 'crash': 404, 'donation': 521, 'earth': 552, 'wallet': 1917, 'knew': 964, 'amazing': 44, 'haggling': 801, 'girlfriends': 750, 'hotel': 867, 'sign': 1609, 'reads': 1421, 'boyfriends': 205, 'husbands': 881, 'decide': 446, 'bouncer': 199, 'attractive': 114, 'explains': 622, 'floors': 685, 'stay': 1707, 'inside': 903, 'short': 1595, 'plain': 1328, 'laugh': 988, 'hesitation': 839, 'handsome': 810, 'continue': 383, 'reach': 1414, 'tall': 1769, 'fourth': 704, 'excited': 608, 'realize': 1423, 'wondering': 1971, 'missing': 1139, 'fifth': 658, 'prove': 1387, 'yearly': 1997, 'tagging': 1763, 'urine': 1874, 'sample': 1525, 'stool': 1716, 'sperm': 1675, 'hearing': 827, 'yells': 2000, 'underwear': 1866, 'feeling': 647, 'seek': 1562, 'aid': 30, 'lay': 995, 'couch': 394, 'spilled': 1676, 'guts': 798, 'waited': 1906, 'profound': 1378, 'wisdom': 1960, 'feel': 646, 'notes': 1206, 'low': 1063, 'self': 1566, 'esteem': 591, 'losers': 1057, 'mickey': 1126, 'mouse': 1156, 'nasty': 1173, 'minnie': 1134, 'judge': 943, 'separation': 1572, 'legally': 1005, 'separate': 1571, 'grounds': 789, 'mentally': 1120, 'insane': 902, 'fucking': 715, 'goofy': 767, 'artist': 86, 'gallery': 728, 'paintings': 1262, 'currently': 420, 'display': 504, 'wondered': 1969, 'appreciate': 72, 'value': 1883, 'exclaimed': 610, 'concern': 366, 'mental': 1119, 'hospital': 865, 'moaning': 1142, 'poked': 1339, 'groaned': 786, 'apply': 71, 'filling': 661, 'applications': 70, 'anxiously': 64, 'outcome': 1248, 'forest': 696, 'turtle': 1858, 'climb': 328, 'tree': 1845, 'effort': 558, 'reached': 1415, 'jumped': 946, 'waving': 1932, 'legs': 1006, 'crashed': 405, 'recovering': 1438, 'climbed': 329, 'birds': 171, 'branch': 206, 'watched': 1928, 'efforts': 559, 'mate': 1099, 'chirped': 310, 'adopted': 14, 'reuters': 1485, 'tragic': 1836, 'monday': 1147, 'personal': 1305, 'bush': 245, 'books': 191, 'presidential': 1364, 'spokesman': 1679, 'ari': 79, 'fleischer': 681, 'devastated': 474, 'coloring': 346, 'veteran': 1894, 'vowed': 1903, 'finish': 671, 'mission': 1140, 'advised': 17, 'punctuation': 1394, 'marks': 1093, 'calendar': 254, 'march': 1089, 'april': 76, 'nd': 1180, 'fools': 694, 'jack': 927, 'bauer': 148, 'mcdonald': 1104, 'breakfast': 210, 'shrine': 1605, 'forgiveness': 697, 'sinned': 1618, 'lied': 1021, 'saved': 1534, 'drank': 530, 'jeweler': 932, 'peed': 1295, 'preist': 1359, 'kid': 954, 'smartest': 1639, 'pilot': 1322, 'jump': 945, 'grabs': 772, 'parachute': 1269, 'parachutes': 1270, 'calmly': 258, 'dude': 544, 'chill': 306, 'backpack': 130, 'stalls': 1692, 'nearby': 1182, 'farm': 640, 'suppertime': 1744, 'supper': 1743, 'wooden': 1972, 'leg': 1004, 'chatting': 297, 'farmer': 641, 'barn': 143, 'tipped': 1814, 'pail': 1260, 'crawled': 407, 'wet': 1942, 'safely': 1519, 'blonde': 179, 'brunette': 231, 'firing': 673, 'squad': 1683, 'riflemen': 1489, 'turn': 1854, 'lightning': 1028, 'disaster': 496, 'escapes': 589, 'welcome': 1938, 'lunch': 1067, 'break': 209, 'japan': 929, 'romania': 1503, 'sale': 1523, 'rumors': 1512, 'advertising': 16, 'main': 1076, 'formed': 701, 'pushed': 1395, 'amid': 50, 'loud': 1060, 'colorful': 345, 'curses': 421, 'attempt': 109, 'punched': 1393, 'square': 1684, 'jaw': 931, 'knocked': 966, 'thrown': 1808, 'garbage': 729, 'collector': 341, 'wound': 1985, 'iceberg': 882, 'titanic': 1816, 'gate': 734, 'odors': 1222, 'bring': 221, 'harder': 816, 'trash': 1844, 'enter': 582, 'fairy': 633, 'tales': 1766, 'begin': 158, 'series': 1573, 'elected': 561, 'david': 439, 'letterman': 1011, 'carter': 276, 'passed': 1281, 'anecdote': 53, 'translation': 1842, 'tokyo': 1822, 'brief': 218, 'translator': 1843, 'announce': 57, 'interpreter': 912, 'able': 0, 'impressive': 892, 'reaction': 1418, 'cute': 424, 'outright': 1251, 'hilarious': 844, 'flattered': 679, 'vampires': 1885, 'ya': 1994, 'blood': 180, 'vampire': 1884, 'buddy': 234, 'plasma': 1331, 'barman': 142, 'bloods': 181, 'week': 1936, 'grass': 777, 'cow': 402, 'vet': 1893, 'suggested': 1738, 'happier': 812, 'pills': 1321, 'serviced': 1577, 'cows': 403, 'pal': 1263, 'fence': 655, 'bred': 216, 'neighbor': 1189, 'peppermint': 1299, 'chicken': 302, 'cross': 412, 'mobius': 1143, 'strip': 1728, 'poodle': 1344, 'german': 744, 'shepherd': 1587, 'cat': 278, 'collie': 343, 'allowed': 38, 'nasa': 1172, 'launched': 990, 'orbit': 1241, 'herd': 838, 'peanuts': 1292, 'paws': 1287, 'martini': 1096, 'drinking': 535, 'prices': 1368, 'antigravity': 62}\n",
      "(158, 2009)\n",
      "<Compressed Sparse Row sparse matrix of dtype 'float64'\n",
      "\twith 3698 stored elements and shape (158, 2009)>\n",
      "  Coords\tValues\n",
      "  (0, 1084)\t0.2588435846792397\n",
      "  (0, 1901)\t0.26404630943730417\n",
      "  (0, 512)\t0.40502625367316886\n",
      "  (0, 1538)\t0.11690200069958258\n",
      "  (0, 133)\t0.21903996239666845\n",
      "  (0, 1197)\t0.21008469637397922\n",
      "  (0, 264)\t0.5280926188746083\n",
      "  (0, 41)\t0.26404630943730417\n",
      "  (0, 501)\t0.26404630943730417\n",
      "  (0, 1464)\t0.1650783493333435\n",
      "  (0, 1796)\t0.26404630943730417\n",
      "  (0, 758)\t0.2300003222049422\n",
      "  (0, 520)\t0.15893058896370313\n",
      "  (1, 400)\t0.1681781711144816\n",
      "  (1, 603)\t0.23351234395737072\n",
      "  (1, 1450)\t0.23351234395737072\n",
      "  (1, 761)\t0.15568182598912433\n",
      "  (1, 440)\t0.13806921674994704\n",
      "  (1, 259)\t0.18579078035365892\n",
      "  (1, 858)\t0.18579078035365892\n",
      "  (1, 1976)\t0.15568182598912433\n",
      "  (1, 749)\t0.21589973471819346\n",
      "  (1, 1258)\t0.23351234395737072\n",
      "  (1, 93)\t0.1237996442285168\n",
      "  (1, 1001)\t0.2034033895928362\n",
      "  :\t:\n",
      "  (155, 139)\t0.2539442787367279\n",
      "  (155, 1029)\t0.2324891226532029\n",
      "  (155, 1748)\t0.2852106249797859\n",
      "  (155, 1915)\t0.24792521373407186\n",
      "  (155, 155)\t0.29587409215137744\n",
      "  (155, 144)\t0.2759735095598336\n",
      "  (155, 149)\t0.343822970568683\n",
      "  (155, 1292)\t0.3718712663944447\n",
      "  (155, 1287)\t0.3718712663944447\n",
      "  (156, 1538)\t0.21683596427451154\n",
      "  (156, 520)\t0.1473963974287382\n",
      "  (156, 760)\t0.15624084466494836\n",
      "  (156, 139)\t0.16722657226671425\n",
      "  (156, 1750)\t0.20314340719877838\n",
      "  (156, 516)\t0.6399249972237867\n",
      "  (156, 1244)\t0.18781598635212257\n",
      "  (156, 144)\t0.1817331907207547\n",
      "  (156, 1096)\t0.48976694819020616\n",
      "  (156, 535)\t0.24488347409510308\n",
      "  (156, 1368)\t0.24488347409510308\n",
      "  (157, 950)\t0.3041747320093284\n",
      "  (157, 780)\t0.37879447600131055\n",
      "  (157, 1420)\t0.4709496698601864\n",
      "  (157, 190)\t0.4998830599232851\n",
      "  (157, 62)\t0.5406623828400313\n"
     ]
    }
   ],
   "source": [
    "vectorizer = TfidfVectorizer(stop_words='english')\n",
    "X = vectorizer.fit_transform(jokes_df_string[0])\n",
    "print(vectorizer.get_feature_names_out()) # extracted features (words) from the 158 jokes\n",
    "print(vectorizer.vocabulary_) # full mapping of words to index\n",
    "print(X.shape) # shape of tfidf matrix\n",
    "print(X) # for each joke (indexed by the first number in coordinate), shows the word (indexed by the second number in the coordinate; \n",
    "# can cross reference with vocabulary_ from above) and the tf-idf score of the word"
   ]
  },
  {
   "cell_type": "code",
   "execution_count": 141,
   "id": "ea51cfe9-7acd-4eba-84d2-2a7639242f3e",
   "metadata": {},
   "outputs": [
    {
     "name": "stdout",
     "output_type": "stream",
     "text": [
      "(158, 158)\n",
      "[[1.         0.         0.         ... 0.03849341 0.04877435 0.        ]\n",
      " [0.         1.         0.         ... 0.04504245 0.         0.        ]\n",
      " [0.         0.         1.         ... 0.         0.         0.        ]\n",
      " ...\n",
      " [0.03849341 0.04504245 0.         ... 1.         0.16401938 0.        ]\n",
      " [0.04877435 0.         0.         ... 0.16401938 1.         0.        ]\n",
      " [0.         0.         0.         ... 0.         0.         1.        ]]\n"
     ]
    }
   ],
   "source": [
    "cosine_sim = cosine_similarity(X,X)\n",
    "print(cosine_sim.shape)\n",
    "print(cosine_sim)\n",
    "cosine_sim_jokes = pd.DataFrame(cosine_sim)"
   ]
  },
  {
   "cell_type": "code",
   "execution_count": 142,
   "id": "02a2c239-cc3c-4dbc-a3bb-9857d8d32195",
   "metadata": {},
   "outputs": [
    {
     "name": "stdout",
     "output_type": "stream",
     "text": [
      "            0         1         2         3    4         5         6    \\\n",
      "index                                                                    \n",
      "0      0.000000  0.038697  0.000000  0.000000  0.0  0.000000  0.000000   \n",
      "1      0.000000  0.000000  0.000000  0.000000  0.0  0.000000  0.000000   \n",
      "2     -0.112501  0.316217 -0.171377  0.201677  0.0  0.004553  0.000000   \n",
      "3      1.064374  0.886653  0.000000 -0.449893  0.0  1.325902  0.832003   \n",
      "4      0.000000  0.046331  0.000000  0.000000  0.0  0.000000  0.000000   \n",
      "...         ...       ...       ...       ...  ...       ...       ...   \n",
      "7694   0.323531  0.000000  0.363074  0.000000  0.0  0.034140  0.000000   \n",
      "7695   0.000000  0.000000  0.000000  0.000000  0.0  0.000000  0.000000   \n",
      "7696   2.726277  2.615214  0.018710  1.541704  0.0  0.983397  0.616287   \n",
      "7697   1.804813  2.475106  0.022978  1.176841  0.0  1.486106  0.746487   \n",
      "7698   0.000000  0.040370  0.000000  0.000000  0.0  0.000000  0.000000   \n",
      "\n",
      "            7         8         9    ...       148       149       150  \\\n",
      "index                                ...                                 \n",
      "0      0.000000  0.000000  0.000000  ...  0.116317  0.063854  0.045478   \n",
      "1      0.000000  0.000000  0.000000  ...  0.000000  0.000000  0.000000   \n",
      "2      0.000000  0.213296  0.014382  ...  0.049985  0.027440  0.364730   \n",
      "3      0.074862  1.139734  1.195061  ...  0.497615  0.360659  6.800225   \n",
      "4      0.000000  0.000000  0.000000  ...  0.139267  0.076452  0.054450   \n",
      "...         ...       ...       ...  ...       ...       ...       ...   \n",
      "7694   0.000000  0.136654  0.107830  ...  0.000000  0.000000  0.236483   \n",
      "7695   0.000000  0.000000  0.000000  ...  0.000000  0.000000  0.000000   \n",
      "7696   0.342210  0.526330  1.793339  ... -0.282214  9.609107  2.002501   \n",
      "7697   0.549358  1.786620  1.219863  ...  3.709878  1.458901  1.903324   \n",
      "7698   0.000000  0.000000  0.000000  ...  0.121347  0.066615  0.047444   \n",
      "\n",
      "            151       152       153       154       155       156       157  \n",
      "index                                                                        \n",
      "0      0.000000  0.000000  0.000000  0.000000  0.000000  0.000000  0.000000  \n",
      "1      0.000000  0.000000  0.000000  0.000000  0.000000  0.000000  0.000000  \n",
      "2      0.203553  0.000000 -0.103354  0.183657  0.194901  0.016432  0.000000  \n",
      "3      1.041328  0.093333  0.354750 -0.136274  3.845955  1.783717  0.431830  \n",
      "4      0.000000  0.000000  0.000000  0.000000  0.000000  0.000000  0.000000  \n",
      "...         ...       ...       ...       ...       ...       ...       ...  \n",
      "7694   0.000000  0.000000  0.218962  0.000000  0.187089  0.123201  0.000000  \n",
      "7695   0.000000  0.000000  0.000000  0.000000  0.000000  0.000000  0.000000  \n",
      "7696   8.050934  0.426645  3.544596  0.929863  1.788614  1.516389  0.836735  \n",
      "7697   3.340363  1.002336  0.401457  3.275271  2.592137  1.680867  1.640888  \n",
      "7698   0.000000  0.000000  0.000000  0.000000  0.000000  0.000000  0.000000  \n",
      "\n",
      "[7699 rows x 158 columns]\n"
     ]
    }
   ],
   "source": [
    "train_zero = pivot_train_reindex.replace(np.nan,0)\n",
    "recommendation_train = train_zero.dot(cosine_sim_jokes)\n",
    "print(recommendation_train)"
   ]
  },
  {
   "cell_type": "code",
   "execution_count": 143,
   "id": "1838f566-c976-44d0-ae35-634a0473397d",
   "metadata": {},
   "outputs": [
    {
     "name": "stdout",
     "output_type": "stream",
     "text": [
      "            0         1         2         3    4         5         6    \\\n",
      "index                                                                    \n",
      "0      0.000000  0.000000  0.000000  0.000000  0.0  0.000000  0.000000   \n",
      "1      0.000000  0.085865  0.000000  0.000000  0.0  0.000000  0.000000   \n",
      "2      0.000000  0.000000  0.000000  0.000000  0.0  0.000000  0.000000   \n",
      "3      0.833909 -0.023999  0.056406  0.317960  0.0  0.121353 -0.103138   \n",
      "4      0.000000  0.000000  0.000000  0.000000  0.0  0.000000  0.000000   \n",
      "...         ...       ...       ...       ...  ...       ...       ...   \n",
      "7694   0.000000  0.000000  0.000000  0.000000  0.0  0.000000  0.000000   \n",
      "7695   0.000000  0.000000  0.000000  0.000000  0.0  0.000000  0.000000   \n",
      "7696   0.490537  0.567192  0.000000  0.517598  0.0  0.100755  0.000000   \n",
      "7697   0.989153  0.374167  0.101836  0.639184  0.0  0.399469  0.111932   \n",
      "7698   0.000000  0.000000  0.000000  0.000000  0.0  0.000000  0.000000   \n",
      "\n",
      "            7         8         9    ...       148       149       150  \\\n",
      "index                                ...                                 \n",
      "0      0.000000  0.000000  0.000000  ...  0.000000  0.000000  0.000000   \n",
      "1      0.000000  0.000000  0.000000  ...  0.258099  0.141687  0.100911   \n",
      "2      0.000000  0.000000  0.000000  ...  0.000000  0.000000  0.000000   \n",
      "3      0.170178  0.596038  0.119948  ...  0.203670  0.022221  0.859050   \n",
      "4      0.000000  0.000000  0.000000  ...  0.000000  0.000000  0.000000   \n",
      "...         ...       ...       ...  ...       ...       ...       ...   \n",
      "7694   0.000000  0.000000  0.000000  ...  0.000000  0.000000  0.000000   \n",
      "7695   0.000000  0.000000  0.000000  ...  0.000000  0.000000  0.000000   \n",
      "7696   0.888953 -0.406993 -0.082626  ...  0.251541 -0.114601 -0.613696   \n",
      "7697   0.111969  0.777091  0.300846  ...  0.298473  0.035011  2.720216   \n",
      "7698   0.000000  0.000000  0.000000  ...  0.000000  0.000000  0.000000   \n",
      "\n",
      "            151       152       153       154       155       156       157  \n",
      "index                                                                        \n",
      "0      0.000000  0.000000  0.000000  0.000000  0.000000  0.000000  0.000000  \n",
      "1      0.000000  0.000000  0.000000  0.000000  0.000000  0.000000  0.000000  \n",
      "2      0.000000  0.000000  0.000000  0.000000  0.000000  0.000000  0.000000  \n",
      "3     -4.351179  0.212167  0.123692 -0.230907  1.281231  6.141652  4.032119  \n",
      "4      0.000000  0.000000  0.000000  0.000000  0.000000  0.000000  0.000000  \n",
      "...         ...       ...       ...       ...       ...       ...       ...  \n",
      "7694   0.000000  0.000000  0.000000  0.000000  0.000000  0.000000  0.000000  \n",
      "7695   0.000000  0.000000  0.000000  0.000000  0.000000  0.000000  0.000000  \n",
      "7696   0.673864  0.453283 -0.058511  6.260000 -0.399993 -2.629336  0.000000  \n",
      "7697   0.240314  0.139596  0.174034  0.109433  0.967757  0.877556  0.289121  \n",
      "7698   0.000000  0.000000  0.000000  0.000000  0.000000  0.000000  0.000000  \n",
      "\n",
      "[7699 rows x 158 columns]\n"
     ]
    }
   ],
   "source": [
    "test_zero = pivot_test_reindex.replace(np.nan,0)\n",
    "recommendation_test = test_zero.dot(cosine_sim_jokes)\n",
    "print(recommendation_test)"
   ]
  },
  {
   "cell_type": "code",
   "execution_count": 144,
   "id": "a849dbf8-38f7-4c7e-96e5-5652d5c7ed31",
   "metadata": {},
   "outputs": [],
   "source": [
    "full_train_recommendation = train_means_bias + recommendation_train\n",
    "full_train_recommendation[full_train_recommendation > 10] = 10\n",
    "full_train_recommendation[full_train_recommendation < -10] = -10"
   ]
  },
  {
   "cell_type": "code",
   "execution_count": 145,
   "id": "01d38d35-85ef-4d8a-a5c6-4d9b0894c234",
   "metadata": {},
   "outputs": [],
   "source": [
    "full_test_recommendation = test_means_bias + recommendation_test\n",
    "full_test_recommendation[full_test_recommendation > 10] = 10\n",
    "full_test_recommendation[full_test_recommendation < -10] = -10"
   ]
  },
  {
   "cell_type": "code",
   "execution_count": 146,
   "id": "d2095a1b-cce6-4744-9f92-9fb4c29515af",
   "metadata": {},
   "outputs": [
    {
     "name": "stdout",
     "output_type": "stream",
     "text": [
      "joke   0    1    2    3    4    5    6    7    8    9    ...   148   149  \\\n",
      "index                                                    ...               \n",
      "0      NaN  NaN  NaN  NaN  NaN  NaN  NaN  NaN  NaN  NaN  ...   NaN   NaN   \n",
      "1      NaN  NaN  NaN  NaN  NaN  NaN  NaN  NaN  NaN  NaN  ...   NaN   NaN   \n",
      "2      NaN  NaN  NaN  NaN  NaN  NaN  NaN  NaN  NaN  NaN  ...   NaN   NaN   \n",
      "3      NaN  NaN  NaN  NaN  NaN  NaN  NaN  NaN  NaN  NaN  ...   NaN   NaN   \n",
      "4      NaN  NaN  NaN  NaN  NaN  NaN  NaN  NaN  NaN  NaN  ...   NaN   NaN   \n",
      "...    ...  ...  ...  ...  ...  ...  ...  ...  ...  ...  ...   ...   ...   \n",
      "7694   NaN  NaN  NaN  NaN  NaN  NaN  NaN  NaN  NaN  NaN  ...   NaN   NaN   \n",
      "7695   NaN  NaN  NaN  NaN  NaN  NaN  NaN  NaN  NaN  NaN  ...   NaN   NaN   \n",
      "7696   NaN  NaN  NaN  NaN  NaN  NaN  NaN  NaN  NaN  NaN  ...   NaN  8.63   \n",
      "7697   NaN  NaN  NaN  NaN  NaN  NaN  NaN  NaN  NaN  NaN  ...  2.03   NaN   \n",
      "7698   NaN  NaN  NaN  NaN  NaN  NaN  NaN  NaN  NaN  NaN  ...   NaN   NaN   \n",
      "\n",
      "joke    150   151   152  153   154   155  156   157  \n",
      "index                                                \n",
      "0       NaN   NaN   NaN  NaN   NaN   NaN  NaN   NaN  \n",
      "1       NaN   NaN   NaN  NaN   NaN   NaN  NaN   NaN  \n",
      "2       NaN   NaN   NaN  NaN   NaN   NaN  NaN   NaN  \n",
      "3      5.61   NaN  0.00  0.0   NaN  0.00  NaN   NaN  \n",
      "4       NaN   NaN   NaN  0.0   NaN   NaN  NaN  0.00  \n",
      "...     ...   ...   ...  ...   ...   ...  ...   ...  \n",
      "7694   0.00   NaN  0.00  NaN  0.00  0.00  0.0   NaN  \n",
      "7695    NaN   NaN   NaN  NaN   NaN   NaN  NaN   NaN  \n",
      "7696    NaN  6.76  0.00  3.5   NaN   NaN  NaN  0.65  \n",
      "7697    NaN  2.05  0.73  0.0  2.97  0.57  NaN  0.00  \n",
      "7698    NaN   NaN   NaN  NaN   NaN   NaN  NaN   NaN  \n",
      "\n",
      "[7699 rows x 158 columns]\n",
      "joke   0    1    2    3    4    5    6    7    8    9    ...       148   149  \\\n",
      "index                                                    ...                   \n",
      "0      NaN  NaN  NaN  NaN  NaN  NaN  NaN  NaN  NaN  NaN  ...       NaN   NaN   \n",
      "1      NaN  NaN  NaN  NaN  NaN  NaN  NaN  NaN  NaN  NaN  ...       NaN   NaN   \n",
      "2      NaN  NaN  NaN  NaN  NaN  NaN  NaN  NaN  NaN  NaN  ...       NaN   NaN   \n",
      "3      NaN  NaN  NaN  NaN  NaN  NaN  NaN  NaN  NaN  NaN  ...       NaN   NaN   \n",
      "4      NaN  NaN  NaN  NaN  NaN  NaN  NaN  NaN  NaN  NaN  ...       NaN   NaN   \n",
      "...    ...  ...  ...  ...  ...  ...  ...  ...  ...  ...  ...       ...   ...   \n",
      "7694   NaN  NaN  NaN  NaN  NaN  NaN  NaN  NaN  NaN  NaN  ...       NaN   NaN   \n",
      "7695   NaN  NaN  NaN  NaN  NaN  NaN  NaN  NaN  NaN  NaN  ...       NaN   NaN   \n",
      "7696   NaN  NaN  NaN  NaN  NaN  NaN  NaN  NaN  NaN  NaN  ...       NaN  10.0   \n",
      "7697   NaN  NaN  NaN  NaN  NaN  NaN  NaN  NaN  NaN  NaN  ...  4.421642   NaN   \n",
      "7698   NaN  NaN  NaN  NaN  NaN  NaN  NaN  NaN  NaN  NaN  ...       NaN   NaN   \n",
      "\n",
      "joke        150       151       152       153       154       155       156  \\\n",
      "index                                                                         \n",
      "0           NaN       NaN       NaN       NaN       NaN       NaN       NaN   \n",
      "1           NaN       NaN       NaN       NaN       NaN       NaN       NaN   \n",
      "2           NaN       NaN       NaN       NaN       NaN       NaN       NaN   \n",
      "3      5.728395       NaN -0.472045 -0.429518       NaN  2.485595       NaN   \n",
      "4           NaN       NaN       NaN -0.784268       NaN       NaN       NaN   \n",
      "...         ...       ...       ...       ...       ...       ...       ...   \n",
      "7694  -0.835347       NaN -0.565378       NaN -1.472743 -1.173272  0.070391   \n",
      "7695        NaN       NaN       NaN       NaN       NaN       NaN       NaN   \n",
      "7696        NaN  8.278411 -0.138733  2.760329       NaN       NaN       NaN   \n",
      "7697        NaN  3.567839  0.436958 -0.382811  1.802529  1.231776       NaN   \n",
      "7698        NaN       NaN       NaN       NaN       NaN       NaN       NaN   \n",
      "\n",
      "joke        157  \n",
      "index            \n",
      "0           NaN  \n",
      "1           NaN  \n",
      "2           NaN  \n",
      "3           NaN  \n",
      "4      0.120188  \n",
      "...         ...  \n",
      "7694        NaN  \n",
      "7695        NaN  \n",
      "7696   0.956923  \n",
      "7697   1.761077  \n",
      "7698        NaN  \n",
      "\n",
      "[7699 rows x 158 columns]\n",
      "2.050118170307708\n"
     ]
    }
   ],
   "source": [
    "rmse_bias_train = (((pivot_train_reindex - full_train_recommendation) ** 2).to_numpy())\n",
    "rmse_bias_train = np.sqrt(np.nanmean(rmse_bias_train))\n",
    "print(pivot_train_reindex)\n",
    "print(full_train_recommendation)\n",
    "print(rmse_bias_train)"
   ]
  },
  {
   "cell_type": "code",
   "execution_count": 147,
   "id": "2118f899-88fb-4d36-a795-2156e7889ddf",
   "metadata": {},
   "outputs": [
    {
     "name": "stdout",
     "output_type": "stream",
     "text": [
      "joke   0    1    2    3    4    5    6    7    8    9    ...  148  149   150  \\\n",
      "index                                                    ...                   \n",
      "0      NaN  NaN  NaN  NaN  NaN  NaN  NaN  NaN  NaN  NaN  ...  NaN  NaN   NaN   \n",
      "1      NaN  NaN  NaN  NaN  NaN  NaN  NaN  NaN  NaN  NaN  ...  NaN  NaN   NaN   \n",
      "2      NaN  NaN  NaN  NaN  NaN  NaN  NaN  NaN  NaN  NaN  ...  NaN  NaN   NaN   \n",
      "3      NaN  NaN  NaN  NaN  NaN  NaN  NaN  NaN  NaN  NaN  ...  NaN  NaN   NaN   \n",
      "4      NaN  NaN  NaN  NaN  NaN  NaN  NaN  NaN  NaN  NaN  ...  NaN  NaN   NaN   \n",
      "...    ...  ...  ...  ...  ...  ...  ...  ...  ...  ...  ...  ...  ...   ...   \n",
      "7694   NaN  NaN  NaN  NaN  NaN  NaN  NaN  NaN  NaN  NaN  ...  0.0  NaN   NaN   \n",
      "7695   NaN  NaN  NaN  NaN  NaN  NaN  NaN  NaN  NaN  NaN  ...  NaN  NaN   NaN   \n",
      "7696   NaN  NaN  NaN  NaN  NaN  NaN  NaN  NaN  NaN  NaN  ...  NaN  NaN   NaN   \n",
      "7697   NaN  NaN  NaN  NaN  NaN  NaN  NaN  NaN  NaN  NaN  ...  NaN  NaN  2.05   \n",
      "7698   NaN  NaN  NaN  NaN  NaN  NaN  NaN  NaN  NaN  NaN  ...  NaN  NaN   NaN   \n",
      "\n",
      "joke    151  152  153   154  155   156   157  \n",
      "index                                         \n",
      "0       NaN  NaN  NaN   NaN  NaN   NaN   NaN  \n",
      "1       NaN  NaN  NaN   NaN  NaN   NaN   NaN  \n",
      "2       NaN  NaN  NaN   NaN  NaN   NaN   NaN  \n",
      "3     -4.51  NaN  NaN   NaN  NaN  5.93  4.19  \n",
      "4       NaN  NaN  NaN   NaN  NaN   NaN   NaN  \n",
      "...     ...  ...  ...   ...  ...   ...   ...  \n",
      "7694   0.00  NaN  NaN   NaN  NaN   NaN   NaN  \n",
      "7695    NaN  NaN  NaN   NaN  NaN   NaN   NaN  \n",
      "7696    NaN  NaN  NaN  6.26  NaN -2.66   NaN  \n",
      "7697    NaN  NaN  NaN   NaN  NaN  0.00   NaN  \n",
      "7698    NaN  NaN  NaN   NaN  NaN   NaN   NaN  \n",
      "\n",
      "[7699 rows x 158 columns]\n",
      "1.4501396293745192\n"
     ]
    }
   ],
   "source": [
    "rmse_bias_test = (((pivot_test_reindex - full_test_recommendation) ** 2).to_numpy())\n",
    "rmse_bias_test = np.sqrt(np.nanmean(rmse_bias_test))\n",
    "print(pivot_test_reindex)\n",
    "print(full_test_recommendation)\n",
    "print(rmse_bias_test)"
   ]
  },
  {
   "cell_type": "markdown",
   "id": "25fb29d9-ab31-45d8-89dc-c2492c66d179",
   "metadata": {},
   "source": [
    "Per step 3 from above, I will also incorporate item-item collaborating filtering in this recommender.  This will be done by clustering jokes using cosine similarity and finding the n nearest neighbors.  "
   ]
  },
  {
   "cell_type": "code",
   "execution_count": 155,
   "id": "2f0bd8b5-3df3-4b3a-a7b1-c1245602dc3c",
   "metadata": {},
   "outputs": [
    {
     "name": "stdout",
     "output_type": "stream",
     "text": [
      "       index joke  cosine_similarity_score\n",
      "0          0    0                 1.000000\n",
      "1          1    0                 0.000000\n",
      "2          2    0                 0.000000\n",
      "3          3    0                 0.047858\n",
      "4          4    0                 0.000000\n",
      "...      ...  ...                      ...\n",
      "24959    153  157                 0.000000\n",
      "24960    154  157                 0.000000\n",
      "24961    155  157                 0.000000\n",
      "24962    156  157                 0.000000\n",
      "24963    157  157                 1.000000\n",
      "\n",
      "[24964 rows x 3 columns]\n"
     ]
    }
   ],
   "source": [
    "cosine_sim_pivot = cosine_sim_jokes\n",
    "cosine_sim_pivot = cosine_sim_pivot.reset_index()\n",
    "cosine_sim_pivot = cosine_sim_pivot.melt(id_vars='index', var_name='joke', value_name='cosine_similarity_score')\n",
    "print(cosine_sim_pivot)"
   ]
  },
  {
   "cell_type": "code",
   "execution_count": 172,
   "id": "83323680-650a-4527-bb99-64ad3941394b",
   "metadata": {},
   "outputs": [
    {
     "name": "stdout",
     "output_type": "stream",
     "text": [
      "['cosine_similarity_score']\n",
      "            cosine_similarity_score\n",
      "joke index                         \n",
      "0    86                    0.430934\n",
      "     102                   0.347192\n",
      "     133                   0.193347\n",
      "     67                    0.157579\n",
      "     129                   0.157152\n",
      "...                             ...\n",
      "157  56                    0.250732\n",
      "     20                    0.096836\n",
      "     135                   0.064944\n",
      "     42                    0.061482\n",
      "     70                    0.060895\n",
      "\n",
      "[805 rows x 1 columns]\n"
     ]
    }
   ],
   "source": [
    "top_5_scores = cosine_sim_pivot.set_index('index').groupby('joke')['cosine_similarity_score'].nlargest(6)\n",
    "top_5_scores = top_5_scores.to_frame()\n",
    "print(top_5_scores.columns.tolist()) \n",
    "top_5_scores = top_5_scores.drop(top_5_scores[top_5_scores['cosine_similarity_score'] >= 1].index)\n",
    "print(top_5_scores)"
   ]
  },
  {
   "cell_type": "code",
   "execution_count": 173,
   "id": "3ba9d3fb-2bbe-494a-9056-68a3644c4c0e",
   "metadata": {},
   "outputs": [
    {
     "name": "stdout",
     "output_type": "stream",
     "text": [
      "index  0        1    2    3    4    5    6         7    8    9    ...  148  \\\n",
      "joke                                                              ...        \n",
      "0      NaN      NaN  NaN  NaN  NaN  NaN  NaN       NaN  NaN  NaN  ...  NaN   \n",
      "1      NaN      NaN  NaN  NaN  NaN  NaN  NaN       NaN  NaN  NaN  ...  NaN   \n",
      "2      NaN      NaN  NaN  NaN  NaN  NaN  NaN       NaN  NaN  NaN  ...  NaN   \n",
      "3      NaN      NaN  NaN  NaN  NaN  NaN  NaN       NaN  NaN  NaN  ...  NaN   \n",
      "4      0.0  0.00000  0.0  0.0  NaN  NaN  NaN       NaN  NaN  NaN  ...  NaN   \n",
      "...    ...      ...  ...  ...  ...  ...  ...       ...  ...  ...  ...  ...   \n",
      "153    NaN  0.09342  NaN  NaN  NaN  NaN  NaN       NaN  NaN  NaN  ...  NaN   \n",
      "154    NaN      NaN  NaN  NaN  NaN  NaN  NaN  0.142005  NaN  NaN  ...  NaN   \n",
      "155    NaN      NaN  NaN  NaN  NaN  NaN  NaN       NaN  NaN  NaN  ...  NaN   \n",
      "156    NaN      NaN  NaN  NaN  NaN  NaN  NaN       NaN  NaN  NaN  ...  NaN   \n",
      "157    NaN      NaN  NaN  NaN  NaN  NaN  NaN       NaN  NaN  NaN  ...  NaN   \n",
      "\n",
      "index       149       150  151  152      153  154       155  156  157  \n",
      "joke                                                                   \n",
      "0           NaN       NaN  NaN  NaN      NaN  NaN       NaN  NaN  NaN  \n",
      "1      0.090971       NaN  NaN  NaN  0.09342  NaN       NaN  NaN  NaN  \n",
      "2           NaN       NaN  NaN  NaN      NaN  NaN       NaN  NaN  NaN  \n",
      "3           NaN       NaN  NaN  NaN      NaN  NaN       NaN  NaN  NaN  \n",
      "4           NaN       NaN  NaN  NaN      NaN  NaN       NaN  NaN  NaN  \n",
      "...         ...       ...  ...  ...      ...  ...       ...  ...  ...  \n",
      "153         NaN       NaN  NaN  NaN      NaN  NaN       NaN  NaN  NaN  \n",
      "154         NaN       NaN  NaN  NaN      NaN  NaN       NaN  NaN  NaN  \n",
      "155         NaN  0.213701  NaN  NaN      NaN  NaN       NaN  NaN  NaN  \n",
      "156         NaN  0.140726  NaN  NaN      NaN  NaN  0.164019  NaN  NaN  \n",
      "157         NaN       NaN  NaN  NaN      NaN  NaN       NaN  NaN  NaN  \n",
      "\n",
      "[158 rows x 151 columns]\n"
     ]
    }
   ],
   "source": [
    "top_5_scores = top_5_scores.reset_index()\n",
    "#print(top_5_scores)\n",
    "top_5_scores_matrix = top_5_scores.pivot(index = 'joke' , columns = 'index', values = 'cosine_similarity_score')\n",
    "print(top_5_scores_matrix)"
   ]
  },
  {
   "cell_type": "code",
   "execution_count": 177,
   "id": "1b8095d0-62eb-4584-9d0f-7244200bce3f",
   "metadata": {},
   "outputs": [
    {
     "name": "stdout",
     "output_type": "stream",
     "text": [
      "joke\n",
      "0           NaN\n",
      "1           NaN\n",
      "2           NaN\n",
      "3           NaN\n",
      "4           NaN\n",
      "         ...   \n",
      "153   -1.211308\n",
      "154   -2.060754\n",
      "155   -1.884826\n",
      "156   -0.555840\n",
      "157   -0.545272\n",
      "Length: 158, dtype: float64\n"
     ]
    }
   ],
   "source": [
    "print(joke_bias)"
   ]
  },
  {
   "cell_type": "code",
   "execution_count": null,
   "id": "278df3c6-ad32-4682-bf96-0fefa7de1bf8",
   "metadata": {},
   "outputs": [],
   "source": []
  }
 ],
 "metadata": {
  "kernelspec": {
   "display_name": "Python 3 (ipykernel)",
   "language": "python",
   "name": "python3"
  },
  "language_info": {
   "codemirror_mode": {
    "name": "ipython",
    "version": 3
   },
   "file_extension": ".py",
   "mimetype": "text/x-python",
   "name": "python",
   "nbconvert_exporter": "python",
   "pygments_lexer": "ipython3",
   "version": "3.12.4"
  }
 },
 "nbformat": 4,
 "nbformat_minor": 5
}
